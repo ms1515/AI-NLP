{
  "cells": [
    {
      "cell_type": "markdown",
      "metadata": {
        "id": "qFdPvlXBOdUN"
      },
      "source": [
        "# Introduction to the Keras Tuner"
      ]
    },
    {
      "cell_type": "markdown",
      "metadata": {
        "id": "MfBg1C5NB3X0"
      },
      "source": [
        "<table class=\"tfo-notebook-buttons\" align=\"left\">\n",
        "  <td>\n",
        "    <a target=\"_blank\" href=\"https://www.tensorflow.org/tutorials/keras/keras_tuner\"><img src=\"https://www.tensorflow.org/images/tf_logo_32px.png\" />View on TensorFlow.org</a>\n",
        "  </td>\n",
        "  <td>\n",
        "    <a target=\"_blank\" href=\"https://colab.research.google.com/github/tensorflow/docs/blob/master/site/en/tutorials/keras/keras_tuner.ipynb\"><img src=\"https://www.tensorflow.org/images/colab_logo_32px.png\" />Run in Google Colab</a>\n",
        "  </td>\n",
        "  <td>\n",
        "    <a target=\"_blank\" href=\"https://github.com/tensorflow/docs/blob/master/site/en/tutorials/keras/keras_tuner.ipynb\"><img src=\"https://www.tensorflow.org/images/GitHub-Mark-32px.png\" />View source on GitHub</a>\n",
        "  </td>\n",
        "  <td>\n",
        "    <a href=\"https://storage.googleapis.com/tensorflow_docs/docs/site/en/tutorials/keras/keras_tuner.ipynb\"><img src=\"https://www.tensorflow.org/images/download_logo_32px.png\" />Download notebook</a>\n",
        "  </td>\n",
        "</table>"
      ]
    },
    {
      "cell_type": "markdown",
      "metadata": {
        "id": "xHxb-dlhMIzW"
      },
      "source": [
        "## Overview\n",
        "\n",
        "The Keras Tuner is a library that helps you pick the optimal set of hyperparameters for your TensorFlow program. The process of selecting the right set of hyperparameters for your machine learning (ML) application is called *hyperparameter tuning* or *hypertuning*.\n",
        "\n",
        "Hyperparameters are the variables that govern the training process and the topology of an ML model. These variables remain constant over the training process and directly impact the performance of your ML program. Hyperparameters are of two types:\n",
        "1. **Model hyperparameters** which influence model selection such as the number and width of hidden layers\n",
        "2. **Algorithm hyperparameters** which influence the speed and quality of the learning algorithm such as the learning rate for Stochastic Gradient Descent (SGD) and the number of nearest neighbors for a k Nearest Neighbors (KNN) classifier\n",
        "\n",
        "In this tutorial, you will use the Keras Tuner to perform hypertuning for an image classification application."
      ]
    },
    {
      "cell_type": "markdown",
      "metadata": {
        "id": "MUXex9ctTuDB"
      },
      "source": [
        "## Setup"
      ]
    },
    {
      "cell_type": "code",
      "execution_count": 1,
      "metadata": {
        "id": "IqR2PQG4ZaZ0"
      },
      "outputs": [],
      "source": [
        "import io\n",
        "import numpy as np\n",
        "import re\n",
        "import os\n",
        "import string\n",
        "import tensorflow as tf\n",
        "from tensorflow import keras\n",
        "from tensorflow.keras import Sequential\n",
        "from tensorflow.keras.layers import Dense, Embedding, GlobalAveragePooling1D\n",
        "from tensorflow.keras.layers import TextVectorization\n"
      ]
    },
    {
      "cell_type": "markdown",
      "metadata": {
        "id": "g83Lwsy-Aq2_"
      },
      "source": [
        "Install and import the Keras Tuner."
      ]
    },
    {
      "cell_type": "code",
      "execution_count": 2,
      "metadata": {
        "id": "hpMLpbt9jcO6",
        "outputId": "59b66a56-a4a2-4e7e-e041-8af168c679c7",
        "colab": {
          "base_uri": "https://localhost:8080/"
        }
      },
      "outputs": [
        {
          "output_type": "stream",
          "name": "stdout",
          "text": [
            "\u001b[K     |████████████████████████████████| 135 kB 4.1 MB/s \n",
            "\u001b[K     |████████████████████████████████| 1.6 MB 37.8 MB/s \n",
            "\u001b[?25h"
          ]
        }
      ],
      "source": [
        "!pip install -q -U keras-tuner"
      ]
    },
    {
      "cell_type": "code",
      "execution_count": 3,
      "metadata": {
        "id": "_leAIdFKAxAD"
      },
      "outputs": [],
      "source": [
        "import keras_tuner as kt"
      ]
    },
    {
      "cell_type": "markdown",
      "metadata": {
        "id": "ReV_UXOgCZvx"
      },
      "source": [
        "## Download and prepare the dataset\n",
        "\n",
        "In this tutorial, you will use the Keras Tuner to find the best hyperparameters for a machine learning model that classifies images of clothing from the [Fashion MNIST dataset](https://github.com/zalandoresearch/fashion-mnist)."
      ]
    },
    {
      "cell_type": "markdown",
      "metadata": {
        "id": "HljH_ENLEdHa"
      },
      "source": [
        "Load the data."
      ]
    },
    {
      "cell_type": "code",
      "execution_count": 4,
      "metadata": {
        "id": "OHlHs9Wj_PUM",
        "outputId": "af8c5aa6-f3cb-4de7-fa64-2c7c6b2d777b",
        "colab": {
          "base_uri": "https://localhost:8080/"
        }
      },
      "outputs": [
        {
          "output_type": "stream",
          "name": "stdout",
          "text": [
            "Downloading data from https://github.com/eyalmazuz/ThreatIntelligenceCorpus/archive/refs/heads/master.zip\n",
            "39026688/Unknown - 4s 0us/stepDownloading data from https://github.com/eyalmazuz/AttackAttributionDataset/archive/refs/heads/master.zip\n",
            " 884736/Unknown - 0s 0us/step"
          ]
        }
      ],
      "source": [
        "# Pretraining\n",
        "url = 'https://github.com/eyalmazuz/ThreatIntelligenceCorpus/archive/refs/heads/master.zip' \n",
        "dataset_pretrain = tf.keras.utils.get_file('master.zip', url, extract=True, cache_dir='.', cache_subdir='')\n",
        "\n",
        "# Training Dataset\n",
        "url = 'https://github.com/eyalmazuz/AttackAttributionDataset/archive/refs/heads/master.zip' \n",
        "dataset = tf.keras.utils.get_file('master(1).zip', url,extract=True, cache_dir='.',cache_subdir='')"
      ]
    },
    {
      "cell_type": "code",
      "execution_count": 5,
      "metadata": {
        "id": "bLVhXs3xrUD0",
        "colab": {
          "base_uri": "https://localhost:8080/"
        },
        "outputId": "8b9a5b57-0395-41e7-fad3-eb64417b7c7b"
      },
      "outputs": [
        {
          "output_type": "stream",
          "name": "stdout",
          "text": [
            "Found 20560 files belonging to 1 classes.\n",
            "Found 238 files belonging to 12 classes.\n",
            "Using 215 files for training.\n",
            "Found 238 files belonging to 12 classes.\n",
            "Using 23 files for validation.\n"
          ]
        }
      ],
      "source": [
        "# Normalize pixel values between 0 and 1\n",
        "AUTOTUNE = tf.data.AUTOTUNE\n",
        "batch_size = 10\n",
        "seed = 42\n",
        "\n",
        "pretrain_ds = tf.keras.utils.text_dataset_from_directory(\n",
        "    'ThreatIntelligenceCorpus-master')\n",
        "\n",
        "train_ds = tf.keras.utils.text_dataset_from_directory(\n",
        "    'AttackAttributionDataset-master',\n",
        "    batch_size=batch_size,\n",
        "    validation_split=0.1,\n",
        "    subset='training',\n",
        "    seed=seed)\n",
        "\n",
        "class_names = train_ds.class_names\n",
        "train_ds = train_ds.cache().prefetch(buffer_size=AUTOTUNE)\n",
        "\n",
        "val_ds = tf.keras.utils.text_dataset_from_directory(\n",
        "    'AttackAttributionDataset-master',\n",
        "    batch_size=batch_size,\n",
        "    validation_split=0.1,\n",
        "    subset='validation',\n",
        "    seed=seed)\n",
        "\n",
        "# val_ds = remaining_ds.take(int(len(remaining_ds)*0.5))\n",
        "\n",
        "val_ds = val_ds.cache().prefetch(buffer_size=AUTOTUNE)\n",
        "\n",
        "# test_ds = remaining_ds.skip(len(val_ds))\n",
        "\n",
        "# test_ds = test_ds.cache().prefetch(buffer_size=AUTOTUNE)\n"
      ]
    },
    {
      "cell_type": "markdown",
      "source": [
        "# Text preprocessing\n",
        "Next, define the dataset preprocessing steps required for your sentiment classification model. Initialize a TextVectorization layer with the desired parameters to vectorize movie reviews. "
      ],
      "metadata": {
        "id": "WnVZRo27eo2m"
      }
    },
    {
      "cell_type": "code",
      "source": [
        "# Create a custom standardization function to strip HTML break tags '<br />'.\n",
        "def custom_standardization(input_data):\n",
        "  lowercase = tf.strings.lower(input_data)\n",
        "  stripped_html = tf.strings.regex_replace(lowercase, '<br />', ' ')\n",
        "  return tf.strings.regex_replace(stripped_html,\n",
        "                                  '[%s]' % re.escape(string.punctuation), '')\n",
        "\n",
        "\n",
        "# Vocabulary size and number of words in a sequence.\n",
        "vocab_size = 100000\n",
        "sequence_length = 1000\n",
        "\n",
        "# Use the text vectorization layer to normalize, split, and map strings to\n",
        "# integers. Note that the layer uses the custom standardization defined above.\n",
        "# Set maximum_sequence length as all samples are not of the same length.\n",
        "vectorize_layer = TextVectorization(\n",
        "    standardize=custom_standardization,\n",
        "    max_tokens=vocab_size,\n",
        "    output_mode='int',\n",
        "    output_sequence_length=sequence_length)\n",
        "\n",
        "# Make a text-only dataset (no labels) and call adapt to build the vocabulary.\n",
        "text_ds = pretrain_ds.map(lambda x, y: x)\n",
        "vectorize_layer.adapt(text_ds)"
      ],
      "metadata": {
        "id": "_5RrIMMCeme_"
      },
      "execution_count": 6,
      "outputs": []
    },
    {
      "cell_type": "markdown",
      "source": [
        "# Load Glove Embeddings"
      ],
      "metadata": {
        "id": "ZjGQETlASDuW"
      }
    },
    {
      "cell_type": "code",
      "source": [
        "!wget http://nlp.stanford.edu/data/glove.6B.zip\n",
        "!unzip -q glove.6B.zip"
      ],
      "metadata": {
        "id": "9057kOWWSSuY",
        "outputId": "ce7886ba-89b9-48fd-9c6b-a115d6174dc4",
        "colab": {
          "base_uri": "https://localhost:8080/"
        }
      },
      "execution_count": 7,
      "outputs": [
        {
          "output_type": "stream",
          "name": "stdout",
          "text": [
            "--2022-08-29 16:06:55--  http://nlp.stanford.edu/data/glove.6B.zip\n",
            "Resolving nlp.stanford.edu (nlp.stanford.edu)... 171.64.67.140\n",
            "Connecting to nlp.stanford.edu (nlp.stanford.edu)|171.64.67.140|:80... connected.\n",
            "HTTP request sent, awaiting response... 302 Found\n",
            "Location: https://nlp.stanford.edu/data/glove.6B.zip [following]\n",
            "--2022-08-29 16:06:55--  https://nlp.stanford.edu/data/glove.6B.zip\n",
            "Connecting to nlp.stanford.edu (nlp.stanford.edu)|171.64.67.140|:443... connected.\n",
            "HTTP request sent, awaiting response... 301 Moved Permanently\n",
            "Location: https://downloads.cs.stanford.edu/nlp/data/glove.6B.zip [following]\n",
            "--2022-08-29 16:06:56--  https://downloads.cs.stanford.edu/nlp/data/glove.6B.zip\n",
            "Resolving downloads.cs.stanford.edu (downloads.cs.stanford.edu)... 171.64.64.22\n",
            "Connecting to downloads.cs.stanford.edu (downloads.cs.stanford.edu)|171.64.64.22|:443... connected.\n",
            "HTTP request sent, awaiting response... 200 OK\n",
            "Length: 862182613 (822M) [application/zip]\n",
            "Saving to: ‘glove.6B.zip’\n",
            "\n",
            "glove.6B.zip        100%[===================>] 822.24M  5.06MB/s    in 2m 40s  \n",
            "\n",
            "2022-08-29 16:09:36 (5.15 MB/s) - ‘glove.6B.zip’ saved [862182613/862182613]\n",
            "\n"
          ]
        }
      ]
    },
    {
      "cell_type": "code",
      "source": [
        "path_to_glove_file = os.path.join(\n",
        "    os.path.dirname(dataset), \"glove.6B.300d.txt\"\n",
        ")\n",
        "\n",
        "embeddings_index = {}\n",
        "with open(path_to_glove_file) as f:\n",
        "    for line in f:\n",
        "        word, coefs = line.split(maxsplit=1)\n",
        "        coefs = np.fromstring(coefs, \"f\", sep=\" \")\n",
        "        embeddings_index[word] = coefs\n",
        "\n",
        "print(\"Found %s word vectors.\" % len(embeddings_index))"
      ],
      "metadata": {
        "id": "SoIm_pdMSCvI",
        "outputId": "a61ccf42-9ec4-4f43-d94f-2d57f2f9372a",
        "colab": {
          "base_uri": "https://localhost:8080/"
        }
      },
      "execution_count": 8,
      "outputs": [
        {
          "output_type": "stream",
          "name": "stdout",
          "text": [
            "Found 400000 word vectors.\n"
          ]
        }
      ]
    },
    {
      "cell_type": "code",
      "source": [
        "voc = vectorize_layer.get_vocabulary()\n",
        "word_index = dict(zip(voc, range(len(voc))))\n",
        "\n",
        "num_tokens = len(voc) + 2\n",
        "embedding_dim = 300\n",
        "hits = 0\n",
        "misses = 0\n",
        "\n",
        "# Prepare embedding matrix\n",
        "embedding_matrix = np.zeros((num_tokens, embedding_dim))\n",
        "for word, i in word_index.items():\n",
        "    embedding_vector = embeddings_index.get(word)\n",
        "    if embedding_vector is not None:\n",
        "        # Words not found in embedding index will be all-zeros.\n",
        "        # This includes the representation for \"padding\" and \"OOV\"\n",
        "        embedding_matrix[i] = embedding_vector\n",
        "        hits += 1\n",
        "    else:\n",
        "        misses += 1\n",
        "print(\"Converted %d words (%d misses)\" % (hits, misses))"
      ],
      "metadata": {
        "id": "qi3R9r5JSe8U",
        "outputId": "64e673ed-b542-4201-fdb6-30c764f14102",
        "colab": {
          "base_uri": "https://localhost:8080/"
        }
      },
      "execution_count": 9,
      "outputs": [
        {
          "output_type": "stream",
          "name": "stdout",
          "text": [
            "Converted 38828 words (61171 misses)\n"
          ]
        }
      ]
    },
    {
      "cell_type": "markdown",
      "metadata": {
        "id": "K5YEL2H2Ax3e"
      },
      "source": [
        "## Define the model\n",
        "\n",
        "When you build a model for hypertuning, you also define the hyperparameter search space in addition to the model architecture. The model you set up for hypertuning is called a *hypermodel*.\n",
        "\n",
        "You can define a hypermodel through two approaches:\n",
        "\n",
        "* By using a model builder function\n",
        "* By subclassing the `HyperModel` class of the Keras Tuner API\n",
        "\n",
        "You can also use two pre-defined [HyperModel](https://keras.io/api/keras_tuner/hypermodels/) classes - [HyperXception](https://keras.io/api/keras_tuner/hypermodels/hyper_xception/) and [HyperResNet](https://keras.io/api/keras_tuner/hypermodels/hyper_resnet/) for computer vision applications.\n",
        "\n",
        "In this tutorial, you use a model builder function to define the image classification model. The model builder function returns a compiled model and uses hyperparameters you define inline to hypertune the model."
      ]
    },
    {
      "cell_type": "code",
      "execution_count": 10,
      "metadata": {
        "id": "ZQKodC-jtsva"
      },
      "outputs": [],
      "source": [
        "min_embedding_dim=16\n",
        "max_embedding_dim=1024\n",
        "\n",
        "\n",
        "def model_builder(hp):\n",
        "  model = keras.Sequential()\n",
        "  model.add(vectorize_layer)\n",
        "\n",
        "  model.add(Embedding(num_tokens, embedding_dim, embeddings_initializer=keras.initializers.Constant(embedding_matrix), trainable=True))\n",
        "  \n",
        "  # hp_units_embed = hp.Int('units_emb_1', min_value=min_embedding_dim, max_value=max_embedding_dim, step=32)\n",
        "  # model.add(Embedding(vocab_size,output_dim= hp_units_embed,embeddings_initializer=keras.initializers.Constant(embedding_matrix), name=\"embedding\"))\n",
        "  \n",
        "  model.add(GlobalAveragePooling1D())\n",
        " \n",
        "  # # Tune the number of layers. Best to do it manually for now\n",
        "  # for i in range(hp.Int(\"num_layers\", 1, 3)):\n",
        "  #     model.add(\n",
        "  #         layers.Dense(\n",
        "  #             # Tune number of units separately.\n",
        "  #             units=hp.Int(f\"units_{i}\", min_value=382, max_value=512, step=32),\n",
        "  #             activation=hp.Choice(\"activation\", [\"relu\", \"tanh\"]),\n",
        "  #         )\n",
        "  #     )\n",
        "\n",
        "\n",
        "  # Tune the number of units in the Dense layers + the activation function\n",
        "  hp_units_1 = hp.Int('units_dense_1', min_value=200, max_value=1024, step=20)\n",
        "  hp_units_2 = hp.Int('units_dense_2', min_value=58, max_value=512, step=20)\n",
        "  hp_units_3 = hp.Int('units_dense_3', min_value=32, max_value=192, step=20)\n",
        "  hp_units_4 = hp.Int('units_dense_4', min_value=14, max_value=100, step=20)\n",
        "  \n",
        "  hp_drop_1 = hp.Choice('units_drop_1', values=[0.01, 0.05, 0.1,0.15, 0.2, 0.25, 0.3])\n",
        "  hp_drop_2 = hp.Choice('units_drop_2', values=[0.01, 0.05, 0.1,0.15, 0.2, 0.25, 0.3])\n",
        "\n",
        "\n",
        "  model.add(keras.layers.Dense(units=hp_units_1, activation= hp.Choice(\"activation_1\", [\"relu\", \"tanh\"])))\n",
        "  model.add(Dense(units=hp_units_2, activation=hp.Choice(\"activation_2\", [\"relu\", \"tanh\"])))\n",
        "  model.add(tf.keras.layers.Dropout(hp_drop_1)) \n",
        "  model.add(Dense(units=hp_units_3, activation=hp.Choice(\"activation_3\", [\"relu\", \"tanh\"])))\n",
        "  model.add(tf.keras.layers.Dropout(hp_drop_2))\n",
        "  model.add(Dense(units=hp_units_4, activation=hp.Choice(\"activation_4\", [\"relu\", \"tanh\"])))\n",
        "  model.add(Dense(len(class_names)))\n",
        "\n",
        "  # Tune the learning rate for the optimizer\n",
        "  # Choose an optimal value from 0.01, 0.005,  0.0011, 0.001,0.0009, 0.0005, 0.0001\n",
        "  hp_learning_rate = hp.Choice('learning_rate', values=[1e-2, 5e-3, 1.1e-3, 9e-4, 5e-4, 1e-4, 5e-5, 3e-5, 1e-5])\n",
        "\n",
        "  model.compile(optimizer=keras.optimizers.Adam(learning_rate=hp_learning_rate),\n",
        "                loss=keras.losses.SparseCategoricalCrossentropy(from_logits=True),\n",
        "                metrics=['accuracy'])\n",
        "\n",
        "  return model"
      ]
    },
    {
      "cell_type": "markdown",
      "metadata": {
        "id": "0J1VYw4q3x0b"
      },
      "source": [
        "## Instantiate the tuner and perform hypertuning\n",
        "\n",
        "Instantiate the tuner to perform the hypertuning. The Keras Tuner has four tuners available - `RandomSearch`, `Hyperband`, `BayesianOptimization`, and `Sklearn`. In this tutorial, you use the [Hyperband](https://arxiv.org/pdf/1603.06560.pdf) tuner.\n",
        "\n",
        "To instantiate the Hyperband tuner, you must specify the hypermodel, the `objective` to optimize and the maximum number of epochs to train (`max_epochs`)."
      ]
    },
    {
      "cell_type": "code",
      "execution_count": 11,
      "metadata": {
        "id": "oichQFly6Y46"
      },
      "outputs": [],
      "source": [
        "tuner = kt.Hyperband(model_builder,\n",
        "                     objective='val_accuracy',\n",
        "                     max_epochs=15,\n",
        "                     factor=3,\n",
        "                     directory='my_dir',\n",
        "                     project_name='intro_to_kt')"
      ]
    },
    {
      "cell_type": "markdown",
      "metadata": {
        "id": "VaIhhdKf9VtI"
      },
      "source": [
        "The Hyperband tuning algorithm uses adaptive resource allocation and early-stopping to quickly converge on a high-performing model. This is done using a sports championship style bracket. The algorithm trains a large number of models for a few epochs and carries forward only the top-performing half of models to the next round. Hyperband determines the number of models to train in a bracket by computing 1 + log<sub>`factor`</sub>(`max_epochs`) and rounding it up to the nearest integer."
      ]
    },
    {
      "cell_type": "markdown",
      "metadata": {
        "id": "cwhBdXx0Ekj8"
      },
      "source": [
        "Create a callback to stop training early after reaching a certain value for the validation loss."
      ]
    },
    {
      "cell_type": "code",
      "execution_count": 12,
      "metadata": {
        "id": "WT9IkS9NEjLc"
      },
      "outputs": [],
      "source": [
        "stop_early = tf.keras.callbacks.EarlyStopping(monitor='val_loss', patience=5)\n",
        "stop_early_val_accuracy = tf.keras.callbacks.EarlyStopping(monitor='val_accuracy', patience=5)"
      ]
    },
    {
      "cell_type": "markdown",
      "metadata": {
        "id": "UKghEo15Tduy"
      },
      "source": [
        "Run the hyperparameter search. The arguments for the search method are the same as those used for `tf.keras.model.fit` in addition to the callback above."
      ]
    },
    {
      "cell_type": "code",
      "execution_count": 13,
      "metadata": {
        "id": "dSBQcTHF9cKt",
        "colab": {
          "base_uri": "https://localhost:8080/"
        },
        "outputId": "80e0865e-37f5-4965-d4f9-1d06a5d8ee1a"
      },
      "outputs": [
        {
          "output_type": "stream",
          "name": "stdout",
          "text": [
            "Trial 30 Complete [00h 00m 10s]\n",
            "val_accuracy: 0.3913043439388275\n",
            "\n",
            "Best val_accuracy So Far: 0.43478259444236755\n",
            "Total elapsed time: 00h 02m 05s\n",
            "Best Hyper parameters for the model are: {'units_dense_1': 880, 'units_dense_2': 298, 'units_dense_3': 92, 'units_dense_4': 54, 'units_drop_1': 0.2, 'units_drop_2': 0.01, 'activation_1': 'relu', 'activation_2': 'tanh', 'activation_3': 'tanh', 'activation_4': 'tanh', 'learning_rate': 0.0011, 'tuner/epochs': 15, 'tuner/initial_epoch': 5, 'tuner/bracket': 1, 'tuner/round': 1, 'tuner/trial_id': '0021'}\n",
            "The hyperparameter search is complete. The optimal number of units in the first densely-connected layer is 880 and the optimal learning rate for the optimizer is 0.0011.\n"
          ]
        }
      ],
      "source": [
        "tuner.search(train_ds, epochs=50, validation_data=val_ds, callbacks=[stop_early])\n",
        "\n",
        "# Get the optimal hyperparameters\n",
        "best_hps=tuner.get_best_hyperparameters(num_trials=1)[0]\n",
        "print(f\"Best Hyper parameters for the model are: {best_hps.values}\")\n",
        "print(f\"\"\"The hyperparameter search is complete. The optimal number of units in the first densely-connected layer is {best_hps.get('units_dense_1')} and the optimal learning rate for the optimizer is {best_hps.get('learning_rate')}.\"\"\")"
      ]
    },
    {
      "cell_type": "markdown",
      "metadata": {
        "id": "Lak_ylf88xBv"
      },
      "source": [
        "## Train the model\n",
        "\n",
        "Find the optimal number of epochs to train the model with the hyperparameters obtained from the search."
      ]
    },
    {
      "cell_type": "code",
      "execution_count": 14,
      "metadata": {
        "id": "McO82AXOuxXh",
        "colab": {
          "base_uri": "https://localhost:8080/"
        },
        "outputId": "9fb6bce8-1243-4191-c048-9c5e5376f065"
      },
      "outputs": [
        {
          "output_type": "stream",
          "name": "stdout",
          "text": [
            "Epoch 1/50\n",
            "22/22 [==============================] - 1s 20ms/step - loss: 2.4475 - accuracy: 0.2000 - val_loss: 2.6950 - val_accuracy: 0.0870\n",
            "Epoch 2/50\n",
            "22/22 [==============================] - 0s 13ms/step - loss: 2.3048 - accuracy: 0.2651 - val_loss: 2.6748 - val_accuracy: 0.0870\n",
            "Epoch 3/50\n",
            "22/22 [==============================] - 0s 13ms/step - loss: 2.1286 - accuracy: 0.3163 - val_loss: 2.5873 - val_accuracy: 0.1739\n",
            "Epoch 4/50\n",
            "22/22 [==============================] - 0s 13ms/step - loss: 1.8593 - accuracy: 0.4047 - val_loss: 2.4475 - val_accuracy: 0.1304\n",
            "Epoch 5/50\n",
            "22/22 [==============================] - 0s 13ms/step - loss: 1.5421 - accuracy: 0.4837 - val_loss: 2.3949 - val_accuracy: 0.0870\n",
            "Epoch 6/50\n",
            "22/22 [==============================] - 0s 13ms/step - loss: 1.2405 - accuracy: 0.6047 - val_loss: 2.2652 - val_accuracy: 0.2609\n",
            "Epoch 7/50\n",
            "22/22 [==============================] - 0s 14ms/step - loss: 1.0262 - accuracy: 0.7209 - val_loss: 2.5709 - val_accuracy: 0.1304\n",
            "Epoch 8/50\n",
            "22/22 [==============================] - 0s 13ms/step - loss: 0.8775 - accuracy: 0.7209 - val_loss: 2.7903 - val_accuracy: 0.1739\n",
            "Epoch 9/50\n",
            "22/22 [==============================] - 0s 13ms/step - loss: 0.9650 - accuracy: 0.7116 - val_loss: 2.0299 - val_accuracy: 0.3478\n",
            "Epoch 10/50\n",
            "22/22 [==============================] - 0s 13ms/step - loss: 0.4836 - accuracy: 0.9070 - val_loss: 1.7160 - val_accuracy: 0.4783\n",
            "Epoch 11/50\n",
            "22/22 [==============================] - 0s 14ms/step - loss: 0.2765 - accuracy: 0.9488 - val_loss: 1.7002 - val_accuracy: 0.3043\n",
            "Epoch 12/50\n",
            "22/22 [==============================] - 0s 13ms/step - loss: 0.1949 - accuracy: 0.9721 - val_loss: 1.7239 - val_accuracy: 0.3478\n",
            "Epoch 13/50\n",
            "22/22 [==============================] - 0s 13ms/step - loss: 0.1396 - accuracy: 0.9860 - val_loss: 1.6795 - val_accuracy: 0.4348\n",
            "Epoch 14/50\n",
            "22/22 [==============================] - 0s 13ms/step - loss: 0.1121 - accuracy: 0.9907 - val_loss: 1.6349 - val_accuracy: 0.3913\n",
            "Epoch 15/50\n",
            "22/22 [==============================] - 0s 13ms/step - loss: 0.0916 - accuracy: 0.9907 - val_loss: 1.9392 - val_accuracy: 0.4348\n",
            "Epoch 16/50\n",
            "22/22 [==============================] - 0s 13ms/step - loss: 0.0885 - accuracy: 0.9860 - val_loss: 2.6385 - val_accuracy: 0.3478\n",
            "Epoch 17/50\n",
            "22/22 [==============================] - 0s 13ms/step - loss: 0.1031 - accuracy: 0.9721 - val_loss: 2.9294 - val_accuracy: 0.3043\n",
            "Epoch 18/50\n",
            "22/22 [==============================] - 0s 13ms/step - loss: 0.1048 - accuracy: 0.9860 - val_loss: 2.1498 - val_accuracy: 0.3913\n",
            "Epoch 19/50\n",
            "22/22 [==============================] - 0s 13ms/step - loss: 0.0796 - accuracy: 0.9860 - val_loss: 1.9415 - val_accuracy: 0.3043\n",
            "Epoch 20/50\n",
            "22/22 [==============================] - 0s 13ms/step - loss: 0.0542 - accuracy: 0.9907 - val_loss: 1.8651 - val_accuracy: 0.4348\n",
            "Epoch 21/50\n",
            "22/22 [==============================] - 0s 13ms/step - loss: 0.0600 - accuracy: 0.9907 - val_loss: 1.9098 - val_accuracy: 0.4348\n",
            "Epoch 22/50\n",
            "22/22 [==============================] - 0s 13ms/step - loss: 0.0479 - accuracy: 0.9907 - val_loss: 2.1166 - val_accuracy: 0.4348\n",
            "Epoch 23/50\n",
            "22/22 [==============================] - 0s 13ms/step - loss: 0.0352 - accuracy: 0.9907 - val_loss: 1.9108 - val_accuracy: 0.4348\n",
            "Epoch 24/50\n",
            "22/22 [==============================] - 0s 13ms/step - loss: 0.0292 - accuracy: 0.9907 - val_loss: 1.8638 - val_accuracy: 0.4348\n",
            "Epoch 25/50\n",
            "22/22 [==============================] - 0s 13ms/step - loss: 0.0281 - accuracy: 0.9860 - val_loss: 1.8781 - val_accuracy: 0.4348\n",
            "Epoch 26/50\n",
            "22/22 [==============================] - 0s 13ms/step - loss: 0.0283 - accuracy: 0.9860 - val_loss: 1.8345 - val_accuracy: 0.4348\n",
            "Epoch 27/50\n",
            "22/22 [==============================] - 0s 13ms/step - loss: 0.0249 - accuracy: 0.9860 - val_loss: 1.8989 - val_accuracy: 0.4348\n",
            "Epoch 28/50\n",
            "22/22 [==============================] - 0s 13ms/step - loss: 0.0263 - accuracy: 0.9860 - val_loss: 1.8484 - val_accuracy: 0.4348\n",
            "Epoch 29/50\n",
            "22/22 [==============================] - 0s 13ms/step - loss: 0.0245 - accuracy: 0.9860 - val_loss: 1.8813 - val_accuracy: 0.4348\n",
            "Epoch 30/50\n",
            "22/22 [==============================] - 0s 13ms/step - loss: 0.0240 - accuracy: 0.9860 - val_loss: 1.8625 - val_accuracy: 0.4348\n",
            "Epoch 31/50\n",
            "22/22 [==============================] - 0s 13ms/step - loss: 0.0222 - accuracy: 0.9860 - val_loss: 1.8644 - val_accuracy: 0.4348\n",
            "Epoch 32/50\n",
            "22/22 [==============================] - 0s 13ms/step - loss: 0.0223 - accuracy: 0.9860 - val_loss: 1.8894 - val_accuracy: 0.4348\n",
            "Epoch 33/50\n",
            "22/22 [==============================] - 0s 13ms/step - loss: 0.0239 - accuracy: 0.9860 - val_loss: 1.8138 - val_accuracy: 0.4348\n",
            "Epoch 34/50\n",
            "22/22 [==============================] - 0s 13ms/step - loss: 0.0229 - accuracy: 0.9860 - val_loss: 1.8966 - val_accuracy: 0.4783\n",
            "Epoch 35/50\n",
            "22/22 [==============================] - 0s 13ms/step - loss: 0.0219 - accuracy: 0.9907 - val_loss: 1.8660 - val_accuracy: 0.4348\n",
            "Epoch 36/50\n",
            "22/22 [==============================] - 0s 13ms/step - loss: 0.0210 - accuracy: 0.9860 - val_loss: 1.9001 - val_accuracy: 0.4348\n",
            "Epoch 37/50\n",
            "22/22 [==============================] - 0s 13ms/step - loss: 0.0200 - accuracy: 0.9860 - val_loss: 1.9083 - val_accuracy: 0.4348\n",
            "Epoch 38/50\n",
            "22/22 [==============================] - 0s 13ms/step - loss: 0.0215 - accuracy: 0.9814 - val_loss: 1.8946 - val_accuracy: 0.4348\n",
            "Epoch 39/50\n",
            "22/22 [==============================] - 0s 13ms/step - loss: 0.0192 - accuracy: 0.9907 - val_loss: 1.9271 - val_accuracy: 0.4348\n",
            "Epoch 40/50\n",
            "22/22 [==============================] - 0s 13ms/step - loss: 0.0200 - accuracy: 0.9907 - val_loss: 1.9098 - val_accuracy: 0.4348\n",
            "Epoch 41/50\n",
            "22/22 [==============================] - 0s 13ms/step - loss: 0.0194 - accuracy: 0.9907 - val_loss: 1.9662 - val_accuracy: 0.4783\n",
            "Epoch 42/50\n",
            "22/22 [==============================] - 0s 13ms/step - loss: 0.0203 - accuracy: 0.9814 - val_loss: 1.8788 - val_accuracy: 0.4348\n",
            "Epoch 43/50\n",
            "22/22 [==============================] - 0s 13ms/step - loss: 0.0193 - accuracy: 0.9814 - val_loss: 1.9045 - val_accuracy: 0.4348\n",
            "Epoch 44/50\n",
            "22/22 [==============================] - 0s 13ms/step - loss: 0.0189 - accuracy: 0.9907 - val_loss: 1.9029 - val_accuracy: 0.4348\n",
            "Epoch 45/50\n",
            "22/22 [==============================] - 0s 13ms/step - loss: 0.0181 - accuracy: 0.9860 - val_loss: 1.9402 - val_accuracy: 0.4348\n",
            "Epoch 46/50\n",
            "22/22 [==============================] - 0s 13ms/step - loss: 0.0185 - accuracy: 0.9860 - val_loss: 1.9370 - val_accuracy: 0.4348\n",
            "Epoch 47/50\n",
            "22/22 [==============================] - 0s 13ms/step - loss: 0.0180 - accuracy: 0.9907 - val_loss: 1.9401 - val_accuracy: 0.4348\n",
            "Epoch 48/50\n",
            "22/22 [==============================] - 0s 13ms/step - loss: 0.0187 - accuracy: 0.9814 - val_loss: 1.9914 - val_accuracy: 0.4348\n",
            "Epoch 49/50\n",
            "22/22 [==============================] - 0s 13ms/step - loss: 0.0182 - accuracy: 0.9860 - val_loss: 1.9402 - val_accuracy: 0.4348\n",
            "Epoch 50/50\n",
            "22/22 [==============================] - 0s 13ms/step - loss: 0.0178 - accuracy: 0.9860 - val_loss: 1.9622 - val_accuracy: 0.4348\n",
            "Best epoch: 10\n"
          ]
        }
      ],
      "source": [
        "# Build the model with the optimal hyperparameters and train it on the data for 50 epochs\n",
        "model = tuner.hypermodel.build(best_hps)\n",
        "history = model.fit(train_ds, epochs=50, validation_data=val_ds)\n",
        "\n",
        "val_acc_per_epoch = history.history['val_accuracy']\n",
        "best_epoch = val_acc_per_epoch.index(max(val_acc_per_epoch)) + 1\n",
        "print('Best epoch: %d' % (best_epoch,))"
      ]
    },
    {
      "cell_type": "markdown",
      "metadata": {
        "id": "uOTSirSTI3Gp"
      },
      "source": [
        "Re-instantiate the hypermodel and train it with the optimal number of epochs from above."
      ]
    },
    {
      "cell_type": "code",
      "execution_count": 21,
      "metadata": {
        "id": "NoiPUEHmMhCe",
        "colab": {
          "base_uri": "https://localhost:8080/"
        },
        "outputId": "fabb1f73-4db3-46de-e07d-976c95a7ef1a"
      },
      "outputs": [
        {
          "output_type": "stream",
          "name": "stdout",
          "text": [
            "Epoch 1/28\n",
            "22/22 [==============================] - 1s 19ms/step - loss: 2.4463 - accuracy: 0.1953 - val_loss: 2.6747 - val_accuracy: 0.0870\n",
            "Epoch 2/28\n",
            "22/22 [==============================] - 0s 14ms/step - loss: 2.3084 - accuracy: 0.2605 - val_loss: 2.5726 - val_accuracy: 0.1304\n",
            "Epoch 3/28\n",
            "22/22 [==============================] - 0s 13ms/step - loss: 2.1316 - accuracy: 0.2791 - val_loss: 2.5673 - val_accuracy: 0.1739\n",
            "Epoch 4/28\n",
            "22/22 [==============================] - 0s 13ms/step - loss: 1.8537 - accuracy: 0.3907 - val_loss: 2.4347 - val_accuracy: 0.2174\n",
            "Epoch 5/28\n",
            "22/22 [==============================] - 0s 13ms/step - loss: 1.4912 - accuracy: 0.5349 - val_loss: 2.2693 - val_accuracy: 0.3043\n",
            "Epoch 6/28\n",
            "22/22 [==============================] - 0s 13ms/step - loss: 1.1766 - accuracy: 0.6512 - val_loss: 2.3400 - val_accuracy: 0.3043\n",
            "Epoch 7/28\n",
            "22/22 [==============================] - 0s 13ms/step - loss: 0.9505 - accuracy: 0.6837 - val_loss: 2.4699 - val_accuracy: 0.2174\n",
            "Epoch 8/28\n",
            "22/22 [==============================] - 0s 13ms/step - loss: 0.7057 - accuracy: 0.7953 - val_loss: 1.8469 - val_accuracy: 0.3913\n",
            "Epoch 9/28\n",
            "22/22 [==============================] - 0s 14ms/step - loss: 0.4929 - accuracy: 0.8977 - val_loss: 2.0039 - val_accuracy: 0.3478\n",
            "Epoch 10/28\n",
            "22/22 [==============================] - 0s 13ms/step - loss: 0.3707 - accuracy: 0.9116 - val_loss: 2.1818 - val_accuracy: 0.3478\n",
            "Epoch 11/28\n",
            "22/22 [==============================] - 0s 13ms/step - loss: 0.2636 - accuracy: 0.9535 - val_loss: 1.8943 - val_accuracy: 0.4348\n",
            "Epoch 12/28\n",
            "22/22 [==============================] - 0s 13ms/step - loss: 0.2013 - accuracy: 0.9860 - val_loss: 2.1250 - val_accuracy: 0.3478\n",
            "Epoch 13/28\n",
            "22/22 [==============================] - 0s 13ms/step - loss: 0.1527 - accuracy: 0.9767 - val_loss: 2.4466 - val_accuracy: 0.4783\n",
            "Epoch 14/28\n",
            "22/22 [==============================] - 0s 13ms/step - loss: 0.1284 - accuracy: 0.9814 - val_loss: 1.9046 - val_accuracy: 0.5217\n",
            "Epoch 15/28\n",
            "22/22 [==============================] - 0s 13ms/step - loss: 0.0836 - accuracy: 0.9860 - val_loss: 1.4433 - val_accuracy: 0.5652\n",
            "Epoch 16/28\n",
            "22/22 [==============================] - 0s 13ms/step - loss: 0.0668 - accuracy: 0.9907 - val_loss: 1.5926 - val_accuracy: 0.5217\n",
            "Epoch 17/28\n",
            "22/22 [==============================] - 0s 13ms/step - loss: 0.0630 - accuracy: 0.9860 - val_loss: 1.8238 - val_accuracy: 0.3913\n",
            "Epoch 18/28\n",
            "22/22 [==============================] - 0s 13ms/step - loss: 0.0514 - accuracy: 0.9860 - val_loss: 1.4066 - val_accuracy: 0.5652\n",
            "Epoch 19/28\n",
            "22/22 [==============================] - 0s 13ms/step - loss: 0.0348 - accuracy: 0.9907 - val_loss: 1.4313 - val_accuracy: 0.5652\n",
            "Epoch 20/28\n",
            "22/22 [==============================] - 0s 13ms/step - loss: 0.0345 - accuracy: 0.9860 - val_loss: 1.4102 - val_accuracy: 0.5652\n",
            "Epoch 21/28\n",
            "22/22 [==============================] - 0s 13ms/step - loss: 0.0297 - accuracy: 0.9860 - val_loss: 1.4416 - val_accuracy: 0.6087\n",
            "Epoch 22/28\n",
            "22/22 [==============================] - 0s 13ms/step - loss: 0.0354 - accuracy: 0.9814 - val_loss: 1.4106 - val_accuracy: 0.5217\n",
            "Epoch 23/28\n",
            "22/22 [==============================] - 0s 13ms/step - loss: 0.0292 - accuracy: 0.9814 - val_loss: 1.4424 - val_accuracy: 0.5652\n",
            "Epoch 24/28\n",
            "22/22 [==============================] - 0s 13ms/step - loss: 0.0273 - accuracy: 0.9860 - val_loss: 1.4353 - val_accuracy: 0.6087\n",
            "Epoch 25/28\n",
            "22/22 [==============================] - 0s 13ms/step - loss: 0.0259 - accuracy: 0.9860 - val_loss: 1.4635 - val_accuracy: 0.5652\n",
            "Epoch 26/28\n",
            "22/22 [==============================] - 0s 13ms/step - loss: 0.0254 - accuracy: 0.9860 - val_loss: 1.4451 - val_accuracy: 0.6087\n",
            "Epoch 27/28\n",
            "22/22 [==============================] - 0s 13ms/step - loss: 0.0251 - accuracy: 0.9860 - val_loss: 1.4583 - val_accuracy: 0.6087\n",
            "Epoch 28/28\n",
            "22/22 [==============================] - 0s 13ms/step - loss: 0.0242 - accuracy: 0.9907 - val_loss: 1.4434 - val_accuracy: 0.6087\n"
          ]
        },
        {
          "output_type": "execute_result",
          "data": {
            "text/plain": [
              "<keras.callbacks.History at 0x7fc5a932d490>"
            ]
          },
          "metadata": {},
          "execution_count": 21
        }
      ],
      "source": [
        "hypermodel = tuner.hypermodel.build(best_hps)\n",
        "\n",
        "# Retrain the model\n",
        "hypermodel.fit(train_ds, epochs=28, validation_data=val_ds)"
      ]
    },
    {
      "cell_type": "markdown",
      "source": [
        "## Model Evaluation and Metrics"
      ],
      "metadata": {
        "id": "IQFkUEWLtLm6"
      }
    },
    {
      "cell_type": "code",
      "source": [
        "# Model Evaluation\n",
        "\n",
        "# eval_result = hypermodel.evaluate(test_ds)\n",
        "# print(\"[test loss, test accuracy]:\", eval_result)\n",
        "\n",
        "# Model Metrics\n",
        "from sklearn.datasets import make_circles\n",
        "from sklearn.metrics import accuracy_score\n",
        "from sklearn.metrics import precision_score\n",
        "from sklearn.metrics import recall_score\n",
        "from sklearn.metrics import f1_score\n",
        "from sklearn.metrics import cohen_kappa_score\n",
        "from sklearn.metrics import roc_auc_score\n",
        "from sklearn.metrics import confusion_matrix\n",
        "from sklearn.metrics import classification_report\n",
        "import numpy as np\n",
        "\n",
        "# y_labels = val_ds.map(lambda x,y: y)\n",
        "# y_labels = y_labels.as_numpy_iterator()\n",
        "\n",
        "### Test_ds metrics\n",
        "# print(\"Test dataset metrics:\")\n",
        "# Reduce to 1D Array\n",
        "# y_labels = np.concatenate([y for x, y in test_ds], axis=0)\n",
        "\n",
        "# y_hat_probs = hypermodel.predict(test_ds)\n",
        "\n",
        "# y_hat_classes = y_hat_probs.argmax(axis=-1)\n",
        "\n",
        "\n",
        "## accuracy: (tp + tn) / (p + n)\n",
        "# accuracy = accuracy_score(y_labels, y_hat_classes)\n",
        "# print('Accuracy: %f' % accuracy)\n",
        "\n",
        "## precision tp / (tp + fp)\n",
        "# precision = precision_score(y_labels, y_hat_classes, average=None)\n",
        "# print('Precision (None): %f' % precision.sum())\n",
        "# precision = precision_score(y_labels, y_hat_classes, average='micro')\n",
        "# print('Precision (micro): %f' % precision)\n",
        "# precision = precision_score(y_labels, y_hat_classes, average= 'macro')\n",
        "# print('Precision (macro): %f' % precision)\n",
        "# precision = precision_score(y_labels, y_hat_classes, average= 'weighted')\n",
        "# print('Precision (weighted): %f' % precision)\n",
        "\n",
        "## recall: tp / (tp + fn)\n",
        "# recall = recall_score(y_labels, y_hat_classes, average='micro')\n",
        "# print('Recall (micro): %f' % recall)\n",
        "# recall = recall_score(y_labels, y_hat_classes, average='macro')\n",
        "# print('Recall (macro): %f' % recall)\n",
        "# recall = recall_score(y_labels, y_hat_classes, average='samples')\n",
        "# print('Recall (samples): %f' % recall)\n",
        "# recall = recall_score(y_labels, y_hat_classes, average='weighted')\n",
        "# print('Recall (weighted): %f' % recall)\n",
        "\n",
        "## f1: 2 tp / (2 tp + fp + fn)\n",
        "# f1 = f1_score(y_labels, y_hat_classes, average='micro')\n",
        "# print('F1 score (micro): %f' % f1)\n",
        "# f1 = f1_score(y_labels, y_hat_classes, average='macro')\n",
        "# print('F1 score (macro): %f' % f1)\n",
        "# f1 = f1_score(y_labels, y_hat_classes, average='weighted')\n",
        "# print('F1 score (weighted): %f' % f1)\n",
        " \n",
        "## kappa\n",
        "# kappa = cohen_kappa_score(y_labels, y_hat_classes)\n",
        "# print('Cohens kappa: %f' % kappa)\n",
        "\n",
        "## ROC AUC\n",
        "# print(np.sum(y_hat_probs))\n",
        "# y_hat_probs = y_hat_probs / np.sum(y_hat_probs)\n",
        "# print(np.sum(y_hat_probs))\n",
        "# auc = roc_auc_score(y_labels, y_hat_probs, multi_class='ovo')\n",
        "# print('ROC AUC: %f' % auc)\n",
        "\n",
        "## confusion matrix\n",
        "# matrix = confusion_matrix(y_labels, y_hat_classes)\n",
        "# print(matrix)\n",
        "# print(\"\\n\\n\")\n",
        "\n",
        "### Val_ds metrics \n",
        "print(\"Validation dataset metrics:\")\n",
        "\n",
        "# Reduce to 1D Array\n",
        "y_labels = np.concatenate([y for x, y in val_ds], axis=0)\n",
        "\n",
        "y_hat_probs = hypermodel.predict(val_ds)\n",
        "\n",
        "y_hat_classes = y_hat_probs.argmax(axis=-1)\n",
        "\n",
        "Pred_Label = np.argmax(y_hat_probs, axis=1)\n",
        "val_acc = accuracy_score(y_labels, y_hat_classes)\n",
        "ConfusionM = confusion_matrix(list(y_labels), y_hat_classes, labels=[0, 1, 2, 3, 4, 5, 6, 7, 8, 9, 10, 11])\n",
        "class_report = classification_report(list(y_labels), y_hat_classes, labels=[0, 1, 2, 3, 4, 5, 6, 7, 8, 9, 10, 11])\n",
        "print(f'confusion matrix: \\n', ConfusionM)\n",
        "print(f'classification_report: \\n',class_report)\n",
        "\n",
        "\n",
        "## accuracy: (tp + tn) / (p + n)\n",
        "accuracy = accuracy_score(y_labels, y_hat_classes)\n",
        "print('Accuracy: %f' % accuracy)\n",
        "\n",
        "## precision tp / (tp + fp)\n",
        "precision = precision_score(y_labels, y_hat_classes, average=None)\n",
        "print('Precision (None): %f' % precision.sum())\n",
        "precision = precision_score(y_labels, y_hat_classes, average='micro')\n",
        "print('Precision (micro): %f' % precision)\n",
        "precision = precision_score(y_labels, y_hat_classes, average= 'macro')\n",
        "print('Precision (macro): %f' % precision)\n",
        "precision = precision_score(y_labels, y_hat_classes, average= 'weighted')\n",
        "print('Precision (weighted): %f' % precision)\n",
        "\n",
        "## recall: tp / (tp + fn)\n",
        "recall = recall_score(y_labels, y_hat_classes, average='micro')\n",
        "print('Recall (micro): %f' % recall)\n",
        "recall = recall_score(y_labels, y_hat_classes, average='macro')\n",
        "print('Recall (macro): %f' % recall)\n",
        "recall = recall_score(y_labels, y_hat_classes, average='weighted')\n",
        "print('Recall (weighted): %f' % recall)\n",
        "\n",
        "## f1: 2 tp / (2 tp + fp + fn)\n",
        "f1 = f1_score(y_labels, y_hat_classes, average='micro')\n",
        "print('F1 score (micro): %f' % f1)\n",
        "f1 = f1_score(y_labels, y_hat_classes, average='macro')\n",
        "print('F1 score (macro): %f' % f1)\n",
        "f1 = f1_score(y_labels, y_hat_classes, average='weighted')\n",
        "print('F1 score (weighted): %f' % f1)\n",
        " \n",
        "## kappa\n",
        "kappa = cohen_kappa_score(y_labels, y_hat_classes)\n",
        "print('Cohens kappa: %f' % kappa)\n",
        "\n",
        "## ROC AUC\n",
        "# print(np.sum(y_hat_probs))\n",
        "# y_hat_probs = y_hat_probs / np.sum(y_hat_probs)\n",
        "# print(np.sum(y_hat_probs))\n",
        "# auc = roc_auc_score(y_labels, y_hat_probs, multi_class='ovo')\n",
        "# print('ROC AUC: %f' % auc)\n",
        "\n",
        "## confusion matrix\n",
        "matrix = confusion_matrix(y_labels, y_hat_classes)\n",
        "print(matrix)"
      ],
      "metadata": {
        "id": "GDZ3ySZQsasX",
        "outputId": "46b1cb35-601d-49bb-bee8-7b3e936f61ea",
        "colab": {
          "base_uri": "https://localhost:8080/"
        }
      },
      "execution_count": 22,
      "outputs": [
        {
          "output_type": "stream",
          "name": "stdout",
          "text": [
            "Validation dataset metrics:\n",
            "confusion matrix: \n",
            " [[1 0 0 1 0 0 0 0 0 0 0 0]\n",
            " [0 0 0 0 0 0 0 0 1 0 0 1]\n",
            " [0 1 1 0 0 0 0 0 0 0 0 0]\n",
            " [0 0 0 3 0 0 0 0 0 0 0 0]\n",
            " [0 0 0 0 2 0 1 0 0 0 0 0]\n",
            " [0 0 0 1 0 1 0 0 0 0 0 0]\n",
            " [0 0 0 0 1 0 2 0 0 0 0 0]\n",
            " [0 0 0 0 0 0 0 1 0 0 0 0]\n",
            " [0 0 0 0 0 0 0 0 1 0 0 0]\n",
            " [0 0 0 0 0 0 0 0 0 1 1 1]\n",
            " [0 0 0 0 0 0 0 0 0 0 0 0]\n",
            " [0 0 0 0 0 0 0 0 0 0 0 1]]\n",
            "classification_report: \n",
            "               precision    recall  f1-score   support\n",
            "\n",
            "           0       1.00      0.50      0.67         2\n",
            "           1       0.00      0.00      0.00         2\n",
            "           2       1.00      0.50      0.67         2\n",
            "           3       0.60      1.00      0.75         3\n",
            "           4       0.67      0.67      0.67         3\n",
            "           5       1.00      0.50      0.67         2\n",
            "           6       0.67      0.67      0.67         3\n",
            "           7       1.00      1.00      1.00         1\n",
            "           8       0.50      1.00      0.67         1\n",
            "           9       1.00      0.33      0.50         3\n",
            "          10       0.00      0.00      0.00         0\n",
            "          11       0.33      1.00      0.50         1\n",
            "\n",
            "    accuracy                           0.61        23\n",
            "   macro avg       0.65      0.60      0.56        23\n",
            "weighted avg       0.72      0.61      0.61        23\n",
            "\n",
            "Accuracy: 0.608696\n",
            "Precision (None): 7.766667\n",
            "Precision (micro): 0.608696\n",
            "Precision (macro): 0.647222\n",
            "Precision (weighted): 0.723188\n",
            "Recall (micro): 0.608696\n",
            "Recall (macro): 0.597222\n",
            "Recall (weighted): 0.608696\n",
            "F1 score (micro): 0.608696\n",
            "F1 score (macro): 0.562500\n",
            "F1 score (weighted): 0.605072\n",
            "Cohens kappa: 0.567850\n",
            "[[1 0 0 1 0 0 0 0 0 0 0 0]\n",
            " [0 0 0 0 0 0 0 0 1 0 0 1]\n",
            " [0 1 1 0 0 0 0 0 0 0 0 0]\n",
            " [0 0 0 3 0 0 0 0 0 0 0 0]\n",
            " [0 0 0 0 2 0 1 0 0 0 0 0]\n",
            " [0 0 0 1 0 1 0 0 0 0 0 0]\n",
            " [0 0 0 0 1 0 2 0 0 0 0 0]\n",
            " [0 0 0 0 0 0 0 1 0 0 0 0]\n",
            " [0 0 0 0 0 0 0 0 1 0 0 0]\n",
            " [0 0 0 0 0 0 0 0 0 1 1 1]\n",
            " [0 0 0 0 0 0 0 0 0 0 0 0]\n",
            " [0 0 0 0 0 0 0 0 0 0 0 1]]\n"
          ]
        },
        {
          "output_type": "stream",
          "name": "stderr",
          "text": [
            "/usr/local/lib/python3.7/dist-packages/sklearn/metrics/_classification.py:1318: UndefinedMetricWarning: Recall and F-score are ill-defined and being set to 0.0 in labels with no true samples. Use `zero_division` parameter to control this behavior.\n",
            "  _warn_prf(average, modifier, msg_start, len(result))\n",
            "/usr/local/lib/python3.7/dist-packages/sklearn/metrics/_classification.py:1318: UndefinedMetricWarning: Recall and F-score are ill-defined and being set to 0.0 in labels with no true samples. Use `zero_division` parameter to control this behavior.\n",
            "  _warn_prf(average, modifier, msg_start, len(result))\n",
            "/usr/local/lib/python3.7/dist-packages/sklearn/metrics/_classification.py:1318: UndefinedMetricWarning: Recall and F-score are ill-defined and being set to 0.0 in labels with no true samples. Use `zero_division` parameter to control this behavior.\n",
            "  _warn_prf(average, modifier, msg_start, len(result))\n",
            "/usr/local/lib/python3.7/dist-packages/sklearn/metrics/_classification.py:1318: UndefinedMetricWarning: Recall is ill-defined and being set to 0.0 in labels with no true samples. Use `zero_division` parameter to control this behavior.\n",
            "  _warn_prf(average, modifier, msg_start, len(result))\n",
            "/usr/local/lib/python3.7/dist-packages/sklearn/metrics/_classification.py:1318: UndefinedMetricWarning: Recall is ill-defined and being set to 0.0 in labels with no true samples. Use `zero_division` parameter to control this behavior.\n",
            "  _warn_prf(average, modifier, msg_start, len(result))\n"
          ]
        }
      ]
    },
    {
      "cell_type": "code",
      "source": [
        "import matplotlib.pyplot as plt \n",
        "from sklearn.preprocessing import LabelBinarizer\n",
        "from sklearn.metrics import roc_curve, auc, roc_auc_score\n",
        "\n",
        "target= class_names\n",
        "\n",
        "print(class_names)\n",
        "for (idx, c_label) in enumerate(target):\n",
        "  print(f\"idx, c_label\", idx, c_label)\n",
        "\n",
        "y_labels = np.concatenate([y for x, y in val_ds], axis=-1)\n",
        "\n",
        "y_hat_probs = hypermodel.predict(val_ds)\n",
        "\n",
        "y_hat_classes = y_hat_probs.argmax(axis=-1)\n",
        "\n",
        "# set plot figure size\n",
        "fig, c_ax = plt.subplots(1,1, figsize = (12, 8))\n",
        "\n",
        "# function for scoring roc auc score for multi-class\n",
        "def multiclass_roc_auc_score(y_test, y_pred, average=\"macro\"):\n",
        "    lb = LabelBinarizer()\n",
        "    lb.fit(y_test)\n",
        "    y_test = lb.transform(y_test)\n",
        "    y_pred = lb.transform(y_pred)\n",
        "\n",
        "    for (idx, c_label) in enumerate(target):\n",
        "        fpr, tpr, thresholds = roc_curve(y_test[idx].astype(int), y_pred[idx])\n",
        "        c_ax.plot(fpr, tpr, label = '%s (AUC:%0.2f)'  % (c_label, auc(fpr, tpr)))\n",
        "    c_ax.plot(fpr, fpr, 'b-', label = 'Random Guessing')\n",
        "    return roc_auc_score(y_test, y_pred, average=average)\n",
        "\n",
        "print('ROC AUC score 1:', multiclass_roc_auc_score(y_labels, y_hat_classes))\n",
        "\n",
        "\n",
        "c_ax.legend()\n",
        "c_ax.set_xlabel('False Positive Rate')\n",
        "c_ax.set_ylabel('True Positive Rate')\n",
        "plt.show()"
      ],
      "metadata": {
        "id": "OV5OzlNL-43k",
        "outputId": "cebf0d92-ec81-4827-dd38-fdd12ba4e369",
        "colab": {
          "base_uri": "https://localhost:8080/",
          "height": 740
        }
      },
      "execution_count": 17,
      "outputs": [
        {
          "output_type": "stream",
          "name": "stdout",
          "text": [
            "['APT17', 'APT28', 'APT29', 'APT3', 'DeepPanda', 'FIN7', 'Lazarus', 'OilRig', 'RocketKitten', 'Turla', 'Winnti', 'menuPass']\n",
            "idx, c_label 0 APT17\n",
            "idx, c_label 1 APT28\n",
            "idx, c_label 2 APT29\n",
            "idx, c_label 3 APT3\n",
            "idx, c_label 4 DeepPanda\n",
            "idx, c_label 5 FIN7\n",
            "idx, c_label 6 Lazarus\n",
            "idx, c_label 7 OilRig\n",
            "idx, c_label 8 RocketKitten\n",
            "idx, c_label 9 Turla\n",
            "idx, c_label 10 Winnti\n",
            "idx, c_label 11 menuPass\n",
            "ROC AUC score 1: 0.6812475403384494\n"
          ]
        },
        {
          "output_type": "display_data",
          "data": {
            "text/plain": [
              "<Figure size 864x576 with 1 Axes>"
            ],
            "image/png": "[encoded data removed]"
          },
          "metadata": {
            "needs_background": "light"
          }
        }
      ]
    },
    {
      "cell_type": "code",
      "source": [
        "# set plot figure size\n",
        "fig, c_ax = plt.subplots(1,1, figsize = (12, 8))\n",
        "\n",
        "# function for scoring roc auc score for multi-class2\n",
        "def multiclass_roc_auc_score_2(y_test, y_pred, average=\"macro\"):\n",
        "    lb = LabelBinarizer()\n",
        "    lb.fit(y_test)\n",
        "    y_test = lb.transform(y_test)\n",
        "    y_pred = lb.transform(y_pred)\n",
        "\n",
        "    for (idx, c_label) in enumerate(target):\n",
        "        fpr, tpr, thresholds = roc_curve(y_test[:,idx].astype(int), y_pred[:,idx])\n",
        "        c_ax.plot(fpr, tpr, label = '%s (AUC:%0.2f)'  % (c_label, auc(fpr, tpr)))\n",
        "    c_ax.plot(fpr, fpr, 'b-', label = 'Random Guessing')\n",
        "    return roc_auc_score(y_test, y_pred, average=average)\n",
        "\n",
        "print('ROC AUC score 2:', multiclass_roc_auc_score_2(y_labels, y_hat_classes))\n",
        "\n",
        "c_ax.legend()\n",
        "c_ax.set_xlabel('False Positive Rate')\n",
        "c_ax.set_ylabel('True Positive Rate')\n",
        "plt.show()"
      ],
      "metadata": {
        "id": "biKgbtoVG3l8",
        "outputId": "8e190afe-26f9-4a46-ffce-4ee325625d7f",
        "colab": {
          "base_uri": "https://localhost:8080/",
          "height": 823
        }
      },
      "execution_count": 18,
      "outputs": [
        {
          "output_type": "error",
          "ename": "IndexError",
          "evalue": "ignored",
          "traceback": [
            "\u001b[0;31m---------------------------------------------------------------------------\u001b[0m",
            "\u001b[0;31mIndexError\u001b[0m                                Traceback (most recent call last)",
            "\u001b[0;32m<ipython-input-18-9d4bfc6edec0>\u001b[0m in \u001b[0;36m<module>\u001b[0;34m\u001b[0m\n\u001b[1;32m     15\u001b[0m     \u001b[0;32mreturn\u001b[0m \u001b[0mroc_auc_score\u001b[0m\u001b[0;34m(\u001b[0m\u001b[0my_test\u001b[0m\u001b[0;34m,\u001b[0m \u001b[0my_pred\u001b[0m\u001b[0;34m,\u001b[0m \u001b[0maverage\u001b[0m\u001b[0;34m=\u001b[0m\u001b[0maverage\u001b[0m\u001b[0;34m)\u001b[0m\u001b[0;34m\u001b[0m\u001b[0;34m\u001b[0m\u001b[0m\n\u001b[1;32m     16\u001b[0m \u001b[0;34m\u001b[0m\u001b[0m\n\u001b[0;32m---> 17\u001b[0;31m \u001b[0mprint\u001b[0m\u001b[0;34m(\u001b[0m\u001b[0;34m'ROC AUC score 2:'\u001b[0m\u001b[0;34m,\u001b[0m \u001b[0mmulticlass_roc_auc_score_2\u001b[0m\u001b[0;34m(\u001b[0m\u001b[0my_labels\u001b[0m\u001b[0;34m,\u001b[0m \u001b[0my_hat_classes\u001b[0m\u001b[0;34m)\u001b[0m\u001b[0;34m)\u001b[0m\u001b[0;34m\u001b[0m\u001b[0;34m\u001b[0m\u001b[0m\n\u001b[0m\u001b[1;32m     18\u001b[0m \u001b[0;34m\u001b[0m\u001b[0m\n\u001b[1;32m     19\u001b[0m \u001b[0mc_ax\u001b[0m\u001b[0;34m.\u001b[0m\u001b[0mlegend\u001b[0m\u001b[0;34m(\u001b[0m\u001b[0;34m)\u001b[0m\u001b[0;34m\u001b[0m\u001b[0;34m\u001b[0m\u001b[0m\n",
            "\u001b[0;32m<ipython-input-18-9d4bfc6edec0>\u001b[0m in \u001b[0;36mmulticlass_roc_auc_score_2\u001b[0;34m(y_test, y_pred, average)\u001b[0m\n\u001b[1;32m     10\u001b[0m \u001b[0;34m\u001b[0m\u001b[0m\n\u001b[1;32m     11\u001b[0m     \u001b[0;32mfor\u001b[0m \u001b[0;34m(\u001b[0m\u001b[0midx\u001b[0m\u001b[0;34m,\u001b[0m \u001b[0mc_label\u001b[0m\u001b[0;34m)\u001b[0m \u001b[0;32min\u001b[0m \u001b[0menumerate\u001b[0m\u001b[0;34m(\u001b[0m\u001b[0mtarget\u001b[0m\u001b[0;34m)\u001b[0m\u001b[0;34m:\u001b[0m\u001b[0;34m\u001b[0m\u001b[0;34m\u001b[0m\u001b[0m\n\u001b[0;32m---> 12\u001b[0;31m         \u001b[0mfpr\u001b[0m\u001b[0;34m,\u001b[0m \u001b[0mtpr\u001b[0m\u001b[0;34m,\u001b[0m \u001b[0mthresholds\u001b[0m \u001b[0;34m=\u001b[0m \u001b[0mroc_curve\u001b[0m\u001b[0;34m(\u001b[0m\u001b[0my_test\u001b[0m\u001b[0;34m[\u001b[0m\u001b[0;34m:\u001b[0m\u001b[0;34m,\u001b[0m\u001b[0midx\u001b[0m\u001b[0;34m]\u001b[0m\u001b[0;34m.\u001b[0m\u001b[0mastype\u001b[0m\u001b[0;34m(\u001b[0m\u001b[0mint\u001b[0m\u001b[0;34m)\u001b[0m\u001b[0;34m,\u001b[0m \u001b[0my_pred\u001b[0m\u001b[0;34m[\u001b[0m\u001b[0;34m:\u001b[0m\u001b[0;34m,\u001b[0m\u001b[0midx\u001b[0m\u001b[0;34m]\u001b[0m\u001b[0;34m)\u001b[0m\u001b[0;34m\u001b[0m\u001b[0;34m\u001b[0m\u001b[0m\n\u001b[0m\u001b[1;32m     13\u001b[0m         \u001b[0mc_ax\u001b[0m\u001b[0;34m.\u001b[0m\u001b[0mplot\u001b[0m\u001b[0;34m(\u001b[0m\u001b[0mfpr\u001b[0m\u001b[0;34m,\u001b[0m \u001b[0mtpr\u001b[0m\u001b[0;34m,\u001b[0m \u001b[0mlabel\u001b[0m \u001b[0;34m=\u001b[0m \u001b[0;34m'%s (AUC:%0.2f)'\u001b[0m  \u001b[0;34m%\u001b[0m \u001b[0;34m(\u001b[0m\u001b[0mc_label\u001b[0m\u001b[0;34m,\u001b[0m \u001b[0mauc\u001b[0m\u001b[0;34m(\u001b[0m\u001b[0mfpr\u001b[0m\u001b[0;34m,\u001b[0m \u001b[0mtpr\u001b[0m\u001b[0;34m)\u001b[0m\u001b[0;34m)\u001b[0m\u001b[0;34m)\u001b[0m\u001b[0;34m\u001b[0m\u001b[0;34m\u001b[0m\u001b[0m\n\u001b[1;32m     14\u001b[0m     \u001b[0mc_ax\u001b[0m\u001b[0;34m.\u001b[0m\u001b[0mplot\u001b[0m\u001b[0;34m(\u001b[0m\u001b[0mfpr\u001b[0m\u001b[0;34m,\u001b[0m \u001b[0mfpr\u001b[0m\u001b[0;34m,\u001b[0m \u001b[0;34m'b-'\u001b[0m\u001b[0;34m,\u001b[0m \u001b[0mlabel\u001b[0m \u001b[0;34m=\u001b[0m \u001b[0;34m'Random Guessing'\u001b[0m\u001b[0;34m)\u001b[0m\u001b[0;34m\u001b[0m\u001b[0;34m\u001b[0m\u001b[0m\n",
            "\u001b[0;31mIndexError\u001b[0m: index 11 is out of bounds for axis 1 with size 11"
          ]
        },
        {
          "output_type": "display_data",
          "data": {
            "text/plain": [
              "<Figure size 864x576 with 1 Axes>"
            ],
            "image/png": "[encoded data removed]"
          },
          "metadata": {
            "needs_background": "light"
          }
        }
      ]
    },
    {
      "cell_type": "code",
      "source": [
        "# Training data ruc_auc curve\n",
        "y_labels = np.concatenate([y for x, y in train_ds], axis=-1)\n",
        "\n",
        "y_hat_probs = hypermodel.predict(train_ds)\n",
        "\n",
        "y_hat_classes = y_hat_probs.argmax(axis=-1)\n",
        "\n",
        "# set plot figure size\n",
        "fig, c_ax = plt.subplots(1,1, figsize = (12, 8))\n",
        "\n",
        "# function for scoring roc auc score for multi-class\n",
        "def multiclass_roc_auc_score(y_test, y_pred, average=\"macro\"):\n",
        "    lb = LabelBinarizer()\n",
        "    lb.fit(y_test)\n",
        "    y_test = lb.transform(y_test)\n",
        "    y_pred = lb.transform(y_pred)\n",
        "\n",
        "    for (idx, c_label) in enumerate(target):\n",
        "        fpr, tpr, thresholds = roc_curve(y_test[idx].astype(int), y_pred[idx])\n",
        "        c_ax.plot(fpr, tpr, label = '%s (AUC:%0.2f)'  % (c_label, auc(fpr, tpr)))\n",
        "    c_ax.plot(fpr, fpr, 'b-', label = 'Random Guessing')\n",
        "    return roc_auc_score(y_test, y_pred, average=average)\n",
        "\n",
        "print('ROC AUC score Training data:', multiclass_roc_auc_score(y_labels, y_hat_classes))\n",
        "\n",
        "c_ax.legend()\n",
        "c_ax.set_xlabel('False Positive Rate')\n",
        "c_ax.set_ylabel('True Positive Rate')\n",
        "plt.show()"
      ],
      "metadata": {
        "id": "H3zXpjB2HFMb",
        "outputId": "0c26f0a5-5692-4d44-c7c4-5a0adb880d4d",
        "colab": {
          "base_uri": "https://localhost:8080/",
          "height": 514
        }
      },
      "execution_count": 23,
      "outputs": [
        {
          "output_type": "stream",
          "name": "stdout",
          "text": [
            "ROC AUC score Training data: 0.9952791580940753\n"
          ]
        },
        {
          "output_type": "display_data",
          "data": {
            "text/plain": [
              "<Figure size 864x576 with 1 Axes>"
            ],
            "image/png": "[encoded data removed]"
          },
          "metadata": {
            "needs_background": "light"
          }
        }
      ]
    },
    {
      "cell_type": "markdown",
      "metadata": {
        "id": "EQRpPHZsz-eC"
      },
      "source": [
        "The `my_dir/intro_to_kt` directory contains detailed logs and checkpoints for every trial (model configuration) run during the hyperparameter search. If you re-run the hyperparameter search, the Keras Tuner uses the existing state from these logs to resume the search. To disable this behavior, pass an additional `overwrite=True` argument while instantiating the tuner."
      ]
    },
    {
      "cell_type": "markdown",
      "metadata": {
        "id": "sKwLOzKpFGAj"
      },
      "source": [
        "## Summary\n",
        "\n",
        "In this tutorial, you learned how to use the Keras Tuner to tune hyperparameters for a model. To learn more about the Keras Tuner, check out these additional resources:\n",
        "\n",
        "* [Keras Tuner on the TensorFlow blog](https://blog.tensorflow.org/2020/01/hyperparameter-tuning-with-keras-tuner.html)\n",
        "* [Keras Tuner website](https://keras-team.github.io/keras-tuner/)\n",
        "\n",
        "Also check out the [HParams Dashboard](https://www.tensorflow.org/tensorboard/hyperparameter_tuning_with_hparams) in TensorBoard to interactively tune your model hyperparameters."
      ]
    }
  ],
  "metadata": {
    "accelerator": "GPU",
    "colab": {
      "collapsed_sections": [
        "Tce3stUlHN0L"
      ],
      "name": "keras_tuner.ipynb",
      "provenance": [],
      "machine_shape": "hm"
    },
    "kernelspec": {
      "display_name": "Python 3",
      "name": "python3"
    },
    "gpuClass": "standard"
  },
  "nbformat": 4,
  "nbformat_minor": 0
}
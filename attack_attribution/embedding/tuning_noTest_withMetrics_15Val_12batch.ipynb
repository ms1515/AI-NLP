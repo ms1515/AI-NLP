{
  "cells": [
    {
      "cell_type": "markdown",
      "metadata": {
        "id": "qFdPvlXBOdUN"
      },
      "source": [
        "# Introduction to the Keras Tuner"
      ]
    },
    {
      "cell_type": "markdown",
      "metadata": {
        "id": "MfBg1C5NB3X0"
      },
      "source": [
        "<table class=\"tfo-notebook-buttons\" align=\"left\">\n",
        "  <td>\n",
        "    <a target=\"_blank\" href=\"https://www.tensorflow.org/tutorials/keras/keras_tuner\"><img src=\"https://www.tensorflow.org/images/tf_logo_32px.png\" />View on TensorFlow.org</a>\n",
        "  </td>\n",
        "  <td>\n",
        "    <a target=\"_blank\" href=\"https://colab.research.google.com/github/tensorflow/docs/blob/master/site/en/tutorials/keras/keras_tuner.ipynb\"><img src=\"https://www.tensorflow.org/images/colab_logo_32px.png\" />Run in Google Colab</a>\n",
        "  </td>\n",
        "  <td>\n",
        "    <a target=\"_blank\" href=\"https://github.com/tensorflow/docs/blob/master/site/en/tutorials/keras/keras_tuner.ipynb\"><img src=\"https://www.tensorflow.org/images/GitHub-Mark-32px.png\" />View source on GitHub</a>\n",
        "  </td>\n",
        "  <td>\n",
        "    <a href=\"https://storage.googleapis.com/tensorflow_docs/docs/site/en/tutorials/keras/keras_tuner.ipynb\"><img src=\"https://www.tensorflow.org/images/download_logo_32px.png\" />Download notebook</a>\n",
        "  </td>\n",
        "</table>"
      ]
    },
    {
      "cell_type": "markdown",
      "metadata": {
        "id": "xHxb-dlhMIzW"
      },
      "source": [
        "## Overview\n",
        "\n",
        "The Keras Tuner is a library that helps you pick the optimal set of hyperparameters for your TensorFlow program. The process of selecting the right set of hyperparameters for your machine learning (ML) application is called *hyperparameter tuning* or *hypertuning*.\n",
        "\n",
        "Hyperparameters are the variables that govern the training process and the topology of an ML model. These variables remain constant over the training process and directly impact the performance of your ML program. Hyperparameters are of two types:\n",
        "1. **Model hyperparameters** which influence model selection such as the number and width of hidden layers\n",
        "2. **Algorithm hyperparameters** which influence the speed and quality of the learning algorithm such as the learning rate for Stochastic Gradient Descent (SGD) and the number of nearest neighbors for a k Nearest Neighbors (KNN) classifier\n",
        "\n",
        "In this tutorial, you will use the Keras Tuner to perform hypertuning for an image classification application."
      ]
    },
    {
      "cell_type": "markdown",
      "metadata": {
        "id": "MUXex9ctTuDB"
      },
      "source": [
        "## Setup"
      ]
    },
    {
      "cell_type": "code",
      "execution_count": 15,
      "metadata": {
        "id": "IqR2PQG4ZaZ0"
      },
      "outputs": [],
      "source": [
        "import io\n",
        "import re\n",
        "import string\n",
        "import tensorflow as tf\n",
        "from tensorflow import keras\n",
        "from tensorflow.keras import Sequential\n",
        "from tensorflow.keras.layers import Dense, Embedding, GlobalAveragePooling1D\n",
        "from tensorflow.keras.layers import TextVectorization\n"
      ]
    },
    {
      "cell_type": "markdown",
      "metadata": {
        "id": "g83Lwsy-Aq2_"
      },
      "source": [
        "Install and import the Keras Tuner."
      ]
    },
    {
      "cell_type": "code",
      "execution_count": 16,
      "metadata": {
        "id": "hpMLpbt9jcO6"
      },
      "outputs": [],
      "source": [
        "!pip install -q -U keras-tuner"
      ]
    },
    {
      "cell_type": "code",
      "execution_count": 17,
      "metadata": {
        "id": "_leAIdFKAxAD"
      },
      "outputs": [],
      "source": [
        "import keras_tuner as kt"
      ]
    },
    {
      "cell_type": "markdown",
      "metadata": {
        "id": "ReV_UXOgCZvx"
      },
      "source": [
        "## Download and prepare the dataset\n",
        "\n",
        "In this tutorial, you will use the Keras Tuner to find the best hyperparameters for a machine learning model that classifies images of clothing from the [Fashion MNIST dataset](https://github.com/zalandoresearch/fashion-mnist)."
      ]
    },
    {
      "cell_type": "markdown",
      "metadata": {
        "id": "HljH_ENLEdHa"
      },
      "source": [
        "Load the data."
      ]
    },
    {
      "cell_type": "code",
      "execution_count": 18,
      "metadata": {
        "id": "OHlHs9Wj_PUM"
      },
      "outputs": [],
      "source": [
        "url = 'https://github.com/eyalmazuz/AttackAttributionDataset/archive/refs/heads/master.zip' \n",
        "\n",
        "dataset = tf.keras.utils.get_file('master.zip', url,extract=True, cache_dir='.',cache_subdir='')"
      ]
    },
    {
      "cell_type": "code",
      "execution_count": 19,
      "metadata": {
        "id": "bLVhXs3xrUD0",
        "colab": {
          "base_uri": "https://localhost:8080/"
        },
        "outputId": "6f660b80-57c0-41a6-9b48-e9455aa02996"
      },
      "outputs": [
        {
          "output_type": "stream",
          "name": "stdout",
          "text": [
            "Found 238 files belonging to 12 classes.\n",
            "Using 203 files for training.\n",
            "Found 238 files belonging to 12 classes.\n",
            "Using 35 files for validation.\n"
          ]
        }
      ],
      "source": [
        "# Normalize pixel values between 0 and 1\n",
        "AUTOTUNE = tf.data.AUTOTUNE\n",
        "batch_size = 12\n",
        "seed = 42\n",
        "\n",
        "train_ds = tf.keras.utils.text_dataset_from_directory(\n",
        "    'AttackAttributionDataset-master',\n",
        "    batch_size=batch_size,\n",
        "    validation_split=0.15,\n",
        "    subset='training',\n",
        "    seed=seed)\n",
        "\n",
        "class_names = train_ds.class_names\n",
        "train_ds = train_ds.cache().prefetch(buffer_size=AUTOTUNE)\n",
        "\n",
        "val_ds = tf.keras.utils.text_dataset_from_directory(\n",
        "    'AttackAttributionDataset-master',\n",
        "    batch_size=batch_size,\n",
        "    validation_split=0.15,\n",
        "    subset='validation',\n",
        "    seed=seed)\n",
        "\n",
        "val_ds = val_ds.cache().prefetch(buffer_size=AUTOTUNE)\n"
      ]
    },
    {
      "cell_type": "markdown",
      "source": [
        "# Text preprocessing\n",
        "Next, define the dataset preprocessing steps required for your sentiment classification model. Initialize a TextVectorization layer with the desired parameters to vectorize movie reviews. "
      ],
      "metadata": {
        "id": "WnVZRo27eo2m"
      }
    },
    {
      "cell_type": "code",
      "source": [
        "# Create a custom standardization function to strip HTML break tags '<br />'.\n",
        "def custom_standardization(input_data):\n",
        "  lowercase = tf.strings.lower(input_data)\n",
        "  stripped_html = tf.strings.regex_replace(lowercase, '<br />', ' ')\n",
        "  return tf.strings.regex_replace(stripped_html,\n",
        "                                  '[%s]' % re.escape(string.punctuation), '')\n",
        "\n",
        "\n",
        "# Vocabulary size and number of words in a sequence.\n",
        "vocab_size = 100000\n",
        "sequence_length = 1000\n",
        "\n",
        "# Use the text vectorization layer to normalize, split, and map strings to\n",
        "# integers. Note that the layer uses the custom standardization defined above.\n",
        "# Set maximum_sequence length as all samples are not of the same length.\n",
        "vectorize_layer = TextVectorization(\n",
        "    standardize=custom_standardization,\n",
        "    max_tokens=vocab_size,\n",
        "    output_mode='int',\n",
        "    output_sequence_length=sequence_length)\n",
        "\n",
        "# Make a text-only dataset (no labels) and call adapt to build the vocabulary.\n",
        "text_ds = train_ds.map(lambda x, y: x)\n",
        "vectorize_layer.adapt(text_ds)"
      ],
      "metadata": {
        "id": "_5RrIMMCeme_"
      },
      "execution_count": 20,
      "outputs": []
    },
    {
      "cell_type": "markdown",
      "metadata": {
        "id": "K5YEL2H2Ax3e"
      },
      "source": [
        "# Define the model\n",
        "\n",
        "When you build a model for hypertuning, you also define the hyperparameter search space in addition to the model architecture. The model you set up for hypertuning is called a *hypermodel*.\n",
        "\n",
        "You can define a hypermodel through two approaches:\n",
        "\n",
        "* By using a model builder function\n",
        "* By subclassing the `HyperModel` class of the Keras Tuner API\n",
        "\n",
        "You can also use two pre-defined [HyperModel](https://keras.io/api/keras_tuner/hypermodels/) classes - [HyperXception](https://keras.io/api/keras_tuner/hypermodels/hyper_xception/) and [HyperResNet](https://keras.io/api/keras_tuner/hypermodels/hyper_resnet/) for computer vision applications.\n",
        "\n",
        "In this tutorial, you use a model builder function to define the image classification model. The model builder function returns a compiled model and uses hyperparameters you define inline to hypertune the model."
      ]
    },
    {
      "cell_type": "code",
      "execution_count": 21,
      "metadata": {
        "id": "ZQKodC-jtsva"
      },
      "outputs": [],
      "source": [
        "min_embedding_dim=16\n",
        "max_embedding_dim=1024\n",
        "\n",
        "min_vocab_size = 10000\n",
        "max_vocab_size = 1000000\n",
        "\n",
        "def model_builder(hp):\n",
        "  model = keras.Sequential()\n",
        "  model.add(vectorize_layer)\n",
        "  hp_units_embed = hp.Int('units_emb_1', min_value=min_embedding_dim, max_value=max_embedding_dim, step=32)\n",
        "  model.add(Embedding(100000, output_dim= hp_units_embed, name=\"embedding\"))\n",
        "  model.add(GlobalAveragePooling1D())\n",
        " \n",
        "  # # Tune the number of layers. Best to do it manually for now\n",
        "  # for i in range(hp.Int(\"num_layers\", 1, 3)):\n",
        "  #     model.add(\n",
        "  #         layers.Dense(\n",
        "  #             # Tune number of units separately.\n",
        "  #             units=hp.Int(f\"units_{i}\", min_value=382, max_value=512, step=32),\n",
        "  #             activation=hp.Choice(\"activation\", [\"relu\", \"tanh\"]),\n",
        "  #         )\n",
        "  #     )\n",
        "\n",
        "\n",
        "  # Tune the number of units in the first Dense layer + the activation function\n",
        "  # Choose an optimal value between 32-512\n",
        "  hp_units_1 = hp.Int('units_dense_1', min_value=200, max_value=1024, step=20)\n",
        "  hp_units_2 = hp.Int('units_dense_2', min_value=58, max_value=512, step=15)\n",
        "  hp_units_3 = hp.Int('units_dense_3', min_value=32, max_value=250, step=15)\n",
        "  hp_units_4 = hp.Int('units_dense_4', min_value=12, max_value=100, step=15)\n",
        "  hp_drop_1 = hp.Choice('units_drop_1', values=[0.01, 0.05, 0.1,0.15, 0.2, 0.25, 0.3])\n",
        "  hp_drop_2 = hp.Choice('units_drop_2', values=[0.01, 0.05, 0.1,0.15, 0.2, 0.25, 0.3])\n",
        "\n",
        "\n",
        "  model.add(keras.layers.Dense(units=hp_units_1, activation= hp.Choice(\"activation_1\", [\"relu\", \"tanh\"])))\n",
        "  model.add(Dense(units=hp_units_2, activation=hp.Choice(\"activation_2\", [\"relu\", \"tanh\"])))\n",
        "  model.add(tf.keras.layers.Dropout(hp_drop_1)) \n",
        "  model.add(Dense(units=hp_units_3, activation=hp.Choice(\"activation_3\", [\"relu\", \"tanh\"])))\n",
        "  model.add(tf.keras.layers.Dropout(hp_drop_2))\n",
        "  model.add(Dense(units=hp_units_4, activation=hp.Choice(\"activation_4\", [\"relu\", \"tanh\"])))\n",
        "  model.add(Dense(len(class_names)))\n",
        "\n",
        "  # Tune the learning rate for the optimizer\n",
        "  # Choose an optimal value from 0.01, 0.005,  0.0011, 0.001,0.0009, 0.0005, 0.0001\n",
        "  hp_learning_rate = hp.Choice('learning_rate', values=[1e-2, 5e-3, 1.1e-3, 9e-4, 5e-4, 1e-4])\n",
        "\n",
        "  model.compile(optimizer=keras.optimizers.Adam(learning_rate=hp_learning_rate),\n",
        "                loss=keras.losses.SparseCategoricalCrossentropy(from_logits=True),\n",
        "                metrics=['accuracy'])\n",
        "\n",
        "  return model"
      ]
    },
    {
      "cell_type": "markdown",
      "metadata": {
        "id": "0J1VYw4q3x0b"
      },
      "source": [
        "## Instantiate the tuner and perform hypertuning\n",
        "\n",
        "Instantiate the tuner to perform the hypertuning. The Keras Tuner has four tuners available - `RandomSearch`, `Hyperband`, `BayesianOptimization`, and `Sklearn`. In this tutorial, you use the [Hyperband](https://arxiv.org/pdf/1603.06560.pdf) tuner.\n",
        "\n",
        "To instantiate the Hyperband tuner, you must specify the hypermodel, the `objective` to optimize and the maximum number of epochs to train (`max_epochs`)."
      ]
    },
    {
      "cell_type": "code",
      "execution_count": 22,
      "metadata": {
        "id": "oichQFly6Y46"
      },
      "outputs": [],
      "source": [
        "tuner = kt.Hyperband(model_builder,\n",
        "                     objective='val_accuracy',\n",
        "                     max_epochs=15,\n",
        "                     factor=3,\n",
        "                     directory='my_dir',\n",
        "                     project_name='intro_to_kt')"
      ]
    },
    {
      "cell_type": "markdown",
      "metadata": {
        "id": "VaIhhdKf9VtI"
      },
      "source": [
        "The Hyperband tuning algorithm uses adaptive resource allocation and early-stopping to quickly converge on a high-performing model. This is done using a sports championship style bracket. The algorithm trains a large number of models for a few epochs and carries forward only the top-performing half of models to the next round. Hyperband determines the number of models to train in a bracket by computing 1 + log<sub>`factor`</sub>(`max_epochs`) and rounding it up to the nearest integer."
      ]
    },
    {
      "cell_type": "markdown",
      "metadata": {
        "id": "cwhBdXx0Ekj8"
      },
      "source": [
        "Create a callback to stop training early after reaching a certain value for the validation loss."
      ]
    },
    {
      "cell_type": "code",
      "execution_count": 23,
      "metadata": {
        "id": "WT9IkS9NEjLc"
      },
      "outputs": [],
      "source": [
        "stop_early = tf.keras.callbacks.EarlyStopping(monitor='val_loss', patience=5)\n",
        "stop_early_val_accuracy = tf.keras.callbacks.EarlyStopping(monitor='val_accuracy', patience=5)"
      ]
    },
    {
      "cell_type": "markdown",
      "metadata": {
        "id": "UKghEo15Tduy"
      },
      "source": [
        "Run the hyperparameter search. The arguments for the search method are the same as those used for `tf.keras.model.fit` in addition to the callback above."
      ]
    },
    {
      "cell_type": "code",
      "execution_count": 24,
      "metadata": {
        "id": "dSBQcTHF9cKt",
        "colab": {
          "base_uri": "https://localhost:8080/"
        },
        "outputId": "a23b5697-8bcb-4132-a08d-5bbf6ffaa75d"
      },
      "outputs": [
        {
          "output_type": "stream",
          "name": "stdout",
          "text": [
            "Best Hyper parameters for the model are: {'units_emb_1': 848, 'units_dense_1': 440, 'units_dense_2': 223, 'units_dense_3': 122, 'units_dense_4': 72, 'units_drop_1': 0.1, 'units_drop_2': 0.15, 'activation_1': 'relu', 'activation_2': 'tanh', 'activation_3': 'tanh', 'activation_4': 'relu', 'learning_rate': 0.0009, 'tuner/epochs': 15, 'tuner/initial_epoch': 0, 'tuner/bracket': 0, 'tuner/round': 0}\n",
            "The hyperparameter search is complete. The optimal number of units in the first densely-connected layer is 440 and the optimal learning rate for the optimizer is 0.0009.\n"
          ]
        }
      ],
      "source": [
        "tuner.search(train_ds, epochs=50, validation_data=val_ds, callbacks=[stop_early])\n",
        "\n",
        "# Get the optimal hyperparameters\n",
        "best_hps=tuner.get_best_hyperparameters(num_trials=1)[0]\n",
        "print(f\"Best Hyper parameters for the model are: {best_hps.values}\")\n",
        "print(f\"\"\"The hyperparameter search is complete. The optimal number of units in the first densely-connected layer is {best_hps.get('units_dense_1')} and the optimal learning rate for the optimizer is {best_hps.get('learning_rate')}.\"\"\")"
      ]
    },
    {
      "cell_type": "markdown",
      "metadata": {
        "id": "Lak_ylf88xBv"
      },
      "source": [
        "## Train the model\n",
        "\n",
        "Find the optimal number of epochs to train the model with the hyperparameters obtained from the search."
      ]
    },
    {
      "cell_type": "code",
      "execution_count": 25,
      "metadata": {
        "id": "McO82AXOuxXh",
        "colab": {
          "base_uri": "https://localhost:8080/"
        },
        "outputId": "5272fd1a-86f2-4e88-b8a9-84a43db60da3"
      },
      "outputs": [
        {
          "output_type": "stream",
          "name": "stdout",
          "text": [
            "Epoch 1/50\n",
            "17/17 [==============================] - 2s 65ms/step - loss: 2.4425 - accuracy: 0.2020 - val_loss: 2.4592 - val_accuracy: 0.1429\n",
            "Epoch 2/50\n",
            "17/17 [==============================] - 1s 51ms/step - loss: 2.2846 - accuracy: 0.2463 - val_loss: 2.4541 - val_accuracy: 0.1429\n",
            "Epoch 3/50\n",
            "17/17 [==============================] - 1s 53ms/step - loss: 2.1125 - accuracy: 0.2463 - val_loss: 2.3446 - val_accuracy: 0.1429\n",
            "Epoch 4/50\n",
            "17/17 [==============================] - 1s 56ms/step - loss: 1.7968 - accuracy: 0.3350 - val_loss: 2.3081 - val_accuracy: 0.1714\n",
            "Epoch 5/50\n",
            "17/17 [==============================] - 1s 57ms/step - loss: 1.4680 - accuracy: 0.5123 - val_loss: 2.3766 - val_accuracy: 0.1429\n",
            "Epoch 6/50\n",
            "17/17 [==============================] - 1s 57ms/step - loss: 1.0882 - accuracy: 0.6305 - val_loss: 2.0178 - val_accuracy: 0.2857\n",
            "Epoch 7/50\n",
            "17/17 [==============================] - 1s 55ms/step - loss: 0.7306 - accuracy: 0.7685 - val_loss: 2.0942 - val_accuracy: 0.3429\n",
            "Epoch 8/50\n",
            "17/17 [==============================] - 1s 57ms/step - loss: 0.7026 - accuracy: 0.7685 - val_loss: 2.4914 - val_accuracy: 0.3714\n",
            "Epoch 9/50\n",
            "17/17 [==============================] - 1s 57ms/step - loss: 0.6708 - accuracy: 0.7833 - val_loss: 2.4913 - val_accuracy: 0.3143\n",
            "Epoch 10/50\n",
            "17/17 [==============================] - 1s 57ms/step - loss: 0.4273 - accuracy: 0.8867 - val_loss: 3.9804 - val_accuracy: 0.2571\n",
            "Epoch 11/50\n",
            "17/17 [==============================] - 1s 58ms/step - loss: 0.6026 - accuracy: 0.7635 - val_loss: 3.3288 - val_accuracy: 0.3143\n",
            "Epoch 12/50\n",
            "17/17 [==============================] - 1s 57ms/step - loss: 0.4748 - accuracy: 0.7833 - val_loss: 2.1699 - val_accuracy: 0.4286\n",
            "Epoch 13/50\n",
            "17/17 [==============================] - 1s 50ms/step - loss: 0.3708 - accuracy: 0.8473 - val_loss: 2.3584 - val_accuracy: 0.4571\n",
            "Epoch 14/50\n",
            "17/17 [==============================] - 1s 51ms/step - loss: 0.2055 - accuracy: 0.9261 - val_loss: 2.1391 - val_accuracy: 0.4857\n",
            "Epoch 15/50\n",
            "17/17 [==============================] - 1s 51ms/step - loss: 0.0812 - accuracy: 0.9901 - val_loss: 2.0892 - val_accuracy: 0.4857\n",
            "Epoch 16/50\n",
            "17/17 [==============================] - 1s 50ms/step - loss: 0.0468 - accuracy: 0.9951 - val_loss: 2.0895 - val_accuracy: 0.5143\n",
            "Epoch 17/50\n",
            "17/17 [==============================] - 1s 51ms/step - loss: 0.0332 - accuracy: 0.9951 - val_loss: 2.1059 - val_accuracy: 0.5143\n",
            "Epoch 18/50\n",
            "17/17 [==============================] - 1s 50ms/step - loss: 0.0289 - accuracy: 0.9901 - val_loss: 2.1013 - val_accuracy: 0.4857\n",
            "Epoch 19/50\n",
            "17/17 [==============================] - 1s 50ms/step - loss: 0.0227 - accuracy: 0.9951 - val_loss: 2.1964 - val_accuracy: 0.4857\n",
            "Epoch 20/50\n",
            "17/17 [==============================] - 1s 51ms/step - loss: 0.0204 - accuracy: 0.9951 - val_loss: 2.2046 - val_accuracy: 0.5143\n",
            "Epoch 21/50\n",
            "17/17 [==============================] - 1s 50ms/step - loss: 0.0164 - accuracy: 0.9951 - val_loss: 2.2232 - val_accuracy: 0.4857\n",
            "Epoch 22/50\n",
            "17/17 [==============================] - 1s 50ms/step - loss: 0.0194 - accuracy: 0.9901 - val_loss: 2.2141 - val_accuracy: 0.4857\n",
            "Epoch 23/50\n",
            "17/17 [==============================] - 1s 51ms/step - loss: 0.0197 - accuracy: 0.9901 - val_loss: 2.2152 - val_accuracy: 0.4857\n",
            "Epoch 24/50\n",
            "17/17 [==============================] - 1s 51ms/step - loss: 0.0122 - accuracy: 1.0000 - val_loss: 2.2850 - val_accuracy: 0.5143\n",
            "Epoch 25/50\n",
            "17/17 [==============================] - 1s 50ms/step - loss: 0.0146 - accuracy: 0.9901 - val_loss: 2.2982 - val_accuracy: 0.5143\n",
            "Epoch 26/50\n",
            "17/17 [==============================] - 1s 51ms/step - loss: 0.0145 - accuracy: 0.9951 - val_loss: 2.2766 - val_accuracy: 0.4857\n",
            "Epoch 27/50\n",
            "17/17 [==============================] - 1s 51ms/step - loss: 0.0178 - accuracy: 0.9901 - val_loss: 2.2833 - val_accuracy: 0.4857\n",
            "Epoch 28/50\n",
            "17/17 [==============================] - 1s 51ms/step - loss: 0.0072 - accuracy: 1.0000 - val_loss: 2.3617 - val_accuracy: 0.5143\n",
            "Epoch 29/50\n",
            "17/17 [==============================] - 1s 52ms/step - loss: 0.0113 - accuracy: 0.9951 - val_loss: 2.4453 - val_accuracy: 0.5429\n",
            "Epoch 30/50\n",
            "17/17 [==============================] - 1s 51ms/step - loss: 0.0097 - accuracy: 1.0000 - val_loss: 2.3958 - val_accuracy: 0.4857\n",
            "Epoch 31/50\n",
            "17/17 [==============================] - 1s 51ms/step - loss: 0.0145 - accuracy: 0.9901 - val_loss: 2.3280 - val_accuracy: 0.4857\n",
            "Epoch 32/50\n",
            "17/17 [==============================] - 1s 51ms/step - loss: 0.0063 - accuracy: 1.0000 - val_loss: 2.4175 - val_accuracy: 0.5429\n",
            "Epoch 33/50\n",
            "17/17 [==============================] - 1s 51ms/step - loss: 0.0057 - accuracy: 1.0000 - val_loss: 2.4811 - val_accuracy: 0.5714\n",
            "Epoch 34/50\n",
            "17/17 [==============================] - 1s 51ms/step - loss: 0.0044 - accuracy: 1.0000 - val_loss: 2.4904 - val_accuracy: 0.5714\n",
            "Epoch 35/50\n",
            "17/17 [==============================] - 1s 50ms/step - loss: 0.0036 - accuracy: 1.0000 - val_loss: 2.4854 - val_accuracy: 0.5714\n",
            "Epoch 36/50\n",
            "17/17 [==============================] - 1s 51ms/step - loss: 0.0040 - accuracy: 1.0000 - val_loss: 2.4782 - val_accuracy: 0.5143\n",
            "Epoch 37/50\n",
            "17/17 [==============================] - 1s 51ms/step - loss: 0.0035 - accuracy: 1.0000 - val_loss: 2.4713 - val_accuracy: 0.5429\n",
            "Epoch 38/50\n",
            "17/17 [==============================] - 1s 50ms/step - loss: 0.0038 - accuracy: 1.0000 - val_loss: 2.4936 - val_accuracy: 0.5429\n",
            "Epoch 39/50\n",
            "17/17 [==============================] - 1s 51ms/step - loss: 0.0028 - accuracy: 1.0000 - val_loss: 2.5109 - val_accuracy: 0.5429\n",
            "Epoch 40/50\n",
            "17/17 [==============================] - 1s 51ms/step - loss: 0.0023 - accuracy: 1.0000 - val_loss: 2.5285 - val_accuracy: 0.5429\n",
            "Epoch 41/50\n",
            "17/17 [==============================] - 1s 51ms/step - loss: 0.0025 - accuracy: 1.0000 - val_loss: 2.5509 - val_accuracy: 0.5429\n",
            "Epoch 42/50\n",
            "17/17 [==============================] - 1s 51ms/step - loss: 0.0026 - accuracy: 1.0000 - val_loss: 2.5729 - val_accuracy: 0.5429\n",
            "Epoch 43/50\n",
            "17/17 [==============================] - 1s 51ms/step - loss: 0.0020 - accuracy: 1.0000 - val_loss: 2.5985 - val_accuracy: 0.5429\n",
            "Epoch 44/50\n",
            "17/17 [==============================] - 1s 51ms/step - loss: 0.0020 - accuracy: 1.0000 - val_loss: 2.6235 - val_accuracy: 0.5429\n",
            "Epoch 45/50\n",
            "17/17 [==============================] - 1s 51ms/step - loss: 0.0022 - accuracy: 1.0000 - val_loss: 2.6120 - val_accuracy: 0.5429\n",
            "Epoch 46/50\n",
            "17/17 [==============================] - 1s 50ms/step - loss: 0.0018 - accuracy: 1.0000 - val_loss: 2.6269 - val_accuracy: 0.5429\n",
            "Epoch 47/50\n",
            "17/17 [==============================] - 1s 50ms/step - loss: 0.0023 - accuracy: 1.0000 - val_loss: 2.6239 - val_accuracy: 0.5143\n",
            "Epoch 48/50\n",
            "17/17 [==============================] - 1s 51ms/step - loss: 0.0021 - accuracy: 1.0000 - val_loss: 2.6298 - val_accuracy: 0.4857\n",
            "Epoch 49/50\n",
            "17/17 [==============================] - 1s 55ms/step - loss: 0.0017 - accuracy: 1.0000 - val_loss: 2.6510 - val_accuracy: 0.5143\n",
            "Epoch 50/50\n",
            "17/17 [==============================] - 1s 54ms/step - loss: 0.0014 - accuracy: 1.0000 - val_loss: 2.6624 - val_accuracy: 0.5429\n",
            "Best epoch: 33\n"
          ]
        }
      ],
      "source": [
        "# Build the model with the optimal hyperparameters and train it on the data for 50 epochs\n",
        "model = tuner.hypermodel.build(best_hps)\n",
        "history = model.fit(train_ds, epochs=50, validation_data=val_ds)\n",
        "\n",
        "val_acc_per_epoch = history.history['val_accuracy']\n",
        "best_epoch = val_acc_per_epoch.index(max(val_acc_per_epoch)) + 1\n",
        "print('Best epoch: %d' % (best_epoch,))"
      ]
    },
    {
      "cell_type": "markdown",
      "metadata": {
        "id": "uOTSirSTI3Gp"
      },
      "source": [
        "Re-instantiate the hypermodel and train it with the optimal number of epochs from above."
      ]
    },
    {
      "cell_type": "code",
      "execution_count": 26,
      "metadata": {
        "id": "NoiPUEHmMhCe",
        "colab": {
          "base_uri": "https://localhost:8080/"
        },
        "outputId": "e31efed1-edf0-4a20-93a0-d3c3540d9233"
      },
      "outputs": [
        {
          "output_type": "stream",
          "name": "stdout",
          "text": [
            "Epoch 1/33\n",
            "17/17 [==============================] - 2s 61ms/step - loss: 2.4367 - accuracy: 0.2020 - val_loss: 2.4220 - val_accuracy: 0.1429\n",
            "Epoch 2/33\n",
            "17/17 [==============================] - 1s 51ms/step - loss: 2.2946 - accuracy: 0.2463 - val_loss: 2.4023 - val_accuracy: 0.1714\n",
            "Epoch 3/33\n",
            "17/17 [==============================] - 1s 52ms/step - loss: 2.0868 - accuracy: 0.2463 - val_loss: 2.3191 - val_accuracy: 0.2000\n",
            "Epoch 4/33\n",
            "17/17 [==============================] - 1s 52ms/step - loss: 1.7532 - accuracy: 0.3744 - val_loss: 2.1850 - val_accuracy: 0.2571\n",
            "Epoch 5/33\n",
            "17/17 [==============================] - 1s 52ms/step - loss: 1.4205 - accuracy: 0.4877 - val_loss: 2.1593 - val_accuracy: 0.2571\n",
            "Epoch 6/33\n",
            "17/17 [==============================] - 1s 51ms/step - loss: 1.1372 - accuracy: 0.5764 - val_loss: 2.1560 - val_accuracy: 0.2857\n",
            "Epoch 7/33\n",
            "17/17 [==============================] - 1s 51ms/step - loss: 0.8435 - accuracy: 0.6995 - val_loss: 2.1076 - val_accuracy: 0.3714\n",
            "Epoch 8/33\n",
            "17/17 [==============================] - 1s 51ms/step - loss: 0.6245 - accuracy: 0.8030 - val_loss: 1.8719 - val_accuracy: 0.3714\n",
            "Epoch 9/33\n",
            "17/17 [==============================] - 1s 52ms/step - loss: 0.4226 - accuracy: 0.8621 - val_loss: 2.1222 - val_accuracy: 0.3714\n",
            "Epoch 10/33\n",
            "17/17 [==============================] - 1s 51ms/step - loss: 0.2530 - accuracy: 0.9360 - val_loss: 1.9418 - val_accuracy: 0.4286\n",
            "Epoch 11/33\n",
            "17/17 [==============================] - 1s 51ms/step - loss: 0.1698 - accuracy: 0.9507 - val_loss: 2.3335 - val_accuracy: 0.4571\n",
            "Epoch 12/33\n",
            "17/17 [==============================] - 1s 52ms/step - loss: 0.1305 - accuracy: 0.9655 - val_loss: 2.6095 - val_accuracy: 0.4286\n",
            "Epoch 13/33\n",
            "17/17 [==============================] - 1s 53ms/step - loss: 0.2224 - accuracy: 0.9360 - val_loss: 2.4760 - val_accuracy: 0.4000\n",
            "Epoch 14/33\n",
            "17/17 [==============================] - 1s 51ms/step - loss: 0.1372 - accuracy: 0.9557 - val_loss: 1.9716 - val_accuracy: 0.5429\n",
            "Epoch 15/33\n",
            "17/17 [==============================] - 1s 51ms/step - loss: 0.0941 - accuracy: 0.9803 - val_loss: 2.1078 - val_accuracy: 0.4571\n",
            "Epoch 16/33\n",
            "17/17 [==============================] - 1s 53ms/step - loss: 0.0445 - accuracy: 0.9951 - val_loss: 2.0869 - val_accuracy: 0.4857\n",
            "Epoch 17/33\n",
            "17/17 [==============================] - 1s 51ms/step - loss: 0.0350 - accuracy: 0.9901 - val_loss: 1.9462 - val_accuracy: 0.5143\n",
            "Epoch 18/33\n",
            "17/17 [==============================] - 1s 51ms/step - loss: 0.0175 - accuracy: 0.9951 - val_loss: 1.9684 - val_accuracy: 0.5429\n",
            "Epoch 19/33\n",
            "17/17 [==============================] - 1s 51ms/step - loss: 0.0200 - accuracy: 0.9901 - val_loss: 1.8322 - val_accuracy: 0.5143\n",
            "Epoch 20/33\n",
            "17/17 [==============================] - 1s 52ms/step - loss: 0.0227 - accuracy: 0.9951 - val_loss: 1.9624 - val_accuracy: 0.4857\n",
            "Epoch 21/33\n",
            "17/17 [==============================] - 1s 51ms/step - loss: 0.0183 - accuracy: 0.9951 - val_loss: 1.7452 - val_accuracy: 0.5429\n",
            "Epoch 22/33\n",
            "17/17 [==============================] - 1s 52ms/step - loss: 0.0269 - accuracy: 0.9951 - val_loss: 1.8448 - val_accuracy: 0.4857\n",
            "Epoch 23/33\n",
            "17/17 [==============================] - 1s 51ms/step - loss: 0.0140 - accuracy: 0.9951 - val_loss: 1.8950 - val_accuracy: 0.4857\n",
            "Epoch 24/33\n",
            "17/17 [==============================] - 1s 51ms/step - loss: 0.0171 - accuracy: 0.9901 - val_loss: 1.8678 - val_accuracy: 0.5143\n",
            "Epoch 25/33\n",
            "17/17 [==============================] - 1s 51ms/step - loss: 0.0105 - accuracy: 0.9951 - val_loss: 1.9488 - val_accuracy: 0.5143\n",
            "Epoch 26/33\n",
            "17/17 [==============================] - 1s 51ms/step - loss: 0.0111 - accuracy: 0.9951 - val_loss: 1.9433 - val_accuracy: 0.5143\n",
            "Epoch 27/33\n",
            "17/17 [==============================] - 1s 52ms/step - loss: 0.0110 - accuracy: 0.9951 - val_loss: 1.9991 - val_accuracy: 0.5143\n",
            "Epoch 28/33\n",
            "17/17 [==============================] - 1s 50ms/step - loss: 0.0105 - accuracy: 0.9951 - val_loss: 1.9259 - val_accuracy: 0.5143\n",
            "Epoch 29/33\n",
            "17/17 [==============================] - 1s 51ms/step - loss: 0.0108 - accuracy: 0.9951 - val_loss: 1.9390 - val_accuracy: 0.5143\n",
            "Epoch 30/33\n",
            "17/17 [==============================] - 1s 52ms/step - loss: 0.0087 - accuracy: 0.9951 - val_loss: 1.9177 - val_accuracy: 0.4857\n",
            "Epoch 31/33\n",
            "17/17 [==============================] - 1s 51ms/step - loss: 0.0153 - accuracy: 0.9901 - val_loss: 1.9861 - val_accuracy: 0.5143\n",
            "Epoch 32/33\n",
            "17/17 [==============================] - 1s 52ms/step - loss: 0.0034 - accuracy: 1.0000 - val_loss: 1.9531 - val_accuracy: 0.5143\n",
            "Epoch 33/33\n",
            "17/17 [==============================] - 1s 51ms/step - loss: 0.0197 - accuracy: 0.9901 - val_loss: 2.0209 - val_accuracy: 0.5143\n"
          ]
        }
      ],
      "source": [
        "hypermodel = tuner.hypermodel.build(best_hps)\n",
        "\n",
        "# Retrain the model\n",
        "history = hypermodel.fit(train_ds, epochs=best_epoch, validation_data=val_ds)"
      ]
    },
    {
      "cell_type": "markdown",
      "source": [
        "## Plot Model Accuracy and Loss\n",
        "\n",
        "\n"
      ],
      "metadata": {
        "id": "bUW8Nyc8yY-Z"
      }
    },
    {
      "cell_type": "code",
      "source": [
        "import matplotlib.pyplot as plt\n",
        "\n",
        "history_dict = history.history\n",
        "print(history_dict.keys())\n",
        "print(history_dict)\n",
        "\n",
        "acc = history_dict['accuracy']\n",
        "val_acc = history_dict['val_accuracy']\n",
        "loss = history_dict['loss']\n",
        "val_loss = history_dict['val_loss']\n",
        "\n",
        "epochs = range(1, len(acc) + 1)\n",
        "fig = plt.figure(figsize=(10, 6))\n",
        "fig.tight_layout()\n",
        "\n",
        "plt.subplot(2, 1, 1)\n",
        "# r is for \"solid red line\"\n",
        "plt.plot(epochs, loss, 'r', label='Training loss')\n",
        "# b is for \"solid blue line\"\n",
        "plt.plot(epochs, val_loss, 'b', label='Validation loss')\n",
        "plt.title('Training and validation loss')\n",
        "# plt.xlabel('Epochs')\n",
        "plt.ylabel('Loss')\n",
        "plt.legend()\n",
        "\n",
        "plt.subplot(2, 1, 2)\n",
        "plt.plot(epochs, acc, 'r', label='Training acc')\n",
        "plt.plot(epochs, val_acc, 'b', label='Validation acc')\n",
        "plt.title('Training and validation accuracy')\n",
        "plt.xlabel('Epochs')\n",
        "plt.ylabel('Accuracy')\n",
        "plt.legend(loc='lower right')"
      ],
      "metadata": {
        "colab": {
          "base_uri": "https://localhost:8080/",
          "height": 477
        },
        "id": "SVFs2hz_yWrE",
        "outputId": "01de5d9e-15e9-4b22-972a-aeec78ea15e8"
      },
      "execution_count": 27,
      "outputs": [
        {
          "output_type": "stream",
          "name": "stdout",
          "text": [
            "dict_keys(['loss', 'accuracy', 'val_loss', 'val_accuracy'])\n",
            "{'loss': [2.4367334842681885, 2.2946465015411377, 2.0868124961853027, 1.7532169818878174, 1.420462965965271, 1.1371691226959229, 0.8434509038925171, 0.6245474219322205, 0.42255541682243347, 0.2530214786529541, 0.16976551711559296, 0.13051459193229675, 0.2224455624818802, 0.13723386824131012, 0.09413956850767136, 0.04447036609053612, 0.03497203439474106, 0.01748112216591835, 0.019978675991296768, 0.02273428812623024, 0.018331892788410187, 0.026861991733312607, 0.014038399793207645, 0.017149731516838074, 0.010469889268279076, 0.011057241819798946, 0.010965872555971146, 0.010529299266636372, 0.010753250680863857, 0.008722612634301186, 0.015285272151231766, 0.00338088721036911, 0.019650625064969063], 'accuracy': [0.2019704431295395, 0.2463054209947586, 0.2463054209947586, 0.37438422441482544, 0.4876847267150879, 0.5763546824455261, 0.6995074152946472, 0.802955687046051, 0.8620689511299133, 0.935960590839386, 0.9507389068603516, 0.9655172228813171, 0.935960590839386, 0.9556650519371033, 0.9802955389022827, 0.9950739145278931, 0.9901477694511414, 0.9950739145278931, 0.9901477694511414, 0.9950739145278931, 0.9950739145278931, 0.9950739145278931, 0.9950739145278931, 0.9901477694511414, 0.9950739145278931, 0.9950739145278931, 0.9950739145278931, 0.9950739145278931, 0.9950739145278931, 0.9950739145278931, 0.9901477694511414, 1.0, 0.9901477694511414], 'val_loss': [2.422011375427246, 2.402336835861206, 2.319141387939453, 2.1850249767303467, 2.1593286991119385, 2.1560497283935547, 2.107557535171509, 1.8719347715377808, 2.12223744392395, 1.941831350326538, 2.3334708213806152, 2.609522581100464, 2.4759936332702637, 1.9715855121612549, 2.107828140258789, 2.08693528175354, 1.9461804628372192, 1.9683558940887451, 1.832239031791687, 1.9624468088150024, 1.7451750040054321, 1.844817042350769, 1.894980788230896, 1.8678162097930908, 1.948812484741211, 1.9432928562164307, 1.9990692138671875, 1.9258835315704346, 1.9389748573303223, 1.9176748991012573, 1.9860732555389404, 1.9531049728393555, 2.0209267139434814], 'val_accuracy': [0.1428571492433548, 0.17142857611179352, 0.20000000298023224, 0.2571428716182709, 0.2571428716182709, 0.2857142984867096, 0.37142857909202576, 0.37142857909202576, 0.37142857909202576, 0.4285714328289032, 0.4571428596973419, 0.4285714328289032, 0.4000000059604645, 0.5428571701049805, 0.4571428596973419, 0.48571428656578064, 0.5142857432365417, 0.5428571701049805, 0.5142857432365417, 0.48571428656578064, 0.5428571701049805, 0.48571428656578064, 0.48571428656578064, 0.5142857432365417, 0.5142857432365417, 0.5142857432365417, 0.5142857432365417, 0.5142857432365417, 0.5142857432365417, 0.48571428656578064, 0.5142857432365417, 0.5142857432365417, 0.5142857432365417]}\n"
          ]
        },
        {
          "output_type": "execute_result",
          "data": {
            "text/plain": [
              "<matplotlib.legend.Legend at 0x7f06ee41b950>"
            ]
          },
          "metadata": {},
          "execution_count": 27
        },
        {
          "output_type": "display_data",
          "data": {
            "text/plain": [
              "<Figure size 720x432 with 2 Axes>"
            ],
            "image/png": "[encoded data removed]"
          },
          "metadata": {
            "needs_background": "light"
          }
        }
      ]
    },
    {
      "cell_type": "markdown",
      "source": [
        "# Model Metrics"
      ],
      "metadata": {
        "id": "IQFkUEWLtLm6"
      }
    },
    {
      "cell_type": "code",
      "source": [
        "# Model Metrics\n",
        "from sklearn.datasets import make_circles\n",
        "from sklearn.metrics import accuracy_score\n",
        "from sklearn.metrics import precision_score\n",
        "from sklearn.metrics import recall_score\n",
        "from sklearn.metrics import f1_score\n",
        "from sklearn.metrics import cohen_kappa_score\n",
        "from sklearn.metrics import roc_auc_score\n",
        "from sklearn.metrics import confusion_matrix\n",
        "import numpy as np\n",
        "\n",
        "y_labels = val_ds.map(lambda x,y: y)\n",
        "print(y_labels.unbatch)\n",
        "\n",
        "y_labels = y_labels.as_numpy_iterator()\n",
        "\n",
        "## Reduce to 1D Array\n",
        "y_labels = np.concatenate([y for x, y in val_ds], axis=0)\n",
        "\n",
        "y_hat_probs = hypermodel.predict(val_ds)\n",
        "\n",
        "y_hat_classes = y_hat_probs.argmax(axis=-1)\n",
        "\n",
        "\n",
        "## accuracy: (tp + tn) / (p + n)\n",
        "accuracy = accuracy_score(y_labels, y_hat_classes)\n",
        "print('Accuracy: %f' % accuracy)\n",
        "\n",
        "## precision tp / (tp + fp)\n",
        "precision = precision_score(y_labels, y_hat_classes, average=None)\n",
        "print('Precision (None): %f' % precision.sum())\n",
        "precision = precision_score(y_labels, y_hat_classes, average='micro')\n",
        "print('Precision (micro): %f' % precision)\n",
        "precision = precision_score(y_labels, y_hat_classes, average= 'macro')\n",
        "print('Precision (macro): %f' % precision)\n",
        "# precision = precision_score(y_labels, y_hat_classes, average= 'samples')\n",
        "# print('Precision (samples): %f' % precision)\n",
        "precision = precision_score(y_labels, y_hat_classes, average= 'weighted')\n",
        "print('Precision (weighted): %f' % precision)\n",
        "\n",
        "## recall: tp / (tp + fn)\n",
        "recall = recall_score(y_labels, y_hat_classes, average='micro')\n",
        "print('Recall (micro): %f' % recall)\n",
        "recall = recall_score(y_labels, y_hat_classes, average='macro')\n",
        "print('Recall (macro): %f' % recall)\n",
        "# recall = recall_score(y_labels, y_hat_classes, average='samples')\n",
        "# print('Recall (samples): %f' % recall)\n",
        "recall = recall_score(y_labels, y_hat_classes, average='weighted')\n",
        "print('Recall (weighted): %f' % recall)\n",
        "\n",
        "## f1: 2 tp / (2 tp + fp + fn)\n",
        "f1 = f1_score(y_labels, y_hat_classes, average='micro')\n",
        "print('F1 score (micro): %f' % f1)\n",
        "f1 = f1_score(y_labels, y_hat_classes, average='macro')\n",
        "print('F1 score (macro): %f' % f1)\n",
        "f1 = f1_score(y_labels, y_hat_classes, average='weighted')\n",
        "print('F1 score (weighted): %f' % f1)\n",
        " \n",
        "## kappa\n",
        "kappa = cohen_kappa_score(y_labels, y_hat_classes)\n",
        "print('Cohens kappa: %f' % kappa)\n",
        "\n",
        "## ROC AUC\n",
        "# print(np.sum(y_hat_probs))\n",
        "# y_hat_probs = y_hat_probs / np.sum(y_hat_probs)\n",
        "# print(np.sum(y_hat_probs))\n",
        "# auc = roc_auc_score(y_labels, y_hat_probs, multi_class='ovo')\n",
        "# print('ROC AUC: %f' % auc)\n",
        "\n",
        "## confusion matrix\n",
        "matrix = confusion_matrix(y_labels, y_hat_classes)\n",
        "print(matrix)"
      ],
      "metadata": {
        "id": "GDZ3ySZQsasX",
        "outputId": "4b3976a6-bbaa-4306-9366-9ef27570576a",
        "colab": {
          "base_uri": "https://localhost:8080/"
        }
      },
      "execution_count": 28,
      "outputs": [
        {
          "output_type": "stream",
          "name": "stdout",
          "text": [
            "<bound method DatasetV2.unbatch of <MapDataset element_spec=TensorSpec(shape=(None,), dtype=tf.int32, name=None)>>\n",
            "Accuracy: 0.514286\n",
            "Precision (None): 7.205556\n",
            "Precision (micro): 0.514286\n",
            "Precision (macro): 0.600463\n",
            "Precision (weighted): 0.590952\n",
            "Recall (micro): 0.514286\n",
            "Recall (macro): 0.522222\n",
            "Recall (weighted): 0.514286\n",
            "F1 score (micro): 0.514286\n",
            "F1 score (macro): 0.504714\n",
            "F1 score (weighted): 0.506811\n",
            "Cohens kappa: 0.454128\n",
            "[[1 0 0 0 0 0 1 0 0 0 0 0]\n",
            " [0 3 1 0 0 0 0 0 1 0 0 0]\n",
            " [0 1 0 0 0 0 0 0 0 1 0 0]\n",
            " [0 0 0 2 0 0 0 2 0 0 0 0]\n",
            " [0 0 0 0 1 0 1 0 0 1 0 0]\n",
            " [1 0 0 0 0 1 0 0 0 0 0 0]\n",
            " [0 0 0 0 0 0 5 0 0 1 0 0]\n",
            " [0 0 0 0 0 0 0 1 0 0 0 0]\n",
            " [0 1 0 0 0 0 2 0 0 0 0 0]\n",
            " [0 1 0 0 0 0 0 1 0 2 0 0]\n",
            " [0 0 0 0 0 0 0 0 0 0 1 0]\n",
            " [0 0 1 0 0 0 0 0 0 0 0 1]]\n"
          ]
        }
      ]
    },
    {
      "cell_type": "markdown",
      "metadata": {
        "id": "EQRpPHZsz-eC"
      },
      "source": [
        "The `my_dir/intro_to_kt` directory contains detailed logs and checkpoints for every trial (model configuration) run during the hyperparameter search. If you re-run the hyperparameter search, the Keras Tuner uses the existing state from these logs to resume the search. To disable this behavior, pass an additional `overwrite=True` argument while instantiating the tuner."
      ]
    },
    {
      "cell_type": "markdown",
      "metadata": {
        "id": "sKwLOzKpFGAj"
      },
      "source": [
        "## Summary\n",
        "\n",
        "In this tutorial, you learned how to use the Keras Tuner to tune hyperparameters for a model. To learn more about the Keras Tuner, check out these additional resources:\n",
        "\n",
        "* [Keras Tuner on the TensorFlow blog](https://blog.tensorflow.org/2020/01/hyperparameter-tuning-with-keras-tuner.html)\n",
        "* [Keras Tuner website](https://keras-team.github.io/keras-tuner/)\n",
        "\n",
        "Also check out the [HParams Dashboard](https://www.tensorflow.org/tensorboard/hyperparameter_tuning_with_hparams) in TensorBoard to interactively tune your model hyperparameters."
      ]
    }
  ],
  "metadata": {
    "accelerator": "GPU",
    "colab": {
      "collapsed_sections": [
        "Tce3stUlHN0L"
      ],
      "name": "keras_tuner.ipynb",
      "toc_visible": true,
      "provenance": [],
      "machine_shape": "hm"
    },
    "kernelspec": {
      "display_name": "Python 3",
      "name": "python3"
    },
    "gpuClass": "standard"
  },
  "nbformat": 4,
  "nbformat_minor": 0
}
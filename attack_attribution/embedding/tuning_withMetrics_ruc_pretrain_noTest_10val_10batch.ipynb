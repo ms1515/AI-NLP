{
  "cells": [
    {
      "cell_type": "markdown",
      "metadata": {
        "id": "qFdPvlXBOdUN"
      },
      "source": [
        "# Introduction to the Keras Tuner"
      ]
    },
    {
      "cell_type": "markdown",
      "metadata": {
        "id": "MfBg1C5NB3X0"
      },
      "source": [
        "<table class=\"tfo-notebook-buttons\" align=\"left\">\n",
        "  <td>\n",
        "    <a target=\"_blank\" href=\"https://www.tensorflow.org/tutorials/keras/keras_tuner\"><img src=\"https://www.tensorflow.org/images/tf_logo_32px.png\" />View on TensorFlow.org</a>\n",
        "  </td>\n",
        "  <td>\n",
        "    <a target=\"_blank\" href=\"https://colab.research.google.com/github/tensorflow/docs/blob/master/site/en/tutorials/keras/keras_tuner.ipynb\"><img src=\"https://www.tensorflow.org/images/colab_logo_32px.png\" />Run in Google Colab</a>\n",
        "  </td>\n",
        "  <td>\n",
        "    <a target=\"_blank\" href=\"https://github.com/tensorflow/docs/blob/master/site/en/tutorials/keras/keras_tuner.ipynb\"><img src=\"https://www.tensorflow.org/images/GitHub-Mark-32px.png\" />View source on GitHub</a>\n",
        "  </td>\n",
        "  <td>\n",
        "    <a href=\"https://storage.googleapis.com/tensorflow_docs/docs/site/en/tutorials/keras/keras_tuner.ipynb\"><img src=\"https://www.tensorflow.org/images/download_logo_32px.png\" />Download notebook</a>\n",
        "  </td>\n",
        "</table>"
      ]
    },
    {
      "cell_type": "markdown",
      "metadata": {
        "id": "xHxb-dlhMIzW"
      },
      "source": [
        "## Overview\n",
        "\n",
        "The Keras Tuner is a library that helps you pick the optimal set of hyperparameters for your TensorFlow program. The process of selecting the right set of hyperparameters for your machine learning (ML) application is called *hyperparameter tuning* or *hypertuning*.\n",
        "\n",
        "Hyperparameters are the variables that govern the training process and the topology of an ML model. These variables remain constant over the training process and directly impact the performance of your ML program. Hyperparameters are of two types:\n",
        "1. **Model hyperparameters** which influence model selection such as the number and width of hidden layers\n",
        "2. **Algorithm hyperparameters** which influence the speed and quality of the learning algorithm such as the learning rate for Stochastic Gradient Descent (SGD) and the number of nearest neighbors for a k Nearest Neighbors (KNN) classifier\n",
        "\n",
        "In this tutorial, you will use the Keras Tuner to perform hypertuning for an image classification application."
      ]
    },
    {
      "cell_type": "markdown",
      "metadata": {
        "id": "MUXex9ctTuDB"
      },
      "source": [
        "## Setup"
      ]
    },
    {
      "cell_type": "code",
      "execution_count": 1,
      "metadata": {
        "id": "IqR2PQG4ZaZ0"
      },
      "outputs": [],
      "source": [
        "import io\n",
        "import re\n",
        "import string\n",
        "import tensorflow as tf\n",
        "from tensorflow import keras\n",
        "from tensorflow.keras import Sequential\n",
        "from tensorflow.keras.layers import Dense, Embedding, GlobalAveragePooling1D\n",
        "from tensorflow.keras.layers import TextVectorization\n"
      ]
    },
    {
      "cell_type": "markdown",
      "metadata": {
        "id": "g83Lwsy-Aq2_"
      },
      "source": [
        "Install and import the Keras Tuner."
      ]
    },
    {
      "cell_type": "code",
      "execution_count": 2,
      "metadata": {
        "id": "hpMLpbt9jcO6",
        "outputId": "79bcbc79-f95a-4b8e-e095-8984961790be",
        "colab": {
          "base_uri": "https://localhost:8080/"
        }
      },
      "outputs": [
        {
          "output_type": "stream",
          "name": "stdout",
          "text": [
            "\u001b[K     |████████████████████████████████| 135 kB 5.1 MB/s \n",
            "\u001b[K     |████████████████████████████████| 1.6 MB 42.5 MB/s \n",
            "\u001b[?25h"
          ]
        }
      ],
      "source": [
        "!pip install -q -U keras-tuner"
      ]
    },
    {
      "cell_type": "code",
      "execution_count": 3,
      "metadata": {
        "id": "_leAIdFKAxAD"
      },
      "outputs": [],
      "source": [
        "import keras_tuner as kt"
      ]
    },
    {
      "cell_type": "markdown",
      "metadata": {
        "id": "ReV_UXOgCZvx"
      },
      "source": [
        "## Download and prepare the dataset\n",
        "\n",
        "In this tutorial, you will use the Keras Tuner to find the best hyperparameters for a machine learning model that classifies images of clothing from the [Fashion MNIST dataset](https://github.com/zalandoresearch/fashion-mnist)."
      ]
    },
    {
      "cell_type": "markdown",
      "metadata": {
        "id": "HljH_ENLEdHa"
      },
      "source": [
        "Load the data."
      ]
    },
    {
      "cell_type": "code",
      "execution_count": 4,
      "metadata": {
        "id": "OHlHs9Wj_PUM",
        "outputId": "38f565b5-b9ad-4a15-f501-da6d71d74036",
        "colab": {
          "base_uri": "https://localhost:8080/"
        }
      },
      "outputs": [
        {
          "output_type": "stream",
          "name": "stdout",
          "text": [
            "Downloading data from https://github.com/eyalmazuz/ThreatIntelligenceCorpus/archive/refs/heads/master.zip\n",
            "41172992/Unknown - 4s 0us/stepDownloading data from https://github.com/eyalmazuz/AttackAttributionDataset/archive/refs/heads/master.zip\n",
            "1212416/Unknown - 0s 0us/step"
          ]
        }
      ],
      "source": [
        "# Pretraining\n",
        "url = 'https://github.com/eyalmazuz/ThreatIntelligenceCorpus/archive/refs/heads/master.zip' \n",
        "dataset_pretrain = tf.keras.utils.get_file('master.zip', url, extract=True, cache_dir='.', cache_subdir='')\n",
        "\n",
        "# Training Dataset\n",
        "url = 'https://github.com/eyalmazuz/AttackAttributionDataset/archive/refs/heads/master.zip' \n",
        "dataset = tf.keras.utils.get_file('master(1).zip', url,extract=True, cache_dir='.',cache_subdir='')"
      ]
    },
    {
      "cell_type": "code",
      "execution_count": 5,
      "metadata": {
        "id": "bLVhXs3xrUD0",
        "colab": {
          "base_uri": "https://localhost:8080/"
        },
        "outputId": "6e2f16df-04a5-496b-c251-7846af7d9832"
      },
      "outputs": [
        {
          "output_type": "stream",
          "name": "stdout",
          "text": [
            "Found 20560 files belonging to 1 classes.\n",
            "Found 238 files belonging to 12 classes.\n",
            "Using 215 files for training.\n",
            "Found 238 files belonging to 12 classes.\n",
            "Using 23 files for validation.\n"
          ]
        }
      ],
      "source": [
        "# Normalize pixel values between 0 and 1\n",
        "AUTOTUNE = tf.data.AUTOTUNE\n",
        "batch_size = 10\n",
        "seed = 42\n",
        "\n",
        "pretrain_ds = tf.keras.utils.text_dataset_from_directory(\n",
        "    'ThreatIntelligenceCorpus-master')\n",
        "\n",
        "train_ds = tf.keras.utils.text_dataset_from_directory(\n",
        "    'AttackAttributionDataset-master',\n",
        "    batch_size=batch_size,\n",
        "    validation_split=0.1,\n",
        "    subset='training',\n",
        "    seed=seed)\n",
        "\n",
        "class_names = train_ds.class_names\n",
        "train_ds = train_ds.cache().prefetch(buffer_size=AUTOTUNE)\n",
        "\n",
        "val_ds = tf.keras.utils.text_dataset_from_directory(\n",
        "    'AttackAttributionDataset-master',\n",
        "    batch_size=batch_size,\n",
        "    validation_split=0.1,\n",
        "    subset='validation',\n",
        "    seed=seed)\n",
        "\n",
        "# val_ds = remaining_ds.take(int(len(remaining_ds)*0.5))\n",
        "\n",
        "val_ds = val_ds.cache().prefetch(buffer_size=AUTOTUNE)\n",
        "\n",
        "# test_ds = remaining_ds.skip(len(val_ds))\n",
        "\n",
        "# test_ds = test_ds.cache().prefetch(buffer_size=AUTOTUNE)\n"
      ]
    },
    {
      "cell_type": "markdown",
      "source": [
        "# Text preprocessing\n",
        "Next, define the dataset preprocessing steps required for your sentiment classification model. Initialize a TextVectorization layer with the desired parameters to vectorize movie reviews. "
      ],
      "metadata": {
        "id": "WnVZRo27eo2m"
      }
    },
    {
      "cell_type": "code",
      "source": [
        "# Create a custom standardization function to strip HTML break tags '<br />'.\n",
        "def custom_standardization(input_data):\n",
        "  lowercase = tf.strings.lower(input_data)\n",
        "  stripped_html = tf.strings.regex_replace(lowercase, '<br />', ' ')\n",
        "  return tf.strings.regex_replace(stripped_html,\n",
        "                                  '[%s]' % re.escape(string.punctuation), '')\n",
        "\n",
        "\n",
        "# Vocabulary size and number of words in a sequence.\n",
        "vocab_size = 100000\n",
        "sequence_length = 1000\n",
        "\n",
        "# Use the text vectorization layer to normalize, split, and map strings to\n",
        "# integers. Note that the layer uses the custom standardization defined above.\n",
        "# Set maximum_sequence length as all samples are not of the same length.\n",
        "vectorize_layer = TextVectorization(\n",
        "    standardize=custom_standardization,\n",
        "    max_tokens=vocab_size,\n",
        "    output_mode='int',\n",
        "    output_sequence_length=sequence_length)\n",
        "\n",
        "# Make a text-only dataset (no labels) and call adapt to build the vocabulary.\n",
        "text_ds = pretrain_ds.map(lambda x, y: x)\n",
        "vectorize_layer.adapt(text_ds)"
      ],
      "metadata": {
        "id": "_5RrIMMCeme_"
      },
      "execution_count": 6,
      "outputs": []
    },
    {
      "cell_type": "markdown",
      "metadata": {
        "id": "K5YEL2H2Ax3e"
      },
      "source": [
        "## Define the model\n",
        "\n",
        "When you build a model for hypertuning, you also define the hyperparameter search space in addition to the model architecture. The model you set up for hypertuning is called a *hypermodel*.\n",
        "\n",
        "You can define a hypermodel through two approaches:\n",
        "\n",
        "* By using a model builder function\n",
        "* By subclassing the `HyperModel` class of the Keras Tuner API\n",
        "\n",
        "You can also use two pre-defined [HyperModel](https://keras.io/api/keras_tuner/hypermodels/) classes - [HyperXception](https://keras.io/api/keras_tuner/hypermodels/hyper_xception/) and [HyperResNet](https://keras.io/api/keras_tuner/hypermodels/hyper_resnet/) for computer vision applications.\n",
        "\n",
        "In this tutorial, you use a model builder function to define the image classification model. The model builder function returns a compiled model and uses hyperparameters you define inline to hypertune the model."
      ]
    },
    {
      "cell_type": "code",
      "execution_count": 7,
      "metadata": {
        "id": "ZQKodC-jtsva"
      },
      "outputs": [],
      "source": [
        "min_embedding_dim=16\n",
        "max_embedding_dim=1024\n",
        "\n",
        "\n",
        "def model_builder(hp):\n",
        "  model = keras.Sequential()\n",
        "  model.add(vectorize_layer)\n",
        "  hp_units_embed = hp.Int('units_emb_1', min_value=min_embedding_dim, max_value=max_embedding_dim, step=32)\n",
        "  model.add(Embedding(vocab_size,output_dim= hp_units_embed, name=\"embedding\"))\n",
        "  model.add(GlobalAveragePooling1D())\n",
        " \n",
        "  # # Tune the number of layers. Best to do it manually for now\n",
        "  # for i in range(hp.Int(\"num_layers\", 1, 3)):\n",
        "  #     model.add(\n",
        "  #         layers.Dense(\n",
        "  #             # Tune number of units separately.\n",
        "  #             units=hp.Int(f\"units_{i}\", min_value=382, max_value=512, step=32),\n",
        "  #             activation=hp.Choice(\"activation\", [\"relu\", \"tanh\"]),\n",
        "  #         )\n",
        "  #     )\n",
        "\n",
        "\n",
        "  # Tune the number of units in the first Dense layer + the activation function\n",
        "  # Choose an optimal value between 32-512\n",
        "  hp_units_1 = hp.Int('units_dense_1', min_value=200, max_value=1024, step=20)\n",
        "  hp_units_2 = hp.Int('units_dense_2', min_value=58, max_value=512, step=20)\n",
        "  hp_units_3 = hp.Int('units_dense_3', min_value=32, max_value=192, step=20)\n",
        "  hp_units_4 = hp.Int('units_dense_4', min_value=14, max_value=100, step=20)\n",
        "  \n",
        "  hp_drop_1 = hp.Choice('units_drop_1', values=[0.01, 0.05, 0.1,0.15, 0.2, 0.25, 0.3])\n",
        "  hp_drop_2 = hp.Choice('units_drop_2', values=[0.01, 0.05, 0.1,0.15, 0.2, 0.25, 0.3])\n",
        "\n",
        "\n",
        "  model.add(keras.layers.Dense(units=hp_units_1, activation= hp.Choice(\"activation_1\", [\"relu\", \"tanh\"])))\n",
        "  model.add(Dense(units=hp_units_2, activation=hp.Choice(\"activation_2\", [\"relu\", \"tanh\"])))\n",
        "  model.add(tf.keras.layers.Dropout(hp_drop_1)) \n",
        "  model.add(Dense(units=hp_units_3, activation=hp.Choice(\"activation_3\", [\"relu\", \"tanh\"])))\n",
        "  model.add(tf.keras.layers.Dropout(hp_drop_2))\n",
        "  model.add(Dense(units=hp_units_4, activation=hp.Choice(\"activation_4\", [\"relu\", \"tanh\"])))\n",
        "  model.add(Dense(len(class_names)))\n",
        "\n",
        "  # Tune the learning rate for the optimizer\n",
        "  # Choose an optimal value from 0.01, 0.005,  0.0011, 0.001,0.0009, 0.0005, 0.0001\n",
        "  hp_learning_rate = hp.Choice('learning_rate', values=[1e-2, 5e-3, 1.1e-3, 9e-4, 5e-4, 1e-4, 5e-5, 3e-5, 1e-5])\n",
        "\n",
        "  model.compile(optimizer=keras.optimizers.Adam(learning_rate=hp_learning_rate),\n",
        "                loss=keras.losses.SparseCategoricalCrossentropy(from_logits=True),\n",
        "                metrics=['accuracy'])\n",
        "\n",
        "  return model"
      ]
    },
    {
      "cell_type": "markdown",
      "metadata": {
        "id": "0J1VYw4q3x0b"
      },
      "source": [
        "## Instantiate the tuner and perform hypertuning\n",
        "\n",
        "Instantiate the tuner to perform the hypertuning. The Keras Tuner has four tuners available - `RandomSearch`, `Hyperband`, `BayesianOptimization`, and `Sklearn`. In this tutorial, you use the [Hyperband](https://arxiv.org/pdf/1603.06560.pdf) tuner.\n",
        "\n",
        "To instantiate the Hyperband tuner, you must specify the hypermodel, the `objective` to optimize and the maximum number of epochs to train (`max_epochs`)."
      ]
    },
    {
      "cell_type": "code",
      "execution_count": 8,
      "metadata": {
        "id": "oichQFly6Y46"
      },
      "outputs": [],
      "source": [
        "tuner = kt.Hyperband(model_builder,\n",
        "                     objective='val_accuracy',\n",
        "                     max_epochs=15,\n",
        "                     factor=3,\n",
        "                     directory='my_dir',\n",
        "                     project_name='intro_to_kt')"
      ]
    },
    {
      "cell_type": "markdown",
      "metadata": {
        "id": "VaIhhdKf9VtI"
      },
      "source": [
        "The Hyperband tuning algorithm uses adaptive resource allocation and early-stopping to quickly converge on a high-performing model. This is done using a sports championship style bracket. The algorithm trains a large number of models for a few epochs and carries forward only the top-performing half of models to the next round. Hyperband determines the number of models to train in a bracket by computing 1 + log<sub>`factor`</sub>(`max_epochs`) and rounding it up to the nearest integer."
      ]
    },
    {
      "cell_type": "markdown",
      "metadata": {
        "id": "cwhBdXx0Ekj8"
      },
      "source": [
        "Create a callback to stop training early after reaching a certain value for the validation loss."
      ]
    },
    {
      "cell_type": "code",
      "execution_count": 9,
      "metadata": {
        "id": "WT9IkS9NEjLc"
      },
      "outputs": [],
      "source": [
        "stop_early = tf.keras.callbacks.EarlyStopping(monitor='val_loss', patience=5)\n",
        "stop_early_val_accuracy = tf.keras.callbacks.EarlyStopping(monitor='val_accuracy', patience=5)"
      ]
    },
    {
      "cell_type": "markdown",
      "metadata": {
        "id": "UKghEo15Tduy"
      },
      "source": [
        "Run the hyperparameter search. The arguments for the search method are the same as those used for `tf.keras.model.fit` in addition to the callback above."
      ]
    },
    {
      "cell_type": "code",
      "execution_count": 10,
      "metadata": {
        "id": "dSBQcTHF9cKt",
        "colab": {
          "base_uri": "https://localhost:8080/"
        },
        "outputId": "9ef79015-6c78-4eb2-b743-73a98a362bc1"
      },
      "outputs": [
        {
          "output_type": "stream",
          "name": "stdout",
          "text": [
            "Trial 30 Complete [00h 00m 04s]\n",
            "val_accuracy: 0.08695652335882187\n",
            "\n",
            "Best val_accuracy So Far: 0.43478259444236755\n",
            "Total elapsed time: 00h 03m 39s\n",
            "Best Hyper parameters for the model are: {'units_emb_1': 336, 'units_dense_1': 320, 'units_dense_2': 118, 'units_dense_3': 112, 'units_dense_4': 94, 'units_drop_1': 0.25, 'units_drop_2': 0.15, 'activation_1': 'tanh', 'activation_2': 'relu', 'activation_3': 'tanh', 'activation_4': 'tanh', 'learning_rate': 0.005, 'tuner/epochs': 15, 'tuner/initial_epoch': 5, 'tuner/bracket': 2, 'tuner/round': 2, 'tuner/trial_id': '0013'}\n",
            "The hyperparameter search is complete. The optimal number of units in the first densely-connected layer is 320 and the optimal learning rate for the optimizer is 0.005.\n"
          ]
        }
      ],
      "source": [
        "tuner.search(train_ds, epochs=50, validation_data=val_ds, callbacks=[stop_early])\n",
        "\n",
        "# Get the optimal hyperparameters\n",
        "best_hps=tuner.get_best_hyperparameters(num_trials=1)[0]\n",
        "print(f\"Best Hyper parameters for the model are: {best_hps.values}\")\n",
        "print(f\"\"\"The hyperparameter search is complete. The optimal number of units in the first densely-connected layer is {best_hps.get('units_dense_1')} and the optimal learning rate for the optimizer is {best_hps.get('learning_rate')}.\"\"\")"
      ]
    },
    {
      "cell_type": "markdown",
      "metadata": {
        "id": "Lak_ylf88xBv"
      },
      "source": [
        "## Train the model\n",
        "\n",
        "Find the optimal number of epochs to train the model with the hyperparameters obtained from the search."
      ]
    },
    {
      "cell_type": "code",
      "execution_count": 11,
      "metadata": {
        "id": "McO82AXOuxXh",
        "colab": {
          "base_uri": "https://localhost:8080/"
        },
        "outputId": "1c16fd8b-e3bb-4422-c8f1-81611d722217"
      },
      "outputs": [
        {
          "output_type": "stream",
          "name": "stdout",
          "text": [
            "Epoch 1/50\n",
            "22/22 [==============================] - 1s 20ms/step - loss: 2.3903 - accuracy: 0.2047 - val_loss: 2.6419 - val_accuracy: 0.0870\n",
            "Epoch 2/50\n",
            "22/22 [==============================] - 0s 14ms/step - loss: 1.9317 - accuracy: 0.3581 - val_loss: 2.4118 - val_accuracy: 0.3043\n",
            "Epoch 3/50\n",
            "22/22 [==============================] - 0s 14ms/step - loss: 1.5101 - accuracy: 0.5395 - val_loss: 2.3067 - val_accuracy: 0.3913\n",
            "Epoch 4/50\n",
            "22/22 [==============================] - 0s 14ms/step - loss: 1.0473 - accuracy: 0.6698 - val_loss: 1.8870 - val_accuracy: 0.3478\n",
            "Epoch 5/50\n",
            "22/22 [==============================] - 0s 14ms/step - loss: 0.9010 - accuracy: 0.7256 - val_loss: 2.7100 - val_accuracy: 0.3478\n",
            "Epoch 6/50\n",
            "22/22 [==============================] - 0s 14ms/step - loss: 0.7146 - accuracy: 0.7628 - val_loss: 2.7062 - val_accuracy: 0.2609\n",
            "Epoch 7/50\n",
            "22/22 [==============================] - 0s 14ms/step - loss: 0.7960 - accuracy: 0.7535 - val_loss: 1.6670 - val_accuracy: 0.5217\n",
            "Epoch 8/50\n",
            "22/22 [==============================] - 0s 14ms/step - loss: 0.6012 - accuracy: 0.7814 - val_loss: 2.3506 - val_accuracy: 0.3913\n",
            "Epoch 9/50\n",
            "22/22 [==============================] - 0s 14ms/step - loss: 0.6910 - accuracy: 0.8140 - val_loss: 1.9124 - val_accuracy: 0.5652\n",
            "Epoch 10/50\n",
            "22/22 [==============================] - 0s 14ms/step - loss: 0.3328 - accuracy: 0.9070 - val_loss: 1.9236 - val_accuracy: 0.5217\n",
            "Epoch 11/50\n",
            "22/22 [==============================] - 0s 14ms/step - loss: 0.2169 - accuracy: 0.9209 - val_loss: 2.1753 - val_accuracy: 0.5217\n",
            "Epoch 12/50\n",
            "22/22 [==============================] - 0s 14ms/step - loss: 0.1131 - accuracy: 0.9581 - val_loss: 2.8747 - val_accuracy: 0.5217\n",
            "Epoch 13/50\n",
            "22/22 [==============================] - 0s 14ms/step - loss: 0.1238 - accuracy: 0.9628 - val_loss: 2.2715 - val_accuracy: 0.6087\n",
            "Epoch 14/50\n",
            "22/22 [==============================] - 0s 14ms/step - loss: 0.1353 - accuracy: 0.9628 - val_loss: 1.8418 - val_accuracy: 0.6087\n",
            "Epoch 15/50\n",
            "22/22 [==============================] - 0s 14ms/step - loss: 0.0652 - accuracy: 0.9767 - val_loss: 2.3922 - val_accuracy: 0.5217\n",
            "Epoch 16/50\n",
            "22/22 [==============================] - 0s 14ms/step - loss: 0.0478 - accuracy: 0.9814 - val_loss: 1.8931 - val_accuracy: 0.6957\n",
            "Epoch 17/50\n",
            "22/22 [==============================] - 0s 14ms/step - loss: 0.0264 - accuracy: 0.9907 - val_loss: 1.7880 - val_accuracy: 0.6957\n",
            "Epoch 18/50\n",
            "22/22 [==============================] - 0s 14ms/step - loss: 0.0384 - accuracy: 0.9814 - val_loss: 1.8173 - val_accuracy: 0.6522\n",
            "Epoch 19/50\n",
            "22/22 [==============================] - 0s 14ms/step - loss: 0.0497 - accuracy: 0.9767 - val_loss: 1.1275 - val_accuracy: 0.7826\n",
            "Epoch 20/50\n",
            "22/22 [==============================] - 0s 14ms/step - loss: 0.0655 - accuracy: 0.9674 - val_loss: 1.5565 - val_accuracy: 0.5652\n",
            "Epoch 21/50\n",
            "22/22 [==============================] - 0s 14ms/step - loss: 0.0288 - accuracy: 0.9860 - val_loss: 1.4860 - val_accuracy: 0.6522\n",
            "Epoch 22/50\n",
            "22/22 [==============================] - 0s 14ms/step - loss: 0.0203 - accuracy: 0.9907 - val_loss: 1.3920 - val_accuracy: 0.6087\n",
            "Epoch 23/50\n",
            "22/22 [==============================] - 0s 14ms/step - loss: 0.0167 - accuracy: 1.0000 - val_loss: 1.2795 - val_accuracy: 0.6087\n",
            "Epoch 24/50\n",
            "22/22 [==============================] - 0s 14ms/step - loss: 0.0375 - accuracy: 0.9814 - val_loss: 0.9118 - val_accuracy: 0.6957\n",
            "Epoch 25/50\n",
            "22/22 [==============================] - 0s 14ms/step - loss: 0.0247 - accuracy: 0.9907 - val_loss: 2.7815 - val_accuracy: 0.4783\n",
            "Epoch 26/50\n",
            "22/22 [==============================] - 0s 14ms/step - loss: 0.0412 - accuracy: 0.9814 - val_loss: 1.8956 - val_accuracy: 0.6957\n",
            "Epoch 27/50\n",
            "22/22 [==============================] - 0s 14ms/step - loss: 0.0382 - accuracy: 0.9814 - val_loss: 1.7018 - val_accuracy: 0.7391\n",
            "Epoch 28/50\n",
            "22/22 [==============================] - 0s 14ms/step - loss: 0.0194 - accuracy: 0.9814 - val_loss: 1.6214 - val_accuracy: 0.7391\n",
            "Epoch 29/50\n",
            "22/22 [==============================] - 0s 14ms/step - loss: 0.0238 - accuracy: 0.9860 - val_loss: 1.3415 - val_accuracy: 0.7826\n",
            "Epoch 30/50\n",
            "22/22 [==============================] - 0s 14ms/step - loss: 0.0196 - accuracy: 0.9953 - val_loss: 1.7860 - val_accuracy: 0.7826\n",
            "Epoch 31/50\n",
            "22/22 [==============================] - 0s 14ms/step - loss: 0.0224 - accuracy: 0.9814 - val_loss: 1.2456 - val_accuracy: 0.8261\n",
            "Epoch 32/50\n",
            "22/22 [==============================] - 0s 14ms/step - loss: 0.0273 - accuracy: 0.9767 - val_loss: 1.8541 - val_accuracy: 0.7391\n",
            "Epoch 33/50\n",
            "22/22 [==============================] - 0s 14ms/step - loss: 0.1453 - accuracy: 0.9581 - val_loss: 2.3956 - val_accuracy: 0.6087\n",
            "Epoch 34/50\n",
            "22/22 [==============================] - 0s 14ms/step - loss: 0.3086 - accuracy: 0.8884 - val_loss: 3.9675 - val_accuracy: 0.4348\n",
            "Epoch 35/50\n",
            "22/22 [==============================] - 0s 14ms/step - loss: 0.3556 - accuracy: 0.8791 - val_loss: 3.8819 - val_accuracy: 0.3043\n",
            "Epoch 36/50\n",
            "22/22 [==============================] - 0s 14ms/step - loss: 0.3534 - accuracy: 0.8698 - val_loss: 2.8701 - val_accuracy: 0.6522\n",
            "Epoch 37/50\n",
            "22/22 [==============================] - 0s 14ms/step - loss: 0.2362 - accuracy: 0.9163 - val_loss: 3.7115 - val_accuracy: 0.5217\n",
            "Epoch 38/50\n",
            "22/22 [==============================] - 0s 14ms/step - loss: 0.1625 - accuracy: 0.9535 - val_loss: 3.0496 - val_accuracy: 0.5217\n",
            "Epoch 39/50\n",
            "22/22 [==============================] - 0s 14ms/step - loss: 0.0665 - accuracy: 0.9814 - val_loss: 2.7744 - val_accuracy: 0.5217\n",
            "Epoch 40/50\n",
            "22/22 [==============================] - 0s 14ms/step - loss: 0.0802 - accuracy: 0.9767 - val_loss: 3.8227 - val_accuracy: 0.5217\n",
            "Epoch 41/50\n",
            "22/22 [==============================] - 0s 14ms/step - loss: 0.0915 - accuracy: 0.9767 - val_loss: 2.6785 - val_accuracy: 0.6522\n",
            "Epoch 42/50\n",
            "22/22 [==============================] - 0s 14ms/step - loss: 0.1084 - accuracy: 0.9674 - val_loss: 2.3087 - val_accuracy: 0.6087\n",
            "Epoch 43/50\n",
            "22/22 [==============================] - 0s 14ms/step - loss: 0.1412 - accuracy: 0.9488 - val_loss: 2.7348 - val_accuracy: 0.4783\n",
            "Epoch 44/50\n",
            "22/22 [==============================] - 0s 14ms/step - loss: 0.2181 - accuracy: 0.9488 - val_loss: 2.5336 - val_accuracy: 0.5652\n",
            "Epoch 45/50\n",
            "22/22 [==============================] - 0s 14ms/step - loss: 0.2207 - accuracy: 0.9349 - val_loss: 2.8796 - val_accuracy: 0.4348\n",
            "Epoch 46/50\n",
            "22/22 [==============================] - 0s 14ms/step - loss: 0.1973 - accuracy: 0.9535 - val_loss: 2.0052 - val_accuracy: 0.5652\n",
            "Epoch 47/50\n",
            "22/22 [==============================] - 0s 14ms/step - loss: 0.1006 - accuracy: 0.9767 - val_loss: 3.5125 - val_accuracy: 0.5217\n",
            "Epoch 48/50\n",
            "22/22 [==============================] - 0s 14ms/step - loss: 0.0910 - accuracy: 0.9674 - val_loss: 2.4099 - val_accuracy: 0.5652\n",
            "Epoch 49/50\n",
            "22/22 [==============================] - 0s 14ms/step - loss: 0.1241 - accuracy: 0.9535 - val_loss: 2.6617 - val_accuracy: 0.5217\n",
            "Epoch 50/50\n",
            "22/22 [==============================] - 0s 14ms/step - loss: 0.1280 - accuracy: 0.9581 - val_loss: 2.7437 - val_accuracy: 0.4348\n",
            "Best epoch: 31\n"
          ]
        }
      ],
      "source": [
        "# Build the model with the optimal hyperparameters and train it on the data for 50 epochs\n",
        "model = tuner.hypermodel.build(best_hps)\n",
        "history = model.fit(train_ds, epochs=50, validation_data=val_ds)\n",
        "\n",
        "val_acc_per_epoch = history.history['val_accuracy']\n",
        "best_epoch = val_acc_per_epoch.index(max(val_acc_per_epoch)) + 1\n",
        "print('Best epoch: %d' % (best_epoch,))"
      ]
    },
    {
      "cell_type": "markdown",
      "metadata": {
        "id": "uOTSirSTI3Gp"
      },
      "source": [
        "Re-instantiate the hypermodel and train it with the optimal number of epochs from above."
      ]
    },
    {
      "cell_type": "code",
      "execution_count": 19,
      "metadata": {
        "id": "NoiPUEHmMhCe",
        "colab": {
          "base_uri": "https://localhost:8080/"
        },
        "outputId": "ec4fa51b-6c1b-4521-e658-251ec409ebed"
      },
      "outputs": [
        {
          "output_type": "stream",
          "name": "stdout",
          "text": [
            "Epoch 1/30\n",
            "22/22 [==============================] - 1s 20ms/step - loss: 2.3905 - accuracy: 0.2047 - val_loss: 2.6760 - val_accuracy: 0.0870\n",
            "Epoch 2/30\n",
            "22/22 [==============================] - 0s 14ms/step - loss: 1.9299 - accuracy: 0.3395 - val_loss: 2.8192 - val_accuracy: 0.2174\n",
            "Epoch 3/30\n",
            "22/22 [==============================] - 0s 14ms/step - loss: 1.6348 - accuracy: 0.4651 - val_loss: 2.9011 - val_accuracy: 0.0870\n",
            "Epoch 4/30\n",
            "22/22 [==============================] - 0s 14ms/step - loss: 1.4414 - accuracy: 0.5209 - val_loss: 2.7407 - val_accuracy: 0.2174\n",
            "Epoch 5/30\n",
            "22/22 [==============================] - 0s 14ms/step - loss: 1.0468 - accuracy: 0.6419 - val_loss: 2.8095 - val_accuracy: 0.1739\n",
            "Epoch 6/30\n",
            "22/22 [==============================] - 0s 13ms/step - loss: 0.8542 - accuracy: 0.7302 - val_loss: 2.3452 - val_accuracy: 0.3913\n",
            "Epoch 7/30\n",
            "22/22 [==============================] - 0s 14ms/step - loss: 0.6723 - accuracy: 0.8047 - val_loss: 3.2721 - val_accuracy: 0.2174\n",
            "Epoch 8/30\n",
            "22/22 [==============================] - 0s 14ms/step - loss: 0.6271 - accuracy: 0.8140 - val_loss: 2.2279 - val_accuracy: 0.4348\n",
            "Epoch 9/30\n",
            "22/22 [==============================] - 0s 14ms/step - loss: 0.5577 - accuracy: 0.7814 - val_loss: 2.2736 - val_accuracy: 0.4783\n",
            "Epoch 10/30\n",
            "22/22 [==============================] - 0s 14ms/step - loss: 0.3211 - accuracy: 0.8930 - val_loss: 1.8814 - val_accuracy: 0.6522\n",
            "Epoch 11/30\n",
            "22/22 [==============================] - 0s 14ms/step - loss: 0.2708 - accuracy: 0.9070 - val_loss: 1.6682 - val_accuracy: 0.5652\n",
            "Epoch 12/30\n",
            "22/22 [==============================] - 0s 14ms/step - loss: 0.1919 - accuracy: 0.9256 - val_loss: 1.5783 - val_accuracy: 0.5652\n",
            "Epoch 13/30\n",
            "22/22 [==============================] - 0s 14ms/step - loss: 0.1916 - accuracy: 0.9349 - val_loss: 1.7448 - val_accuracy: 0.6087\n",
            "Epoch 14/30\n",
            "22/22 [==============================] - 0s 14ms/step - loss: 0.1501 - accuracy: 0.9581 - val_loss: 2.1317 - val_accuracy: 0.6522\n",
            "Epoch 15/30\n",
            "22/22 [==============================] - 0s 14ms/step - loss: 0.2017 - accuracy: 0.9395 - val_loss: 3.9019 - val_accuracy: 0.3043\n",
            "Epoch 16/30\n",
            "22/22 [==============================] - 0s 13ms/step - loss: 0.1275 - accuracy: 0.9581 - val_loss: 1.7216 - val_accuracy: 0.7826\n",
            "Epoch 17/30\n",
            "22/22 [==============================] - 0s 14ms/step - loss: 0.0998 - accuracy: 0.9674 - val_loss: 2.6915 - val_accuracy: 0.3913\n",
            "Epoch 18/30\n",
            "22/22 [==============================] - 0s 14ms/step - loss: 0.0744 - accuracy: 0.9674 - val_loss: 1.5975 - val_accuracy: 0.6087\n",
            "Epoch 19/30\n",
            "22/22 [==============================] - 0s 14ms/step - loss: 0.0918 - accuracy: 0.9721 - val_loss: 2.8911 - val_accuracy: 0.4783\n",
            "Epoch 20/30\n",
            "22/22 [==============================] - 0s 14ms/step - loss: 0.1252 - accuracy: 0.9442 - val_loss: 4.2970 - val_accuracy: 0.3478\n",
            "Epoch 21/30\n",
            "22/22 [==============================] - 0s 14ms/step - loss: 0.1548 - accuracy: 0.9628 - val_loss: 2.5432 - val_accuracy: 0.6522\n",
            "Epoch 22/30\n",
            "22/22 [==============================] - 0s 14ms/step - loss: 0.1318 - accuracy: 0.9628 - val_loss: 2.1162 - val_accuracy: 0.6957\n",
            "Epoch 23/30\n",
            "22/22 [==============================] - 0s 14ms/step - loss: 0.1592 - accuracy: 0.9395 - val_loss: 2.1593 - val_accuracy: 0.6087\n",
            "Epoch 24/30\n",
            "22/22 [==============================] - 0s 14ms/step - loss: 0.1355 - accuracy: 0.9581 - val_loss: 2.8324 - val_accuracy: 0.6087\n",
            "Epoch 25/30\n",
            "22/22 [==============================] - 0s 14ms/step - loss: 0.1134 - accuracy: 0.9628 - val_loss: 2.8022 - val_accuracy: 0.4348\n",
            "Epoch 26/30\n",
            "22/22 [==============================] - 0s 14ms/step - loss: 0.0600 - accuracy: 0.9674 - val_loss: 2.0256 - val_accuracy: 0.6087\n",
            "Epoch 27/30\n",
            "22/22 [==============================] - 0s 14ms/step - loss: 0.0511 - accuracy: 0.9767 - val_loss: 1.5341 - val_accuracy: 0.6522\n",
            "Epoch 28/30\n",
            "22/22 [==============================] - 0s 13ms/step - loss: 0.0635 - accuracy: 0.9721 - val_loss: 1.6638 - val_accuracy: 0.7826\n",
            "Epoch 29/30\n",
            "22/22 [==============================] - 0s 14ms/step - loss: 0.0460 - accuracy: 0.9907 - val_loss: 1.6561 - val_accuracy: 0.7826\n",
            "Epoch 30/30\n",
            "22/22 [==============================] - 0s 13ms/step - loss: 0.0355 - accuracy: 0.9814 - val_loss: 1.7468 - val_accuracy: 0.7826\n"
          ]
        },
        {
          "output_type": "execute_result",
          "data": {
            "text/plain": [
              "<keras.callbacks.History at 0x7f9fa78dc650>"
            ]
          },
          "metadata": {},
          "execution_count": 19
        }
      ],
      "source": [
        "hypermodel = tuner.hypermodel.build(best_hps)\n",
        "\n",
        "# Retrain the model\n",
        "hypermodel.fit(train_ds, epochs=30, validation_data=val_ds)"
      ]
    },
    {
      "cell_type": "markdown",
      "source": [
        "## Model Evaluation and Metrics"
      ],
      "metadata": {
        "id": "IQFkUEWLtLm6"
      }
    },
    {
      "cell_type": "code",
      "source": [
        "# Model Evaluation\n",
        "\n",
        "# eval_result = hypermodel.evaluate(test_ds)\n",
        "# print(\"[test loss, test accuracy]:\", eval_result)\n",
        "\n",
        "# Model Metrics\n",
        "from sklearn.datasets import make_circles\n",
        "from sklearn.metrics import accuracy_score\n",
        "from sklearn.metrics import precision_score\n",
        "from sklearn.metrics import recall_score\n",
        "from sklearn.metrics import f1_score\n",
        "from sklearn.metrics import cohen_kappa_score\n",
        "from sklearn.metrics import roc_auc_score\n",
        "from sklearn.metrics import confusion_matrix\n",
        "from sklearn.metrics import classification_report\n",
        "import numpy as np\n",
        "\n",
        "# y_labels = val_ds.map(lambda x,y: y)\n",
        "# y_labels = y_labels.as_numpy_iterator()\n",
        "\n",
        "### Test_ds metrics\n",
        "# print(\"Test dataset metrics:\")\n",
        "# Reduce to 1D Array\n",
        "# y_labels = np.concatenate([y for x, y in test_ds], axis=0)\n",
        "\n",
        "# y_hat_probs = hypermodel.predict(test_ds)\n",
        "\n",
        "# y_hat_classes = y_hat_probs.argmax(axis=-1)\n",
        "\n",
        "\n",
        "## accuracy: (tp + tn) / (p + n)\n",
        "# accuracy = accuracy_score(y_labels, y_hat_classes)\n",
        "# print('Accuracy: %f' % accuracy)\n",
        "\n",
        "## precision tp / (tp + fp)\n",
        "# precision = precision_score(y_labels, y_hat_classes, average=None)\n",
        "# print('Precision (None): %f' % precision.sum())\n",
        "# precision = precision_score(y_labels, y_hat_classes, average='micro')\n",
        "# print('Precision (micro): %f' % precision)\n",
        "# precision = precision_score(y_labels, y_hat_classes, average= 'macro')\n",
        "# print('Precision (macro): %f' % precision)\n",
        "# precision = precision_score(y_labels, y_hat_classes, average= 'weighted')\n",
        "# print('Precision (weighted): %f' % precision)\n",
        "\n",
        "## recall: tp / (tp + fn)\n",
        "# recall = recall_score(y_labels, y_hat_classes, average='micro')\n",
        "# print('Recall (micro): %f' % recall)\n",
        "# recall = recall_score(y_labels, y_hat_classes, average='macro')\n",
        "# print('Recall (macro): %f' % recall)\n",
        "# recall = recall_score(y_labels, y_hat_classes, average='samples')\n",
        "# print('Recall (samples): %f' % recall)\n",
        "# recall = recall_score(y_labels, y_hat_classes, average='weighted')\n",
        "# print('Recall (weighted): %f' % recall)\n",
        "\n",
        "## f1: 2 tp / (2 tp + fp + fn)\n",
        "# f1 = f1_score(y_labels, y_hat_classes, average='micro')\n",
        "# print('F1 score (micro): %f' % f1)\n",
        "# f1 = f1_score(y_labels, y_hat_classes, average='macro')\n",
        "# print('F1 score (macro): %f' % f1)\n",
        "# f1 = f1_score(y_labels, y_hat_classes, average='weighted')\n",
        "# print('F1 score (weighted): %f' % f1)\n",
        " \n",
        "## kappa\n",
        "# kappa = cohen_kappa_score(y_labels, y_hat_classes)\n",
        "# print('Cohens kappa: %f' % kappa)\n",
        "\n",
        "## ROC AUC\n",
        "# print(np.sum(y_hat_probs))\n",
        "# y_hat_probs = y_hat_probs / np.sum(y_hat_probs)\n",
        "# print(np.sum(y_hat_probs))\n",
        "# auc = roc_auc_score(y_labels, y_hat_probs, multi_class='ovo')\n",
        "# print('ROC AUC: %f' % auc)\n",
        "\n",
        "## confusion matrix\n",
        "# matrix = confusion_matrix(y_labels, y_hat_classes)\n",
        "# print(matrix)\n",
        "# print(\"\\n\\n\")\n",
        "\n",
        "### Val_ds metrics \n",
        "print(\"Validation dataset metrics:\")\n",
        "\n",
        "# Reduce to 1D Array\n",
        "y_labels = np.concatenate([y for x, y in val_ds], axis=0)\n",
        "\n",
        "y_hat_probs = hypermodel.predict(val_ds)\n",
        "\n",
        "y_hat_classes = y_hat_probs.argmax(axis=-1)\n",
        "\n",
        "Pred_Label = np.argmax(y_hat_probs, axis=1)\n",
        "val_acc = accuracy_score(y_labels, y_hat_classes)\n",
        "ConfusionM = confusion_matrix(list(y_labels), y_hat_classes, labels=[0, 1, 2, 3, 4, 5, 6, 7, 8, 9, 10, 11])\n",
        "class_report = classification_report(list(y_labels), y_hat_classes, labels=[0, 1, 2, 3, 4, 5, 6, 7, 8, 9, 10, 11])\n",
        "print(f'confusion matrix: \\n', ConfusionM)\n",
        "print(f'classification_report: \\n',class_report)\n",
        "\n",
        "\n",
        "## accuracy: (tp + tn) / (p + n)\n",
        "accuracy = accuracy_score(y_labels, y_hat_classes)\n",
        "print('Accuracy: %f' % accuracy)\n",
        "\n",
        "## precision tp / (tp + fp)\n",
        "precision = precision_score(y_labels, y_hat_classes, average=None)\n",
        "print('Precision (None): %f' % precision.sum())\n",
        "precision = precision_score(y_labels, y_hat_classes, average='micro')\n",
        "print('Precision (micro): %f' % precision)\n",
        "precision = precision_score(y_labels, y_hat_classes, average= 'macro')\n",
        "print('Precision (macro): %f' % precision)\n",
        "precision = precision_score(y_labels, y_hat_classes, average= 'weighted')\n",
        "print('Precision (weighted): %f' % precision)\n",
        "\n",
        "## recall: tp / (tp + fn)\n",
        "recall = recall_score(y_labels, y_hat_classes, average='micro')\n",
        "print('Recall (micro): %f' % recall)\n",
        "recall = recall_score(y_labels, y_hat_classes, average='macro')\n",
        "print('Recall (macro): %f' % recall)\n",
        "recall = recall_score(y_labels, y_hat_classes, average='weighted')\n",
        "print('Recall (weighted): %f' % recall)\n",
        "\n",
        "## f1: 2 tp / (2 tp + fp + fn)\n",
        "f1 = f1_score(y_labels, y_hat_classes, average='micro')\n",
        "print('F1 score (micro): %f' % f1)\n",
        "f1 = f1_score(y_labels, y_hat_classes, average='macro')\n",
        "print('F1 score (macro): %f' % f1)\n",
        "f1 = f1_score(y_labels, y_hat_classes, average='weighted')\n",
        "print('F1 score (weighted): %f' % f1)\n",
        " \n",
        "## kappa\n",
        "kappa = cohen_kappa_score(y_labels, y_hat_classes)\n",
        "print('Cohens kappa: %f' % kappa)\n",
        "\n",
        "## ROC AUC\n",
        "# print(np.sum(y_hat_probs))\n",
        "# y_hat_probs = y_hat_probs / np.sum(y_hat_probs)\n",
        "# print(np.sum(y_hat_probs))\n",
        "# auc = roc_auc_score(y_labels, y_hat_probs, multi_class='ovo')\n",
        "# print('ROC AUC: %f' % auc)\n",
        "\n",
        "## confusion matrix\n",
        "matrix = confusion_matrix(y_labels, y_hat_classes)\n",
        "print(matrix)"
      ],
      "metadata": {
        "id": "GDZ3ySZQsasX",
        "outputId": "922f666e-1d10-400e-8741-c3ff3e0a6ec1",
        "colab": {
          "base_uri": "https://localhost:8080/"
        }
      },
      "execution_count": 27,
      "outputs": [
        {
          "output_type": "stream",
          "name": "stdout",
          "text": [
            "Validation dataset metrics:\n",
            "confusion matrix: \n",
            " [[1 0 0 0 0 0 1 0 0 0 0 0]\n",
            " [0 1 0 0 0 0 1 0 0 0 0 0]\n",
            " [0 0 2 0 0 0 0 0 0 0 0 0]\n",
            " [0 0 0 3 0 0 0 0 0 0 0 0]\n",
            " [0 1 0 0 1 0 0 0 0 0 0 1]\n",
            " [0 0 0 0 0 2 0 0 0 0 0 0]\n",
            " [0 0 0 0 0 0 3 0 0 0 0 0]\n",
            " [0 0 0 0 0 0 0 1 0 0 0 0]\n",
            " [0 0 0 0 0 0 0 0 1 0 0 0]\n",
            " [0 0 0 0 0 1 0 0 0 2 0 0]\n",
            " [0 0 0 0 0 0 0 0 0 0 0 0]\n",
            " [0 0 0 0 0 0 0 0 0 0 0 1]]\n",
            "classification_report: \n",
            "               precision    recall  f1-score   support\n",
            "\n",
            "           0       1.00      0.50      0.67         2\n",
            "           1       0.50      0.50      0.50         2\n",
            "           2       1.00      1.00      1.00         2\n",
            "           3       1.00      1.00      1.00         3\n",
            "           4       1.00      0.33      0.50         3\n",
            "           5       0.67      1.00      0.80         2\n",
            "           6       0.60      1.00      0.75         3\n",
            "           7       1.00      1.00      1.00         1\n",
            "           8       1.00      1.00      1.00         1\n",
            "           9       1.00      0.67      0.80         3\n",
            "          10       0.00      0.00      0.00         0\n",
            "          11       0.50      1.00      0.67         1\n",
            "\n",
            "   micro avg       0.78      0.78      0.78        23\n",
            "   macro avg       0.77      0.75      0.72        23\n",
            "weighted avg       0.85      0.78      0.77        23\n",
            "\n",
            "Accuracy: 0.782609\n",
            "Precision (None): 9.266667\n",
            "Precision (micro): 0.782609\n",
            "Precision (macro): 0.842424\n",
            "Precision (weighted): 0.853623\n",
            "Recall (micro): 0.782609\n",
            "Recall (macro): 0.818182\n",
            "Recall (weighted): 0.782609\n",
            "F1 score (micro): 0.782609\n",
            "F1 score (macro): 0.789394\n",
            "F1 score (weighted): 0.771739\n",
            "Cohens kappa: 0.758403\n",
            "[[1 0 0 0 0 0 1 0 0 0 0]\n",
            " [0 1 0 0 0 0 1 0 0 0 0]\n",
            " [0 0 2 0 0 0 0 0 0 0 0]\n",
            " [0 0 0 3 0 0 0 0 0 0 0]\n",
            " [0 1 0 0 1 0 0 0 0 0 1]\n",
            " [0 0 0 0 0 2 0 0 0 0 0]\n",
            " [0 0 0 0 0 0 3 0 0 0 0]\n",
            " [0 0 0 0 0 0 0 1 0 0 0]\n",
            " [0 0 0 0 0 0 0 0 1 0 0]\n",
            " [0 0 0 0 0 1 0 0 0 2 0]\n",
            " [0 0 0 0 0 0 0 0 0 0 1]]\n"
          ]
        },
        {
          "output_type": "stream",
          "name": "stderr",
          "text": [
            "/usr/local/lib/python3.7/dist-packages/sklearn/metrics/_classification.py:1318: UndefinedMetricWarning: Precision and F-score are ill-defined and being set to 0.0 in labels with no predicted samples. Use `zero_division` parameter to control this behavior.\n",
            "  _warn_prf(average, modifier, msg_start, len(result))\n",
            "/usr/local/lib/python3.7/dist-packages/sklearn/metrics/_classification.py:1318: UndefinedMetricWarning: Recall and F-score are ill-defined and being set to 0.0 in labels with no true samples. Use `zero_division` parameter to control this behavior.\n",
            "  _warn_prf(average, modifier, msg_start, len(result))\n",
            "/usr/local/lib/python3.7/dist-packages/sklearn/metrics/_classification.py:1318: UndefinedMetricWarning: Precision and F-score are ill-defined and being set to 0.0 in labels with no predicted samples. Use `zero_division` parameter to control this behavior.\n",
            "  _warn_prf(average, modifier, msg_start, len(result))\n",
            "/usr/local/lib/python3.7/dist-packages/sklearn/metrics/_classification.py:1318: UndefinedMetricWarning: Recall and F-score are ill-defined and being set to 0.0 in labels with no true samples. Use `zero_division` parameter to control this behavior.\n",
            "  _warn_prf(average, modifier, msg_start, len(result))\n",
            "/usr/local/lib/python3.7/dist-packages/sklearn/metrics/_classification.py:1318: UndefinedMetricWarning: Precision and F-score are ill-defined and being set to 0.0 in labels with no predicted samples. Use `zero_division` parameter to control this behavior.\n",
            "  _warn_prf(average, modifier, msg_start, len(result))\n",
            "/usr/local/lib/python3.7/dist-packages/sklearn/metrics/_classification.py:1318: UndefinedMetricWarning: Recall and F-score are ill-defined and being set to 0.0 in labels with no true samples. Use `zero_division` parameter to control this behavior.\n",
            "  _warn_prf(average, modifier, msg_start, len(result))\n"
          ]
        }
      ]
    },
    {
      "cell_type": "code",
      "source": [
        "import matplotlib.pyplot as plt \n",
        "from sklearn.preprocessing import LabelBinarizer\n",
        "from sklearn.metrics import roc_curve, auc, roc_auc_score\n",
        "\n",
        "target= class_names\n",
        "\n",
        "print(class_names)\n",
        "for (idx, c_label) in enumerate(target):\n",
        "  print(f\"idx, c_label\", idx, c_label)\n",
        "\n",
        "y_labels = np.concatenate([y for x, y in val_ds], axis=-1)\n",
        "\n",
        "y_hat_probs = hypermodel.predict(val_ds)\n",
        "\n",
        "y_hat_classes = y_hat_probs.argmax(axis=-1)\n",
        "\n",
        "# set plot figure size\n",
        "fig, c_ax = plt.subplots(1,1, figsize = (12, 8))\n",
        "\n",
        "# function for scoring roc auc score for multi-class\n",
        "def multiclass_roc_auc_score(y_test, y_pred, average=\"macro\"):\n",
        "    lb = LabelBinarizer()\n",
        "    lb.fit(y_test)\n",
        "    y_test = lb.transform(y_test)\n",
        "    y_pred = lb.transform(y_pred)\n",
        "\n",
        "    for (idx, c_label) in enumerate(target):\n",
        "        fpr, tpr, thresholds = roc_curve(y_test[idx].astype(int), y_pred[idx])\n",
        "        c_ax.plot(fpr, tpr, label = '%s (AUC:%0.2f)'  % (c_label, auc(fpr, tpr)))\n",
        "    c_ax.plot(fpr, fpr, 'b-', label = 'Random Guessing')\n",
        "    return roc_auc_score(y_test, y_pred, average=average)\n",
        "\n",
        "print('ROC AUC score 1:', multiclass_roc_auc_score(y_labels, y_hat_classes))\n",
        "\n",
        "\n",
        "c_ax.legend()\n",
        "c_ax.set_xlabel('False Positive Rate')\n",
        "c_ax.set_ylabel('True Positive Rate')\n",
        "plt.show()"
      ],
      "metadata": {
        "id": "OV5OzlNL-43k",
        "outputId": "b0fbcf60-a2e3-49e8-d72e-256e207ccd88",
        "colab": {
          "base_uri": "https://localhost:8080/",
          "height": 746
        }
      },
      "execution_count": 56,
      "outputs": [
        {
          "output_type": "stream",
          "name": "stdout",
          "text": [
            "['APT17', 'APT28', 'APT29', 'APT3', 'DeepPanda', 'FIN7', 'Lazarus', 'OilRig', 'RocketKitten', 'Turla', 'Winnti', 'menuPass']\n",
            "idx, c_label 0 APT17\n",
            "idx, c_label 1 APT28\n",
            "idx, c_label 2 APT29\n",
            "idx, c_label 3 APT3\n",
            "idx, c_label 4 DeepPanda\n",
            "idx, c_label 5 FIN7\n",
            "idx, c_label 6 Lazarus\n",
            "idx, c_label 7 OilRig\n",
            "idx, c_label 8 RocketKitten\n",
            "idx, c_label 9 Turla\n",
            "idx, c_label 10 Winnti\n",
            "idx, c_label 11 menuPass\n",
            "ROC AUC score 1: 0.898150334513971\n"
          ]
        },
        {
          "output_type": "display_data",
          "data": {
            "text/plain": [
              "<Figure size 864x576 with 1 Axes>"
            ],
            "image/png": "[encoded data removed]"
          },
          "metadata": {
            "needs_background": "light"
          }
        }
      ]
    },
    {
      "cell_type": "code",
      "source": [
        "# set plot figure size\n",
        "fig, c_ax = plt.subplots(1,1, figsize = (12, 8))\n",
        "\n",
        "# function for scoring roc auc score for multi-class2\n",
        "def multiclass_roc_auc_score_2(y_test, y_pred, average=\"macro\"):\n",
        "    lb = LabelBinarizer()\n",
        "    lb.fit(y_test)\n",
        "    y_test = lb.transform(y_test)\n",
        "    y_pred = lb.transform(y_pred)\n",
        "\n",
        "    for (idx, c_label) in enumerate(target):\n",
        "        fpr, tpr, thresholds = roc_curve(y_test[:,idx].astype(int), y_pred[:,idx])\n",
        "        c_ax.plot(fpr, tpr, label = '%s (AUC:%0.2f)'  % (c_label, auc(fpr, tpr)))\n",
        "    c_ax.plot(fpr, fpr, 'b-', label = 'Random Guessing')\n",
        "    return roc_auc_score(y_test, y_pred, average=average)\n",
        "\n",
        "print('ROC AUC score 2:', multiclass_roc_auc_score_2(y_labels, y_hat_classes))\n",
        "\n",
        "c_ax.legend()\n",
        "c_ax.set_xlabel('False Positive Rate')\n",
        "c_ax.set_ylabel('True Positive Rate')\n",
        "plt.show()"
      ],
      "metadata": {
        "id": "biKgbtoVG3l8",
        "outputId": "7e22d8c6-2f6e-4129-ddaa-93fd4e024003",
        "colab": {
          "base_uri": "https://localhost:8080/",
          "height": 831
        }
      },
      "execution_count": 57,
      "outputs": [
        {
          "output_type": "error",
          "ename": "IndexError",
          "evalue": "ignored",
          "traceback": [
            "\u001b[0;31m---------------------------------------------------------------------------\u001b[0m",
            "\u001b[0;31mIndexError\u001b[0m                                Traceback (most recent call last)",
            "\u001b[0;32m<ipython-input-57-9d4bfc6edec0>\u001b[0m in \u001b[0;36m<module>\u001b[0;34m\u001b[0m\n\u001b[1;32m     15\u001b[0m     \u001b[0;32mreturn\u001b[0m \u001b[0mroc_auc_score\u001b[0m\u001b[0;34m(\u001b[0m\u001b[0my_test\u001b[0m\u001b[0;34m,\u001b[0m \u001b[0my_pred\u001b[0m\u001b[0;34m,\u001b[0m \u001b[0maverage\u001b[0m\u001b[0;34m=\u001b[0m\u001b[0maverage\u001b[0m\u001b[0;34m)\u001b[0m\u001b[0;34m\u001b[0m\u001b[0;34m\u001b[0m\u001b[0m\n\u001b[1;32m     16\u001b[0m \u001b[0;34m\u001b[0m\u001b[0m\n\u001b[0;32m---> 17\u001b[0;31m \u001b[0mprint\u001b[0m\u001b[0;34m(\u001b[0m\u001b[0;34m'ROC AUC score 2:'\u001b[0m\u001b[0;34m,\u001b[0m \u001b[0mmulticlass_roc_auc_score_2\u001b[0m\u001b[0;34m(\u001b[0m\u001b[0my_labels\u001b[0m\u001b[0;34m,\u001b[0m \u001b[0my_hat_classes\u001b[0m\u001b[0;34m)\u001b[0m\u001b[0;34m)\u001b[0m\u001b[0;34m\u001b[0m\u001b[0;34m\u001b[0m\u001b[0m\n\u001b[0m\u001b[1;32m     18\u001b[0m \u001b[0;34m\u001b[0m\u001b[0m\n\u001b[1;32m     19\u001b[0m \u001b[0mc_ax\u001b[0m\u001b[0;34m.\u001b[0m\u001b[0mlegend\u001b[0m\u001b[0;34m(\u001b[0m\u001b[0;34m)\u001b[0m\u001b[0;34m\u001b[0m\u001b[0;34m\u001b[0m\u001b[0m\n",
            "\u001b[0;32m<ipython-input-57-9d4bfc6edec0>\u001b[0m in \u001b[0;36mmulticlass_roc_auc_score_2\u001b[0;34m(y_test, y_pred, average)\u001b[0m\n\u001b[1;32m     10\u001b[0m \u001b[0;34m\u001b[0m\u001b[0m\n\u001b[1;32m     11\u001b[0m     \u001b[0;32mfor\u001b[0m \u001b[0;34m(\u001b[0m\u001b[0midx\u001b[0m\u001b[0;34m,\u001b[0m \u001b[0mc_label\u001b[0m\u001b[0;34m)\u001b[0m \u001b[0;32min\u001b[0m \u001b[0menumerate\u001b[0m\u001b[0;34m(\u001b[0m\u001b[0mtarget\u001b[0m\u001b[0;34m)\u001b[0m\u001b[0;34m:\u001b[0m\u001b[0;34m\u001b[0m\u001b[0;34m\u001b[0m\u001b[0m\n\u001b[0;32m---> 12\u001b[0;31m         \u001b[0mfpr\u001b[0m\u001b[0;34m,\u001b[0m \u001b[0mtpr\u001b[0m\u001b[0;34m,\u001b[0m \u001b[0mthresholds\u001b[0m \u001b[0;34m=\u001b[0m \u001b[0mroc_curve\u001b[0m\u001b[0;34m(\u001b[0m\u001b[0my_test\u001b[0m\u001b[0;34m[\u001b[0m\u001b[0;34m:\u001b[0m\u001b[0;34m,\u001b[0m\u001b[0midx\u001b[0m\u001b[0;34m]\u001b[0m\u001b[0;34m.\u001b[0m\u001b[0mastype\u001b[0m\u001b[0;34m(\u001b[0m\u001b[0mint\u001b[0m\u001b[0;34m)\u001b[0m\u001b[0;34m,\u001b[0m \u001b[0my_pred\u001b[0m\u001b[0;34m[\u001b[0m\u001b[0;34m:\u001b[0m\u001b[0;34m,\u001b[0m\u001b[0midx\u001b[0m\u001b[0;34m]\u001b[0m\u001b[0;34m)\u001b[0m\u001b[0;34m\u001b[0m\u001b[0;34m\u001b[0m\u001b[0m\n\u001b[0m\u001b[1;32m     13\u001b[0m         \u001b[0mc_ax\u001b[0m\u001b[0;34m.\u001b[0m\u001b[0mplot\u001b[0m\u001b[0;34m(\u001b[0m\u001b[0mfpr\u001b[0m\u001b[0;34m,\u001b[0m \u001b[0mtpr\u001b[0m\u001b[0;34m,\u001b[0m \u001b[0mlabel\u001b[0m \u001b[0;34m=\u001b[0m \u001b[0;34m'%s (AUC:%0.2f)'\u001b[0m  \u001b[0;34m%\u001b[0m \u001b[0;34m(\u001b[0m\u001b[0mc_label\u001b[0m\u001b[0;34m,\u001b[0m \u001b[0mauc\u001b[0m\u001b[0;34m(\u001b[0m\u001b[0mfpr\u001b[0m\u001b[0;34m,\u001b[0m \u001b[0mtpr\u001b[0m\u001b[0;34m)\u001b[0m\u001b[0;34m)\u001b[0m\u001b[0;34m)\u001b[0m\u001b[0;34m\u001b[0m\u001b[0;34m\u001b[0m\u001b[0m\n\u001b[1;32m     14\u001b[0m     \u001b[0mc_ax\u001b[0m\u001b[0;34m.\u001b[0m\u001b[0mplot\u001b[0m\u001b[0;34m(\u001b[0m\u001b[0mfpr\u001b[0m\u001b[0;34m,\u001b[0m \u001b[0mfpr\u001b[0m\u001b[0;34m,\u001b[0m \u001b[0;34m'b-'\u001b[0m\u001b[0;34m,\u001b[0m \u001b[0mlabel\u001b[0m \u001b[0;34m=\u001b[0m \u001b[0;34m'Random Guessing'\u001b[0m\u001b[0;34m)\u001b[0m\u001b[0;34m\u001b[0m\u001b[0;34m\u001b[0m\u001b[0m\n",
            "\u001b[0;31mIndexError\u001b[0m: index 11 is out of bounds for axis 1 with size 11"
          ]
        },
        {
          "output_type": "display_data",
          "data": {
            "text/plain": [
              "<Figure size 864x576 with 1 Axes>"
            ],
            "image/png": "[encoded data removed]"
          },
          "metadata": {
            "needs_background": "light"
          }
        }
      ]
    },
    {
      "cell_type": "code",
      "source": [
        "# Training data ruc_auc curve\n",
        "y_labels = np.concatenate([y for x, y in train_ds], axis=-1)\n",
        "\n",
        "y_hat_probs = hypermodel.predict(train_ds)\n",
        "\n",
        "y_hat_classes = y_hat_probs.argmax(axis=-1)\n",
        "\n",
        "# set plot figure size\n",
        "fig, c_ax = plt.subplots(1,1, figsize = (12, 8))\n",
        "\n",
        "# function for scoring roc auc score for multi-class\n",
        "def multiclass_roc_auc_score(y_test, y_pred, average=\"macro\"):\n",
        "    lb = LabelBinarizer()\n",
        "    lb.fit(y_test)\n",
        "    y_test = lb.transform(y_test)\n",
        "    y_pred = lb.transform(y_pred)\n",
        "\n",
        "    for (idx, c_label) in enumerate(target):\n",
        "        fpr, tpr, thresholds = roc_curve(y_test[idx].astype(int), y_pred[idx])\n",
        "        c_ax.plot(fpr, tpr, label = '%s (AUC:%0.2f)'  % (c_label, auc(fpr, tpr)))\n",
        "    c_ax.plot(fpr, fpr, 'b-', label = 'Random Guessing')\n",
        "    return roc_auc_score(y_test, y_pred, average=average)\n",
        "\n",
        "print('ROC AUC score Training data:', multiclass_roc_auc_score(y_labels, y_hat_classes))\n",
        "\n",
        "c_ax.legend()\n",
        "c_ax.set_xlabel('False Positive Rate')\n",
        "c_ax.set_ylabel('True Positive Rate')\n",
        "plt.show()"
      ],
      "metadata": {
        "id": "H3zXpjB2HFMb",
        "outputId": "97517cef-cf21-47d5-df8d-82c37d12aecb",
        "colab": {
          "base_uri": "https://localhost:8080/",
          "height": 515
        }
      },
      "execution_count": 59,
      "outputs": [
        {
          "output_type": "stream",
          "name": "stdout",
          "text": [
            "ROC AUC score Training data: 0.9980171639247762\n"
          ]
        },
        {
          "output_type": "display_data",
          "data": {
            "text/plain": [
              "<Figure size 864x576 with 1 Axes>"
            ],
            "image/png": "[encoded data removed]"
          },
          "metadata": {
            "needs_background": "light"
          }
        }
      ]
    },
    {
      "cell_type": "markdown",
      "metadata": {
        "id": "EQRpPHZsz-eC"
      },
      "source": [
        "The `my_dir/intro_to_kt` directory contains detailed logs and checkpoints for every trial (model configuration) run during the hyperparameter search. If you re-run the hyperparameter search, the Keras Tuner uses the existing state from these logs to resume the search. To disable this behavior, pass an additional `overwrite=True` argument while instantiating the tuner."
      ]
    },
    {
      "cell_type": "markdown",
      "metadata": {
        "id": "sKwLOzKpFGAj"
      },
      "source": [
        "## Summary\n",
        "\n",
        "In this tutorial, you learned how to use the Keras Tuner to tune hyperparameters for a model. To learn more about the Keras Tuner, check out these additional resources:\n",
        "\n",
        "* [Keras Tuner on the TensorFlow blog](https://blog.tensorflow.org/2020/01/hyperparameter-tuning-with-keras-tuner.html)\n",
        "* [Keras Tuner website](https://keras-team.github.io/keras-tuner/)\n",
        "\n",
        "Also check out the [HParams Dashboard](https://www.tensorflow.org/tensorboard/hyperparameter_tuning_with_hparams) in TensorBoard to interactively tune your model hyperparameters."
      ]
    }
  ],
  "metadata": {
    "accelerator": "GPU",
    "colab": {
      "collapsed_sections": [
        "Tce3stUlHN0L"
      ],
      "name": "keras_tuner.ipynb",
      "provenance": [],
      "machine_shape": "hm"
    },
    "kernelspec": {
      "display_name": "Python 3",
      "name": "python3"
    },
    "gpuClass": "standard"
  },
  "nbformat": 4,
  "nbformat_minor": 0
}
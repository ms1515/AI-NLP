{
  "cells": [
    {
      "cell_type": "markdown",
      "metadata": {
        "id": "Tce3stUlHN0L"
      },
      "source": [
        "##### Copyright 2020 The TensorFlow Authors."
      ]
    },
    {
      "cell_type": "code",
      "execution_count": 1,
      "metadata": {
        "cellView": "form",
        "id": "tuOe1ymfHZPu"
      },
      "outputs": [],
      "source": [
        "#@title Licensed under the Apache License, Version 2.0 (the \"License\");\n",
        "# you may not use this file except in compliance with the License.\n",
        "# You may obtain a copy of the License at\n",
        "#\n",
        "# https://www.apache.org/licenses/LICENSE-2.0\n",
        "#\n",
        "# Unless required by applicable law or agreed to in writing, software\n",
        "# distributed under the License is distributed on an \"AS IS\" BASIS,\n",
        "# WITHOUT WARRANTIES OR CONDITIONS OF ANY KIND, either express or implied.\n",
        "# See the License for the specific language governing permissions and\n",
        "# limitations under the License."
      ]
    },
    {
      "cell_type": "markdown",
      "metadata": {
        "id": "qFdPvlXBOdUN"
      },
      "source": [
        "# Introduction to the Keras Tuner"
      ]
    },
    {
      "cell_type": "markdown",
      "metadata": {
        "id": "MfBg1C5NB3X0"
      },
      "source": [
        "<table class=\"tfo-notebook-buttons\" align=\"left\">\n",
        "  <td>\n",
        "    <a target=\"_blank\" href=\"https://www.tensorflow.org/tutorials/keras/keras_tuner\"><img src=\"https://www.tensorflow.org/images/tf_logo_32px.png\" />View on TensorFlow.org</a>\n",
        "  </td>\n",
        "  <td>\n",
        "    <a target=\"_blank\" href=\"https://colab.research.google.com/github/tensorflow/docs/blob/master/site/en/tutorials/keras/keras_tuner.ipynb\"><img src=\"https://www.tensorflow.org/images/colab_logo_32px.png\" />Run in Google Colab</a>\n",
        "  </td>\n",
        "  <td>\n",
        "    <a target=\"_blank\" href=\"https://github.com/tensorflow/docs/blob/master/site/en/tutorials/keras/keras_tuner.ipynb\"><img src=\"https://www.tensorflow.org/images/GitHub-Mark-32px.png\" />View source on GitHub</a>\n",
        "  </td>\n",
        "  <td>\n",
        "    <a href=\"https://storage.googleapis.com/tensorflow_docs/docs/site/en/tutorials/keras/keras_tuner.ipynb\"><img src=\"https://www.tensorflow.org/images/download_logo_32px.png\" />Download notebook</a>\n",
        "  </td>\n",
        "</table>"
      ]
    },
    {
      "cell_type": "markdown",
      "metadata": {
        "id": "xHxb-dlhMIzW"
      },
      "source": [
        "## Overview\n",
        "\n",
        "The Keras Tuner is a library that helps you pick the optimal set of hyperparameters for your TensorFlow program. The process of selecting the right set of hyperparameters for your machine learning (ML) application is called *hyperparameter tuning* or *hypertuning*.\n",
        "\n",
        "Hyperparameters are the variables that govern the training process and the topology of an ML model. These variables remain constant over the training process and directly impact the performance of your ML program. Hyperparameters are of two types:\n",
        "1. **Model hyperparameters** which influence model selection such as the number and width of hidden layers\n",
        "2. **Algorithm hyperparameters** which influence the speed and quality of the learning algorithm such as the learning rate for Stochastic Gradient Descent (SGD) and the number of nearest neighbors for a k Nearest Neighbors (KNN) classifier\n",
        "\n",
        "In this tutorial, you will use the Keras Tuner to perform hypertuning for an image classification application."
      ]
    },
    {
      "cell_type": "markdown",
      "metadata": {
        "id": "MUXex9ctTuDB"
      },
      "source": [
        "## Setup"
      ]
    },
    {
      "cell_type": "code",
      "execution_count": 2,
      "metadata": {
        "id": "IqR2PQG4ZaZ0"
      },
      "outputs": [],
      "source": [
        "import io\n",
        "import re\n",
        "import string\n",
        "import tensorflow as tf\n",
        "from tensorflow import keras\n",
        "from tensorflow.keras import Sequential\n",
        "from tensorflow.keras.layers import Dense, Embedding, GlobalAveragePooling1D\n",
        "from tensorflow.keras.layers import TextVectorization\n"
      ]
    },
    {
      "cell_type": "markdown",
      "metadata": {
        "id": "g83Lwsy-Aq2_"
      },
      "source": [
        "Install and import the Keras Tuner."
      ]
    },
    {
      "cell_type": "code",
      "execution_count": 3,
      "metadata": {
        "id": "hpMLpbt9jcO6",
        "outputId": "c539f69d-7752-4c00-8fa1-bb4503da73f0",
        "colab": {
          "base_uri": "https://localhost:8080/"
        }
      },
      "outputs": [
        {
          "output_type": "stream",
          "name": "stdout",
          "text": [
            "\u001b[?25l\r\u001b[K     |██▍                             | 10 kB 23.4 MB/s eta 0:00:01\r\u001b[K     |████▉                           | 20 kB 5.7 MB/s eta 0:00:01\r\u001b[K     |███████▎                        | 30 kB 4.0 MB/s eta 0:00:01\r\u001b[K     |█████████▋                      | 40 kB 4.5 MB/s eta 0:00:01\r\u001b[K     |████████████                    | 51 kB 4.0 MB/s eta 0:00:01\r\u001b[K     |██████████████▌                 | 61 kB 4.7 MB/s eta 0:00:01\r\u001b[K     |█████████████████               | 71 kB 5.3 MB/s eta 0:00:01\r\u001b[K     |███████████████████▎            | 81 kB 5.4 MB/s eta 0:00:01\r\u001b[K     |█████████████████████▊          | 92 kB 6.0 MB/s eta 0:00:01\r\u001b[K     |████████████████████████▏       | 102 kB 6.1 MB/s eta 0:00:01\r\u001b[K     |██████████████████████████▋     | 112 kB 6.1 MB/s eta 0:00:01\r\u001b[K     |█████████████████████████████   | 122 kB 6.1 MB/s eta 0:00:01\r\u001b[K     |███████████████████████████████▍| 133 kB 6.1 MB/s eta 0:00:01\r\u001b[K     |████████████████████████████████| 135 kB 6.1 MB/s \n",
            "\u001b[?25h"
          ]
        }
      ],
      "source": [
        "!pip install -q -U keras-tuner"
      ]
    },
    {
      "cell_type": "code",
      "execution_count": 4,
      "metadata": {
        "id": "_leAIdFKAxAD"
      },
      "outputs": [],
      "source": [
        "import keras_tuner as kt"
      ]
    },
    {
      "cell_type": "markdown",
      "metadata": {
        "id": "ReV_UXOgCZvx"
      },
      "source": [
        "## Download and prepare the dataset\n",
        "\n",
        "In this tutorial, you will use the Keras Tuner to find the best hyperparameters for a machine learning model that classifies images of clothing from the [Fashion MNIST dataset](https://github.com/zalandoresearch/fashion-mnist)."
      ]
    },
    {
      "cell_type": "markdown",
      "metadata": {
        "id": "HljH_ENLEdHa"
      },
      "source": [
        "Load the data."
      ]
    },
    {
      "cell_type": "code",
      "execution_count": 5,
      "metadata": {
        "id": "OHlHs9Wj_PUM",
        "outputId": "c34b99cf-f72c-45a2-ba17-adeb102b2d8a",
        "colab": {
          "base_uri": "https://localhost:8080/"
        }
      },
      "outputs": [
        {
          "output_type": "stream",
          "name": "stdout",
          "text": [
            "Downloading data from https://github.com/eyalmazuz/AttackAttributionDataset/archive/refs/heads/master.zip\n",
            "1196032/Unknown - 0s 0us/step"
          ]
        }
      ],
      "source": [
        "url = 'https://github.com/eyalmazuz/AttackAttributionDataset/archive/refs/heads/master.zip' \n",
        "\n",
        "dataset = tf.keras.utils.get_file('master.zip', url,extract=True, cache_dir='.',cache_subdir='')"
      ]
    },
    {
      "cell_type": "code",
      "execution_count": 6,
      "metadata": {
        "id": "bLVhXs3xrUD0",
        "colab": {
          "base_uri": "https://localhost:8080/"
        },
        "outputId": "7f85eaaf-742b-4892-e067-6116ac404c2a"
      },
      "outputs": [
        {
          "output_type": "stream",
          "name": "stdout",
          "text": [
            "Found 238 files belonging to 12 classes.\n",
            "Using 191 files for training.\n",
            "Found 238 files belonging to 12 classes.\n",
            "Using 47 files for validation.\n"
          ]
        }
      ],
      "source": [
        "# Normalize pixel values between 0 and 1\n",
        "AUTOTUNE = tf.data.AUTOTUNE\n",
        "batch_size = 5\n",
        "seed = 42\n",
        "\n",
        "train_ds = tf.keras.utils.text_dataset_from_directory(\n",
        "    'AttackAttributionDataset-master',\n",
        "    batch_size=batch_size,\n",
        "    validation_split=0.2,\n",
        "    subset='training',\n",
        "    seed=seed)\n",
        "\n",
        "class_names = train_ds.class_names\n",
        "train_ds = train_ds.cache().prefetch(buffer_size=AUTOTUNE)\n",
        "\n",
        "val_ds = tf.keras.utils.text_dataset_from_directory(\n",
        "    'AttackAttributionDataset-master',\n",
        "    batch_size=batch_size,\n",
        "    validation_split=0.2,\n",
        "    subset='validation',\n",
        "    seed=seed)\n",
        "\n",
        "val_ds = val_ds.cache().prefetch(buffer_size=AUTOTUNE)\n"
      ]
    },
    {
      "cell_type": "markdown",
      "source": [
        "# Text preprocessing\n",
        "Next, define the dataset preprocessing steps required for your sentiment classification model. Initialize a TextVectorization layer with the desired parameters to vectorize movie reviews. "
      ],
      "metadata": {
        "id": "WnVZRo27eo2m"
      }
    },
    {
      "cell_type": "code",
      "source": [
        "# Create a custom standardization function to strip HTML break tags '<br />'.\n",
        "def custom_standardization(input_data):\n",
        "  lowercase = tf.strings.lower(input_data)\n",
        "  stripped_html = tf.strings.regex_replace(lowercase, '<br />', ' ')\n",
        "  return tf.strings.regex_replace(stripped_html,\n",
        "                                  '[%s]' % re.escape(string.punctuation), '')\n",
        "\n",
        "\n",
        "# Vocabulary size and number of words in a sequence.\n",
        "vocab_size = 100000\n",
        "sequence_length = 1000\n",
        "\n",
        "# Use the text vectorization layer to normalize, split, and map strings to\n",
        "# integers. Note that the layer uses the custom standardization defined above.\n",
        "# Set maximum_sequence length as all samples are not of the same length.\n",
        "vectorize_layer = TextVectorization(\n",
        "    standardize=custom_standardization,\n",
        "    max_tokens=vocab_size,\n",
        "    output_mode='int',\n",
        "    output_sequence_length=sequence_length)\n",
        "\n",
        "# Make a text-only dataset (no labels) and call adapt to build the vocabulary.\n",
        "text_ds = train_ds.map(lambda x, y: x)\n",
        "vectorize_layer.adapt(text_ds)"
      ],
      "metadata": {
        "id": "_5RrIMMCeme_"
      },
      "execution_count": 7,
      "outputs": []
    },
    {
      "cell_type": "markdown",
      "metadata": {
        "id": "K5YEL2H2Ax3e"
      },
      "source": [
        "## Define the model\n",
        "\n",
        "When you build a model for hypertuning, you also define the hyperparameter search space in addition to the model architecture. The model you set up for hypertuning is called a *hypermodel*.\n",
        "\n",
        "You can define a hypermodel through two approaches:\n",
        "\n",
        "* By using a model builder function\n",
        "* By subclassing the `HyperModel` class of the Keras Tuner API\n",
        "\n",
        "You can also use two pre-defined [HyperModel](https://keras.io/api/keras_tuner/hypermodels/) classes - [HyperXception](https://keras.io/api/keras_tuner/hypermodels/hyper_xception/) and [HyperResNet](https://keras.io/api/keras_tuner/hypermodels/hyper_resnet/) for computer vision applications.\n",
        "\n",
        "In this tutorial, you use a model builder function to define the image classification model. The model builder function returns a compiled model and uses hyperparameters you define inline to hypertune the model."
      ]
    },
    {
      "cell_type": "code",
      "execution_count": 8,
      "metadata": {
        "id": "ZQKodC-jtsva"
      },
      "outputs": [],
      "source": [
        "min_embedding_dim=16\n",
        "max_embedding_dim=1024\n",
        "\n",
        "\n",
        "def model_builder(hp):\n",
        "  model = keras.Sequential()\n",
        "  model.add(vectorize_layer)\n",
        "  hp_units_embed = hp.Int('units_emb_1', min_value=min_embedding_dim, max_value=max_embedding_dim, step=32)\n",
        "  model.add(Embedding(vocab_size,output_dim= hp_units_embed, name=\"embedding\"))\n",
        "  model.add(GlobalAveragePooling1D())\n",
        " \n",
        "  # # Tune the number of layers. Best to do it manually for now\n",
        "  # for i in range(hp.Int(\"num_layers\", 1, 3)):\n",
        "  #     model.add(\n",
        "  #         layers.Dense(\n",
        "  #             # Tune number of units separately.\n",
        "  #             units=hp.Int(f\"units_{i}\", min_value=382, max_value=512, step=32),\n",
        "  #             activation=hp.Choice(\"activation\", [\"relu\", \"tanh\"]),\n",
        "  #         )\n",
        "  #     )\n",
        "\n",
        "\n",
        "  # Tune the number of units in the first Dense layer + the activation function\n",
        "  # Choose an optimal value between 32-512\n",
        "  hp_units_1 = hp.Int('units_dense_1', min_value=200, max_value=1024, step=20)\n",
        "  hp_units_2 = hp.Int('units_dense_2', min_value=58, max_value=512, step=10)\n",
        "  hp_units_3 = hp.Int('units_dense_3', min_value=32, max_value=192, step=10)\n",
        "  hp_drop_1 = hp.Choice('units_drop_1', values=[0.01, 0.05, 0.1,0.15, 0.2, 0.25, 0.3])\n",
        "  hp_drop_2 = hp.Choice('units_drop_2', values=[0.01, 0.05, 0.1,0.15, 0.2, 0.25, 0.3])\n",
        "\n",
        "\n",
        "  model.add(keras.layers.Dense(units=hp_units_1, activation= hp.Choice(\"activation_1\", [\"relu\", \"tanh\"])))\n",
        "  model.add(Dense(units=hp_units_2, activation=hp.Choice(\"activation_2\", [\"relu\", \"tanh\"])))\n",
        "  model.add(tf.keras.layers.Dropout(hp_drop_1)) \n",
        "  model.add(Dense(units=hp_units_3, activation=hp.Choice(\"activation_3\", [\"relu\", \"tanh\"])))\n",
        "  model.add(tf.keras.layers.Dropout(hp_drop_2))\n",
        "  model.add(Dense(16, activation=hp.Choice(\"activation_4\", [\"relu\", \"tanh\"])))\n",
        "  model.add(Dense(len(class_names)))\n",
        "\n",
        "  # Tune the learning rate for the optimizer\n",
        "  # Choose an optimal value from 0.01, 0.005,  0.0011, 0.001,0.0009, 0.0005, 0.0001\n",
        "  hp_learning_rate = hp.Choice('learning_rate', values=[1e-2, 5e-3, 1.1e-3, 9e-4, 5e-4, 1e-4])\n",
        "\n",
        "  model.compile(optimizer=keras.optimizers.Adam(learning_rate=hp_learning_rate),\n",
        "                loss=keras.losses.SparseCategoricalCrossentropy(from_logits=True),\n",
        "                metrics=['accuracy'])\n",
        "\n",
        "  return model"
      ]
    },
    {
      "cell_type": "markdown",
      "metadata": {
        "id": "0J1VYw4q3x0b"
      },
      "source": [
        "## Instantiate the tuner and perform hypertuning\n",
        "\n",
        "Instantiate the tuner to perform the hypertuning. The Keras Tuner has four tuners available - `RandomSearch`, `Hyperband`, `BayesianOptimization`, and `Sklearn`. In this tutorial, you use the [Hyperband](https://arxiv.org/pdf/1603.06560.pdf) tuner.\n",
        "\n",
        "To instantiate the Hyperband tuner, you must specify the hypermodel, the `objective` to optimize and the maximum number of epochs to train (`max_epochs`)."
      ]
    },
    {
      "cell_type": "code",
      "execution_count": 9,
      "metadata": {
        "id": "oichQFly6Y46"
      },
      "outputs": [],
      "source": [
        "tuner = kt.Hyperband(model_builder,\n",
        "                     objective='val_accuracy',\n",
        "                     max_epochs=15,\n",
        "                     factor=3,\n",
        "                     directory='my_dir',\n",
        "                     project_name='intro_to_kt')"
      ]
    },
    {
      "cell_type": "markdown",
      "metadata": {
        "id": "VaIhhdKf9VtI"
      },
      "source": [
        "The Hyperband tuning algorithm uses adaptive resource allocation and early-stopping to quickly converge on a high-performing model. This is done using a sports championship style bracket. The algorithm trains a large number of models for a few epochs and carries forward only the top-performing half of models to the next round. Hyperband determines the number of models to train in a bracket by computing 1 + log<sub>`factor`</sub>(`max_epochs`) and rounding it up to the nearest integer."
      ]
    },
    {
      "cell_type": "markdown",
      "metadata": {
        "id": "cwhBdXx0Ekj8"
      },
      "source": [
        "Create a callback to stop training early after reaching a certain value for the validation loss."
      ]
    },
    {
      "cell_type": "code",
      "execution_count": 10,
      "metadata": {
        "id": "WT9IkS9NEjLc"
      },
      "outputs": [],
      "source": [
        "stop_early = tf.keras.callbacks.EarlyStopping(monitor='val_loss', patience=5)\n",
        "stop_early_val_accuracy = tf.keras.callbacks.EarlyStopping(monitor='val_accuracy', patience=5)"
      ]
    },
    {
      "cell_type": "markdown",
      "metadata": {
        "id": "UKghEo15Tduy"
      },
      "source": [
        "Run the hyperparameter search. The arguments for the search method are the same as those used for `tf.keras.model.fit` in addition to the callback above."
      ]
    },
    {
      "cell_type": "code",
      "execution_count": 11,
      "metadata": {
        "id": "dSBQcTHF9cKt",
        "colab": {
          "base_uri": "https://localhost:8080/"
        },
        "outputId": "638f4c0c-6c18-4854-afb6-91b72d54fa97"
      },
      "outputs": [
        {
          "output_type": "stream",
          "name": "stdout",
          "text": [
            "Trial 30 Complete [00h 00m 34s]\n",
            "val_accuracy: 0.5106382966041565\n",
            "\n",
            "Best val_accuracy So Far: 0.6170212626457214\n",
            "Total elapsed time: 00h 07m 14s\n",
            "INFO:tensorflow:Oracle triggered exit\n",
            "Best Hyper parameters for the model are: {'units_emb_1': 240, 'units_dense_1': 240, 'units_dense_2': 388, 'units_dense_3': 172, 'units_drop_1': 0.05, 'units_drop_2': 0.01, 'activation_1': 'tanh', 'activation_2': 'tanh', 'activation_3': 'tanh', 'activation_4': 'tanh', 'learning_rate': 0.0009, 'tuner/epochs': 15, 'tuner/initial_epoch': 5, 'tuner/bracket': 2, 'tuner/round': 2, 'tuner/trial_id': '0014'}\n",
            "The hyperparameter search is complete. The optimal number of units in the first densely-connected layer is 240 and the optimal learning rate for the optimizer is 0.0009.\n"
          ]
        }
      ],
      "source": [
        "tuner.search(train_ds, epochs=50, validation_data=val_ds, callbacks=[stop_early])\n",
        "\n",
        "# Get the optimal hyperparameters\n",
        "best_hps=tuner.get_best_hyperparameters(num_trials=1)[0]\n",
        "print(f\"Best Hyper parameters for the model are: {best_hps.values}\")\n",
        "print(f\"\"\"The hyperparameter search is complete. The optimal number of units in the first densely-connected layer is {best_hps.get('units_dense_1')} and the optimal learning rate for the optimizer is {best_hps.get('learning_rate')}.\"\"\")"
      ]
    },
    {
      "cell_type": "markdown",
      "metadata": {
        "id": "Lak_ylf88xBv"
      },
      "source": [
        "## Train the model\n",
        "\n",
        "Find the optimal number of epochs to train the model with the hyperparameters obtained from the search."
      ]
    },
    {
      "cell_type": "code",
      "execution_count": 12,
      "metadata": {
        "id": "McO82AXOuxXh",
        "colab": {
          "base_uri": "https://localhost:8080/"
        },
        "outputId": "904043cf-5c0f-4001-8e57-89c397a9319b"
      },
      "outputs": [
        {
          "output_type": "stream",
          "name": "stdout",
          "text": [
            "Epoch 1/50\n",
            "39/39 [==============================] - 1s 16ms/step - loss: 2.4163 - accuracy: 0.2304 - val_loss: 2.4620 - val_accuracy: 0.1915\n",
            "Epoch 2/50\n",
            "39/39 [==============================] - 0s 12ms/step - loss: 2.2034 - accuracy: 0.2565 - val_loss: 2.2401 - val_accuracy: 0.2979\n",
            "Epoch 3/50\n",
            "39/39 [==============================] - 0s 12ms/step - loss: 1.8116 - accuracy: 0.3560 - val_loss: 2.0791 - val_accuracy: 0.2979\n",
            "Epoch 4/50\n",
            "39/39 [==============================] - 0s 12ms/step - loss: 1.4895 - accuracy: 0.5759 - val_loss: 1.7166 - val_accuracy: 0.4681\n",
            "Epoch 5/50\n",
            "39/39 [==============================] - 0s 12ms/step - loss: 0.8953 - accuracy: 0.8168 - val_loss: 1.6037 - val_accuracy: 0.5106\n",
            "Epoch 6/50\n",
            "39/39 [==============================] - 0s 12ms/step - loss: 0.6612 - accuracy: 0.8901 - val_loss: 1.4711 - val_accuracy: 0.5319\n",
            "Epoch 7/50\n",
            "39/39 [==============================] - 0s 11ms/step - loss: 0.5338 - accuracy: 0.9162 - val_loss: 1.7757 - val_accuracy: 0.4468\n",
            "Epoch 8/50\n",
            "39/39 [==============================] - 0s 12ms/step - loss: 0.4119 - accuracy: 0.9634 - val_loss: 1.8354 - val_accuracy: 0.4255\n",
            "Epoch 9/50\n",
            "39/39 [==============================] - 0s 12ms/step - loss: 0.3751 - accuracy: 0.9634 - val_loss: 2.0358 - val_accuracy: 0.3830\n",
            "Epoch 10/50\n",
            "39/39 [==============================] - 0s 12ms/step - loss: 0.3213 - accuracy: 0.9843 - val_loss: 1.8168 - val_accuracy: 0.4255\n",
            "Epoch 11/50\n",
            "39/39 [==============================] - 0s 12ms/step - loss: 0.2817 - accuracy: 0.9895 - val_loss: 1.5633 - val_accuracy: 0.5532\n",
            "Epoch 12/50\n",
            "39/39 [==============================] - 0s 12ms/step - loss: 0.2095 - accuracy: 0.9895 - val_loss: 1.1843 - val_accuracy: 0.6596\n",
            "Epoch 13/50\n",
            "39/39 [==============================] - 0s 12ms/step - loss: 0.1735 - accuracy: 0.9895 - val_loss: 1.2757 - val_accuracy: 0.6383\n",
            "Epoch 14/50\n",
            "39/39 [==============================] - 0s 12ms/step - loss: 0.1520 - accuracy: 0.9948 - val_loss: 1.2762 - val_accuracy: 0.6170\n",
            "Epoch 15/50\n",
            "39/39 [==============================] - 0s 12ms/step - loss: 0.1314 - accuracy: 0.9895 - val_loss: 1.2697 - val_accuracy: 0.6596\n",
            "Epoch 16/50\n",
            "39/39 [==============================] - 0s 12ms/step - loss: 0.1175 - accuracy: 0.9948 - val_loss: 1.3700 - val_accuracy: 0.5957\n",
            "Epoch 17/50\n",
            "39/39 [==============================] - 0s 12ms/step - loss: 0.1096 - accuracy: 0.9948 - val_loss: 1.3018 - val_accuracy: 0.6170\n",
            "Epoch 18/50\n",
            "39/39 [==============================] - 0s 12ms/step - loss: 0.1025 - accuracy: 0.9895 - val_loss: 1.2635 - val_accuracy: 0.6596\n",
            "Epoch 19/50\n",
            "39/39 [==============================] - 0s 12ms/step - loss: 0.0941 - accuracy: 0.9948 - val_loss: 1.2814 - val_accuracy: 0.6596\n",
            "Epoch 20/50\n",
            "39/39 [==============================] - 0s 12ms/step - loss: 0.0887 - accuracy: 0.9895 - val_loss: 1.2764 - val_accuracy: 0.6596\n",
            "Epoch 21/50\n",
            "39/39 [==============================] - 0s 12ms/step - loss: 0.0831 - accuracy: 0.9948 - val_loss: 1.2517 - val_accuracy: 0.6596\n",
            "Epoch 22/50\n",
            "39/39 [==============================] - 0s 11ms/step - loss: 0.0774 - accuracy: 0.9948 - val_loss: 1.3596 - val_accuracy: 0.6170\n",
            "Epoch 23/50\n",
            "39/39 [==============================] - 0s 12ms/step - loss: 0.0735 - accuracy: 0.9948 - val_loss: 1.3170 - val_accuracy: 0.6383\n",
            "Epoch 24/50\n",
            "39/39 [==============================] - 0s 12ms/step - loss: 0.0706 - accuracy: 0.9948 - val_loss: 1.3696 - val_accuracy: 0.5957\n",
            "Epoch 25/50\n",
            "39/39 [==============================] - 0s 12ms/step - loss: 0.0659 - accuracy: 0.9948 - val_loss: 1.3345 - val_accuracy: 0.5957\n",
            "Epoch 26/50\n",
            "39/39 [==============================] - 0s 12ms/step - loss: 0.0629 - accuracy: 0.9895 - val_loss: 1.3584 - val_accuracy: 0.6170\n",
            "Epoch 27/50\n",
            "39/39 [==============================] - 0s 12ms/step - loss: 0.0595 - accuracy: 0.9948 - val_loss: 1.3624 - val_accuracy: 0.6170\n",
            "Epoch 28/50\n",
            "39/39 [==============================] - 0s 12ms/step - loss: 0.0564 - accuracy: 0.9948 - val_loss: 1.2917 - val_accuracy: 0.6383\n",
            "Epoch 29/50\n",
            "39/39 [==============================] - 0s 12ms/step - loss: 0.0540 - accuracy: 0.9948 - val_loss: 1.4001 - val_accuracy: 0.6170\n",
            "Epoch 30/50\n",
            "39/39 [==============================] - 0s 12ms/step - loss: 0.0517 - accuracy: 0.9948 - val_loss: 1.4202 - val_accuracy: 0.6170\n",
            "Epoch 31/50\n",
            "39/39 [==============================] - 0s 12ms/step - loss: 0.0494 - accuracy: 0.9948 - val_loss: 1.3696 - val_accuracy: 0.6383\n",
            "Epoch 32/50\n",
            "39/39 [==============================] - 0s 12ms/step - loss: 0.0475 - accuracy: 0.9948 - val_loss: 1.3477 - val_accuracy: 0.6383\n",
            "Epoch 33/50\n",
            "39/39 [==============================] - 0s 12ms/step - loss: 0.0453 - accuracy: 0.9948 - val_loss: 1.2655 - val_accuracy: 0.6809\n",
            "Epoch 34/50\n",
            "39/39 [==============================] - 0s 12ms/step - loss: 0.0438 - accuracy: 0.9948 - val_loss: 1.5395 - val_accuracy: 0.6383\n",
            "Epoch 35/50\n",
            "39/39 [==============================] - 0s 12ms/step - loss: 0.0426 - accuracy: 0.9948 - val_loss: 1.5874 - val_accuracy: 0.6170\n",
            "Epoch 36/50\n",
            "39/39 [==============================] - 0s 12ms/step - loss: 0.0409 - accuracy: 0.9948 - val_loss: 1.4939 - val_accuracy: 0.5957\n",
            "Epoch 37/50\n",
            "39/39 [==============================] - 0s 12ms/step - loss: 0.0391 - accuracy: 0.9948 - val_loss: 1.5024 - val_accuracy: 0.6170\n",
            "Epoch 38/50\n",
            "39/39 [==============================] - 0s 12ms/step - loss: 0.0373 - accuracy: 0.9948 - val_loss: 1.5741 - val_accuracy: 0.6383\n",
            "Epoch 39/50\n",
            "39/39 [==============================] - 0s 12ms/step - loss: 0.0491 - accuracy: 0.9948 - val_loss: 1.6430 - val_accuracy: 0.5532\n",
            "Epoch 40/50\n",
            "39/39 [==============================] - 0s 12ms/step - loss: 0.0384 - accuracy: 0.9948 - val_loss: 1.2798 - val_accuracy: 0.6383\n",
            "Epoch 41/50\n",
            "39/39 [==============================] - 0s 12ms/step - loss: 0.0388 - accuracy: 0.9948 - val_loss: 1.1480 - val_accuracy: 0.7021\n",
            "Epoch 42/50\n",
            "39/39 [==============================] - 0s 12ms/step - loss: 0.0348 - accuracy: 0.9948 - val_loss: 1.2769 - val_accuracy: 0.7021\n",
            "Epoch 43/50\n",
            "39/39 [==============================] - 0s 12ms/step - loss: 0.0321 - accuracy: 1.0000 - val_loss: 1.2427 - val_accuracy: 0.7021\n",
            "Epoch 44/50\n",
            "39/39 [==============================] - 0s 12ms/step - loss: 0.0317 - accuracy: 0.9948 - val_loss: 1.4124 - val_accuracy: 0.6809\n",
            "Epoch 45/50\n",
            "39/39 [==============================] - 0s 12ms/step - loss: 0.0300 - accuracy: 0.9948 - val_loss: 1.6902 - val_accuracy: 0.6170\n",
            "Epoch 46/50\n",
            "39/39 [==============================] - 0s 12ms/step - loss: 0.0325 - accuracy: 0.9948 - val_loss: 1.5069 - val_accuracy: 0.6596\n",
            "Epoch 47/50\n",
            "39/39 [==============================] - 0s 12ms/step - loss: 0.0309 - accuracy: 0.9948 - val_loss: 1.1655 - val_accuracy: 0.6596\n",
            "Epoch 48/50\n",
            "39/39 [==============================] - 0s 12ms/step - loss: 0.0296 - accuracy: 0.9948 - val_loss: 1.5323 - val_accuracy: 0.5957\n",
            "Epoch 49/50\n",
            "39/39 [==============================] - 0s 12ms/step - loss: 0.0295 - accuracy: 0.9948 - val_loss: 1.5266 - val_accuracy: 0.6383\n",
            "Epoch 50/50\n",
            "39/39 [==============================] - 0s 12ms/step - loss: 0.0266 - accuracy: 0.9948 - val_loss: 1.5177 - val_accuracy: 0.6383\n",
            "Best epoch: 41\n"
          ]
        }
      ],
      "source": [
        "# Build the model with the optimal hyperparameters and train it on the data for 50 epochs\n",
        "model = tuner.hypermodel.build(best_hps)\n",
        "history = model.fit(train_ds, epochs=50, validation_data=val_ds)\n",
        "\n",
        "val_acc_per_epoch = history.history['val_accuracy']\n",
        "best_epoch = val_acc_per_epoch.index(max(val_acc_per_epoch)) + 1\n",
        "print('Best epoch: %d' % (best_epoch,))"
      ]
    },
    {
      "cell_type": "markdown",
      "metadata": {
        "id": "uOTSirSTI3Gp"
      },
      "source": [
        "Re-instantiate the hypermodel and train it with the optimal number of epochs from above."
      ]
    },
    {
      "cell_type": "code",
      "execution_count": 13,
      "metadata": {
        "id": "NoiPUEHmMhCe",
        "colab": {
          "base_uri": "https://localhost:8080/"
        },
        "outputId": "16c83e61-3428-400d-e11d-6e0751b404b2"
      },
      "outputs": [
        {
          "output_type": "stream",
          "name": "stdout",
          "text": [
            "Epoch 1/41\n",
            "39/39 [==============================] - 1s 15ms/step - loss: 2.4221 - accuracy: 0.2094 - val_loss: 2.4173 - val_accuracy: 0.1915\n",
            "Epoch 2/41\n",
            "39/39 [==============================] - 0s 12ms/step - loss: 2.1882 - accuracy: 0.2513 - val_loss: 2.1317 - val_accuracy: 0.2979\n",
            "Epoch 3/41\n",
            "39/39 [==============================] - 0s 12ms/step - loss: 1.7271 - accuracy: 0.3979 - val_loss: 2.0542 - val_accuracy: 0.2340\n",
            "Epoch 4/41\n",
            "39/39 [==============================] - 0s 12ms/step - loss: 1.4138 - accuracy: 0.5288 - val_loss: 1.7761 - val_accuracy: 0.4255\n",
            "Epoch 5/41\n",
            "39/39 [==============================] - 0s 12ms/step - loss: 1.1715 - accuracy: 0.5916 - val_loss: 1.6986 - val_accuracy: 0.4255\n",
            "Epoch 6/41\n",
            "39/39 [==============================] - 0s 12ms/step - loss: 0.7467 - accuracy: 0.8743 - val_loss: 1.4675 - val_accuracy: 0.6383\n",
            "Epoch 7/41\n",
            "39/39 [==============================] - 0s 12ms/step - loss: 0.6051 - accuracy: 0.8901 - val_loss: 1.6948 - val_accuracy: 0.5106\n",
            "Epoch 8/41\n",
            "39/39 [==============================] - 0s 12ms/step - loss: 0.4369 - accuracy: 0.9424 - val_loss: 1.5906 - val_accuracy: 0.5319\n",
            "Epoch 9/41\n",
            "39/39 [==============================] - 0s 12ms/step - loss: 0.3501 - accuracy: 0.9476 - val_loss: 1.3859 - val_accuracy: 0.5957\n",
            "Epoch 10/41\n",
            "39/39 [==============================] - 0s 12ms/step - loss: 0.2761 - accuracy: 0.9843 - val_loss: 1.3632 - val_accuracy: 0.6170\n",
            "Epoch 11/41\n",
            "39/39 [==============================] - 0s 12ms/step - loss: 0.2425 - accuracy: 0.9948 - val_loss: 1.1760 - val_accuracy: 0.6809\n",
            "Epoch 12/41\n",
            "39/39 [==============================] - 0s 12ms/step - loss: 0.1999 - accuracy: 0.9948 - val_loss: 1.2040 - val_accuracy: 0.6809\n",
            "Epoch 13/41\n",
            "39/39 [==============================] - 0s 12ms/step - loss: 0.1765 - accuracy: 0.9948 - val_loss: 1.2385 - val_accuracy: 0.6809\n",
            "Epoch 14/41\n",
            "39/39 [==============================] - 0s 12ms/step - loss: 0.1597 - accuracy: 0.9948 - val_loss: 1.2201 - val_accuracy: 0.6809\n",
            "Epoch 15/41\n",
            "39/39 [==============================] - 0s 12ms/step - loss: 0.1452 - accuracy: 0.9948 - val_loss: 1.2009 - val_accuracy: 0.6809\n",
            "Epoch 16/41\n",
            "39/39 [==============================] - 0s 12ms/step - loss: 0.1346 - accuracy: 0.9948 - val_loss: 1.2182 - val_accuracy: 0.6809\n",
            "Epoch 17/41\n",
            "39/39 [==============================] - 0s 11ms/step - loss: 0.1286 - accuracy: 0.9948 - val_loss: 1.1272 - val_accuracy: 0.6809\n",
            "Epoch 18/41\n",
            "39/39 [==============================] - 0s 12ms/step - loss: 0.1197 - accuracy: 0.9948 - val_loss: 1.2095 - val_accuracy: 0.6809\n",
            "Epoch 19/41\n",
            "39/39 [==============================] - 0s 12ms/step - loss: 0.1118 - accuracy: 0.9948 - val_loss: 1.1826 - val_accuracy: 0.6596\n",
            "Epoch 20/41\n",
            "39/39 [==============================] - 0s 12ms/step - loss: 0.1029 - accuracy: 0.9948 - val_loss: 1.1623 - val_accuracy: 0.6809\n",
            "Epoch 21/41\n",
            "39/39 [==============================] - 0s 12ms/step - loss: 0.0965 - accuracy: 0.9948 - val_loss: 1.1560 - val_accuracy: 0.6809\n",
            "Epoch 22/41\n",
            "39/39 [==============================] - 0s 12ms/step - loss: 0.0910 - accuracy: 0.9948 - val_loss: 1.1924 - val_accuracy: 0.6809\n",
            "Epoch 23/41\n",
            "39/39 [==============================] - 0s 12ms/step - loss: 0.0858 - accuracy: 0.9948 - val_loss: 1.1834 - val_accuracy: 0.6809\n",
            "Epoch 24/41\n",
            "39/39 [==============================] - 0s 12ms/step - loss: 0.0818 - accuracy: 0.9895 - val_loss: 1.1928 - val_accuracy: 0.6809\n",
            "Epoch 25/41\n",
            "39/39 [==============================] - 0s 12ms/step - loss: 0.0774 - accuracy: 1.0000 - val_loss: 1.2062 - val_accuracy: 0.6809\n",
            "Epoch 26/41\n",
            "39/39 [==============================] - 0s 12ms/step - loss: 0.0739 - accuracy: 0.9948 - val_loss: 1.2042 - val_accuracy: 0.6809\n",
            "Epoch 27/41\n",
            "39/39 [==============================] - 0s 12ms/step - loss: 0.0706 - accuracy: 0.9895 - val_loss: 1.1843 - val_accuracy: 0.6809\n",
            "Epoch 28/41\n",
            "39/39 [==============================] - 0s 12ms/step - loss: 0.0658 - accuracy: 0.9948 - val_loss: 1.4455 - val_accuracy: 0.5957\n",
            "Epoch 29/41\n",
            "39/39 [==============================] - 0s 12ms/step - loss: 0.0792 - accuracy: 0.9948 - val_loss: 1.2320 - val_accuracy: 0.6383\n",
            "Epoch 30/41\n",
            "39/39 [==============================] - 0s 12ms/step - loss: 0.0782 - accuracy: 0.9948 - val_loss: 1.2637 - val_accuracy: 0.6809\n",
            "Epoch 31/41\n",
            "39/39 [==============================] - 0s 12ms/step - loss: 0.0724 - accuracy: 0.9948 - val_loss: 1.3511 - val_accuracy: 0.6596\n",
            "Epoch 32/41\n",
            "39/39 [==============================] - 0s 12ms/step - loss: 0.1551 - accuracy: 0.9738 - val_loss: 1.5889 - val_accuracy: 0.5106\n",
            "Epoch 33/41\n",
            "39/39 [==============================] - 0s 12ms/step - loss: 0.1293 - accuracy: 0.9895 - val_loss: 1.8497 - val_accuracy: 0.5532\n",
            "Epoch 34/41\n",
            "39/39 [==============================] - 0s 12ms/step - loss: 0.0860 - accuracy: 0.9948 - val_loss: 1.4985 - val_accuracy: 0.6170\n",
            "Epoch 35/41\n",
            "39/39 [==============================] - 0s 12ms/step - loss: 0.1442 - accuracy: 0.9581 - val_loss: 1.4842 - val_accuracy: 0.6596\n",
            "Epoch 36/41\n",
            "39/39 [==============================] - 0s 12ms/step - loss: 0.1009 - accuracy: 0.9895 - val_loss: 1.4633 - val_accuracy: 0.6383\n",
            "Epoch 37/41\n",
            "39/39 [==============================] - 0s 12ms/step - loss: 0.0640 - accuracy: 0.9895 - val_loss: 1.4778 - val_accuracy: 0.5319\n",
            "Epoch 38/41\n",
            "39/39 [==============================] - 0s 12ms/step - loss: 0.0504 - accuracy: 0.9948 - val_loss: 1.3369 - val_accuracy: 0.6383\n",
            "Epoch 39/41\n",
            "39/39 [==============================] - 0s 12ms/step - loss: 0.0417 - accuracy: 1.0000 - val_loss: 1.4043 - val_accuracy: 0.6809\n",
            "Epoch 40/41\n",
            "39/39 [==============================] - 0s 12ms/step - loss: 0.0679 - accuracy: 0.9948 - val_loss: 1.3681 - val_accuracy: 0.5957\n",
            "Epoch 41/41\n",
            "39/39 [==============================] - 0s 12ms/step - loss: 0.0418 - accuracy: 0.9948 - val_loss: 1.3029 - val_accuracy: 0.6596\n"
          ]
        },
        {
          "output_type": "execute_result",
          "data": {
            "text/plain": [
              "<keras.callbacks.History at 0x7f4c0a0dffd0>"
            ]
          },
          "metadata": {},
          "execution_count": 13
        }
      ],
      "source": [
        "hypermodel = tuner.hypermodel.build(best_hps)\n",
        "\n",
        "# Retrain the model\n",
        "hypermodel.fit(train_ds, epochs=best_epoch, validation_data=val_ds)"
      ]
    },
    {
      "cell_type": "markdown",
      "source": [
        "## Model Metrics"
      ],
      "metadata": {
        "id": "IQFkUEWLtLm6"
      }
    },
    {
      "cell_type": "code",
      "source": [
        "# Model Metrics\n",
        "from sklearn.datasets import make_circles\n",
        "from sklearn.metrics import accuracy_score\n",
        "from sklearn.metrics import precision_score\n",
        "from sklearn.metrics import recall_score\n",
        "from sklearn.metrics import f1_score\n",
        "from sklearn.metrics import cohen_kappa_score\n",
        "from sklearn.metrics import roc_auc_score\n",
        "from sklearn.metrics import confusion_matrix\n",
        "import numpy as np\n",
        "\n",
        "y_labels = val_ds.map(lambda x,y: y)\n",
        "print(y_labels.unbatch)\n",
        "\n",
        "y_labels = y_labels.as_numpy_iterator()\n",
        "\n",
        "## Reduce to 1D Array\n",
        "y_labels = np.concatenate([y for x, y in val_ds], axis=0)\n",
        "\n",
        "y_hat_probs = hypermodel.predict(val_ds)\n",
        "\n",
        "y_hat_classes = y_hat_probs.argmax(axis=-1)\n",
        "\n",
        "\n",
        "## accuracy: (tp + tn) / (p + n)\n",
        "accuracy = accuracy_score(y_labels, y_hat_classes)\n",
        "print('Accuracy: %f' % accuracy)\n",
        "\n",
        "## precision tp / (tp + fp)\n",
        "precision = precision_score(y_labels, y_hat_classes, average=None)\n",
        "print('Precision (None): %f' % precision.sum())\n",
        "precision = precision_score(y_labels, y_hat_classes, average='micro')\n",
        "print('Precision (micro): %f' % precision)\n",
        "precision = precision_score(y_labels, y_hat_classes, average= 'macro')\n",
        "print('Precision (macro): %f' % precision)\n",
        "# precision = precision_score(y_labels, y_hat_classes, average= 'samples')\n",
        "# print('Precision (samples): %f' % precision)\n",
        "precision = precision_score(y_labels, y_hat_classes, average= 'weighted')\n",
        "print('Precision (weighted): %f' % precision)\n",
        "\n",
        "## recall: tp / (tp + fn)\n",
        "recall = recall_score(y_labels, y_hat_classes, average='micro')\n",
        "print('Recall (micro): %f' % recall)\n",
        "recall = recall_score(y_labels, y_hat_classes, average='macro')\n",
        "print('Recall (macro): %f' % recall)\n",
        "# recall = recall_score(y_labels, y_hat_classes, average='samples')\n",
        "# print('Recall (samples): %f' % recall)\n",
        "recall = recall_score(y_labels, y_hat_classes, average='weighted')\n",
        "print('Recall (weighted): %f' % recall)\n",
        "\n",
        "## f1: 2 tp / (2 tp + fp + fn)\n",
        "f1 = f1_score(y_labels, y_hat_classes, average='micro')\n",
        "print('F1 score (micro): %f' % f1)\n",
        "f1 = f1_score(y_labels, y_hat_classes, average='macro')\n",
        "print('F1 score (macro): %f' % f1)\n",
        "f1 = f1_score(y_labels, y_hat_classes, average='weighted')\n",
        "print('F1 score (weighted): %f' % f1)\n",
        " \n",
        "## kappa\n",
        "kappa = cohen_kappa_score(y_labels, y_hat_classes)\n",
        "print('Cohens kappa: %f' % kappa)\n",
        "\n",
        "## ROC AUC\n",
        "# print(np.sum(y_hat_probs))\n",
        "# y_hat_probs = y_hat_probs / np.sum(y_hat_probs)\n",
        "# print(np.sum(y_hat_probs))\n",
        "# auc = roc_auc_score(y_labels, y_hat_probs, multi_class='ovo')\n",
        "# print('ROC AUC: %f' % auc)\n",
        "\n",
        "## confusion matrix\n",
        "matrix = confusion_matrix(y_labels, y_hat_classes)\n",
        "print(matrix)"
      ],
      "metadata": {
        "id": "GDZ3ySZQsasX",
        "outputId": "50c190bf-bb20-442d-c47c-f426bbf6f2f9",
        "colab": {
          "base_uri": "https://localhost:8080/"
        }
      },
      "execution_count": 14,
      "outputs": [
        {
          "output_type": "stream",
          "name": "stdout",
          "text": [
            "<bound method DatasetV2.unbatch of <MapDataset element_spec=TensorSpec(shape=(None,), dtype=tf.int32, name=None)>>\n",
            "Accuracy: 0.659574\n",
            "Precision (None): 8.376190\n",
            "Precision (micro): 0.659574\n",
            "Precision (macro): 0.698016\n",
            "Precision (weighted): 0.744833\n",
            "Recall (micro): 0.659574\n",
            "Recall (macro): 0.672619\n",
            "Recall (weighted): 0.659574\n",
            "F1 score (micro): 0.659574\n",
            "F1 score (macro): 0.650938\n",
            "F1 score (weighted): 0.667827\n",
            "Cohens kappa: 0.621540\n",
            "[[1 0 0 0 0 0 0 0 0 0 0 1]\n",
            " [0 6 2 0 0 0 0 0 1 0 0 0]\n",
            " [0 1 0 0 0 0 0 0 0 1 0 0]\n",
            " [1 0 0 3 0 0 0 0 0 0 0 0]\n",
            " [1 0 0 0 1 0 0 0 2 0 0 0]\n",
            " [0 0 0 0 0 2 0 0 0 0 0 0]\n",
            " [1 0 0 0 0 0 5 0 0 0 0 0]\n",
            " [0 0 0 0 0 0 0 3 0 0 0 0]\n",
            " [0 0 0 0 0 0 0 2 2 0 0 0]\n",
            " [0 0 0 0 0 0 1 0 2 4 0 0]\n",
            " [0 0 0 0 0 0 0 0 0 0 1 0]\n",
            " [0 0 0 0 0 0 0 0 0 0 0 3]]\n"
          ]
        }
      ]
    },
    {
      "cell_type": "markdown",
      "metadata": {
        "id": "EQRpPHZsz-eC"
      },
      "source": [
        "The `my_dir/intro_to_kt` directory contains detailed logs and checkpoints for every trial (model configuration) run during the hyperparameter search. If you re-run the hyperparameter search, the Keras Tuner uses the existing state from these logs to resume the search. To disable this behavior, pass an additional `overwrite=True` argument while instantiating the tuner."
      ]
    },
    {
      "cell_type": "markdown",
      "metadata": {
        "id": "sKwLOzKpFGAj"
      },
      "source": [
        "## Summary\n",
        "\n",
        "In this tutorial, you learned how to use the Keras Tuner to tune hyperparameters for a model. To learn more about the Keras Tuner, check out these additional resources:\n",
        "\n",
        "* [Keras Tuner on the TensorFlow blog](https://blog.tensorflow.org/2020/01/hyperparameter-tuning-with-keras-tuner.html)\n",
        "* [Keras Tuner website](https://keras-team.github.io/keras-tuner/)\n",
        "\n",
        "Also check out the [HParams Dashboard](https://www.tensorflow.org/tensorboard/hyperparameter_tuning_with_hparams) in TensorBoard to interactively tune your model hyperparameters."
      ]
    }
  ],
  "metadata": {
    "accelerator": "GPU",
    "colab": {
      "collapsed_sections": [
        "Tce3stUlHN0L"
      ],
      "name": "keras_tuner.ipynb",
      "toc_visible": true,
      "provenance": []
    },
    "kernelspec": {
      "display_name": "Python 3",
      "name": "python3"
    }
  },
  "nbformat": 4,
  "nbformat_minor": 0
}
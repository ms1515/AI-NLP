{
  "cells": [
    {
      "cell_type": "markdown",
      "metadata": {
        "id": "qFdPvlXBOdUN"
      },
      "source": [
        "# Introduction to the Keras Tuner"
      ]
    },
    {
      "cell_type": "markdown",
      "metadata": {
        "id": "MfBg1C5NB3X0"
      },
      "source": [
        "<table class=\"tfo-notebook-buttons\" align=\"left\">\n",
        "  <td>\n",
        "    <a target=\"_blank\" href=\"https://www.tensorflow.org/tutorials/keras/keras_tuner\"><img src=\"https://www.tensorflow.org/images/tf_logo_32px.png\" />View on TensorFlow.org</a>\n",
        "  </td>\n",
        "  <td>\n",
        "    <a target=\"_blank\" href=\"https://colab.research.google.com/github/tensorflow/docs/blob/master/site/en/tutorials/keras/keras_tuner.ipynb\"><img src=\"https://www.tensorflow.org/images/colab_logo_32px.png\" />Run in Google Colab</a>\n",
        "  </td>\n",
        "  <td>\n",
        "    <a target=\"_blank\" href=\"https://github.com/tensorflow/docs/blob/master/site/en/tutorials/keras/keras_tuner.ipynb\"><img src=\"https://www.tensorflow.org/images/GitHub-Mark-32px.png\" />View source on GitHub</a>\n",
        "  </td>\n",
        "  <td>\n",
        "    <a href=\"https://storage.googleapis.com/tensorflow_docs/docs/site/en/tutorials/keras/keras_tuner.ipynb\"><img src=\"https://www.tensorflow.org/images/download_logo_32px.png\" />Download notebook</a>\n",
        "  </td>\n",
        "</table>"
      ]
    },
    {
      "cell_type": "markdown",
      "metadata": {
        "id": "xHxb-dlhMIzW"
      },
      "source": [
        "## Overview\n",
        "\n",
        "The Keras Tuner is a library that helps you pick the optimal set of hyperparameters for your TensorFlow program. The process of selecting the right set of hyperparameters for your machine learning (ML) application is called *hyperparameter tuning* or *hypertuning*.\n",
        "\n",
        "Hyperparameters are the variables that govern the training process and the topology of an ML model. These variables remain constant over the training process and directly impact the performance of your ML program. Hyperparameters are of two types:\n",
        "1. **Model hyperparameters** which influence model selection such as the number and width of hidden layers\n",
        "2. **Algorithm hyperparameters** which influence the speed and quality of the learning algorithm such as the learning rate for Stochastic Gradient Descent (SGD) and the number of nearest neighbors for a k Nearest Neighbors (KNN) classifier\n",
        "\n",
        "In this tutorial, you will use the Keras Tuner to perform hypertuning for an image classification application."
      ]
    },
    {
      "cell_type": "markdown",
      "metadata": {
        "id": "MUXex9ctTuDB"
      },
      "source": [
        "## Setup"
      ]
    },
    {
      "cell_type": "code",
      "execution_count": 1,
      "metadata": {
        "id": "IqR2PQG4ZaZ0"
      },
      "outputs": [],
      "source": [
        "import io\n",
        "import re\n",
        "import string\n",
        "import tensorflow as tf\n",
        "from tensorflow import keras\n",
        "from tensorflow.keras import Sequential\n",
        "from tensorflow.keras.layers import Dense, Embedding, GlobalAveragePooling1D\n",
        "from tensorflow.keras.layers import TextVectorization\n"
      ]
    },
    {
      "cell_type": "markdown",
      "metadata": {
        "id": "g83Lwsy-Aq2_"
      },
      "source": [
        "Install and import the Keras Tuner."
      ]
    },
    {
      "cell_type": "code",
      "execution_count": 2,
      "metadata": {
        "id": "hpMLpbt9jcO6",
        "outputId": "6b185def-7eae-4188-8868-bdf609d2cd46",
        "colab": {
          "base_uri": "https://localhost:8080/"
        }
      },
      "outputs": [
        {
          "output_type": "stream",
          "name": "stdout",
          "text": [
            "\u001b[K     |████████████████████████████████| 135 kB 4.3 MB/s \n",
            "\u001b[K     |████████████████████████████████| 1.6 MB 40.9 MB/s \n",
            "\u001b[?25h"
          ]
        }
      ],
      "source": [
        "!pip install -q -U keras-tuner"
      ]
    },
    {
      "cell_type": "code",
      "execution_count": 3,
      "metadata": {
        "id": "_leAIdFKAxAD"
      },
      "outputs": [],
      "source": [
        "import keras_tuner as kt"
      ]
    },
    {
      "cell_type": "markdown",
      "metadata": {
        "id": "ReV_UXOgCZvx"
      },
      "source": [
        "## Download and prepare the dataset\n",
        "\n",
        "In this tutorial, you will use the Keras Tuner to find the best hyperparameters for a machine learning model that classifies images of clothing from the [Fashion MNIST dataset](https://github.com/zalandoresearch/fashion-mnist)."
      ]
    },
    {
      "cell_type": "markdown",
      "metadata": {
        "id": "HljH_ENLEdHa"
      },
      "source": [
        "Load the data."
      ]
    },
    {
      "cell_type": "code",
      "execution_count": 4,
      "metadata": {
        "id": "OHlHs9Wj_PUM",
        "outputId": "d0878ac1-b7a0-43b8-c167-8ec9c53cba61",
        "colab": {
          "base_uri": "https://localhost:8080/"
        }
      },
      "outputs": [
        {
          "output_type": "stream",
          "name": "stdout",
          "text": [
            "Downloading data from https://github.com/eyalmazuz/ThreatIntelligenceCorpus/archive/refs/heads/master.zip\n",
            "41902080/Unknown - 4s 0us/stepDownloading data from https://github.com/eyalmazuz/AttackAttributionDataset/archive/refs/heads/master.zip\n",
            " 598016/Unknown - 0s 0us/step"
          ]
        }
      ],
      "source": [
        "# Pretraining\n",
        "url = 'https://github.com/eyalmazuz/ThreatIntelligenceCorpus/archive/refs/heads/master.zip' \n",
        "dataset_pretrain = tf.keras.utils.get_file('master.zip', url, extract=True, cache_dir='.', cache_subdir='')\n",
        "\n",
        "# Training Dataset\n",
        "url = 'https://github.com/eyalmazuz/AttackAttributionDataset/archive/refs/heads/master.zip' \n",
        "dataset = tf.keras.utils.get_file('master(1).zip', url,extract=True, cache_dir='.',cache_subdir='')"
      ]
    },
    {
      "cell_type": "code",
      "execution_count": 5,
      "metadata": {
        "id": "bLVhXs3xrUD0",
        "colab": {
          "base_uri": "https://localhost:8080/"
        },
        "outputId": "e021fec7-2a50-41a6-9442-a91a88f8fe17"
      },
      "outputs": [
        {
          "output_type": "stream",
          "name": "stdout",
          "text": [
            "Found 20560 files belonging to 1 classes.\n",
            "Found 238 files belonging to 12 classes.\n",
            "Using 203 files for training.\n",
            "Found 238 files belonging to 12 classes.\n",
            "Using 35 files for validation.\n"
          ]
        }
      ],
      "source": [
        "# Normalize pixel values between 0 and 1\n",
        "AUTOTUNE = tf.data.AUTOTUNE\n",
        "batch_size = 10\n",
        "seed = 42\n",
        "\n",
        "pretrain_ds = tf.keras.utils.text_dataset_from_directory(\n",
        "    'ThreatIntelligenceCorpus-master')\n",
        "\n",
        "train_ds = tf.keras.utils.text_dataset_from_directory(\n",
        "    'AttackAttributionDataset-master',\n",
        "    batch_size=batch_size,\n",
        "    validation_split=0.15,\n",
        "    subset='training',\n",
        "    seed=seed)\n",
        "\n",
        "class_names = train_ds.class_names\n",
        "train_ds = train_ds.cache().prefetch(buffer_size=AUTOTUNE)\n",
        "\n",
        "val_ds = tf.keras.utils.text_dataset_from_directory(\n",
        "    'AttackAttributionDataset-master',\n",
        "    batch_size=batch_size,\n",
        "    validation_split=0.15,\n",
        "    subset='validation',\n",
        "    seed=seed)\n",
        "\n",
        "# val_ds = remaining_ds.take(int(len(remaining_ds)*0.5))\n",
        "\n",
        "val_ds = val_ds.cache().prefetch(buffer_size=AUTOTUNE)\n",
        "\n",
        "# test_ds = remaining_ds.skip(len(val_ds))\n",
        "\n",
        "# test_ds = test_ds.cache().prefetch(buffer_size=AUTOTUNE)\n"
      ]
    },
    {
      "cell_type": "markdown",
      "source": [
        "# Text preprocessing\n",
        "Next, define the dataset preprocessing steps required for your sentiment classification model. Initialize a TextVectorization layer with the desired parameters to vectorize movie reviews. "
      ],
      "metadata": {
        "id": "WnVZRo27eo2m"
      }
    },
    {
      "cell_type": "code",
      "source": [
        "# Create a custom standardization function to strip HTML break tags '<br />'.\n",
        "def custom_standardization(input_data):\n",
        "  lowercase = tf.strings.lower(input_data)\n",
        "  stripped_html = tf.strings.regex_replace(lowercase, '<br />', ' ')\n",
        "  return tf.strings.regex_replace(stripped_html,\n",
        "                                  '[%s]' % re.escape(string.punctuation), '')\n",
        "\n",
        "\n",
        "# Vocabulary size and number of words in a sequence.\n",
        "vocab_size = 100000\n",
        "sequence_length = 1000\n",
        "\n",
        "# Use the text vectorization layer to normalize, split, and map strings to\n",
        "# integers. Note that the layer uses the custom standardization defined above.\n",
        "# Set maximum_sequence length as all samples are not of the same length.\n",
        "vectorize_layer = TextVectorization(\n",
        "    standardize=custom_standardization,\n",
        "    max_tokens=vocab_size,\n",
        "    output_mode='int',\n",
        "    output_sequence_length=sequence_length)\n",
        "\n",
        "# Make a text-only dataset (no labels) and call adapt to build the vocabulary.\n",
        "text_ds = pretrain_ds.map(lambda x, y: x)\n",
        "vectorize_layer.adapt(text_ds)"
      ],
      "metadata": {
        "id": "_5RrIMMCeme_"
      },
      "execution_count": 6,
      "outputs": []
    },
    {
      "cell_type": "markdown",
      "metadata": {
        "id": "K5YEL2H2Ax3e"
      },
      "source": [
        "## Define the model\n",
        "\n",
        "When you build a model for hypertuning, you also define the hyperparameter search space in addition to the model architecture. The model you set up for hypertuning is called a *hypermodel*.\n",
        "\n",
        "You can define a hypermodel through two approaches:\n",
        "\n",
        "* By using a model builder function\n",
        "* By subclassing the `HyperModel` class of the Keras Tuner API\n",
        "\n",
        "You can also use two pre-defined [HyperModel](https://keras.io/api/keras_tuner/hypermodels/) classes - [HyperXception](https://keras.io/api/keras_tuner/hypermodels/hyper_xception/) and [HyperResNet](https://keras.io/api/keras_tuner/hypermodels/hyper_resnet/) for computer vision applications.\n",
        "\n",
        "In this tutorial, you use a model builder function to define the image classification model. The model builder function returns a compiled model and uses hyperparameters you define inline to hypertune the model."
      ]
    },
    {
      "cell_type": "code",
      "execution_count": 7,
      "metadata": {
        "id": "ZQKodC-jtsva"
      },
      "outputs": [],
      "source": [
        "min_embedding_dim=16\n",
        "max_embedding_dim=1024\n",
        "\n",
        "\n",
        "def model_builder(hp):\n",
        "  model = keras.Sequential()\n",
        "  model.add(vectorize_layer)\n",
        "  hp_units_embed = hp.Int('units_emb_1', min_value=min_embedding_dim, max_value=max_embedding_dim, step=32)\n",
        "  model.add(Embedding(vocab_size,output_dim= hp_units_embed, name=\"embedding\"))\n",
        "  model.add(GlobalAveragePooling1D())\n",
        " \n",
        "  # # Tune the number of layers. Best to do it manually for now\n",
        "  # for i in range(hp.Int(\"num_layers\", 1, 3)):\n",
        "  #     model.add(\n",
        "  #         layers.Dense(\n",
        "  #             # Tune number of units separately.\n",
        "  #             units=hp.Int(f\"units_{i}\", min_value=382, max_value=512, step=32),\n",
        "  #             activation=hp.Choice(\"activation\", [\"relu\", \"tanh\"]),\n",
        "  #         )\n",
        "  #     )\n",
        "\n",
        "\n",
        "  # Tune the number of units in the first Dense layer + the activation function\n",
        "  # Choose an optimal value between 32-512\n",
        "  hp_units_1 = hp.Int('units_dense_1', min_value=200, max_value=1024, step=20)\n",
        "  hp_units_2 = hp.Int('units_dense_2', min_value=58, max_value=512, step=20)\n",
        "  hp_units_3 = hp.Int('units_dense_3', min_value=32, max_value=192, step=20)\n",
        "  hp_units_4 = hp.Int('units_dense_4', min_value=14, max_value=100, step=20)\n",
        "  \n",
        "  hp_drop_1 = hp.Choice('units_drop_1', values=[0.01, 0.05, 0.1,0.15, 0.2, 0.25, 0.3])\n",
        "  hp_drop_2 = hp.Choice('units_drop_2', values=[0.01, 0.05, 0.1,0.15, 0.2, 0.25, 0.3])\n",
        "\n",
        "\n",
        "  model.add(keras.layers.Dense(units=hp_units_1, activation= hp.Choice(\"activation_1\", [\"relu\", \"tanh\"])))\n",
        "  model.add(Dense(units=hp_units_2, activation=hp.Choice(\"activation_2\", [\"relu\", \"tanh\"])))\n",
        "  model.add(tf.keras.layers.Dropout(hp_drop_1)) \n",
        "  model.add(Dense(units=hp_units_3, activation=hp.Choice(\"activation_3\", [\"relu\", \"tanh\"])))\n",
        "  model.add(tf.keras.layers.Dropout(hp_drop_2))\n",
        "  model.add(Dense(units=hp_units_4, activation=hp.Choice(\"activation_4\", [\"relu\", \"tanh\"])))\n",
        "  model.add(Dense(len(class_names)))\n",
        "\n",
        "  # Tune the learning rate for the optimizer\n",
        "  # Choose an optimal value from 0.01, 0.005,  0.0011, 0.001,0.0009, 0.0005, 0.0001\n",
        "  hp_learning_rate = hp.Choice('learning_rate', values=[1e-2, 5e-3, 1.1e-3, 9e-4, 5e-4, 1e-4])\n",
        "\n",
        "  model.compile(optimizer=keras.optimizers.Adam(learning_rate=hp_learning_rate),\n",
        "                loss=keras.losses.SparseCategoricalCrossentropy(from_logits=True),\n",
        "                metrics=['accuracy'])\n",
        "\n",
        "  return model"
      ]
    },
    {
      "cell_type": "markdown",
      "metadata": {
        "id": "0J1VYw4q3x0b"
      },
      "source": [
        "## Instantiate the tuner and perform hypertuning\n",
        "\n",
        "Instantiate the tuner to perform the hypertuning. The Keras Tuner has four tuners available - `RandomSearch`, `Hyperband`, `BayesianOptimization`, and `Sklearn`. In this tutorial, you use the [Hyperband](https://arxiv.org/pdf/1603.06560.pdf) tuner.\n",
        "\n",
        "To instantiate the Hyperband tuner, you must specify the hypermodel, the `objective` to optimize and the maximum number of epochs to train (`max_epochs`)."
      ]
    },
    {
      "cell_type": "code",
      "execution_count": 8,
      "metadata": {
        "id": "oichQFly6Y46"
      },
      "outputs": [],
      "source": [
        "tuner = kt.Hyperband(model_builder,\n",
        "                     objective='val_accuracy',\n",
        "                     max_epochs=15,\n",
        "                     factor=3,\n",
        "                     directory='my_dir',\n",
        "                     project_name='intro_to_kt')"
      ]
    },
    {
      "cell_type": "markdown",
      "metadata": {
        "id": "VaIhhdKf9VtI"
      },
      "source": [
        "The Hyperband tuning algorithm uses adaptive resource allocation and early-stopping to quickly converge on a high-performing model. This is done using a sports championship style bracket. The algorithm trains a large number of models for a few epochs and carries forward only the top-performing half of models to the next round. Hyperband determines the number of models to train in a bracket by computing 1 + log<sub>`factor`</sub>(`max_epochs`) and rounding it up to the nearest integer."
      ]
    },
    {
      "cell_type": "markdown",
      "metadata": {
        "id": "cwhBdXx0Ekj8"
      },
      "source": [
        "Create a callback to stop training early after reaching a certain value for the validation loss."
      ]
    },
    {
      "cell_type": "code",
      "execution_count": 9,
      "metadata": {
        "id": "WT9IkS9NEjLc"
      },
      "outputs": [],
      "source": [
        "stop_early = tf.keras.callbacks.EarlyStopping(monitor='val_loss', patience=5)\n",
        "stop_early_val_accuracy = tf.keras.callbacks.EarlyStopping(monitor='val_accuracy', patience=5)"
      ]
    },
    {
      "cell_type": "markdown",
      "metadata": {
        "id": "UKghEo15Tduy"
      },
      "source": [
        "Run the hyperparameter search. The arguments for the search method are the same as those used for `tf.keras.model.fit` in addition to the callback above."
      ]
    },
    {
      "cell_type": "code",
      "execution_count": 10,
      "metadata": {
        "id": "dSBQcTHF9cKt",
        "colab": {
          "base_uri": "https://localhost:8080/"
        },
        "outputId": "b6d5695f-2985-47c6-e1c4-1b9c5b0ebfab"
      },
      "outputs": [
        {
          "output_type": "stream",
          "name": "stdout",
          "text": [
            "Trial 30 Complete [00h 00m 06s]\n",
            "val_accuracy: 0.1428571492433548\n",
            "\n",
            "Best val_accuracy So Far: 0.6571428775787354\n",
            "Total elapsed time: 00h 05m 05s\n",
            "Best Hyper parameters for the model are: {'units_emb_1': 912, 'units_dense_1': 220, 'units_dense_2': 458, 'units_dense_3': 92, 'units_dense_4': 74, 'units_drop_1': 0.1, 'units_drop_2': 0.1, 'activation_1': 'tanh', 'activation_2': 'tanh', 'activation_3': 'relu', 'activation_4': 'tanh', 'learning_rate': 0.0011, 'tuner/epochs': 15, 'tuner/initial_epoch': 5, 'tuner/bracket': 1, 'tuner/round': 1, 'tuner/trial_id': '0020'}\n",
            "The hyperparameter search is complete. The optimal number of units in the first densely-connected layer is 220 and the optimal learning rate for the optimizer is 0.0011.\n"
          ]
        }
      ],
      "source": [
        "tuner.search(train_ds, epochs=50, validation_data=val_ds, callbacks=[stop_early])\n",
        "\n",
        "# Get the optimal hyperparameters\n",
        "best_hps=tuner.get_best_hyperparameters(num_trials=1)[0]\n",
        "print(f\"Best Hyper parameters for the model are: {best_hps.values}\")\n",
        "print(f\"\"\"The hyperparameter search is complete. The optimal number of units in the first densely-connected layer is {best_hps.get('units_dense_1')} and the optimal learning rate for the optimizer is {best_hps.get('learning_rate')}.\"\"\")"
      ]
    },
    {
      "cell_type": "markdown",
      "metadata": {
        "id": "Lak_ylf88xBv"
      },
      "source": [
        "## Train the model\n",
        "\n",
        "Find the optimal number of epochs to train the model with the hyperparameters obtained from the search."
      ]
    },
    {
      "cell_type": "code",
      "execution_count": 11,
      "metadata": {
        "id": "McO82AXOuxXh",
        "colab": {
          "base_uri": "https://localhost:8080/"
        },
        "outputId": "7fde12b3-1ef0-45a8-b331-4cdd36e530cb"
      },
      "outputs": [
        {
          "output_type": "stream",
          "name": "stdout",
          "text": [
            "Epoch 1/50\n",
            "21/21 [==============================] - 2s 66ms/step - loss: 2.4083 - accuracy: 0.2217 - val_loss: 2.4554 - val_accuracy: 0.1429\n",
            "Epoch 2/50\n",
            "21/21 [==============================] - 1s 59ms/step - loss: 2.2555 - accuracy: 0.2414 - val_loss: 2.4563 - val_accuracy: 0.1429\n",
            "Epoch 3/50\n",
            "21/21 [==============================] - 1s 58ms/step - loss: 1.8833 - accuracy: 0.3202 - val_loss: 2.2074 - val_accuracy: 0.2286\n",
            "Epoch 4/50\n",
            "21/21 [==============================] - 1s 55ms/step - loss: 1.3100 - accuracy: 0.5714 - val_loss: 1.9425 - val_accuracy: 0.2857\n",
            "Epoch 5/50\n",
            "21/21 [==============================] - 1s 56ms/step - loss: 0.7381 - accuracy: 0.7291 - val_loss: 1.8991 - val_accuracy: 0.3143\n",
            "Epoch 6/50\n",
            "21/21 [==============================] - 1s 57ms/step - loss: 0.4551 - accuracy: 0.8522 - val_loss: 1.7861 - val_accuracy: 0.4571\n",
            "Epoch 7/50\n",
            "21/21 [==============================] - 1s 58ms/step - loss: 0.3319 - accuracy: 0.9113 - val_loss: 1.5081 - val_accuracy: 0.4857\n",
            "Epoch 8/50\n",
            "21/21 [==============================] - 1s 57ms/step - loss: 0.5254 - accuracy: 0.8128 - val_loss: 2.1029 - val_accuracy: 0.4286\n",
            "Epoch 9/50\n",
            "21/21 [==============================] - 1s 60ms/step - loss: 0.3063 - accuracy: 0.9015 - val_loss: 1.6822 - val_accuracy: 0.5143\n",
            "Epoch 10/50\n",
            "21/21 [==============================] - 1s 57ms/step - loss: 0.2838 - accuracy: 0.8966 - val_loss: 1.9425 - val_accuracy: 0.5143\n",
            "Epoch 11/50\n",
            "21/21 [==============================] - 1s 57ms/step - loss: 0.1956 - accuracy: 0.9409 - val_loss: 1.7748 - val_accuracy: 0.4857\n",
            "Epoch 12/50\n",
            "21/21 [==============================] - 1s 57ms/step - loss: 0.0889 - accuracy: 0.9852 - val_loss: 1.7254 - val_accuracy: 0.4857\n",
            "Epoch 13/50\n",
            "21/21 [==============================] - 1s 58ms/step - loss: 0.0350 - accuracy: 0.9901 - val_loss: 1.4346 - val_accuracy: 0.5429\n",
            "Epoch 14/50\n",
            "21/21 [==============================] - 1s 58ms/step - loss: 0.0282 - accuracy: 0.9951 - val_loss: 1.5047 - val_accuracy: 0.5143\n",
            "Epoch 15/50\n",
            "21/21 [==============================] - 1s 57ms/step - loss: 0.0312 - accuracy: 0.9951 - val_loss: 1.5520 - val_accuracy: 0.5714\n",
            "Epoch 16/50\n",
            "21/21 [==============================] - 1s 56ms/step - loss: 0.0220 - accuracy: 0.9951 - val_loss: 1.5321 - val_accuracy: 0.5143\n",
            "Epoch 17/50\n",
            "21/21 [==============================] - 1s 57ms/step - loss: 0.0228 - accuracy: 0.9951 - val_loss: 1.5737 - val_accuracy: 0.5429\n",
            "Epoch 18/50\n",
            "21/21 [==============================] - 1s 57ms/step - loss: 0.0166 - accuracy: 1.0000 - val_loss: 1.6889 - val_accuracy: 0.4286\n",
            "Epoch 19/50\n",
            "21/21 [==============================] - 1s 60ms/step - loss: 0.0178 - accuracy: 0.9901 - val_loss: 1.5852 - val_accuracy: 0.4857\n",
            "Epoch 20/50\n",
            "21/21 [==============================] - 1s 59ms/step - loss: 0.0174 - accuracy: 0.9901 - val_loss: 1.6350 - val_accuracy: 0.5143\n",
            "Epoch 21/50\n",
            "21/21 [==============================] - 1s 59ms/step - loss: 0.0150 - accuracy: 1.0000 - val_loss: 1.7219 - val_accuracy: 0.5143\n",
            "Epoch 22/50\n",
            "21/21 [==============================] - 1s 58ms/step - loss: 0.0159 - accuracy: 0.9951 - val_loss: 1.6693 - val_accuracy: 0.4571\n",
            "Epoch 23/50\n",
            "21/21 [==============================] - 1s 58ms/step - loss: 0.0196 - accuracy: 0.9901 - val_loss: 1.7405 - val_accuracy: 0.5143\n",
            "Epoch 24/50\n",
            "21/21 [==============================] - 1s 59ms/step - loss: 0.0160 - accuracy: 0.9951 - val_loss: 1.5416 - val_accuracy: 0.5143\n",
            "Epoch 25/50\n",
            "21/21 [==============================] - 1s 57ms/step - loss: 0.0152 - accuracy: 0.9901 - val_loss: 1.6729 - val_accuracy: 0.5429\n",
            "Epoch 26/50\n",
            "21/21 [==============================] - 1s 57ms/step - loss: 0.0135 - accuracy: 0.9951 - val_loss: 1.6808 - val_accuracy: 0.5143\n",
            "Epoch 27/50\n",
            "21/21 [==============================] - 1s 57ms/step - loss: 0.0115 - accuracy: 1.0000 - val_loss: 1.6600 - val_accuracy: 0.5143\n",
            "Epoch 28/50\n",
            "21/21 [==============================] - 1s 56ms/step - loss: 0.0119 - accuracy: 0.9951 - val_loss: 1.7633 - val_accuracy: 0.5429\n",
            "Epoch 29/50\n",
            "21/21 [==============================] - 1s 56ms/step - loss: 0.0138 - accuracy: 0.9951 - val_loss: 1.8215 - val_accuracy: 0.4571\n",
            "Epoch 30/50\n",
            "21/21 [==============================] - 1s 58ms/step - loss: 0.0144 - accuracy: 0.9951 - val_loss: 1.8249 - val_accuracy: 0.4571\n",
            "Epoch 31/50\n",
            "21/21 [==============================] - 1s 59ms/step - loss: 0.0133 - accuracy: 0.9951 - val_loss: 1.9084 - val_accuracy: 0.4286\n",
            "Epoch 32/50\n",
            "21/21 [==============================] - 1s 56ms/step - loss: 0.0098 - accuracy: 0.9951 - val_loss: 1.7403 - val_accuracy: 0.4857\n",
            "Epoch 33/50\n",
            "21/21 [==============================] - 1s 56ms/step - loss: 0.0161 - accuracy: 0.9901 - val_loss: 1.5057 - val_accuracy: 0.5143\n",
            "Epoch 34/50\n",
            "21/21 [==============================] - 1s 58ms/step - loss: 0.0150 - accuracy: 0.9951 - val_loss: 1.5518 - val_accuracy: 0.5429\n",
            "Epoch 35/50\n",
            "21/21 [==============================] - 1s 57ms/step - loss: 0.0142 - accuracy: 0.9901 - val_loss: 1.7012 - val_accuracy: 0.5429\n",
            "Epoch 36/50\n",
            "21/21 [==============================] - 1s 57ms/step - loss: 0.0130 - accuracy: 0.9901 - val_loss: 1.6354 - val_accuracy: 0.5143\n",
            "Epoch 37/50\n",
            "21/21 [==============================] - 1s 58ms/step - loss: 0.0128 - accuracy: 0.9951 - val_loss: 1.6607 - val_accuracy: 0.5714\n",
            "Epoch 38/50\n",
            "21/21 [==============================] - 1s 58ms/step - loss: 0.0098 - accuracy: 1.0000 - val_loss: 1.6633 - val_accuracy: 0.5714\n",
            "Epoch 39/50\n",
            "21/21 [==============================] - 1s 58ms/step - loss: 0.0104 - accuracy: 0.9951 - val_loss: 1.6553 - val_accuracy: 0.5714\n",
            "Epoch 40/50\n",
            "21/21 [==============================] - 1s 57ms/step - loss: 0.0098 - accuracy: 0.9951 - val_loss: 1.6520 - val_accuracy: 0.5429\n",
            "Epoch 41/50\n",
            "21/21 [==============================] - 1s 57ms/step - loss: 0.0107 - accuracy: 0.9951 - val_loss: 1.6997 - val_accuracy: 0.5714\n",
            "Epoch 42/50\n",
            "21/21 [==============================] - 1s 57ms/step - loss: 0.0090 - accuracy: 0.9951 - val_loss: 1.6996 - val_accuracy: 0.6000\n",
            "Epoch 43/50\n",
            "21/21 [==============================] - 1s 57ms/step - loss: 0.0115 - accuracy: 0.9951 - val_loss: 1.8987 - val_accuracy: 0.5143\n",
            "Epoch 44/50\n",
            "21/21 [==============================] - 1s 57ms/step - loss: 0.0124 - accuracy: 0.9951 - val_loss: 1.9312 - val_accuracy: 0.4857\n",
            "Epoch 45/50\n",
            "21/21 [==============================] - 1s 57ms/step - loss: 0.0091 - accuracy: 1.0000 - val_loss: 1.8988 - val_accuracy: 0.4571\n",
            "Epoch 46/50\n",
            "21/21 [==============================] - 1s 58ms/step - loss: 0.0104 - accuracy: 0.9951 - val_loss: 1.9544 - val_accuracy: 0.5143\n",
            "Epoch 47/50\n",
            "21/21 [==============================] - 1s 58ms/step - loss: 0.0088 - accuracy: 0.9951 - val_loss: 1.9717 - val_accuracy: 0.5143\n",
            "Epoch 48/50\n",
            "21/21 [==============================] - 1s 58ms/step - loss: 0.0126 - accuracy: 0.9951 - val_loss: 1.7727 - val_accuracy: 0.5429\n",
            "Epoch 49/50\n",
            "21/21 [==============================] - 1s 57ms/step - loss: 0.0128 - accuracy: 0.9901 - val_loss: 1.6842 - val_accuracy: 0.5429\n",
            "Epoch 50/50\n",
            "21/21 [==============================] - 1s 57ms/step - loss: 0.0084 - accuracy: 0.9951 - val_loss: 1.7476 - val_accuracy: 0.5429\n",
            "Best epoch: 42\n"
          ]
        }
      ],
      "source": [
        "# Build the model with the optimal hyperparameters and train it on the data for 50 epochs\n",
        "model = tuner.hypermodel.build(best_hps)\n",
        "history = model.fit(train_ds, epochs=50, validation_data=val_ds)\n",
        "\n",
        "val_acc_per_epoch = history.history['val_accuracy']\n",
        "best_epoch = val_acc_per_epoch.index(max(val_acc_per_epoch)) + 1\n",
        "print('Best epoch: %d' % (best_epoch,))"
      ]
    },
    {
      "cell_type": "markdown",
      "metadata": {
        "id": "uOTSirSTI3Gp"
      },
      "source": [
        "Re-instantiate the hypermodel and train it with the optimal number of epochs from above."
      ]
    },
    {
      "cell_type": "code",
      "execution_count": 12,
      "metadata": {
        "id": "NoiPUEHmMhCe",
        "colab": {
          "base_uri": "https://localhost:8080/"
        },
        "outputId": "46b726aa-35ad-490d-9843-a0ad7507b473"
      },
      "outputs": [
        {
          "output_type": "stream",
          "name": "stdout",
          "text": [
            "Epoch 1/42\n",
            "21/21 [==============================] - 2s 64ms/step - loss: 2.4047 - accuracy: 0.2118 - val_loss: 2.4842 - val_accuracy: 0.1429\n",
            "Epoch 2/42\n",
            "21/21 [==============================] - 1s 57ms/step - loss: 2.2791 - accuracy: 0.2414 - val_loss: 2.4663 - val_accuracy: 0.1429\n",
            "Epoch 3/42\n",
            "21/21 [==============================] - 1s 57ms/step - loss: 1.9491 - accuracy: 0.2808 - val_loss: 2.1904 - val_accuracy: 0.2000\n",
            "Epoch 4/42\n",
            "21/21 [==============================] - 1s 57ms/step - loss: 1.4070 - accuracy: 0.4975 - val_loss: 2.1406 - val_accuracy: 0.2571\n",
            "Epoch 5/42\n",
            "21/21 [==============================] - 1s 57ms/step - loss: 0.9468 - accuracy: 0.6700 - val_loss: 2.5377 - val_accuracy: 0.2857\n",
            "Epoch 6/42\n",
            "21/21 [==============================] - 1s 57ms/step - loss: 0.8195 - accuracy: 0.7044 - val_loss: 1.7035 - val_accuracy: 0.4000\n",
            "Epoch 7/42\n",
            "21/21 [==============================] - 1s 57ms/step - loss: 0.4974 - accuracy: 0.8670 - val_loss: 1.3766 - val_accuracy: 0.5143\n",
            "Epoch 8/42\n",
            "21/21 [==============================] - 1s 56ms/step - loss: 0.3033 - accuracy: 0.9015 - val_loss: 1.9227 - val_accuracy: 0.4857\n",
            "Epoch 9/42\n",
            "21/21 [==============================] - 1s 56ms/step - loss: 0.2031 - accuracy: 0.9409 - val_loss: 1.2911 - val_accuracy: 0.6000\n",
            "Epoch 10/42\n",
            "21/21 [==============================] - 1s 57ms/step - loss: 0.1096 - accuracy: 0.9754 - val_loss: 1.6252 - val_accuracy: 0.6286\n",
            "Epoch 11/42\n",
            "21/21 [==============================] - 1s 56ms/step - loss: 0.0907 - accuracy: 0.9852 - val_loss: 1.6715 - val_accuracy: 0.5143\n",
            "Epoch 12/42\n",
            "21/21 [==============================] - 1s 55ms/step - loss: 0.0468 - accuracy: 0.9951 - val_loss: 1.4274 - val_accuracy: 0.6571\n",
            "Epoch 13/42\n",
            "21/21 [==============================] - 1s 56ms/step - loss: 0.0349 - accuracy: 0.9951 - val_loss: 1.3914 - val_accuracy: 0.6571\n",
            "Epoch 14/42\n",
            "21/21 [==============================] - 1s 57ms/step - loss: 0.0252 - accuracy: 0.9951 - val_loss: 1.3827 - val_accuracy: 0.6000\n",
            "Epoch 15/42\n",
            "21/21 [==============================] - 1s 57ms/step - loss: 0.0247 - accuracy: 0.9951 - val_loss: 1.4162 - val_accuracy: 0.6000\n",
            "Epoch 16/42\n",
            "21/21 [==============================] - 1s 57ms/step - loss: 0.0286 - accuracy: 0.9951 - val_loss: 1.2546 - val_accuracy: 0.6857\n",
            "Epoch 17/42\n",
            "21/21 [==============================] - 1s 58ms/step - loss: 0.0178 - accuracy: 0.9951 - val_loss: 1.2989 - val_accuracy: 0.6857\n",
            "Epoch 18/42\n",
            "21/21 [==============================] - 1s 56ms/step - loss: 0.0166 - accuracy: 0.9951 - val_loss: 1.3111 - val_accuracy: 0.6857\n",
            "Epoch 19/42\n",
            "21/21 [==============================] - 1s 56ms/step - loss: 0.0164 - accuracy: 0.9951 - val_loss: 1.3574 - val_accuracy: 0.6857\n",
            "Epoch 20/42\n",
            "21/21 [==============================] - 1s 57ms/step - loss: 0.0191 - accuracy: 0.9951 - val_loss: 1.4018 - val_accuracy: 0.6571\n",
            "Epoch 21/42\n",
            "21/21 [==============================] - 1s 58ms/step - loss: 0.0147 - accuracy: 0.9951 - val_loss: 1.2767 - val_accuracy: 0.6857\n",
            "Epoch 22/42\n",
            "21/21 [==============================] - 1s 67ms/step - loss: 0.0144 - accuracy: 0.9951 - val_loss: 1.3586 - val_accuracy: 0.6571\n",
            "Epoch 23/42\n",
            "21/21 [==============================] - 1s 60ms/step - loss: 0.0124 - accuracy: 1.0000 - val_loss: 1.3402 - val_accuracy: 0.6286\n",
            "Epoch 24/42\n",
            "21/21 [==============================] - 1s 57ms/step - loss: 0.0136 - accuracy: 0.9951 - val_loss: 1.3679 - val_accuracy: 0.6571\n",
            "Epoch 25/42\n",
            "21/21 [==============================] - 1s 59ms/step - loss: 0.0170 - accuracy: 0.9901 - val_loss: 1.3165 - val_accuracy: 0.6571\n",
            "Epoch 26/42\n",
            "21/21 [==============================] - 1s 63ms/step - loss: 0.0193 - accuracy: 0.9901 - val_loss: 1.3969 - val_accuracy: 0.6000\n",
            "Epoch 27/42\n",
            "21/21 [==============================] - 1s 57ms/step - loss: 0.0141 - accuracy: 0.9951 - val_loss: 1.2245 - val_accuracy: 0.7143\n",
            "Epoch 28/42\n",
            "21/21 [==============================] - 1s 57ms/step - loss: 0.0139 - accuracy: 0.9901 - val_loss: 1.2311 - val_accuracy: 0.6857\n",
            "Epoch 29/42\n",
            "21/21 [==============================] - 1s 57ms/step - loss: 0.0130 - accuracy: 0.9951 - val_loss: 1.2729 - val_accuracy: 0.6857\n",
            "Epoch 30/42\n",
            "21/21 [==============================] - 1s 57ms/step - loss: 0.0138 - accuracy: 0.9951 - val_loss: 1.4775 - val_accuracy: 0.6286\n",
            "Epoch 31/42\n",
            "21/21 [==============================] - 1s 59ms/step - loss: 0.0134 - accuracy: 0.9951 - val_loss: 1.2355 - val_accuracy: 0.7143\n",
            "Epoch 32/42\n",
            "21/21 [==============================] - 1s 58ms/step - loss: 0.0100 - accuracy: 0.9951 - val_loss: 1.2122 - val_accuracy: 0.6857\n",
            "Epoch 33/42\n",
            "21/21 [==============================] - 1s 58ms/step - loss: 0.0124 - accuracy: 0.9951 - val_loss: 1.3242 - val_accuracy: 0.6571\n",
            "Epoch 34/42\n",
            "21/21 [==============================] - 1s 58ms/step - loss: 0.0095 - accuracy: 0.9951 - val_loss: 1.3584 - val_accuracy: 0.6286\n",
            "Epoch 35/42\n",
            "21/21 [==============================] - 1s 56ms/step - loss: 0.0127 - accuracy: 0.9901 - val_loss: 1.3460 - val_accuracy: 0.6286\n",
            "Epoch 36/42\n",
            "21/21 [==============================] - 1s 57ms/step - loss: 0.0181 - accuracy: 0.9951 - val_loss: 1.3604 - val_accuracy: 0.5429\n",
            "Epoch 37/42\n",
            "21/21 [==============================] - 1s 57ms/step - loss: 0.0169 - accuracy: 0.9951 - val_loss: 1.4351 - val_accuracy: 0.6000\n",
            "Epoch 38/42\n",
            "21/21 [==============================] - 1s 58ms/step - loss: 0.0127 - accuracy: 0.9951 - val_loss: 1.3606 - val_accuracy: 0.6286\n",
            "Epoch 39/42\n",
            "21/21 [==============================] - 1s 58ms/step - loss: 0.0094 - accuracy: 0.9951 - val_loss: 1.3713 - val_accuracy: 0.6286\n",
            "Epoch 40/42\n",
            "21/21 [==============================] - 1s 58ms/step - loss: 0.0102 - accuracy: 0.9951 - val_loss: 1.4092 - val_accuracy: 0.6286\n",
            "Epoch 41/42\n",
            "21/21 [==============================] - 1s 57ms/step - loss: 0.0128 - accuracy: 0.9951 - val_loss: 1.4274 - val_accuracy: 0.6286\n",
            "Epoch 42/42\n",
            "21/21 [==============================] - 1s 61ms/step - loss: 0.0112 - accuracy: 0.9951 - val_loss: 1.3102 - val_accuracy: 0.6571\n"
          ]
        },
        {
          "output_type": "execute_result",
          "data": {
            "text/plain": [
              "<keras.callbacks.History at 0x7f62da6f0590>"
            ]
          },
          "metadata": {},
          "execution_count": 12
        }
      ],
      "source": [
        "hypermodel = tuner.hypermodel.build(best_hps)\n",
        "\n",
        "# Retrain the model\n",
        "hypermodel.fit(train_ds, epochs=best_epoch, validation_data=val_ds)"
      ]
    },
    {
      "cell_type": "markdown",
      "source": [
        "## Model Evaluation and Metrics"
      ],
      "metadata": {
        "id": "IQFkUEWLtLm6"
      }
    },
    {
      "cell_type": "code",
      "source": [
        "# Model Evaluation\n",
        "\n",
        "# eval_result = hypermodel.evaluate(test_ds)\n",
        "# print(\"[test loss, test accuracy]:\", eval_result)\n",
        "\n",
        "# Model Metrics\n",
        "from sklearn.datasets import make_circles\n",
        "from sklearn.metrics import accuracy_score\n",
        "from sklearn.metrics import precision_score\n",
        "from sklearn.metrics import recall_score\n",
        "from sklearn.metrics import f1_score\n",
        "from sklearn.metrics import cohen_kappa_score\n",
        "from sklearn.metrics import roc_auc_score\n",
        "from sklearn.metrics import confusion_matrix\n",
        "import numpy as np\n",
        "\n",
        "# y_labels = val_ds.map(lambda x,y: y)\n",
        "# y_labels = y_labels.as_numpy_iterator()\n",
        "\n",
        "### Test_ds metrics\n",
        "# print(\"Test dataset metrics:\")\n",
        "# Reduce to 1D Array\n",
        "# y_labels = np.concatenate([y for x, y in test_ds], axis=0)\n",
        "\n",
        "# y_hat_probs = hypermodel.predict(test_ds)\n",
        "\n",
        "# y_hat_classes = y_hat_probs.argmax(axis=-1)\n",
        "\n",
        "\n",
        "## accuracy: (tp + tn) / (p + n)\n",
        "# accuracy = accuracy_score(y_labels, y_hat_classes)\n",
        "# print('Accuracy: %f' % accuracy)\n",
        "\n",
        "## precision tp / (tp + fp)\n",
        "# precision = precision_score(y_labels, y_hat_classes, average=None)\n",
        "# print('Precision (None): %f' % precision.sum())\n",
        "# precision = precision_score(y_labels, y_hat_classes, average='micro')\n",
        "# print('Precision (micro): %f' % precision)\n",
        "# precision = precision_score(y_labels, y_hat_classes, average= 'macro')\n",
        "# print('Precision (macro): %f' % precision)\n",
        "# precision = precision_score(y_labels, y_hat_classes, average= 'weighted')\n",
        "# print('Precision (weighted): %f' % precision)\n",
        "\n",
        "## recall: tp / (tp + fn)\n",
        "# recall = recall_score(y_labels, y_hat_classes, average='micro')\n",
        "# print('Recall (micro): %f' % recall)\n",
        "# recall = recall_score(y_labels, y_hat_classes, average='macro')\n",
        "# print('Recall (macro): %f' % recall)\n",
        "# recall = recall_score(y_labels, y_hat_classes, average='samples')\n",
        "# print('Recall (samples): %f' % recall)\n",
        "# recall = recall_score(y_labels, y_hat_classes, average='weighted')\n",
        "# print('Recall (weighted): %f' % recall)\n",
        "\n",
        "## f1: 2 tp / (2 tp + fp + fn)\n",
        "# f1 = f1_score(y_labels, y_hat_classes, average='micro')\n",
        "# print('F1 score (micro): %f' % f1)\n",
        "# f1 = f1_score(y_labels, y_hat_classes, average='macro')\n",
        "# print('F1 score (macro): %f' % f1)\n",
        "# f1 = f1_score(y_labels, y_hat_classes, average='weighted')\n",
        "# print('F1 score (weighted): %f' % f1)\n",
        " \n",
        "## kappa\n",
        "# kappa = cohen_kappa_score(y_labels, y_hat_classes)\n",
        "# print('Cohens kappa: %f' % kappa)\n",
        "\n",
        "## ROC AUC\n",
        "# print(np.sum(y_hat_probs))\n",
        "# y_hat_probs = y_hat_probs / np.sum(y_hat_probs)\n",
        "# print(np.sum(y_hat_probs))\n",
        "# auc = roc_auc_score(y_labels, y_hat_probs, multi_class='ovo')\n",
        "# print('ROC AUC: %f' % auc)\n",
        "\n",
        "## confusion matrix\n",
        "# matrix = confusion_matrix(y_labels, y_hat_classes)\n",
        "# print(matrix)\n",
        "# print(\"\\n\\n\")\n",
        "\n",
        "### Val_ds metrics \n",
        "print(\"Validation dataset metrics:\")\n",
        "\n",
        "# Reduce to 1D Array\n",
        "y_labels = np.concatenate([y for x, y in val_ds], axis=0)\n",
        "\n",
        "y_hat_probs = hypermodel.predict(val_ds)\n",
        "\n",
        "y_hat_classes = y_hat_probs.argmax(axis=-1)\n",
        "\n",
        "\n",
        "## accuracy: (tp + tn) / (p + n)\n",
        "accuracy = accuracy_score(y_labels, y_hat_classes)\n",
        "print('Accuracy: %f' % accuracy)\n",
        "\n",
        "## precision tp / (tp + fp)\n",
        "precision = precision_score(y_labels, y_hat_classes, average=None)\n",
        "print('Precision (None): %f' % precision.sum())\n",
        "precision = precision_score(y_labels, y_hat_classes, average='micro')\n",
        "print('Precision (micro): %f' % precision)\n",
        "precision = precision_score(y_labels, y_hat_classes, average= 'macro')\n",
        "print('Precision (macro): %f' % precision)\n",
        "# precision = precision_score(y_labels, y_hat_classes, average= 'samples')\n",
        "# print('Precision (samples): %f' % precision)\n",
        "precision = precision_score(y_labels, y_hat_classes, average= 'weighted')\n",
        "print('Precision (weighted): %f' % precision)\n",
        "\n",
        "## recall: tp / (tp + fn)\n",
        "recall = recall_score(y_labels, y_hat_classes, average='micro')\n",
        "print('Recall (micro): %f' % recall)\n",
        "recall = recall_score(y_labels, y_hat_classes, average='macro')\n",
        "print('Recall (macro): %f' % recall)\n",
        "# recall = recall_score(y_labels, y_hat_classes, average='samples')\n",
        "# print('Recall (samples): %f' % recall)\n",
        "recall = recall_score(y_labels, y_hat_classes, average='weighted')\n",
        "print('Recall (weighted): %f' % recall)\n",
        "\n",
        "## f1: 2 tp / (2 tp + fp + fn)\n",
        "f1 = f1_score(y_labels, y_hat_classes, average='micro')\n",
        "print('F1 score (micro): %f' % f1)\n",
        "f1 = f1_score(y_labels, y_hat_classes, average='macro')\n",
        "print('F1 score (macro): %f' % f1)\n",
        "f1 = f1_score(y_labels, y_hat_classes, average='weighted')\n",
        "print('F1 score (weighted): %f' % f1)\n",
        " \n",
        "## kappa\n",
        "kappa = cohen_kappa_score(y_labels, y_hat_classes)\n",
        "print('Cohens kappa: %f' % kappa)\n",
        "\n",
        "## ROC AUC\n",
        "# print(np.sum(y_hat_probs))\n",
        "# y_hat_probs = y_hat_probs / np.sum(y_hat_probs)\n",
        "# print(np.sum(y_hat_probs))\n",
        "# auc = roc_auc_score(y_labels, y_hat_probs, multi_class='ovo')\n",
        "# print('ROC AUC: %f' % auc)\n",
        "\n",
        "## confusion matrix\n",
        "matrix = confusion_matrix(y_labels, y_hat_classes)\n",
        "print(matrix)"
      ],
      "metadata": {
        "id": "GDZ3ySZQsasX",
        "outputId": "29bdd926-5b95-4b4c-a7b8-3b1de76b0a0c",
        "colab": {
          "base_uri": "https://localhost:8080/"
        }
      },
      "execution_count": 14,
      "outputs": [
        {
          "output_type": "stream",
          "name": "stdout",
          "text": [
            "Validation dataset metrics:\n",
            "Accuracy: 0.657143\n",
            "Precision (None): 7.333333\n",
            "Precision (micro): 0.657143\n",
            "Precision (macro): 0.611111\n",
            "Precision (weighted): 0.638095\n",
            "Recall (micro): 0.657143\n",
            "Recall (macro): 0.661111\n",
            "Recall (weighted): 0.657143\n",
            "F1 score (micro): 0.657143\n",
            "F1 score (macro): 0.606566\n",
            "F1 score (weighted): 0.631255\n",
            "Cohens kappa: 0.617834\n",
            "[[2 0 0 0 0 0 0 0 0 0 0 0]\n",
            " [0 3 1 0 0 0 0 1 0 0 0 0]\n",
            " [0 1 0 0 0 0 0 0 0 1 0 0]\n",
            " [1 0 0 3 0 0 0 0 0 0 0 0]\n",
            " [0 0 1 1 1 0 0 0 0 0 0 0]\n",
            " [0 0 0 0 0 2 0 0 0 0 0 0]\n",
            " [0 0 0 0 0 0 6 0 0 0 0 0]\n",
            " [0 0 0 0 0 0 0 1 0 0 0 0]\n",
            " [0 2 0 0 0 0 0 1 0 0 0 0]\n",
            " [1 0 0 0 0 0 0 0 0 3 0 0]\n",
            " [0 0 0 0 0 0 0 0 0 0 1 0]\n",
            " [0 0 0 0 1 0 0 0 0 0 0 1]]\n"
          ]
        },
        {
          "output_type": "stream",
          "name": "stderr",
          "text": [
            "/usr/local/lib/python3.7/dist-packages/sklearn/metrics/_classification.py:1318: UndefinedMetricWarning: Precision is ill-defined and being set to 0.0 in labels with no predicted samples. Use `zero_division` parameter to control this behavior.\n",
            "  _warn_prf(average, modifier, msg_start, len(result))\n",
            "/usr/local/lib/python3.7/dist-packages/sklearn/metrics/_classification.py:1318: UndefinedMetricWarning: Precision is ill-defined and being set to 0.0 in labels with no predicted samples. Use `zero_division` parameter to control this behavior.\n",
            "  _warn_prf(average, modifier, msg_start, len(result))\n",
            "/usr/local/lib/python3.7/dist-packages/sklearn/metrics/_classification.py:1318: UndefinedMetricWarning: Precision is ill-defined and being set to 0.0 in labels with no predicted samples. Use `zero_division` parameter to control this behavior.\n",
            "  _warn_prf(average, modifier, msg_start, len(result))\n"
          ]
        }
      ]
    },
    {
      "cell_type": "markdown",
      "metadata": {
        "id": "EQRpPHZsz-eC"
      },
      "source": [
        "The `my_dir/intro_to_kt` directory contains detailed logs and checkpoints for every trial (model configuration) run during the hyperparameter search. If you re-run the hyperparameter search, the Keras Tuner uses the existing state from these logs to resume the search. To disable this behavior, pass an additional `overwrite=True` argument while instantiating the tuner."
      ]
    },
    {
      "cell_type": "markdown",
      "metadata": {
        "id": "sKwLOzKpFGAj"
      },
      "source": [
        "## Summary\n",
        "\n",
        "In this tutorial, you learned how to use the Keras Tuner to tune hyperparameters for a model. To learn more about the Keras Tuner, check out these additional resources:\n",
        "\n",
        "* [Keras Tuner on the TensorFlow blog](https://blog.tensorflow.org/2020/01/hyperparameter-tuning-with-keras-tuner.html)\n",
        "* [Keras Tuner website](https://keras-team.github.io/keras-tuner/)\n",
        "\n",
        "Also check out the [HParams Dashboard](https://www.tensorflow.org/tensorboard/hyperparameter_tuning_with_hparams) in TensorBoard to interactively tune your model hyperparameters."
      ]
    }
  ],
  "metadata": {
    "accelerator": "GPU",
    "colab": {
      "collapsed_sections": [
        "Tce3stUlHN0L"
      ],
      "name": "keras_tuner.ipynb",
      "provenance": [],
      "machine_shape": "hm"
    },
    "kernelspec": {
      "display_name": "Python 3",
      "name": "python3"
    },
    "gpuClass": "standard"
  },
  "nbformat": 4,
  "nbformat_minor": 0
}
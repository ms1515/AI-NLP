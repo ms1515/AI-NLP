{
  "cells": [
    {
      "cell_type": "markdown",
      "metadata": {
        "id": "qFdPvlXBOdUN"
      },
      "source": [
        "# Introduction to the Keras Tuner"
      ]
    },
    {
      "cell_type": "markdown",
      "metadata": {
        "id": "MfBg1C5NB3X0"
      },
      "source": [
        "<table class=\"tfo-notebook-buttons\" align=\"left\">\n",
        "  <td>\n",
        "    <a target=\"_blank\" href=\"https://www.tensorflow.org/tutorials/keras/keras_tuner\"><img src=\"https://www.tensorflow.org/images/tf_logo_32px.png\" />View on TensorFlow.org</a>\n",
        "  </td>\n",
        "  <td>\n",
        "    <a target=\"_blank\" href=\"https://colab.research.google.com/github/tensorflow/docs/blob/master/site/en/tutorials/keras/keras_tuner.ipynb\"><img src=\"https://www.tensorflow.org/images/colab_logo_32px.png\" />Run in Google Colab</a>\n",
        "  </td>\n",
        "  <td>\n",
        "    <a target=\"_blank\" href=\"https://github.com/tensorflow/docs/blob/master/site/en/tutorials/keras/keras_tuner.ipynb\"><img src=\"https://www.tensorflow.org/images/GitHub-Mark-32px.png\" />View source on GitHub</a>\n",
        "  </td>\n",
        "  <td>\n",
        "    <a href=\"https://storage.googleapis.com/tensorflow_docs/docs/site/en/tutorials/keras/keras_tuner.ipynb\"><img src=\"https://www.tensorflow.org/images/download_logo_32px.png\" />Download notebook</a>\n",
        "  </td>\n",
        "</table>"
      ]
    },
    {
      "cell_type": "markdown",
      "metadata": {
        "id": "xHxb-dlhMIzW"
      },
      "source": [
        "## Overview\n",
        "\n",
        "The Keras Tuner is a library that helps you pick the optimal set of hyperparameters for your TensorFlow program. The process of selecting the right set of hyperparameters for your machine learning (ML) application is called *hyperparameter tuning* or *hypertuning*.\n",
        "\n",
        "Hyperparameters are the variables that govern the training process and the topology of an ML model. These variables remain constant over the training process and directly impact the performance of your ML program. Hyperparameters are of two types:\n",
        "1. **Model hyperparameters** which influence model selection such as the number and width of hidden layers\n",
        "2. **Algorithm hyperparameters** which influence the speed and quality of the learning algorithm such as the learning rate for Stochastic Gradient Descent (SGD) and the number of nearest neighbors for a k Nearest Neighbors (KNN) classifier\n",
        "\n",
        "In this tutorial, you will use the Keras Tuner to perform hypertuning for an image classification application."
      ]
    },
    {
      "cell_type": "markdown",
      "metadata": {
        "id": "MUXex9ctTuDB"
      },
      "source": [
        "## Setup"
      ]
    },
    {
      "cell_type": "code",
      "execution_count": 1,
      "metadata": {
        "id": "IqR2PQG4ZaZ0"
      },
      "outputs": [],
      "source": [
        "import io\n",
        "import re\n",
        "import string\n",
        "import tensorflow as tf\n",
        "from tensorflow import keras\n",
        "from tensorflow.keras import Sequential\n",
        "from tensorflow.keras.layers import Dense, Embedding, GlobalAveragePooling1D\n",
        "from tensorflow.keras.layers import TextVectorization\n"
      ]
    },
    {
      "cell_type": "markdown",
      "metadata": {
        "id": "g83Lwsy-Aq2_"
      },
      "source": [
        "Install and import the Keras Tuner."
      ]
    },
    {
      "cell_type": "code",
      "execution_count": 2,
      "metadata": {
        "id": "hpMLpbt9jcO6",
        "outputId": "02390090-2530-4772-ade9-14cc21adfd17",
        "colab": {
          "base_uri": "https://localhost:8080/"
        }
      },
      "outputs": [
        {
          "output_type": "stream",
          "name": "stdout",
          "text": [
            "\u001b[K     |████████████████████████████████| 135 kB 7.4 MB/s \n",
            "\u001b[K     |████████████████████████████████| 1.6 MB 62.9 MB/s \n",
            "\u001b[?25h"
          ]
        }
      ],
      "source": [
        "!pip install -q -U keras-tuner"
      ]
    },
    {
      "cell_type": "code",
      "execution_count": 3,
      "metadata": {
        "id": "_leAIdFKAxAD"
      },
      "outputs": [],
      "source": [
        "import keras_tuner as kt"
      ]
    },
    {
      "cell_type": "markdown",
      "metadata": {
        "id": "ReV_UXOgCZvx"
      },
      "source": [
        "## Download and prepare the dataset\n",
        "\n",
        "In this tutorial, you will use the Keras Tuner to find the best hyperparameters for a machine learning model that classifies images of clothing from the [Fashion MNIST dataset](https://github.com/zalandoresearch/fashion-mnist)."
      ]
    },
    {
      "cell_type": "markdown",
      "metadata": {
        "id": "HljH_ENLEdHa"
      },
      "source": [
        "Load the data."
      ]
    },
    {
      "cell_type": "code",
      "execution_count": 4,
      "metadata": {
        "id": "OHlHs9Wj_PUM",
        "outputId": "d0716d12-2058-439d-dd85-d5a2cf9a4724",
        "colab": {
          "base_uri": "https://localhost:8080/"
        }
      },
      "outputs": [
        {
          "output_type": "stream",
          "name": "stdout",
          "text": [
            "Downloading data from https://github.com/eyalmazuz/AttackAttributionDataset/archive/refs/heads/master.zip\n",
            "1179648/Unknown - 0s 0us/step"
          ]
        }
      ],
      "source": [
        "url = 'https://github.com/eyalmazuz/AttackAttributionDataset/archive/refs/heads/master.zip' \n",
        "\n",
        "dataset = tf.keras.utils.get_file('master.zip', url,extract=True, cache_dir='.',cache_subdir='')"
      ]
    },
    {
      "cell_type": "code",
      "execution_count": 5,
      "metadata": {
        "id": "bLVhXs3xrUD0",
        "colab": {
          "base_uri": "https://localhost:8080/"
        },
        "outputId": "a795026f-0a4c-44f7-ca87-716f2fb9bd41"
      },
      "outputs": [
        {
          "output_type": "stream",
          "name": "stdout",
          "text": [
            "Found 238 files belonging to 12 classes.\n",
            "Using 203 files for training.\n",
            "Found 238 files belonging to 12 classes.\n",
            "Using 35 files for validation.\n"
          ]
        }
      ],
      "source": [
        "# Normalize pixel values between 0 and 1\n",
        "AUTOTUNE = tf.data.AUTOTUNE\n",
        "batch_size = 5\n",
        "seed = 42\n",
        "\n",
        "train_ds = tf.keras.utils.text_dataset_from_directory(\n",
        "    'AttackAttributionDataset-master',\n",
        "    batch_size=batch_size,\n",
        "    validation_split=0.15,\n",
        "    subset='training',\n",
        "    seed=seed)\n",
        "\n",
        "class_names = train_ds.class_names\n",
        "train_ds = train_ds.cache().prefetch(buffer_size=AUTOTUNE)\n",
        "\n",
        "val_ds = tf.keras.utils.text_dataset_from_directory(\n",
        "    'AttackAttributionDataset-master',\n",
        "    batch_size=batch_size,\n",
        "    validation_split=0.15,\n",
        "    subset='validation',\n",
        "    seed=seed)\n",
        "\n",
        "val_ds = val_ds.cache().prefetch(buffer_size=AUTOTUNE)\n"
      ]
    },
    {
      "cell_type": "markdown",
      "source": [
        "# Text preprocessing\n",
        "Next, define the dataset preprocessing steps required for your sentiment classification model. Initialize a TextVectorization layer with the desired parameters to vectorize movie reviews. "
      ],
      "metadata": {
        "id": "WnVZRo27eo2m"
      }
    },
    {
      "cell_type": "code",
      "source": [
        "# Create a custom standardization function to strip HTML break tags '<br />'.\n",
        "def custom_standardization(input_data):\n",
        "  lowercase = tf.strings.lower(input_data)\n",
        "  stripped_html = tf.strings.regex_replace(lowercase, '<br />', ' ')\n",
        "  return tf.strings.regex_replace(stripped_html,\n",
        "                                  '[%s]' % re.escape(string.punctuation), '')\n",
        "\n",
        "\n",
        "# Vocabulary size and number of words in a sequence.\n",
        "vocab_size = 100000\n",
        "sequence_length = 1000\n",
        "\n",
        "# Use the text vectorization layer to normalize, split, and map strings to\n",
        "# integers. Note that the layer uses the custom standardization defined above.\n",
        "# Set maximum_sequence length as all samples are not of the same length.\n",
        "vectorize_layer = TextVectorization(\n",
        "    standardize=custom_standardization,\n",
        "    max_tokens=vocab_size,\n",
        "    output_mode='int',\n",
        "    output_sequence_length=sequence_length)\n",
        "\n",
        "# Make a text-only dataset (no labels) and call adapt to build the vocabulary.\n",
        "text_ds = train_ds.map(lambda x, y: x)\n",
        "vectorize_layer.adapt(text_ds)"
      ],
      "metadata": {
        "id": "_5RrIMMCeme_"
      },
      "execution_count": 6,
      "outputs": []
    },
    {
      "cell_type": "markdown",
      "metadata": {
        "id": "K5YEL2H2Ax3e"
      },
      "source": [
        "# Define the model\n",
        "\n",
        "When you build a model for hypertuning, you also define the hyperparameter search space in addition to the model architecture. The model you set up for hypertuning is called a *hypermodel*.\n",
        "\n",
        "You can define a hypermodel through two approaches:\n",
        "\n",
        "* By using a model builder function\n",
        "* By subclassing the `HyperModel` class of the Keras Tuner API\n",
        "\n",
        "You can also use two pre-defined [HyperModel](https://keras.io/api/keras_tuner/hypermodels/) classes - [HyperXception](https://keras.io/api/keras_tuner/hypermodels/hyper_xception/) and [HyperResNet](https://keras.io/api/keras_tuner/hypermodels/hyper_resnet/) for computer vision applications.\n",
        "\n",
        "In this tutorial, you use a model builder function to define the image classification model. The model builder function returns a compiled model and uses hyperparameters you define inline to hypertune the model."
      ]
    },
    {
      "cell_type": "code",
      "execution_count": 7,
      "metadata": {
        "id": "ZQKodC-jtsva"
      },
      "outputs": [],
      "source": [
        "min_embedding_dim=16\n",
        "max_embedding_dim=1024\n",
        "\n",
        "min_vocab_size = 10000\n",
        "max_vocab_size = 1000000\n",
        "\n",
        "def model_builder(hp):\n",
        "  model = keras.Sequential()\n",
        "  model.add(vectorize_layer)\n",
        "  hp_units_embed = hp.Int('units_emb_1', min_value=min_embedding_dim, max_value=max_embedding_dim, step=32)\n",
        "  model.add(Embedding(100000, output_dim= hp_units_embed, name=\"embedding\"))\n",
        "  model.add(GlobalAveragePooling1D())\n",
        " \n",
        "  # # Tune the number of layers. Best to do it manually for now\n",
        "  # for i in range(hp.Int(\"num_layers\", 1, 3)):\n",
        "  #     model.add(\n",
        "  #         layers.Dense(\n",
        "  #             # Tune number of units separately.\n",
        "  #             units=hp.Int(f\"units_{i}\", min_value=382, max_value=512, step=32),\n",
        "  #             activation=hp.Choice(\"activation\", [\"relu\", \"tanh\"]),\n",
        "  #         )\n",
        "  #     )\n",
        "\n",
        "\n",
        "  # Tune the number of units in the first Dense layer + the activation function\n",
        "  # Choose an optimal value between 32-512\n",
        "  hp_units_1 = hp.Int('units_dense_1', min_value=200, max_value=1024, step=20)\n",
        "  hp_units_2 = hp.Int('units_dense_2', min_value=58, max_value=512, step=15)\n",
        "  hp_units_3 = hp.Int('units_dense_3', min_value=32, max_value=250, step=15)\n",
        "  hp_units_4 = hp.Int('units_dense_4', min_value=12, max_value=100, step=15)\n",
        "  hp_drop_1 = hp.Choice('units_drop_1', values=[0.01, 0.05, 0.1,0.15, 0.2, 0.25, 0.3])\n",
        "  hp_drop_2 = hp.Choice('units_drop_2', values=[0.01, 0.05, 0.1,0.15, 0.2, 0.25, 0.3])\n",
        "\n",
        "\n",
        "  model.add(keras.layers.Dense(units=hp_units_1, activation= hp.Choice(\"activation_1\", [\"relu\", \"tanh\"])))\n",
        "  model.add(Dense(units=hp_units_2, activation=hp.Choice(\"activation_2\", [\"relu\", \"tanh\"])))\n",
        "  model.add(tf.keras.layers.Dropout(hp_drop_1)) \n",
        "  model.add(Dense(units=hp_units_3, activation=hp.Choice(\"activation_3\", [\"relu\", \"tanh\"])))\n",
        "  model.add(tf.keras.layers.Dropout(hp_drop_2))\n",
        "  model.add(Dense(units=hp_units_4, activation=hp.Choice(\"activation_4\", [\"relu\", \"tanh\"])))\n",
        "  model.add(Dense(len(class_names)))\n",
        "\n",
        "  # Tune the learning rate for the optimizer\n",
        "  # Choose an optimal value from 0.01, 0.005,  0.0011, 0.001,0.0009, 0.0005, 0.0001\n",
        "  hp_learning_rate = hp.Choice('learning_rate', values=[1e-2, 5e-3, 1.1e-3, 9e-4, 5e-4, 1e-4])\n",
        "\n",
        "  model.compile(optimizer=keras.optimizers.Adam(learning_rate=hp_learning_rate),\n",
        "                loss=keras.losses.SparseCategoricalCrossentropy(from_logits=True),\n",
        "                metrics=['accuracy'])\n",
        "\n",
        "  return model"
      ]
    },
    {
      "cell_type": "markdown",
      "metadata": {
        "id": "0J1VYw4q3x0b"
      },
      "source": [
        "## Instantiate the tuner and perform hypertuning\n",
        "\n",
        "Instantiate the tuner to perform the hypertuning. The Keras Tuner has four tuners available - `RandomSearch`, `Hyperband`, `BayesianOptimization`, and `Sklearn`. In this tutorial, you use the [Hyperband](https://arxiv.org/pdf/1603.06560.pdf) tuner.\n",
        "\n",
        "To instantiate the Hyperband tuner, you must specify the hypermodel, the `objective` to optimize and the maximum number of epochs to train (`max_epochs`)."
      ]
    },
    {
      "cell_type": "code",
      "execution_count": 8,
      "metadata": {
        "id": "oichQFly6Y46"
      },
      "outputs": [],
      "source": [
        "tuner = kt.Hyperband(model_builder,\n",
        "                     objective='val_accuracy',\n",
        "                     max_epochs=15,\n",
        "                     factor=3,\n",
        "                     directory='my_dir',\n",
        "                     project_name='intro_to_kt')"
      ]
    },
    {
      "cell_type": "markdown",
      "metadata": {
        "id": "VaIhhdKf9VtI"
      },
      "source": [
        "The Hyperband tuning algorithm uses adaptive resource allocation and early-stopping to quickly converge on a high-performing model. This is done using a sports championship style bracket. The algorithm trains a large number of models for a few epochs and carries forward only the top-performing half of models to the next round. Hyperband determines the number of models to train in a bracket by computing 1 + log<sub>`factor`</sub>(`max_epochs`) and rounding it up to the nearest integer."
      ]
    },
    {
      "cell_type": "markdown",
      "metadata": {
        "id": "cwhBdXx0Ekj8"
      },
      "source": [
        "Create a callback to stop training early after reaching a certain value for the validation loss."
      ]
    },
    {
      "cell_type": "code",
      "execution_count": 9,
      "metadata": {
        "id": "WT9IkS9NEjLc"
      },
      "outputs": [],
      "source": [
        "stop_early = tf.keras.callbacks.EarlyStopping(monitor='val_loss', patience=5)\n",
        "stop_early_val_accuracy = tf.keras.callbacks.EarlyStopping(monitor='val_accuracy', patience=5)"
      ]
    },
    {
      "cell_type": "markdown",
      "metadata": {
        "id": "UKghEo15Tduy"
      },
      "source": [
        "Run the hyperparameter search. The arguments for the search method are the same as those used for `tf.keras.model.fit` in addition to the callback above."
      ]
    },
    {
      "cell_type": "code",
      "execution_count": 10,
      "metadata": {
        "id": "dSBQcTHF9cKt",
        "colab": {
          "base_uri": "https://localhost:8080/"
        },
        "outputId": "1f5f354d-c100-47e9-a999-106bc873fd59"
      },
      "outputs": [
        {
          "output_type": "stream",
          "name": "stdout",
          "text": [
            "Trial 30 Complete [00h 00m 40s]\n",
            "val_accuracy: 0.2571428716182709\n",
            "\n",
            "Best val_accuracy So Far: 0.5428571701049805\n",
            "Total elapsed time: 00h 05m 34s\n",
            "Best Hyper parameters for the model are: {'units_emb_1': 848, 'units_dense_1': 440, 'units_dense_2': 223, 'units_dense_3': 122, 'units_dense_4': 72, 'units_drop_1': 0.1, 'units_drop_2': 0.15, 'activation_1': 'relu', 'activation_2': 'tanh', 'activation_3': 'tanh', 'activation_4': 'relu', 'learning_rate': 0.0009, 'tuner/epochs': 15, 'tuner/initial_epoch': 0, 'tuner/bracket': 0, 'tuner/round': 0}\n",
            "The hyperparameter search is complete. The optimal number of units in the first densely-connected layer is 440 and the optimal learning rate for the optimizer is 0.0009.\n"
          ]
        }
      ],
      "source": [
        "tuner.search(train_ds, epochs=50, validation_data=val_ds, callbacks=[stop_early])\n",
        "\n",
        "# Get the optimal hyperparameters\n",
        "best_hps=tuner.get_best_hyperparameters(num_trials=1)[0]\n",
        "print(f\"Best Hyper parameters for the model are: {best_hps.values}\")\n",
        "print(f\"\"\"The hyperparameter search is complete. The optimal number of units in the first densely-connected layer is {best_hps.get('units_dense_1')} and the optimal learning rate for the optimizer is {best_hps.get('learning_rate')}.\"\"\")"
      ]
    },
    {
      "cell_type": "markdown",
      "metadata": {
        "id": "Lak_ylf88xBv"
      },
      "source": [
        "## Train the model\n",
        "\n",
        "Find the optimal number of epochs to train the model with the hyperparameters obtained from the search."
      ]
    },
    {
      "cell_type": "code",
      "execution_count": 11,
      "metadata": {
        "id": "McO82AXOuxXh",
        "colab": {
          "base_uri": "https://localhost:8080/"
        },
        "outputId": "f59a9b6a-75ec-482b-ecf1-ff10d77234bf"
      },
      "outputs": [
        {
          "output_type": "stream",
          "name": "stdout",
          "text": [
            "Epoch 1/50\n",
            "41/41 [==============================] - 3s 51ms/step - loss: 2.4054 - accuracy: 0.2217 - val_loss: 2.4565 - val_accuracy: 0.1429\n",
            "Epoch 2/50\n",
            "41/41 [==============================] - 2s 48ms/step - loss: 2.1560 - accuracy: 0.2512 - val_loss: 2.2979 - val_accuracy: 0.2286\n",
            "Epoch 3/50\n",
            "41/41 [==============================] - 2s 48ms/step - loss: 1.7831 - accuracy: 0.3695 - val_loss: 2.2474 - val_accuracy: 0.2000\n",
            "Epoch 4/50\n",
            "41/41 [==============================] - 2s 47ms/step - loss: 1.4682 - accuracy: 0.4926 - val_loss: 2.0180 - val_accuracy: 0.2571\n",
            "Epoch 5/50\n",
            "41/41 [==============================] - 2s 48ms/step - loss: 1.2492 - accuracy: 0.5567 - val_loss: 2.1135 - val_accuracy: 0.2286\n",
            "Epoch 6/50\n",
            "41/41 [==============================] - 2s 47ms/step - loss: 0.9764 - accuracy: 0.6552 - val_loss: 1.8102 - val_accuracy: 0.4000\n",
            "Epoch 7/50\n",
            "41/41 [==============================] - 2s 47ms/step - loss: 0.6231 - accuracy: 0.7537 - val_loss: 1.8119 - val_accuracy: 0.5143\n",
            "Epoch 8/50\n",
            "41/41 [==============================] - 2s 47ms/step - loss: 0.3664 - accuracy: 0.8818 - val_loss: 2.7689 - val_accuracy: 0.4286\n",
            "Epoch 9/50\n",
            "41/41 [==============================] - 2s 47ms/step - loss: 0.2266 - accuracy: 0.9458 - val_loss: 2.1719 - val_accuracy: 0.4000\n",
            "Epoch 10/50\n",
            "41/41 [==============================] - 2s 47ms/step - loss: 0.1992 - accuracy: 0.9212 - val_loss: 2.2102 - val_accuracy: 0.4000\n",
            "Epoch 11/50\n",
            "41/41 [==============================] - 2s 47ms/step - loss: 0.1879 - accuracy: 0.9261 - val_loss: 2.9543 - val_accuracy: 0.4000\n",
            "Epoch 12/50\n",
            "41/41 [==============================] - 2s 47ms/step - loss: 0.3205 - accuracy: 0.9064 - val_loss: 2.0062 - val_accuracy: 0.5143\n",
            "Epoch 13/50\n",
            "41/41 [==============================] - 2s 48ms/step - loss: 0.1993 - accuracy: 0.9261 - val_loss: 1.9804 - val_accuracy: 0.5143\n",
            "Epoch 14/50\n",
            "41/41 [==============================] - 2s 47ms/step - loss: 0.1478 - accuracy: 0.9557 - val_loss: 1.7824 - val_accuracy: 0.5429\n",
            "Epoch 15/50\n",
            "41/41 [==============================] - 2s 48ms/step - loss: 0.1427 - accuracy: 0.9409 - val_loss: 1.6651 - val_accuracy: 0.6000\n",
            "Epoch 16/50\n",
            "41/41 [==============================] - 2s 47ms/step - loss: 0.0662 - accuracy: 0.9803 - val_loss: 2.7097 - val_accuracy: 0.4286\n",
            "Epoch 17/50\n",
            "41/41 [==============================] - 2s 47ms/step - loss: 0.1643 - accuracy: 0.9606 - val_loss: 2.4360 - val_accuracy: 0.4286\n",
            "Epoch 18/50\n",
            "41/41 [==============================] - 2s 48ms/step - loss: 0.0444 - accuracy: 0.9852 - val_loss: 2.0677 - val_accuracy: 0.5714\n",
            "Epoch 19/50\n",
            "41/41 [==============================] - 2s 48ms/step - loss: 0.0311 - accuracy: 0.9901 - val_loss: 1.9518 - val_accuracy: 0.6286\n",
            "Epoch 20/50\n",
            "41/41 [==============================] - 2s 48ms/step - loss: 0.0263 - accuracy: 0.9951 - val_loss: 2.2678 - val_accuracy: 0.5714\n",
            "Epoch 21/50\n",
            "41/41 [==============================] - 2s 47ms/step - loss: 0.0328 - accuracy: 0.9951 - val_loss: 3.0026 - val_accuracy: 0.5143\n",
            "Epoch 22/50\n",
            "41/41 [==============================] - 2s 48ms/step - loss: 0.0647 - accuracy: 0.9852 - val_loss: 2.1523 - val_accuracy: 0.5143\n",
            "Epoch 23/50\n",
            "41/41 [==============================] - 2s 48ms/step - loss: 0.0294 - accuracy: 0.9901 - val_loss: 2.1147 - val_accuracy: 0.5714\n",
            "Epoch 24/50\n",
            "41/41 [==============================] - 2s 48ms/step - loss: 0.0127 - accuracy: 0.9951 - val_loss: 2.2072 - val_accuracy: 0.6286\n",
            "Epoch 25/50\n",
            "41/41 [==============================] - 2s 47ms/step - loss: 0.0100 - accuracy: 0.9951 - val_loss: 2.0751 - val_accuracy: 0.5714\n",
            "Epoch 26/50\n",
            "41/41 [==============================] - 2s 47ms/step - loss: 0.0162 - accuracy: 0.9951 - val_loss: 2.3477 - val_accuracy: 0.6286\n",
            "Epoch 27/50\n",
            "41/41 [==============================] - 2s 48ms/step - loss: 0.0168 - accuracy: 0.9901 - val_loss: 1.8970 - val_accuracy: 0.6571\n",
            "Epoch 28/50\n",
            "41/41 [==============================] - 2s 48ms/step - loss: 0.0212 - accuracy: 0.9951 - val_loss: 2.0103 - val_accuracy: 0.6000\n",
            "Epoch 29/50\n",
            "41/41 [==============================] - 2s 48ms/step - loss: 0.0094 - accuracy: 0.9951 - val_loss: 1.9808 - val_accuracy: 0.6000\n",
            "Epoch 30/50\n",
            "41/41 [==============================] - 2s 47ms/step - loss: 0.0092 - accuracy: 0.9951 - val_loss: 2.0402 - val_accuracy: 0.6000\n",
            "Epoch 31/50\n",
            "41/41 [==============================] - 2s 47ms/step - loss: 0.0077 - accuracy: 0.9951 - val_loss: 2.0039 - val_accuracy: 0.6286\n",
            "Epoch 32/50\n",
            "41/41 [==============================] - 2s 48ms/step - loss: 0.0077 - accuracy: 0.9951 - val_loss: 2.0481 - val_accuracy: 0.6286\n",
            "Epoch 33/50\n",
            "41/41 [==============================] - 2s 48ms/step - loss: 0.0101 - accuracy: 0.9901 - val_loss: 2.0488 - val_accuracy: 0.6286\n",
            "Epoch 34/50\n",
            "41/41 [==============================] - 2s 47ms/step - loss: 0.0060 - accuracy: 1.0000 - val_loss: 1.9959 - val_accuracy: 0.6286\n",
            "Epoch 35/50\n",
            "41/41 [==============================] - 2s 47ms/step - loss: 0.0077 - accuracy: 0.9951 - val_loss: 1.9982 - val_accuracy: 0.6286\n",
            "Epoch 36/50\n",
            "41/41 [==============================] - 2s 48ms/step - loss: 0.0176 - accuracy: 0.9901 - val_loss: 2.0859 - val_accuracy: 0.6286\n",
            "Epoch 37/50\n",
            "41/41 [==============================] - 2s 48ms/step - loss: 0.0081 - accuracy: 0.9951 - val_loss: 2.0555 - val_accuracy: 0.6286\n",
            "Epoch 38/50\n",
            "41/41 [==============================] - 2s 47ms/step - loss: 0.0113 - accuracy: 0.9951 - val_loss: 2.2657 - val_accuracy: 0.6286\n",
            "Epoch 39/50\n",
            "41/41 [==============================] - 2s 47ms/step - loss: 0.0122 - accuracy: 0.9951 - val_loss: 2.0374 - val_accuracy: 0.6286\n",
            "Epoch 40/50\n",
            "41/41 [==============================] - 2s 47ms/step - loss: 0.0113 - accuracy: 0.9951 - val_loss: 2.0956 - val_accuracy: 0.6286\n",
            "Epoch 41/50\n",
            "41/41 [==============================] - 2s 47ms/step - loss: 0.0081 - accuracy: 0.9951 - val_loss: 2.1248 - val_accuracy: 0.6286\n",
            "Epoch 42/50\n",
            "41/41 [==============================] - 2s 47ms/step - loss: 0.0057 - accuracy: 1.0000 - val_loss: 2.0969 - val_accuracy: 0.6286\n",
            "Epoch 43/50\n",
            "41/41 [==============================] - 2s 48ms/step - loss: 0.0063 - accuracy: 0.9951 - val_loss: 2.1533 - val_accuracy: 0.6286\n",
            "Epoch 44/50\n",
            "41/41 [==============================] - 2s 47ms/step - loss: 0.0066 - accuracy: 0.9951 - val_loss: 2.0283 - val_accuracy: 0.6000\n",
            "Epoch 45/50\n",
            "41/41 [==============================] - 2s 47ms/step - loss: 0.0108 - accuracy: 0.9951 - val_loss: 2.2197 - val_accuracy: 0.6286\n",
            "Epoch 46/50\n",
            "41/41 [==============================] - 2s 47ms/step - loss: 0.0110 - accuracy: 0.9951 - val_loss: 2.0618 - val_accuracy: 0.6000\n",
            "Epoch 47/50\n",
            "41/41 [==============================] - 2s 47ms/step - loss: 0.0089 - accuracy: 0.9951 - val_loss: 2.2002 - val_accuracy: 0.6000\n",
            "Epoch 48/50\n",
            "41/41 [==============================] - 2s 47ms/step - loss: 0.0060 - accuracy: 0.9951 - val_loss: 1.9905 - val_accuracy: 0.6000\n",
            "Epoch 49/50\n",
            "41/41 [==============================] - 2s 47ms/step - loss: 0.0101 - accuracy: 0.9951 - val_loss: 2.1225 - val_accuracy: 0.6286\n",
            "Epoch 50/50\n",
            "41/41 [==============================] - 2s 47ms/step - loss: 0.0066 - accuracy: 0.9951 - val_loss: 2.0715 - val_accuracy: 0.6000\n",
            "Best epoch: 27\n"
          ]
        }
      ],
      "source": [
        "# Build the model with the optimal hyperparameters and train it on the data for 50 epochs\n",
        "model = tuner.hypermodel.build(best_hps)\n",
        "history = model.fit(train_ds, epochs=50, validation_data=val_ds)\n",
        "\n",
        "val_acc_per_epoch = history.history['val_accuracy']\n",
        "best_epoch = val_acc_per_epoch.index(max(val_acc_per_epoch)) + 1\n",
        "print('Best epoch: %d' % (best_epoch,))"
      ]
    },
    {
      "cell_type": "markdown",
      "metadata": {
        "id": "uOTSirSTI3Gp"
      },
      "source": [
        "Re-instantiate the hypermodel and train it with the optimal number of epochs from above."
      ]
    },
    {
      "cell_type": "code",
      "execution_count": 12,
      "metadata": {
        "id": "NoiPUEHmMhCe",
        "colab": {
          "base_uri": "https://localhost:8080/"
        },
        "outputId": "11c0f9a9-140b-439c-97b5-5755aef94118"
      },
      "outputs": [
        {
          "output_type": "stream",
          "name": "stdout",
          "text": [
            "Epoch 1/27\n",
            "41/41 [==============================] - 3s 51ms/step - loss: 2.4023 - accuracy: 0.2315 - val_loss: 2.3970 - val_accuracy: 0.1429\n",
            "Epoch 2/27\n",
            "41/41 [==============================] - 2s 47ms/step - loss: 2.1656 - accuracy: 0.2463 - val_loss: 2.2927 - val_accuracy: 0.2571\n",
            "Epoch 3/27\n",
            "41/41 [==============================] - 2s 47ms/step - loss: 1.7730 - accuracy: 0.3596 - val_loss: 2.1814 - val_accuracy: 0.2286\n",
            "Epoch 4/27\n",
            "41/41 [==============================] - 2s 47ms/step - loss: 1.3719 - accuracy: 0.5271 - val_loss: 2.8276 - val_accuracy: 0.2000\n",
            "Epoch 5/27\n",
            "41/41 [==============================] - 2s 48ms/step - loss: 0.9968 - accuracy: 0.6256 - val_loss: 2.1018 - val_accuracy: 0.3143\n",
            "Epoch 6/27\n",
            "41/41 [==============================] - 2s 47ms/step - loss: 0.7799 - accuracy: 0.6995 - val_loss: 2.5019 - val_accuracy: 0.2571\n",
            "Epoch 7/27\n",
            "41/41 [==============================] - 2s 47ms/step - loss: 0.7021 - accuracy: 0.7044 - val_loss: 3.4095 - val_accuracy: 0.2857\n",
            "Epoch 8/27\n",
            "41/41 [==============================] - 2s 47ms/step - loss: 0.5730 - accuracy: 0.7931 - val_loss: 2.1159 - val_accuracy: 0.4286\n",
            "Epoch 9/27\n",
            "41/41 [==============================] - 2s 48ms/step - loss: 0.2849 - accuracy: 0.9212 - val_loss: 2.6822 - val_accuracy: 0.2286\n",
            "Epoch 10/27\n",
            "41/41 [==============================] - 2s 47ms/step - loss: 0.1804 - accuracy: 0.9704 - val_loss: 2.9886 - val_accuracy: 0.3143\n",
            "Epoch 11/27\n",
            "41/41 [==============================] - 2s 48ms/step - loss: 0.1688 - accuracy: 0.9655 - val_loss: 2.7469 - val_accuracy: 0.4000\n",
            "Epoch 12/27\n",
            "41/41 [==============================] - 2s 48ms/step - loss: 0.1588 - accuracy: 0.9606 - val_loss: 2.6689 - val_accuracy: 0.4286\n",
            "Epoch 13/27\n",
            "41/41 [==============================] - 2s 48ms/step - loss: 0.1020 - accuracy: 0.9704 - val_loss: 2.1215 - val_accuracy: 0.5429\n",
            "Epoch 14/27\n",
            "41/41 [==============================] - 2s 48ms/step - loss: 0.1004 - accuracy: 0.9803 - val_loss: 2.0859 - val_accuracy: 0.5429\n",
            "Epoch 15/27\n",
            "41/41 [==============================] - 2s 48ms/step - loss: 0.1087 - accuracy: 0.9655 - val_loss: 1.9182 - val_accuracy: 0.5714\n",
            "Epoch 16/27\n",
            "41/41 [==============================] - 2s 48ms/step - loss: 0.1531 - accuracy: 0.9458 - val_loss: 3.7408 - val_accuracy: 0.3714\n",
            "Epoch 17/27\n",
            "41/41 [==============================] - 2s 48ms/step - loss: 0.1480 - accuracy: 0.9606 - val_loss: 1.9001 - val_accuracy: 0.5714\n",
            "Epoch 18/27\n",
            "41/41 [==============================] - 2s 48ms/step - loss: 0.0374 - accuracy: 0.9901 - val_loss: 1.9856 - val_accuracy: 0.5143\n",
            "Epoch 19/27\n",
            "41/41 [==============================] - 2s 48ms/step - loss: 0.0213 - accuracy: 0.9951 - val_loss: 1.9897 - val_accuracy: 0.5429\n",
            "Epoch 20/27\n",
            "41/41 [==============================] - 2s 48ms/step - loss: 0.0125 - accuracy: 0.9951 - val_loss: 2.0883 - val_accuracy: 0.5429\n",
            "Epoch 21/27\n",
            "41/41 [==============================] - 2s 48ms/step - loss: 0.0204 - accuracy: 0.9951 - val_loss: 1.9789 - val_accuracy: 0.5714\n",
            "Epoch 22/27\n",
            "41/41 [==============================] - 2s 48ms/step - loss: 0.0121 - accuracy: 0.9951 - val_loss: 2.0403 - val_accuracy: 0.5143\n",
            "Epoch 23/27\n",
            "41/41 [==============================] - 2s 48ms/step - loss: 0.0154 - accuracy: 0.9951 - val_loss: 2.0523 - val_accuracy: 0.5429\n",
            "Epoch 24/27\n",
            "41/41 [==============================] - 2s 48ms/step - loss: 0.0108 - accuracy: 0.9901 - val_loss: 2.1029 - val_accuracy: 0.5429\n",
            "Epoch 25/27\n",
            "41/41 [==============================] - 2s 48ms/step - loss: 0.0086 - accuracy: 0.9951 - val_loss: 2.0981 - val_accuracy: 0.5429\n",
            "Epoch 26/27\n",
            "41/41 [==============================] - 2s 48ms/step - loss: 0.0121 - accuracy: 0.9901 - val_loss: 2.2069 - val_accuracy: 0.5429\n",
            "Epoch 27/27\n",
            "41/41 [==============================] - 2s 48ms/step - loss: 0.0093 - accuracy: 0.9951 - val_loss: 2.1695 - val_accuracy: 0.5429\n"
          ]
        }
      ],
      "source": [
        "hypermodel = tuner.hypermodel.build(best_hps)\n",
        "\n",
        "# Retrain the model\n",
        "history = hypermodel.fit(train_ds, epochs=best_epoch, validation_data=val_ds)"
      ]
    },
    {
      "cell_type": "markdown",
      "source": [
        "## Plot Model Accuracy and Loss\n",
        "\n",
        "\n"
      ],
      "metadata": {
        "id": "bUW8Nyc8yY-Z"
      }
    },
    {
      "cell_type": "code",
      "source": [
        "import matplotlib.pyplot as plt\n",
        "\n",
        "history_dict = history.history\n",
        "print(history_dict.keys())\n",
        "print(history_dict)\n",
        "\n",
        "acc = history_dict['accuracy']\n",
        "val_acc = history_dict['val_accuracy']\n",
        "loss = history_dict['loss']\n",
        "val_loss = history_dict['val_loss']\n",
        "\n",
        "epochs = range(1, len(acc) + 1)\n",
        "fig = plt.figure(figsize=(10, 6))\n",
        "fig.tight_layout()\n",
        "\n",
        "plt.subplot(2, 1, 1)\n",
        "# r is for \"solid red line\"\n",
        "plt.plot(epochs, loss, 'r', label='Training loss')\n",
        "# b is for \"solid blue line\"\n",
        "plt.plot(epochs, val_loss, 'b', label='Validation loss')\n",
        "plt.title('Training and validation loss')\n",
        "# plt.xlabel('Epochs')\n",
        "plt.ylabel('Loss')\n",
        "plt.legend()\n",
        "\n",
        "plt.subplot(2, 1, 2)\n",
        "plt.plot(epochs, acc, 'r', label='Training acc')\n",
        "plt.plot(epochs, val_acc, 'b', label='Validation acc')\n",
        "plt.title('Training and validation accuracy')\n",
        "plt.xlabel('Epochs')\n",
        "plt.ylabel('Accuracy')\n",
        "plt.legend(loc='lower right')"
      ],
      "metadata": {
        "id": "SVFs2hz_yWrE",
        "outputId": "e78a3a49-0810-4107-afe8-4e31113690c3",
        "colab": {
          "base_uri": "https://localhost:8080/",
          "height": 477
        }
      },
      "execution_count": 13,
      "outputs": [
        {
          "output_type": "stream",
          "name": "stdout",
          "text": [
            "dict_keys(['loss', 'accuracy', 'val_loss', 'val_accuracy'])\n",
            "{'loss': [2.402273654937744, 2.1655898094177246, 1.772964596748352, 1.3719089031219482, 0.9968159198760986, 0.7799119353294373, 0.702074408531189, 0.5730070471763611, 0.2848591208457947, 0.18042732775211334, 0.16878804564476013, 0.15877093374729156, 0.10199830681085587, 0.10040999203920364, 0.1086924597620964, 0.15311656892299652, 0.1480155885219574, 0.037410393357276917, 0.021278517320752144, 0.012499428354203701, 0.020442653447389603, 0.012059919536113739, 0.015371506102383137, 0.010799461044371128, 0.008563795126974583, 0.012057111598551273, 0.009347335435450077], 'accuracy': [0.23152709007263184, 0.2463054209947586, 0.35960590839385986, 0.5270935893058777, 0.6256157755851746, 0.6995074152946472, 0.7044335007667542, 0.7931034564971924, 0.9211822748184204, 0.9704433679580688, 0.9655172228813171, 0.9605911374092102, 0.9704433679580688, 0.9802955389022827, 0.9655172228813171, 0.9458128213882446, 0.9605911374092102, 0.9901477694511414, 0.9950739145278931, 0.9950739145278931, 0.9950739145278931, 0.9950739145278931, 0.9950739145278931, 0.9901477694511414, 0.9950739145278931, 0.9901477694511414, 0.9950739145278931], 'val_loss': [2.397001266479492, 2.2926530838012695, 2.1814091205596924, 2.8275716304779053, 2.101793050765991, 2.501884937286377, 3.409534215927124, 2.1158511638641357, 2.682229518890381, 2.9885971546173096, 2.7468883991241455, 2.668900728225708, 2.1214661598205566, 2.085865020751953, 1.918152093887329, 3.7408463954925537, 1.9001318216323853, 1.9855788946151733, 1.9897137880325317, 2.0882911682128906, 1.9789491891860962, 2.0403025150299072, 2.052279233932495, 2.1028964519500732, 2.0980873107910156, 2.206859827041626, 2.169524908065796], 'val_accuracy': [0.1428571492433548, 0.2571428716182709, 0.22857142984867096, 0.20000000298023224, 0.3142857253551483, 0.2571428716182709, 0.2857142984867096, 0.4285714328289032, 0.22857142984867096, 0.3142857253551483, 0.4000000059604645, 0.4285714328289032, 0.5428571701049805, 0.5428571701049805, 0.5714285969734192, 0.37142857909202576, 0.5714285969734192, 0.5142857432365417, 0.5428571701049805, 0.5428571701049805, 0.5714285969734192, 0.5142857432365417, 0.5428571701049805, 0.5428571701049805, 0.5428571701049805, 0.5428571701049805, 0.5428571701049805]}\n"
          ]
        },
        {
          "output_type": "execute_result",
          "data": {
            "text/plain": [
              "<matplotlib.legend.Legend at 0x7f06ef32d4d0>"
            ]
          },
          "metadata": {},
          "execution_count": 13
        },
        {
          "output_type": "display_data",
          "data": {
            "text/plain": [
              "<Figure size 720x432 with 2 Axes>"
            ],
            "image/png": "[encoded data removed]"
          },
          "metadata": {
            "needs_background": "light"
          }
        }
      ]
    },
    {
      "cell_type": "markdown",
      "source": [
        "# Model Metrics"
      ],
      "metadata": {
        "id": "IQFkUEWLtLm6"
      }
    },
    {
      "cell_type": "code",
      "source": [
        "# Model Metrics\n",
        "from sklearn.datasets import make_circles\n",
        "from sklearn.metrics import accuracy_score\n",
        "from sklearn.metrics import precision_score\n",
        "from sklearn.metrics import recall_score\n",
        "from sklearn.metrics import f1_score\n",
        "from sklearn.metrics import cohen_kappa_score\n",
        "from sklearn.metrics import roc_auc_score\n",
        "from sklearn.metrics import confusion_matrix\n",
        "import numpy as np\n",
        "\n",
        "y_labels = val_ds.map(lambda x,y: y)\n",
        "print(y_labels.unbatch)\n",
        "\n",
        "y_labels = y_labels.as_numpy_iterator()\n",
        "\n",
        "## Reduce to 1D Array\n",
        "y_labels = np.concatenate([y for x, y in val_ds], axis=0)\n",
        "\n",
        "y_hat_probs = hypermodel.predict(val_ds)\n",
        "\n",
        "y_hat_classes = y_hat_probs.argmax(axis=-1)\n",
        "\n",
        "\n",
        "## accuracy: (tp + tn) / (p + n)\n",
        "accuracy = accuracy_score(y_labels, y_hat_classes)\n",
        "print('Accuracy: %f' % accuracy)\n",
        "\n",
        "## precision tp / (tp + fp)\n",
        "precision = precision_score(y_labels, y_hat_classes, average=None)\n",
        "print('Precision (None): %f' % precision.sum())\n",
        "precision = precision_score(y_labels, y_hat_classes, average='micro')\n",
        "print('Precision (micro): %f' % precision)\n",
        "precision = precision_score(y_labels, y_hat_classes, average= 'macro')\n",
        "print('Precision (macro): %f' % precision)\n",
        "# precision = precision_score(y_labels, y_hat_classes, average= 'samples')\n",
        "# print('Precision (samples): %f' % precision)\n",
        "precision = precision_score(y_labels, y_hat_classes, average= 'weighted')\n",
        "print('Precision (weighted): %f' % precision)\n",
        "\n",
        "## recall: tp / (tp + fn)\n",
        "recall = recall_score(y_labels, y_hat_classes, average='micro')\n",
        "print('Recall (micro): %f' % recall)\n",
        "recall = recall_score(y_labels, y_hat_classes, average='macro')\n",
        "print('Recall (macro): %f' % recall)\n",
        "# recall = recall_score(y_labels, y_hat_classes, average='samples')\n",
        "# print('Recall (samples): %f' % recall)\n",
        "recall = recall_score(y_labels, y_hat_classes, average='weighted')\n",
        "print('Recall (weighted): %f' % recall)\n",
        "\n",
        "## f1: 2 tp / (2 tp + fp + fn)\n",
        "f1 = f1_score(y_labels, y_hat_classes, average='micro')\n",
        "print('F1 score (micro): %f' % f1)\n",
        "f1 = f1_score(y_labels, y_hat_classes, average='macro')\n",
        "print('F1 score (macro): %f' % f1)\n",
        "f1 = f1_score(y_labels, y_hat_classes, average='weighted')\n",
        "print('F1 score (weighted): %f' % f1)\n",
        " \n",
        "## kappa\n",
        "kappa = cohen_kappa_score(y_labels, y_hat_classes)\n",
        "print('Cohens kappa: %f' % kappa)\n",
        "\n",
        "## ROC AUC\n",
        "# print(np.sum(y_hat_probs))\n",
        "# y_hat_probs = y_hat_probs / np.sum(y_hat_probs)\n",
        "# print(np.sum(y_hat_probs))\n",
        "# auc = roc_auc_score(y_labels, y_hat_probs, multi_class='ovo')\n",
        "# print('ROC AUC: %f' % auc)\n",
        "\n",
        "## confusion matrix\n",
        "matrix = confusion_matrix(y_labels, y_hat_classes)\n",
        "print(matrix)"
      ],
      "metadata": {
        "id": "GDZ3ySZQsasX",
        "outputId": "9ef3ea7a-e8af-4501-f416-610beaf970c5",
        "colab": {
          "base_uri": "https://localhost:8080/"
        }
      },
      "execution_count": 14,
      "outputs": [
        {
          "output_type": "stream",
          "name": "stdout",
          "text": [
            "<bound method DatasetV2.unbatch of <MapDataset element_spec=TensorSpec(shape=(None,), dtype=tf.int32, name=None)>>\n",
            "Accuracy: 0.542857\n",
            "Precision (None): 5.750000\n",
            "Precision (micro): 0.542857\n",
            "Precision (macro): 0.479167\n",
            "Precision (weighted): 0.588095\n",
            "Recall (micro): 0.542857\n",
            "Recall (macro): 0.577778\n",
            "Recall (weighted): 0.542857\n",
            "F1 score (micro): 0.542857\n",
            "F1 score (macro): 0.456151\n",
            "F1 score (weighted): 0.514150\n",
            "Cohens kappa: 0.499106\n",
            "[[2 0 0 0 0 0 0 0 0 0 0 0]\n",
            " [0 3 1 0 0 0 1 0 0 0 0 0]\n",
            " [0 1 1 0 0 0 0 0 0 0 0 0]\n",
            " [1 0 0 3 0 0 0 0 0 0 0 0]\n",
            " [0 0 1 0 0 0 0 0 1 0 1 0]\n",
            " [0 0 0 0 0 2 0 0 0 0 0 0]\n",
            " [0 0 1 0 0 0 5 0 0 0 0 0]\n",
            " [0 0 0 0 0 0 0 1 0 0 0 0]\n",
            " [0 0 0 0 0 0 0 3 0 0 0 0]\n",
            " [1 0 2 0 0 0 0 0 0 1 0 0]\n",
            " [0 0 0 0 0 0 0 0 0 0 1 0]\n",
            " [0 0 0 0 0 0 0 0 0 0 2 0]]\n"
          ]
        },
        {
          "output_type": "stream",
          "name": "stderr",
          "text": [
            "/usr/local/lib/python3.7/dist-packages/sklearn/metrics/_classification.py:1318: UndefinedMetricWarning: Precision is ill-defined and being set to 0.0 in labels with no predicted samples. Use `zero_division` parameter to control this behavior.\n",
            "  _warn_prf(average, modifier, msg_start, len(result))\n",
            "/usr/local/lib/python3.7/dist-packages/sklearn/metrics/_classification.py:1318: UndefinedMetricWarning: Precision is ill-defined and being set to 0.0 in labels with no predicted samples. Use `zero_division` parameter to control this behavior.\n",
            "  _warn_prf(average, modifier, msg_start, len(result))\n",
            "/usr/local/lib/python3.7/dist-packages/sklearn/metrics/_classification.py:1318: UndefinedMetricWarning: Precision is ill-defined and being set to 0.0 in labels with no predicted samples. Use `zero_division` parameter to control this behavior.\n",
            "  _warn_prf(average, modifier, msg_start, len(result))\n"
          ]
        }
      ]
    },
    {
      "cell_type": "markdown",
      "metadata": {
        "id": "EQRpPHZsz-eC"
      },
      "source": [
        "The `my_dir/intro_to_kt` directory contains detailed logs and checkpoints for every trial (model configuration) run during the hyperparameter search. If you re-run the hyperparameter search, the Keras Tuner uses the existing state from these logs to resume the search. To disable this behavior, pass an additional `overwrite=True` argument while instantiating the tuner."
      ]
    },
    {
      "cell_type": "markdown",
      "metadata": {
        "id": "sKwLOzKpFGAj"
      },
      "source": [
        "## Summary\n",
        "\n",
        "In this tutorial, you learned how to use the Keras Tuner to tune hyperparameters for a model. To learn more about the Keras Tuner, check out these additional resources:\n",
        "\n",
        "* [Keras Tuner on the TensorFlow blog](https://blog.tensorflow.org/2020/01/hyperparameter-tuning-with-keras-tuner.html)\n",
        "* [Keras Tuner website](https://keras-team.github.io/keras-tuner/)\n",
        "\n",
        "Also check out the [HParams Dashboard](https://www.tensorflow.org/tensorboard/hyperparameter_tuning_with_hparams) in TensorBoard to interactively tune your model hyperparameters."
      ]
    }
  ],
  "metadata": {
    "accelerator": "GPU",
    "colab": {
      "collapsed_sections": [
        "Tce3stUlHN0L"
      ],
      "name": "keras_tuner.ipynb",
      "toc_visible": true,
      "provenance": [],
      "machine_shape": "hm"
    },
    "kernelspec": {
      "display_name": "Python 3",
      "name": "python3"
    },
    "gpuClass": "standard"
  },
  "nbformat": 4,
  "nbformat_minor": 0
}
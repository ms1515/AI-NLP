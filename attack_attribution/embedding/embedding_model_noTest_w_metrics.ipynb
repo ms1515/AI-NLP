{
  "cells": [
    {
      "cell_type": "markdown",
      "metadata": {
        "id": "7SN5USFEIIK3"
      },
      "source": [
        "# Word embeddings"
      ]
    },
    {
      "cell_type": "markdown",
      "metadata": {
        "id": "Aojnnc7sXrab"
      },
      "source": [
        "<table class=\"tfo-notebook-buttons\" align=\"left\">\n",
        "  <td>\n",
        "    <a target=\"_blank\" href=\"https://www.tensorflow.org/text/guide/word_embeddings\">\n",
        "    <img src=\"https://www.tensorflow.org/images/tf_logo_32px.png\" />\n",
        "    View on TensorFlow.org</a>\n",
        "  </td>\n",
        "  <td>\n",
        "    <a target=\"_blank\" href=\"https://colab.research.google.com/github/tensorflow/text/blob/master/docs/guide/word_embeddings.ipynb\">\n",
        "    <img src=\"https://www.tensorflow.org/images/colab_logo_32px.png\" />\n",
        "    Run in Google Colab</a>\n",
        "  </td>\n",
        "  <td>\n",
        "    <a target=\"_blank\" href=\"https://github.com/tensorflow/text/blob/master/docs/guide/word_embeddings.ipynb\">\n",
        "    <img src=\"https://www.tensorflow.org/images/GitHub-Mark-32px.png\" />\n",
        "    View source on GitHub</a>\n",
        "  </td>\n",
        "  <td>\n",
        "    <a href=\"https://storage.googleapis.com/tensorflow_docs/text/docs/guide/word_embeddings.ipynb\"><img src=\"https://www.tensorflow.org/images/download_logo_32px.png\" />Download notebook</a>\n",
        "  </td>\n",
        "</table>"
      ]
    },
    {
      "cell_type": "markdown",
      "metadata": {
        "id": "Q6mJg1g3apaz"
      },
      "source": [
        "This tutorial contains an introduction to word embeddings. You will train your own word embeddings using a simple Keras model for a sentiment classification task, and then visualize them in the [Embedding Projector](http://projector.tensorflow.org) (shown in the image below). \n",
        "\n",
        "<img src=\"https://github.com/tensorflow/text/blob/master/docs/guide/images/embedding.jpg?raw=1\" alt=\"Screenshot of the embedding projector\" width=\"400\"/>\n",
        "\n",
        "## Representing text as numbers\n",
        "\n",
        "Machine learning models take vectors (arrays of numbers) as input. When working with text, the first thing you must do is come up with a strategy to convert strings to numbers (or to \"vectorize\" the text) before feeding it to the model. In this section, you will look at three strategies for doing so.\n",
        "\n",
        "### One-hot encodings\n",
        "\n",
        "As a first idea, you might \"one-hot\" encode each word in your vocabulary. Consider the sentence \"The cat sat on the mat\". The vocabulary (or unique words) in this sentence is (cat, mat, on, sat, the). To represent each word, you will create a zero vector with length equal to the vocabulary, then place a one in the index that corresponds to the word. This approach is shown in the following diagram.\n",
        "\n",
        "<img src=\"https://github.com/tensorflow/text/blob/master/docs/guide/images/one-hot.png?raw=1\" alt=\"Diagram of one-hot encodings\" width=\"400\" />\n",
        "\n",
        "To create a vector that contains the encoding of the sentence, you could then concatenate the one-hot vectors for each word.\n",
        "\n",
        "Key point: This approach is inefficient. A one-hot encoded vector is sparse (meaning, most indices are zero). Imagine you have 10,000 words in the vocabulary. To one-hot encode each word, you would create a vector where 99.99% of the elements are zero.\n",
        "\n",
        "### Encode each word with a unique number\n",
        "\n",
        "A second approach you might try is to encode each word using a unique number. Continuing the example above, you could assign 1 to \"cat\", 2 to \"mat\", and so on. You could then encode the sentence \"The cat sat on the mat\" as a dense vector like [5, 1, 4, 3, 5, 2]. This approach is efficient. Instead of a sparse vector, you now have a dense one (where all elements are full).\n",
        "\n",
        "There are two downsides to this approach, however:\n",
        "\n",
        "* The integer-encoding is arbitrary (it does not capture any relationship between words).\n",
        "\n",
        "* An integer-encoding can be challenging for a model to interpret. A linear classifier, for example, learns a single weight for each feature. Because there is no relationship between the similarity of any two words and the similarity of their encodings, this feature-weight combination is not meaningful.\n",
        "\n",
        "### Word embeddings\n",
        "\n",
        "Word embeddings give us a way to use an efficient, dense representation in which similar words have a similar encoding. Importantly, you do not have to specify this encoding by hand. An embedding is a dense vector of floating point values (the length of the vector is a parameter you specify). Instead of specifying the values for the embedding manually, they are trainable parameters (weights learned by the model during training, in the same way a model learns weights for a dense layer). It is common to see word embeddings that are 8-dimensional (for small datasets), up to 1024-dimensions when working with large datasets. A higher dimensional embedding can capture fine-grained relationships between words, but takes more data to learn.\n",
        "\n",
        "<img src=\"https://github.com/tensorflow/text/blob/master/docs/guide/images/embedding2.png?raw=1\" alt=\"Diagram of an embedding\" width=\"400\"/>\n",
        "\n",
        "Above is a diagram for a word embedding. Each word is represented as a 4-dimensional vector of floating point values. Another way to think of an embedding is as \"lookup table\". After these weights have been learned, you can encode each word by looking up the dense vector it corresponds to in the table."
      ]
    },
    {
      "cell_type": "markdown",
      "metadata": {
        "id": "SZUQErGewZxE"
      },
      "source": [
        "## Setup"
      ]
    },
    {
      "cell_type": "code",
      "execution_count": 77,
      "metadata": {
        "id": "RutaI-Tpev3T",
        "vscode": {
          "languageId": "python"
        }
      },
      "outputs": [],
      "source": [
        "import io\n",
        "import os\n",
        "import re\n",
        "import shutil\n",
        "import string\n",
        "import tensorflow as tf\n",
        "\n",
        "from tensorflow.keras import Sequential\n",
        "from tensorflow.keras.layers import Dense, Embedding, GlobalAveragePooling1D\n",
        "from tensorflow.keras.layers import TextVectorization"
      ]
    },
    {
      "cell_type": "markdown",
      "metadata": {
        "id": "SBFctV8-JZOc"
      },
      "source": [
        "### Download the Attack Report Dataset\n",
        "You will use the [Threat Intelligence Reports Dataset] through the tutorial. You will train a multi classifier model on this dataset and in the process learn embeddings from scratch. To read more about loading a dataset from scratch, see the [Loading text tutorial](https://www.tensorflow.org/tutorials/load_data/text).  \n",
        "\n",
        "Download the dataset using Keras file utility and take a look at the directories."
      ]
    },
    {
      "cell_type": "code",
      "execution_count": 78,
      "metadata": {
        "colab": {
          "base_uri": "https://localhost:8080/"
        },
        "id": "aPO4_UmfF0KH",
        "outputId": "dbfa45d8-4c13-4403-ec9b-f16ee13c7339",
        "vscode": {
          "languageId": "python"
        }
      },
      "outputs": [
        {
          "data": {
            "text/plain": [
              "['APT3',\n",
              " 'APT28',\n",
              " 'README.md',\n",
              " 'OilRig',\n",
              " 'menuPass',\n",
              " 'Turla',\n",
              " 'Lazarus',\n",
              " 'DeepPanda',\n",
              " 'RocketKitten',\n",
              " 'FIN7',\n",
              " 'APT29',\n",
              " 'Winnti',\n",
              " 'APT17']"
            ]
          },
          "execution_count": 78,
          "metadata": {},
          "output_type": "execute_result"
        }
      ],
      "source": [
        "url = 'https://github.com/eyalmazuz/AttackAttributionDataset/archive/refs/heads/master.zip' \n",
        "\n",
        "dataset = tf.keras.utils.get_file('master.zip', url,\n",
        "                                  extract=True, cache_dir='.',\n",
        "                                  cache_subdir='')\n",
        "\n",
        "dataset_dir = os.path.join(os.path.dirname(dataset), 'AttackAttributionDataset-master')\n",
        "os.listdir(dataset_dir)"
      ]
    },
    {
      "cell_type": "markdown",
      "metadata": {
        "id": "9O59BdioK8jY"
      },
      "source": [
        "\n",
        "The `dataset` directory may also have additional folders which should be removed before creating training dataset."
      ]
    },
    {
      "cell_type": "code",
      "execution_count": 79,
      "metadata": {
        "id": "1_Vfi9oWMSh-",
        "vscode": {
          "languageId": "python"
        }
      },
      "outputs": [],
      "source": [
        "# remove_dir = os.path.join(dataset_dir, 'README.md')\n",
        "# shutil.rmtree(remove_dir)"
      ]
    },
    {
      "cell_type": "markdown",
      "metadata": {
        "id": "oFoJjiEyJz9u"
      },
      "source": [
        "Next, create a `tf.data.Dataset` using `tf.keras.utils.text_dataset_from_directory`. You can read more about using this utility in this [text classification tutorial](https://www.tensorflow.org/tutorials/keras/text_classification). \n",
        "\n",
        "Use the `train` directory to create both train and validation datasets with a split of 20% for validation."
      ]
    },
    {
      "cell_type": "code",
      "execution_count": 80,
      "metadata": {
        "colab": {
          "base_uri": "https://localhost:8080/"
        },
        "id": "ItYD3TLkCOP1",
        "outputId": "e06a7be2-603d-48f9-f0ff-668a14a2f14d",
        "vscode": {
          "languageId": "python"
        }
      },
      "outputs": [
        {
          "name": "stdout",
          "output_type": "stream",
          "text": [
            "Found 238 files belonging to 12 classes.\n",
            "Using 191 files for training.\n",
            "Found 238 files belonging to 12 classes.\n",
            "Using 47 files for validation.\n"
          ]
        }
      ],
      "source": [
        "batch_size = 5\n",
        "seed = 42\n",
        "\n",
        "train_ds = tf.keras.utils.text_dataset_from_directory(\n",
        "    'AttackAttributionDataset-master',\n",
        "    batch_size=batch_size,\n",
        "    validation_split=0.2,\n",
        "    subset='training',\n",
        "    seed=seed)\n",
        "\n",
        "\n",
        "val_ds = tf.keras.utils.text_dataset_from_directory(\n",
        "    'AttackAttributionDataset-master', batch_size=batch_size, validation_split=0.2,\n",
        "    subset='validation', seed=seed)"
      ]
    },
    {
      "cell_type": "markdown",
      "metadata": {
        "id": "eHa6cq0-Ym0g"
      },
      "source": [
        "Take a look at a few movie reviews and their labels `(1: positive, 0: negative)` from the train dataset.\n"
      ]
    },
    {
      "cell_type": "code",
      "execution_count": 81,
      "metadata": {
        "colab": {
          "base_uri": "https://localhost:8080/"
        },
        "id": "aTCbSkvkYmTT",
        "outputId": "1aeefbc3-ddb9-4132-ecf4-4bd228afff31",
        "vscode": {
          "languageId": "python"
        }
      },
      "outputs": [
        {
          "name": "stdout",
          "output_type": "stream",
          "text": [
            "10 b'many secur'\n",
            "8 b'introducti'\n",
            "5 b'morphisec '\n",
            "6 b'category: '\n",
            "9 b'executive '\n"
          ]
        }
      ],
      "source": [
        "for text_batch, label_batch in train_ds.take(1):\n",
        "  for i in range(5):\n",
        "    print(label_batch[i].numpy(), text_batch.numpy()[i][0:10])"
      ]
    },
    {
      "cell_type": "markdown",
      "metadata": {
        "id": "FHV2pchDhzDn"
      },
      "source": [
        "### Configure the dataset for performance\n",
        "\n",
        "These are two important methods you should use when loading data to make sure that I/O does not become blocking.\n",
        "\n",
        "`.cache()` keeps data in memory after it's loaded off disk. This will ensure the dataset does not become a bottleneck while training your model. If your dataset is too large to fit into memory, you can also use this method to create a performant on-disk cache, which is more efficient to read than many small files.\n",
        "\n",
        "`.prefetch()` overlaps data preprocessing and model execution while training. \n",
        "\n",
        "You can learn more about both methods, as well as how to cache data to disk in the [data performance guide](https://www.tensorflow.org/guide/data_performance)."
      ]
    },
    {
      "cell_type": "code",
      "execution_count": 82,
      "metadata": {
        "id": "Oz6k1IW7h1TO",
        "vscode": {
          "languageId": "python"
        }
      },
      "outputs": [],
      "source": [
        "AUTOTUNE = tf.data.AUTOTUNE\n",
        "\n",
        "class_names = train_ds.class_names\n",
        "\n",
        "train_ds = train_ds.cache().prefetch(buffer_size=AUTOTUNE)\n",
        "val_ds = val_ds.cache().prefetch(buffer_size=AUTOTUNE)"
      ]
    },
    {
      "cell_type": "markdown",
      "metadata": {
        "id": "eqBazMiVQkj1"
      },
      "source": [
        "## Using the Embedding layer\n",
        "\n",
        "Keras makes it easy to use word embeddings. Take a look at the [Embedding](https://www.tensorflow.org/api_docs/python/tf/keras/layers/Embedding) layer.\n",
        "\n",
        "The Embedding layer can be understood as a lookup table that maps from integer indices (which stand for specific words) to dense vectors (their embeddings). The dimensionality (or width) of the embedding is a parameter you can experiment with to see what works well for your problem, much in the same way you would experiment with the number of neurons in a Dense layer.\n"
      ]
    },
    {
      "cell_type": "code",
      "execution_count": 83,
      "metadata": {
        "id": "-OjxLVrMvWUE",
        "vscode": {
          "languageId": "python"
        }
      },
      "outputs": [],
      "source": [
        "# Embed a 1,000 word vocabulary into 5 dimensions.\n",
        "embedding_layer = tf.keras.layers.Embedding(1000, 5)"
      ]
    },
    {
      "cell_type": "markdown",
      "metadata": {
        "id": "2dKKV1L2Rk7e"
      },
      "source": [
        "When you create an Embedding layer, the weights for the embedding are randomly initialized (just like any other layer). During training, they are gradually adjusted via backpropagation. Once trained, the learned word embeddings will roughly encode similarities between words (as they were learned for the specific problem your model is trained on).\n",
        "\n",
        "If you pass an integer to an embedding layer, the result replaces each integer with the vector from the embedding table:"
      ]
    },
    {
      "cell_type": "code",
      "execution_count": 84,
      "metadata": {
        "colab": {
          "base_uri": "https://localhost:8080/"
        },
        "id": "0YUjPgP7w0PO",
        "outputId": "e015a84a-173e-4fc0-dbd1-4be60eb53466",
        "vscode": {
          "languageId": "python"
        }
      },
      "outputs": [
        {
          "data": {
            "text/plain": [
              "array([[ 0.02490992, -0.04780228,  0.0358593 , -0.03464675, -0.04985682],\n",
              "       [-0.0322958 ,  0.00053222, -0.01082221, -0.03929617, -0.02861426],\n",
              "       [ 0.01379223, -0.00306613,  0.01555479,  0.00383365, -0.01868962]],\n",
              "      dtype=float32)"
            ]
          },
          "execution_count": 84,
          "metadata": {},
          "output_type": "execute_result"
        }
      ],
      "source": [
        "result = embedding_layer(tf.constant([1, 2, 3]))\n",
        "result.numpy()"
      ]
    },
    {
      "cell_type": "markdown",
      "metadata": {
        "id": "O4PC4QzsxTGx"
      },
      "source": [
        "For text or sequence problems, the Embedding layer takes a 2D tensor of integers, of shape `(samples, sequence_length)`, where each entry is a sequence of integers. It can embed sequences of variable lengths. You could feed into the embedding layer above batches with shapes `(32, 10)` (batch of 32 sequences of length 10) or `(64, 15)` (batch of 64 sequences of length 15).\n",
        "\n",
        "The returned tensor has one more axis than the input, the embedding vectors are aligned along the new last axis. Pass it a `(2, 3)` input batch and the output is `(2, 3, N)`\n"
      ]
    },
    {
      "cell_type": "code",
      "execution_count": 85,
      "metadata": {
        "colab": {
          "base_uri": "https://localhost:8080/"
        },
        "id": "vwSYepRjyRGy",
        "outputId": "1773f717-ab74-44a4-beb4-0a29b184f1ee",
        "vscode": {
          "languageId": "python"
        }
      },
      "outputs": [
        {
          "data": {
            "text/plain": [
              "TensorShape([2, 3, 5])"
            ]
          },
          "execution_count": 85,
          "metadata": {},
          "output_type": "execute_result"
        }
      ],
      "source": [
        "result = embedding_layer(tf.constant([[0, 1, 2], [3, 4, 5]]))\n",
        "result.shape"
      ]
    },
    {
      "cell_type": "markdown",
      "metadata": {
        "id": "WGQp2N92yOyB"
      },
      "source": [
        "When given a batch of sequences as input, an embedding layer returns a 3D floating point tensor, of shape `(samples, sequence_length, embedding_dimensionality)`. To convert from this sequence of variable length to a fixed representation there are a variety of standard approaches. You could use an RNN, Attention, or pooling layer before passing it to a Dense layer. This tutorial uses pooling because it's the simplest. The [Text Classification with an RNN](https://www.tensorflow.org/text/tutorials/text_classification_rnn) tutorial is a good next step."
      ]
    },
    {
      "cell_type": "markdown",
      "metadata": {
        "id": "aGicgV5qT0wh"
      },
      "source": [
        "## Text preprocessing"
      ]
    },
    {
      "cell_type": "markdown",
      "metadata": {
        "id": "N6NZSqIIoU0Y"
      },
      "source": [
        "Next, define the dataset preprocessing steps required for your sentiment classification model. Initialize a TextVectorization layer with the desired parameters to vectorize movie reviews. You can learn more about using this layer in the [Text Classification](https://www.tensorflow.org/tutorials/keras/text_classification) tutorial."
      ]
    },
    {
      "cell_type": "code",
      "execution_count": 86,
      "metadata": {
        "id": "2MlsXzo-ZlfK",
        "vscode": {
          "languageId": "python"
        }
      },
      "outputs": [],
      "source": [
        "# Create a custom standardization function to strip HTML break tags '<br />'.\n",
        "def custom_standardization(input_data):\n",
        "  lowercase = tf.strings.lower(input_data)\n",
        "  stripped_html = tf.strings.regex_replace(lowercase, '<br />', ' ')\n",
        "  return tf.strings.regex_replace(stripped_html,\n",
        "                                  '[%s]' % re.escape(string.punctuation), '')\n",
        "\n",
        "\n",
        "# Vocabulary size and number of words in a sequence.\n",
        "vocab_size = 100000\n",
        "sequence_length = 1000\n",
        "\n",
        "# Use the text vectorization layer to normalize, split, and map strings to\n",
        "# integers. Note that the layer uses the custom standardization defined above.\n",
        "# Set maximum_sequence length as all samples are not of the same length.\n",
        "vectorize_layer = TextVectorization(\n",
        "    standardize=custom_standardization,\n",
        "    max_tokens=vocab_size,\n",
        "    output_mode='int',\n",
        "    output_sequence_length=sequence_length)\n",
        "\n",
        "# Make a text-only dataset (no labels) and call adapt to build the vocabulary.\n",
        "text_ds = train_ds.map(lambda x, y: x)\n",
        "vectorize_layer.adapt(text_ds)"
      ]
    },
    {
      "cell_type": "markdown",
      "metadata": {
        "id": "zI9_wLIiWO8Z"
      },
      "source": [
        "## Create a classification model\n",
        "\n",
        "Use the [Keras Sequential API](https://www.tensorflow.org/guide/keras/sequential_model) to define the sentiment classification model. In this case it is a \"Continuous bag of words\" style model.\n",
        "* The [`TextVectorization`](https://www.tensorflow.org/api_docs/python/tf/keras/layers/experimental/preprocessing/TextVectorization) layer transforms strings into vocabulary indices. You have already initialized `vectorize_layer` as a TextVectorization layer and built its vocabulary by calling `adapt` on `text_ds`. Now vectorize_layer can be used as the first layer of your end-to-end classification model, feeding transformed strings into the Embedding layer.\n",
        "* The [`Embedding`](https://www.tensorflow.org/api_docs/python/tf/keras/layers/Embedding) layer takes the integer-encoded vocabulary and looks up the embedding vector for each word-index. These vectors are learned as the model trains. The vectors add a dimension to the output array. The resulting dimensions are: `(batch, sequence, embedding)`.\n",
        "\n",
        "* The [`GlobalAveragePooling1D`](https://www.tensorflow.org/api_docs/python/tf/keras/layers/GlobalAveragePooling1D) layer returns a fixed-length output vector for each example by averaging over the sequence dimension. This allows the model to handle input of variable length, in the simplest way possible.\n",
        "\n",
        "* The fixed-length output vector is piped through a fully-connected ([`Dense`](https://www.tensorflow.org/api_docs/python/tf/keras/layers/Dense)) layer with 16 hidden units.\n",
        "\n",
        "* The last layer is densely connected with a single output node. \n",
        "\n",
        "Caution: This model doesn't use masking, so the zero-padding is used as part of the input and hence the padding length may affect the output.  To fix this, see the [masking and padding guide](https://www.tensorflow.org/guide/keras/masking_and_padding)."
      ]
    },
    {
      "cell_type": "code",
      "execution_count": 87,
      "metadata": {
        "id": "pHLcFtn5Wsqj",
        "vscode": {
          "languageId": "python"
        }
      },
      "outputs": [],
      "source": [
        "embedding_dim=768\n",
        "\n",
        "model = Sequential([\n",
        "  vectorize_layer,\n",
        "  Embedding(vocab_size, embedding_dim, name=\"embedding\"),\n",
        "  GlobalAveragePooling1D(),\n",
        "  Dense(384, activation=\"relu\"),\n",
        "  tf.keras.layers.Dropout(0.1),  Dense(192, activation=\"relu\"),\n",
        "  tf.keras.layers.Dropout(0.1),\n",
        "  Dense(16, activation='relu'),\n",
        "  Dense(len(class_names))\n",
        "])"
      ]
    },
    {
      "cell_type": "markdown",
      "metadata": {
        "id": "JjLNgKO7W2fe"
      },
      "source": [
        "## Compile and train the model"
      ]
    },
    {
      "cell_type": "markdown",
      "metadata": {
        "id": "jpX9etB6IOQd"
      },
      "source": [
        "You will use [TensorBoard](https://www.tensorflow.org/tensorboard) to visualize metrics including loss and accuracy. Create a `tf.keras.callbacks.TensorBoard`."
      ]
    },
    {
      "cell_type": "code",
      "execution_count": 88,
      "metadata": {
        "id": "W4Hg3IHFt4Px",
        "vscode": {
          "languageId": "python"
        }
      },
      "outputs": [],
      "source": [
        "tensorboard_callback = tf.keras.callbacks.TensorBoard(log_dir=\"logs\")"
      ]
    },
    {
      "cell_type": "markdown",
      "metadata": {
        "id": "7OrKAKAKIbuH"
      },
      "source": [
        "Compile and train the model using the `Adam` optimizer and `BinaryCrossentropy` loss. "
      ]
    },
    {
      "cell_type": "code",
      "execution_count": 89,
      "metadata": {
        "id": "lCUgdP69Wzix",
        "vscode": {
          "languageId": "python"
        }
      },
      "outputs": [],
      "source": [
        "model.compile(optimizer='adam',\n",
        "              loss=tf.keras.losses.SparseCategoricalCrossentropy(from_logits=True),\n",
        "              metrics=['accuracy'])"
      ]
    },
    {
      "cell_type": "code",
      "execution_count": 90,
      "metadata": {
        "colab": {
          "base_uri": "https://localhost:8080/"
        },
        "id": "5mQehiQyv8rP",
        "outputId": "c3a635bd-a810-40eb-ea1b-51d8c176a5d6",
        "vscode": {
          "languageId": "python"
        }
      },
      "outputs": [
        {
          "name": "stdout",
          "output_type": "stream",
          "text": [
            "Epoch 1/30\n",
            "39/39 [==============================] - 2s 31ms/step - loss: 2.4413 - accuracy: 0.1414 - val_loss: 2.3885 - val_accuracy: 0.1915\n",
            "Epoch 2/30\n",
            "39/39 [==============================] - 1s 25ms/step - loss: 2.3144 - accuracy: 0.2461 - val_loss: 2.3179 - val_accuracy: 0.2128\n",
            "Epoch 3/30\n",
            "39/39 [==============================] - 1s 25ms/step - loss: 1.9070 - accuracy: 0.3717 - val_loss: 2.1378 - val_accuracy: 0.2766\n",
            "Epoch 4/30\n",
            "39/39 [==============================] - 1s 25ms/step - loss: 1.5460 - accuracy: 0.4084 - val_loss: 2.1288 - val_accuracy: 0.2553\n",
            "Epoch 5/30\n",
            "39/39 [==============================] - 1s 24ms/step - loss: 1.3144 - accuracy: 0.4817 - val_loss: 2.2356 - val_accuracy: 0.3191\n",
            "Epoch 6/30\n",
            "39/39 [==============================] - 1s 25ms/step - loss: 1.1168 - accuracy: 0.5759 - val_loss: 1.8559 - val_accuracy: 0.3191\n",
            "Epoch 7/30\n",
            "39/39 [==============================] - 1s 25ms/step - loss: 1.0231 - accuracy: 0.5288 - val_loss: 2.0532 - val_accuracy: 0.3404\n",
            "Epoch 8/30\n",
            "39/39 [==============================] - 1s 24ms/step - loss: 0.9157 - accuracy: 0.6335 - val_loss: 2.4980 - val_accuracy: 0.4043\n",
            "Epoch 9/30\n",
            "39/39 [==============================] - 1s 25ms/step - loss: 0.7324 - accuracy: 0.7016 - val_loss: 1.7896 - val_accuracy: 0.4681\n",
            "Epoch 10/30\n",
            "39/39 [==============================] - 1s 24ms/step - loss: 0.4769 - accuracy: 0.7906 - val_loss: 2.1673 - val_accuracy: 0.4681\n",
            "Epoch 11/30\n",
            "39/39 [==============================] - 1s 28ms/step - loss: 0.3862 - accuracy: 0.8534 - val_loss: 2.4639 - val_accuracy: 0.4255\n",
            "Epoch 12/30\n",
            "39/39 [==============================] - 1s 35ms/step - loss: 0.3436 - accuracy: 0.8743 - val_loss: 2.3113 - val_accuracy: 0.4681\n",
            "Epoch 13/30\n",
            "39/39 [==============================] - 1s 24ms/step - loss: 0.2502 - accuracy: 0.9319 - val_loss: 3.0668 - val_accuracy: 0.4468\n",
            "Epoch 14/30\n",
            "39/39 [==============================] - 1s 24ms/step - loss: 0.1978 - accuracy: 0.9372 - val_loss: 3.0625 - val_accuracy: 0.4468\n",
            "Epoch 15/30\n",
            "39/39 [==============================] - 1s 24ms/step - loss: 0.1197 - accuracy: 0.9738 - val_loss: 3.4135 - val_accuracy: 0.4468\n",
            "Epoch 16/30\n",
            "39/39 [==============================] - 1s 24ms/step - loss: 0.0945 - accuracy: 0.9791 - val_loss: 3.3856 - val_accuracy: 0.4043\n",
            "Epoch 17/30\n",
            "39/39 [==============================] - 1s 29ms/step - loss: 0.1069 - accuracy: 0.9738 - val_loss: 4.0687 - val_accuracy: 0.3830\n",
            "Epoch 18/30\n",
            "39/39 [==============================] - 2s 39ms/step - loss: 0.1419 - accuracy: 0.9581 - val_loss: 3.2261 - val_accuracy: 0.4894\n",
            "Epoch 19/30\n",
            "39/39 [==============================] - 2s 40ms/step - loss: 0.1235 - accuracy: 0.9738 - val_loss: 3.7956 - val_accuracy: 0.4468\n",
            "Epoch 20/30\n",
            "39/39 [==============================] - 1s 38ms/step - loss: 0.1480 - accuracy: 0.9738 - val_loss: 4.4505 - val_accuracy: 0.4043\n",
            "Epoch 21/30\n",
            "39/39 [==============================] - 1s 36ms/step - loss: 0.0890 - accuracy: 0.9738 - val_loss: 3.8950 - val_accuracy: 0.4255\n",
            "Epoch 22/30\n",
            "39/39 [==============================] - 2s 39ms/step - loss: 0.0586 - accuracy: 0.9843 - val_loss: 4.3973 - val_accuracy: 0.4255\n",
            "Epoch 23/30\n",
            "39/39 [==============================] - 1s 33ms/step - loss: 0.0459 - accuracy: 0.9843 - val_loss: 3.5718 - val_accuracy: 0.4681\n",
            "Epoch 24/30\n",
            "39/39 [==============================] - 1s 25ms/step - loss: 0.1291 - accuracy: 0.9581 - val_loss: 4.2555 - val_accuracy: 0.4468\n",
            "Epoch 25/30\n",
            "39/39 [==============================] - 1s 24ms/step - loss: 0.1058 - accuracy: 0.9686 - val_loss: 3.1018 - val_accuracy: 0.4894\n",
            "Epoch 26/30\n",
            "39/39 [==============================] - 1s 25ms/step - loss: 0.0803 - accuracy: 0.9738 - val_loss: 3.3234 - val_accuracy: 0.4043\n",
            "Epoch 27/30\n",
            "39/39 [==============================] - 1s 24ms/step - loss: 0.3485 - accuracy: 0.8953 - val_loss: 3.9021 - val_accuracy: 0.4681\n",
            "Epoch 28/30\n",
            "39/39 [==============================] - 1s 24ms/step - loss: 0.1606 - accuracy: 0.9372 - val_loss: 3.4825 - val_accuracy: 0.4468\n",
            "Epoch 29/30\n",
            "39/39 [==============================] - 1s 24ms/step - loss: 0.0616 - accuracy: 0.9895 - val_loss: 3.5757 - val_accuracy: 0.4894\n",
            "Epoch 30/30\n",
            "39/39 [==============================] - 1s 24ms/step - loss: 0.0445 - accuracy: 0.9843 - val_loss: 3.6922 - val_accuracy: 0.4468\n"
          ]
        },
        {
          "data": {
            "text/plain": [
              "<keras.callbacks.History at 0x7f18ebbef710>"
            ]
          },
          "execution_count": 90,
          "metadata": {},
          "output_type": "execute_result"
        }
      ],
      "source": [
        "model.fit(\n",
        "    train_ds,\n",
        "    validation_data=val_ds,\n",
        "    epochs=30,\n",
        "    callbacks=[tensorboard_callback])"
      ]
    },
    {
      "cell_type": "markdown",
      "metadata": {
        "id": "1wYnVedSPfmX"
      },
      "source": [
        "With this approach the model reaches a validation accuracy of around 78% (note that the model is overfitting since training accuracy is higher).\n",
        "\n",
        "Note: Your results may be a bit different, depending on how weights were randomly initialized before training the embedding layer. \n",
        "\n",
        "You can look into the model summary to learn more about each layer of the model."
      ]
    },
    {
      "cell_type": "code",
      "execution_count": 91,
      "metadata": {
        "colab": {
          "base_uri": "https://localhost:8080/"
        },
        "id": "mDCgjWyq_0dc",
        "outputId": "f5333e91-6228-4a0a-e021-4db7408d3981",
        "vscode": {
          "languageId": "python"
        }
      },
      "outputs": [
        {
          "name": "stdout",
          "output_type": "stream",
          "text": [
            "Model: \"sequential_2\"\n",
            "_________________________________________________________________\n",
            " Layer (type)                Output Shape              Param #   \n",
            "=================================================================\n",
            " text_vectorization_2 (TextV  (None, 1000)             0         \n",
            " ectorization)                                                   \n",
            "                                                                 \n",
            " embedding (Embedding)       (None, 1000, 768)         76800000  \n",
            "                                                                 \n",
            " global_average_pooling1d_2   (None, 768)              0         \n",
            " (GlobalAveragePooling1D)                                        \n",
            "                                                                 \n",
            " dense_8 (Dense)             (None, 384)               295296    \n",
            "                                                                 \n",
            " dropout_4 (Dropout)         (None, 384)               0         \n",
            "                                                                 \n",
            " dense_9 (Dense)             (None, 192)               73920     \n",
            "                                                                 \n",
            " dropout_5 (Dropout)         (None, 192)               0         \n",
            "                                                                 \n",
            " dense_10 (Dense)            (None, 16)                3088      \n",
            "                                                                 \n",
            " dense_11 (Dense)            (None, 12)                204       \n",
            "                                                                 \n",
            "=================================================================\n",
            "Total params: 77,172,508\n",
            "Trainable params: 77,172,508\n",
            "Non-trainable params: 0\n",
            "_________________________________________________________________\n"
          ]
        }
      ],
      "source": [
        "model.summary()"
      ]
    },
    {
      "cell_type": "code",
      "execution_count": 110,
      "metadata": {
        "colab": {
          "base_uri": "https://localhost:8080/"
        },
        "id": "0Wlz9OnvbYv4",
        "outputId": "f59fe8de-dc32-4d3d-b881-edea6b7e1142",
        "vscode": {
          "languageId": "python"
        }
      },
      "outputs": [
        {
          "name": "stdout",
          "output_type": "stream",
          "text": [
            "<bound method DatasetV2.unbatch of <MapDataset element_spec=TensorSpec(shape=(None,), dtype=tf.int32, name=None)>>\n",
            "[[-1.48690443e+01  2.57101440e+01  1.97599964e+01  1.78154068e+01\n",
            "  -1.19697027e+01 -1.97303123e+01  5.96945810e+00  1.07819395e+01\n",
            "   4.51129293e+00  2.49733143e+01 -2.98042526e+01 -3.98867683e+01]\n",
            " [ 1.33821602e+01 -6.09594584e+00 -9.73021317e+00 -8.40130901e+00\n",
            "  -2.54887066e+01  3.36929774e+00  2.57964821e+01  1.83243256e+01\n",
            "  -2.62097931e+00  1.16074562e+01 -1.90345745e+01 -2.94630432e+01]\n",
            " [ 9.33423519e+00 -9.85525787e-01 -4.62638044e+00 -4.08483124e+00\n",
            "  -2.08355923e+01  2.81775892e-01  2.05525894e+01  1.55452223e+01\n",
            "  -1.58680201e+00  1.15319786e+01 -1.72471581e+01 -2.65923557e+01]\n",
            " [-9.75128746e+00  8.37616253e+00  1.00721855e+01  8.36335278e+00\n",
            "  -5.77289200e+00 -9.26112843e+00 -2.91156793e+00  5.93229342e+00\n",
            "   3.06218410e+00  1.04167280e+01 -1.33411350e+01 -1.84791622e+01]\n",
            " [-1.02995052e+01  4.89906073e+00  9.54841042e+00  7.07535934e+00\n",
            "  -6.10398579e+00 -7.54182816e+00 -6.00550699e+00  6.86902714e+00\n",
            "   2.80202985e+00  8.04687977e+00 -1.19350071e+01 -1.68302460e+01]\n",
            " [-5.00509644e+00  6.49078226e+00  6.88855553e+00  5.51242971e+00\n",
            "  -9.00146770e+00 -6.48498964e+00  2.52960706e+00  8.21512413e+00\n",
            "   1.61727476e+00  1.12730160e+01 -1.28939352e+01 -1.91670265e+01]\n",
            " [-6.64376926e+00 -4.63295519e-01  6.71406984e+00  3.00971651e+00\n",
            "  -1.04007587e+01 -2.77162218e+00 -3.63220525e+00  1.18305092e+01\n",
            "   7.55593598e-01  6.58432007e+00 -1.15178347e+01 -1.72734413e+01]\n",
            " [-1.12451248e+01  1.08875751e+01  1.10691967e+01  1.06062813e+01\n",
            "  -1.00350618e+01 -1.22962999e+01 -1.17477727e+00  7.38727093e+00\n",
            "   3.54443955e+00  1.45592594e+01 -1.67002869e+01 -2.61932793e+01]\n",
            " [ 3.57648921e+00 -6.80740595e+00 -1.18229754e-01 -4.62804985e+00\n",
            "  -1.63777409e+01  3.28375149e+00  6.53576326e+00  1.73122196e+01\n",
            "  -7.34501779e-01  5.41038132e+00 -1.43715649e+01 -1.95671463e+01]\n",
            " [ 1.26032734e+01 -1.13804169e+01 -8.76317024e+00 -1.05016880e+01\n",
            "  -1.79088001e+01  7.53159618e+00  1.09187403e+01  1.22109413e+01\n",
            "  -5.90594471e-01  1.01366782e+00 -7.51743412e+00 -1.36870604e+01]\n",
            " [-2.01626453e+01  7.74575233e+00  1.82359486e+01  1.19400101e+01\n",
            "   3.90957475e+00 -1.13360434e+01 -1.60815964e+01  6.72454739e+00\n",
            "   4.20269823e+00  6.69020987e+00 -1.62629471e+01 -1.23308105e+01]\n",
            " [-8.37634659e+00  7.42621326e+00  9.13956451e+00  7.49552011e+00\n",
            "  -8.67340660e+00 -8.46394253e+00 -8.82827222e-01  8.04146194e+00\n",
            "   2.47958469e+00  1.15649757e+01 -1.41122246e+01 -2.08866730e+01]\n",
            " [-1.92371693e+01  1.83744450e+01  1.38991375e+01  1.59415874e+01\n",
            "  -5.88998985e+00 -1.72436562e+01 -2.04612470e+00  4.25364065e+00\n",
            "   4.47539091e+00  1.49305439e+01 -2.33374634e+01 -2.99020081e+01]\n",
            " [-1.33006849e+01  2.16889307e-01  6.56606817e+00  6.03949022e+00\n",
            "  -2.47643590e+00 -6.90077877e+00 -1.33245134e+01  1.27092743e+00\n",
            "   3.99024677e+00  1.93992615e+00 -7.05717850e+00 -1.13872986e+01]\n",
            " [-8.08000755e+00  1.39919806e+01  1.08677998e+01  9.67249870e+00\n",
            "  -6.75731945e+00 -1.08129206e+01  3.18605089e+00  5.98933315e+00\n",
            "   2.70734453e+00  1.33738289e+01 -1.66147652e+01 -2.22651176e+01]\n",
            " [-1.18159714e+01  2.26060534e+00  8.69627666e+00  6.50972128e+00\n",
            "  -4.57219839e+00 -6.93992186e+00 -1.07403612e+01  4.45253229e+00\n",
            "   3.52831316e+00  4.58893251e+00 -9.07417583e+00 -1.38450546e+01]\n",
            " [-1.52239857e+01  2.17110085e+00  1.09425135e+01  7.42048740e+00\n",
            "   2.26266885e+00 -7.25046062e+00 -1.49671335e+01  3.05369878e+00\n",
            "   3.76965904e+00  2.25059986e+00 -9.25282288e+00 -7.85975027e+00]\n",
            " [-9.36333942e+00  8.66477013e+00  1.05505390e+01  8.31790352e+00\n",
            "  -6.78435755e+00 -9.04716492e+00 -1.51918411e+00  7.77421856e+00\n",
            "   2.64367867e+00  1.15925636e+01 -1.47375984e+01 -1.98910046e+01]\n",
            " [-1.15274200e+01  5.74898148e+00  5.89755774e+00  7.98058987e+00\n",
            "  -5.71491241e+00 -9.36731625e+00 -4.46088696e+00  2.33639932e+00\n",
            "   2.76655197e+00  6.47564697e+00 -1.07129183e+01 -1.78246307e+01]\n",
            " [-1.43736248e+01 -2.05764523e+01 -3.50468540e+00 -2.02076888e+00\n",
            "  -3.98084331e+00  4.49713993e+00 -3.32370529e+01 -3.74767160e+00\n",
            "   6.41976976e+00 -1.05141993e+01  1.22210331e+01  4.94234705e+00]\n",
            " [-1.03445501e+01  1.08838797e+01  1.06362600e+01  9.70002937e+00\n",
            "  -6.36895657e+00 -1.10976973e+01 -1.22197843e+00  5.42910242e+00\n",
            "   3.52023125e+00  1.24368925e+01 -1.51365414e+01 -2.16485538e+01]\n",
            " [-2.46321239e+01  3.78773994e+01  2.43053112e+01  2.58978519e+01\n",
            "  -1.32612228e+01 -2.62178001e+01  8.81699753e+00  1.11366882e+01\n",
            "   4.52118540e+00  2.66687260e+01 -4.13384552e+01 -5.21877937e+01]\n",
            " [-5.21660852e+00  6.07289457e+00  4.23307323e+00  6.23775578e+00\n",
            "  -1.29422674e+01 -7.42060280e+00  3.56379580e+00  7.38314915e+00\n",
            "  -1.86792076e-01  7.56855869e+00 -1.10226946e+01 -2.16304340e+01]\n",
            " [ 4.47912264e+00 -4.44474649e+00 -8.16963986e-02 -3.94008756e+00\n",
            "  -1.60358410e+01  2.16469574e+00  9.09948444e+00  1.64101791e+01\n",
            "  -5.63589513e-01  7.32845020e+00 -1.50191088e+01 -2.02718735e+01]\n",
            " [ 7.26117754e+00 -1.34418001e+01 -6.70129442e+00 -9.24876690e+00\n",
            "  -1.66737556e+01  7.48313999e+00  3.08361983e+00  1.19826860e+01\n",
            "  -1.03205383e-01 -1.32404733e+00 -6.08050108e+00 -1.25967360e+01]\n",
            " [-1.87201824e+01  3.48793831e+01  2.33745060e+01  2.23706551e+01\n",
            "  -1.23428240e+01 -2.31687164e+01  1.02896881e+01  1.16982288e+01\n",
            "   4.15378714e+00  2.67509041e+01 -3.74987793e+01 -4.69441643e+01]\n",
            " [-1.07221766e+01  6.54623938e+00  8.62397861e+00  7.93492985e+00\n",
            "  -5.50536966e+00 -9.26087093e+00 -5.17956495e+00  3.92861032e+00\n",
            "   3.42124772e+00  8.25603104e+00 -1.16335678e+01 -1.79964027e+01]\n",
            " [-1.50097218e+01  2.34603000e+00  1.06183834e+01  7.42536211e+00\n",
            "   1.71781659e+00 -7.46083879e+00 -1.44757071e+01  2.88370180e+00\n",
            "   3.87855268e+00  2.58902407e+00 -9.41444683e+00 -8.63543797e+00]\n",
            " [ 8.69980812e+00 -1.05701911e+00 -4.07656908e+00 -3.91172552e+00\n",
            "  -2.04452991e+01  1.43769443e-01  1.95327644e+01  1.57507229e+01\n",
            "  -1.15617847e+00  1.18976250e+01 -1.76377583e+01 -2.69235249e+01]\n",
            " [-8.90990448e+00 -1.50099916e+01 -3.37856412e-01 -2.82014108e+00\n",
            "  -1.35442233e+00  5.36995888e+00 -2.20253716e+01  1.64785874e+00\n",
            "   3.10532856e+00 -8.07648373e+00  5.77620983e+00  5.10753107e+00]\n",
            " [-8.18939018e+00  1.24220428e+01  1.17620487e+01  9.83566380e+00\n",
            "  -1.32631397e+01 -1.12948122e+01  5.26631880e+00  1.26057968e+01\n",
            "   2.45616055e+00  1.92200813e+01 -2.09835167e+01 -3.03757935e+01]\n",
            " [-2.14240694e+00  4.27875936e-01  3.50961852e+00  1.46344769e+00\n",
            "  -1.06427917e+01 -2.31762266e+00  2.24684334e+00  1.00589294e+01\n",
            "   5.92355311e-01  7.55523205e+00 -1.08877373e+01 -1.66793556e+01]\n",
            " [-3.28586268e+00 -1.93692434e+00  2.74571753e+00  8.25875342e-01\n",
            "  -8.99762249e+00 -1.16455722e+00 -2.11002779e+00  7.82780552e+00\n",
            "   7.32068837e-01  3.87957048e+00 -7.22342968e+00 -1.27965441e+01]\n",
            " [-1.69425545e+01  2.18509769e+01  1.65440521e+01  1.66744022e+01\n",
            "  -8.92807198e+00 -1.81982880e+01  1.96224880e+00  7.29640913e+00\n",
            "   4.34869432e+00  1.91266956e+01 -2.62005501e+01 -3.47458000e+01]\n",
            " [-1.50143595e+01  7.96538019e+00  7.94960546e+00  1.06076508e+01\n",
            "  -7.51464462e+00 -1.23684597e+01 -5.44654703e+00  3.21648932e+00\n",
            "   3.45623970e+00  8.94855499e+00 -1.41527061e+01 -2.34705124e+01]\n",
            " [ 2.61491919e+00 -4.97616863e+00 -1.42012227e+00 -3.08860755e+00\n",
            "  -1.41058712e+01  1.41111541e+00  4.01039362e+00  1.05936661e+01\n",
            "   1.85402930e-01  4.07974148e+00 -8.99062538e+00 -1.61532784e+01]\n",
            " [ 5.51152885e-01  3.15552998e+00  1.14076221e+00  2.30446625e+00\n",
            "  -1.49502153e+01 -4.13309383e+00  8.78859329e+00  9.77679825e+00\n",
            "  -6.65915668e-01  8.58357716e+00 -1.14041300e+01 -2.13226566e+01]\n",
            " [-2.73586178e+00 -7.11559343e+00 -5.07095575e-01 -1.74662864e+00\n",
            "  -9.21082878e+00  1.70522928e+00 -6.25765085e+00  5.76271868e+00\n",
            "   1.10752940e+00 -6.16590440e-01 -2.46957302e+00 -8.75936604e+00]\n",
            " [-1.42607689e+01  7.87356091e+00  9.89314747e+00  9.98402786e+00\n",
            "  -5.24824476e+00 -1.14275427e+01 -7.02054167e+00  3.60299087e+00\n",
            "   4.26106215e+00  9.21853352e+00 -1.39443188e+01 -2.06237373e+01]\n",
            " [-1.70394840e+01  2.60695248e+01  1.74617424e+01  1.80036125e+01\n",
            "  -9.29117203e+00 -1.86713753e+01  5.63737631e+00  8.02916527e+00\n",
            "   3.53759909e+00  1.94554176e+01 -2.90375443e+01 -3.67444954e+01]\n",
            " [-1.69002151e+01 -7.18657780e+00  7.59638453e+00  3.81356692e+00\n",
            "   5.68193865e+00 -3.19106770e+00 -2.57782478e+01 -9.07398164e-01\n",
            "   5.51312208e+00 -5.29465818e+00 -1.77077699e+00  1.20898283e+00]\n",
            " [-4.03993511e+00  1.60329998e+00  4.05739307e+00  2.90131044e+00\n",
            "  -9.03199387e+00 -3.67070723e+00 -3.39794576e-01  7.18169403e+00\n",
            "   1.12489104e+00  6.66442347e+00 -8.91439629e+00 -1.53295784e+01]\n",
            " [ 3.63062024e+00 -1.10821450e+00  6.43154025e-01 -1.95384943e+00\n",
            "  -1.42407303e+01  4.74657454e-02  9.68619442e+00  1.36993999e+01\n",
            "  -1.25731409e-01  8.97201252e+00 -1.42420702e+01 -1.97372704e+01]\n",
            " [-1.49418898e+01  2.90612812e+01  2.04390373e+01  1.87289886e+01\n",
            "  -1.18766365e+01 -1.99070969e+01  8.85797787e+00  1.10496941e+01\n",
            "   3.66760635e+00  2.41503716e+01 -3.18028336e+01 -4.12581215e+01]\n",
            " [-1.56345081e+01  2.79027367e+01  1.90446301e+01  1.81858253e+01\n",
            "  -9.52158737e+00 -1.90090790e+01  7.46613264e+00  9.15670681e+00\n",
            "   3.70655012e+00  2.17830391e+01 -3.03413067e+01 -3.77489967e+01]\n",
            " [-9.10181332e+00 -3.06064415e+00  4.40749836e+00  2.80480671e+00\n",
            "  -3.80387282e+00 -2.77071142e+00 -1.21964350e+01  2.61925960e+00\n",
            "   2.91694498e+00 -1.41645849e-01 -3.61435604e+00 -7.63400221e+00]\n",
            " [ 1.28353965e+00 -1.53247709e+01 -4.39924812e+00 -7.68316936e+00\n",
            "  -1.23006210e+01  7.98196125e+00 -6.08136606e+00  1.02081242e+01\n",
            "   4.40364897e-01 -4.74070740e+00 -2.51183391e+00 -7.27933788e+00]]\n",
            "[ 1  6  6  9  2  9  7  9  7  0  2  9  1  2  1  2  2  9  3 10  9  1  9  7\n",
            "  7  1  2  2  6 10  9  7  7  1  3  7  7  7  3  1  2  7  7  1  1  2  7]\n",
            "Accuracy: 0.446809\n",
            "Precision (None): 4.694444\n",
            "Precision (micro): 0.446809\n",
            "Precision (macro): 0.391204\n",
            "Precision (weighted): 0.476950\n",
            "Recall (micro): 0.446809\n",
            "Recall (macro): 0.404101\n",
            "Recall (weighted): 0.446809\n",
            "F1 score (micro): 0.446809\n",
            "F1 score (macro): 0.356878\n",
            "F1 score (weighted): 0.430193\n",
            "Cohens kappa: 0.384073\n",
            "[[1 0 1 0 0 0 0 0 0 0 0 0]\n",
            " [0 7 1 0 0 0 0 1 0 0 0 0]\n",
            " [0 1 0 0 0 0 0 0 0 1 0 0]\n",
            " [0 0 1 2 0 0 0 0 0 1 0 0]\n",
            " [0 0 3 0 0 0 0 0 0 1 0 0]\n",
            " [0 0 0 0 0 0 0 2 0 0 0 0]\n",
            " [0 0 0 0 0 0 3 2 0 1 0 0]\n",
            " [0 0 0 0 0 0 0 3 0 0 0 0]\n",
            " [0 0 1 1 0 0 0 2 0 0 0 0]\n",
            " [0 1 1 0 0 0 0 1 0 4 0 0]\n",
            " [0 0 0 0 0 0 0 0 0 0 1 0]\n",
            " [0 0 1 0 0 0 0 1 0 0 1 0]]\n"
          ]
        },
        {
          "name": "stderr",
          "output_type": "stream",
          "text": [
            "/usr/local/lib/python3.7/dist-packages/sklearn/metrics/_classification.py:1318: UndefinedMetricWarning: Precision is ill-defined and being set to 0.0 in labels with no predicted samples. Use `zero_division` parameter to control this behavior.\n",
            "  _warn_prf(average, modifier, msg_start, len(result))\n",
            "/usr/local/lib/python3.7/dist-packages/sklearn/metrics/_classification.py:1318: UndefinedMetricWarning: Precision is ill-defined and being set to 0.0 in labels with no predicted samples. Use `zero_division` parameter to control this behavior.\n",
            "  _warn_prf(average, modifier, msg_start, len(result))\n",
            "/usr/local/lib/python3.7/dist-packages/sklearn/metrics/_classification.py:1318: UndefinedMetricWarning: Precision is ill-defined and being set to 0.0 in labels with no predicted samples. Use `zero_division` parameter to control this behavior.\n",
            "  _warn_prf(average, modifier, msg_start, len(result))\n"
          ]
        }
      ],
      "source": [
        "# Model Metrics\n",
        "from sklearn.datasets import make_circles\n",
        "from sklearn.metrics import accuracy_score\n",
        "from sklearn.metrics import precision_score\n",
        "from sklearn.metrics import recall_score\n",
        "from sklearn.metrics import f1_score\n",
        "from sklearn.metrics import cohen_kappa_score\n",
        "from sklearn.metrics import roc_auc_score\n",
        "from sklearn.metrics import confusion_matrix\n",
        "import numpy as np\n",
        "\n",
        "y_labels = val_ds.map(lambda x,y: y)\n",
        "print(y_labels.unbatch)\n",
        "\n",
        "y_labels = y_labels.as_numpy_iterator()\n",
        "\n",
        "## Reduce to 1D Array\n",
        "y_labels = np.concatenate([y for x, y in val_ds], axis=0)\n",
        "\n",
        "y_hat_probs = model.predict(val_ds)\n",
        "\n",
        "y_hat_classes = y_hat_probs.argmax(axis=-1)\n",
        "\n",
        "print(y_hat_probs)\n",
        "print(y_hat_classes)\n",
        "\n",
        "## accuracy: (tp + tn) / (p + n)\n",
        "accuracy = accuracy_score(y_labels, y_hat_classes)\n",
        "print('Accuracy: %f' % accuracy)\n",
        "\n",
        "## precision tp / (tp + fp)\n",
        "precision = precision_score(y_labels, y_hat_classes, average=None)\n",
        "print('Precision (None): %f' % precision.sum())\n",
        "precision = precision_score(y_labels, y_hat_classes, average='micro')\n",
        "print('Precision (micro): %f' % precision)\n",
        "precision = precision_score(y_labels, y_hat_classes, average= 'macro')\n",
        "print('Precision (macro): %f' % precision)\n",
        "# precision = precision_score(y_labels, y_hat_classes, average= 'samples')\n",
        "# print('Precision (samples): %f' % precision)\n",
        "precision = precision_score(y_labels, y_hat_classes, average= 'weighted')\n",
        "print('Precision (weighted): %f' % precision)\n",
        "\n",
        "## recall: tp / (tp + fn)\n",
        "recall = recall_score(y_labels, y_hat_classes, average='micro')\n",
        "print('Recall (micro): %f' % recall)\n",
        "recall = recall_score(y_labels, y_hat_classes, average='macro')\n",
        "print('Recall (macro): %f' % recall)\n",
        "# recall = recall_score(y_labels, y_hat_classes, average='samples')\n",
        "# print('Recall (samples): %f' % recall)\n",
        "recall = recall_score(y_labels, y_hat_classes, average='weighted')\n",
        "print('Recall (weighted): %f' % recall)\n",
        "\n",
        "## f1: 2 tp / (2 tp + fp + fn)\n",
        "f1 = f1_score(y_labels, y_hat_classes, average='micro')\n",
        "print('F1 score (micro): %f' % f1)\n",
        "f1 = f1_score(y_labels, y_hat_classes, average='macro')\n",
        "print('F1 score (macro): %f' % f1)\n",
        "f1 = f1_score(y_labels, y_hat_classes, average='weighted')\n",
        "print('F1 score (weighted): %f' % f1)\n",
        " \n",
        "## kappa\n",
        "kappa = cohen_kappa_score(y_labels, y_hat_classes)\n",
        "print('Cohens kappa: %f' % kappa)\n",
        "\n",
        "## ROC AUC\n",
        "# print(np.sum(y_hat_probs))\n",
        "# y_hat_probs = y_hat_probs / np.sum(y_hat_probs)\n",
        "# print(np.sum(y_hat_probs))\n",
        "# auc = roc_auc_score(y_labels, y_hat_probs, multi_class='ovo')\n",
        "# print('ROC AUC: %f' % auc)\n",
        "\n",
        "## confusion matrix\n",
        "matrix = confusion_matrix(y_labels, y_hat_classes)\n",
        "print(matrix)\n"
      ]
    },
    {
      "cell_type": "markdown",
      "metadata": {
        "id": "hiQbOJZ2WBFY"
      },
      "source": [
        "Visualize the model metrics in TensorBoard."
      ]
    },
    {
      "cell_type": "code",
      "execution_count": null,
      "metadata": {
        "id": "_Uanp2YH8RzU",
        "vscode": {
          "languageId": "python"
        }
      },
      "outputs": [],
      "source": [
        "#docs_infra: no_execute\n",
        "%load_ext tensorboard\n",
        "%tensorboard --logdir logs"
      ]
    },
    {
      "cell_type": "markdown",
      "metadata": {
        "id": "QvURkGVpXDOy"
      },
      "source": [
        "![embeddings_classifier_accuracy.png](https://github.com/tensorflow/text/blob/master/docs/guide/images/embeddings_classifier_accuracy.png?raw=1)"
      ]
    },
    {
      "cell_type": "markdown",
      "metadata": {
        "id": "KCoA6qwqP836"
      },
      "source": [
        "## Retrieve the trained word embeddings and save them to disk\n",
        "\n",
        "Next, retrieve the word embeddings learned during training. The embeddings are weights of the Embedding layer in the model. The weights matrix is of shape `(vocab_size, embedding_dimension)`."
      ]
    },
    {
      "cell_type": "markdown",
      "metadata": {
        "id": "Zp5rv01WG2YA"
      },
      "source": [
        "Obtain the weights from the model using `get_layer()` and `get_weights()`. The `get_vocabulary()` function provides the vocabulary to build a metadata file with one token per line. "
      ]
    },
    {
      "cell_type": "code",
      "execution_count": null,
      "metadata": {
        "id": "_Uamp1YH8RzU",
        "vscode": {
          "languageId": "python"
        }
      },
      "outputs": [],
      "source": [
        "weights = model.get_layer('embedding').get_weights()[0]\n",
        "vocab = vectorize_layer.get_vocabulary()"
      ]
    },
    {
      "cell_type": "markdown",
      "metadata": {
        "id": "J8MiCA77X8B8"
      },
      "source": [
        "Write the weights to disk. To use the [Embedding Projector](http://projector.tensorflow.org), you will upload two files in tab separated format: a file of vectors (containing the embedding), and a file of meta data (containing the words)."
      ]
    },
    {
      "cell_type": "code",
      "execution_count": null,
      "metadata": {
        "id": "VLIahl9s53XT",
        "vscode": {
          "languageId": "python"
        }
      },
      "outputs": [],
      "source": [
        "out_v = io.open('vectors.tsv', 'w', encoding='utf-8')\n",
        "out_m = io.open('metadata.tsv', 'w', encoding='utf-8')\n",
        "\n",
        "for index, word in enumerate(vocab):\n",
        "  if index == 0:\n",
        "    continue  # skip 0, it's padding.\n",
        "  vec = weights[index]\n",
        "  out_v.write('\\t'.join([str(x) for x in vec]) + \"\\n\")\n",
        "  out_m.write(word + \"\\n\")\n",
        "out_v.close()\n",
        "out_m.close()"
      ]
    },
    {
      "cell_type": "markdown",
      "metadata": {
        "id": "JQyMZWyxYjMr"
      },
      "source": [
        "If you are running this tutorial in [Colaboratory](https://colab.research.google.com), you can use the following snippet to download these files to your local machine (or use the file browser, *View -> Table of contents -> File browser*)."
      ]
    },
    {
      "cell_type": "code",
      "execution_count": null,
      "metadata": {
        "id": "lUsjQOKMIV2z",
        "vscode": {
          "languageId": "python"
        }
      },
      "outputs": [],
      "source": [
        "try:\n",
        "  from google.colab import files\n",
        "  files.download('vectors.tsv')\n",
        "  files.download('metadata.tsv')\n",
        "except Exception:\n",
        "  pass"
      ]
    },
    {
      "cell_type": "markdown",
      "metadata": {
        "id": "PXLfFA54Yz-o"
      },
      "source": [
        "## Visualize the embeddings\n",
        "\n",
        "To visualize the embeddings, upload them to the embedding projector.\n",
        "\n",
        "Open the [Embedding Projector](http://projector.tensorflow.org/) (this can also run in a local TensorBoard instance).\n",
        "\n",
        "* Click on \"Load data\".\n",
        "\n",
        "* Upload the two files you created above: `vecs.tsv` and `meta.tsv`.\n",
        "\n",
        "The embeddings you have trained will now be displayed. You can search for words to find their closest neighbors. For example, try searching for \"beautiful\". You may see neighbors like \"wonderful\". \n",
        "\n",
        "Note: Experimentally, you may be able to produce more interpretable embeddings by using a simpler model. Try deleting the `Dense(16)` layer, retraining the model, and visualizing the embeddings again.\n",
        "\n",
        "Note: Typically, a much larger dataset is needed to train more interpretable word embeddings. This tutorial uses a small IMDb dataset for the purpose of demonstration.\n"
      ]
    },
    {
      "cell_type": "markdown",
      "metadata": {
        "id": "wvKiEHjramNh"
      },
      "source": [
        "## Next Steps"
      ]
    },
    {
      "cell_type": "markdown",
      "metadata": {
        "id": "BSgAZpwF5xF_"
      },
      "source": [
        "This tutorial has shown you how to train and visualize word embeddings from scratch on a small dataset.\n",
        "\n",
        "* To train word embeddings using Word2Vec algorithm, try the [Word2Vec](https://www.tensorflow.org/tutorials/text/word2vec) tutorial. \n",
        "\n",
        "* To learn more about advanced text processing, read the [Transformer model for language understanding](https://www.tensorflow.org/text/tutorials/transformer)."
      ]
    }
  ],
  "metadata": {
    "accelerator": "GPU",
    "colab": {
      "collapsed_sections": [],
      "name": "word_embeddings.ipynb",
      "provenance": []
    },
    "kernelspec": {
      "display_name": "Python 3",
      "name": "python3"
    }
  },
  "nbformat": 4,
  "nbformat_minor": 0
}

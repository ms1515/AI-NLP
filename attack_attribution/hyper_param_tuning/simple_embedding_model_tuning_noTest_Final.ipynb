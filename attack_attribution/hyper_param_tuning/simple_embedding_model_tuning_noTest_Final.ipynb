{
  "cells": [
    {
      "cell_type": "markdown",
      "metadata": {
        "id": "Tce3stUlHN0L"
      },
      "source": [
        "##### Copyright 2020 The TensorFlow Authors."
      ]
    },
    {
      "cell_type": "code",
      "execution_count": 7,
      "metadata": {
        "cellView": "form",
        "id": "tuOe1ymfHZPu"
      },
      "outputs": [],
      "source": [
        "#@title Licensed under the Apache License, Version 2.0 (the \"License\");\n",
        "# you may not use this file except in compliance with the License.\n",
        "# You may obtain a copy of the License at\n",
        "#\n",
        "# https://www.apache.org/licenses/LICENSE-2.0\n",
        "#\n",
        "# Unless required by applicable law or agreed to in writing, software\n",
        "# distributed under the License is distributed on an \"AS IS\" BASIS,\n",
        "# WITHOUT WARRANTIES OR CONDITIONS OF ANY KIND, either express or implied.\n",
        "# See the License for the specific language governing permissions and\n",
        "# limitations under the License."
      ]
    },
    {
      "cell_type": "markdown",
      "metadata": {
        "id": "qFdPvlXBOdUN"
      },
      "source": [
        "# Introduction to the Keras Tuner"
      ]
    },
    {
      "cell_type": "markdown",
      "metadata": {
        "id": "MfBg1C5NB3X0"
      },
      "source": [
        "<table class=\"tfo-notebook-buttons\" align=\"left\">\n",
        "  <td>\n",
        "    <a target=\"_blank\" href=\"https://www.tensorflow.org/tutorials/keras/keras_tuner\"><img src=\"https://www.tensorflow.org/images/tf_logo_32px.png\" />View on TensorFlow.org</a>\n",
        "  </td>\n",
        "  <td>\n",
        "    <a target=\"_blank\" href=\"https://colab.research.google.com/github/tensorflow/docs/blob/master/site/en/tutorials/keras/keras_tuner.ipynb\"><img src=\"https://www.tensorflow.org/images/colab_logo_32px.png\" />Run in Google Colab</a>\n",
        "  </td>\n",
        "  <td>\n",
        "    <a target=\"_blank\" href=\"https://github.com/tensorflow/docs/blob/master/site/en/tutorials/keras/keras_tuner.ipynb\"><img src=\"https://www.tensorflow.org/images/GitHub-Mark-32px.png\" />View source on GitHub</a>\n",
        "  </td>\n",
        "  <td>\n",
        "    <a href=\"https://storage.googleapis.com/tensorflow_docs/docs/site/en/tutorials/keras/keras_tuner.ipynb\"><img src=\"https://www.tensorflow.org/images/download_logo_32px.png\" />Download notebook</a>\n",
        "  </td>\n",
        "</table>"
      ]
    },
    {
      "cell_type": "markdown",
      "metadata": {
        "id": "xHxb-dlhMIzW"
      },
      "source": [
        "## Overview\n",
        "\n",
        "The Keras Tuner is a library that helps you pick the optimal set of hyperparameters for your TensorFlow program. The process of selecting the right set of hyperparameters for your machine learning (ML) application is called *hyperparameter tuning* or *hypertuning*.\n",
        "\n",
        "Hyperparameters are the variables that govern the training process and the topology of an ML model. These variables remain constant over the training process and directly impact the performance of your ML program. Hyperparameters are of two types:\n",
        "1. **Model hyperparameters** which influence model selection such as the number and width of hidden layers\n",
        "2. **Algorithm hyperparameters** which influence the speed and quality of the learning algorithm such as the learning rate for Stochastic Gradient Descent (SGD) and the number of nearest neighbors for a k Nearest Neighbors (KNN) classifier\n",
        "\n",
        "In this tutorial, you will use the Keras Tuner to perform hypertuning for an image classification application."
      ]
    },
    {
      "cell_type": "markdown",
      "metadata": {
        "id": "MUXex9ctTuDB"
      },
      "source": [
        "## Setup"
      ]
    },
    {
      "cell_type": "code",
      "execution_count": 8,
      "metadata": {
        "id": "IqR2PQG4ZaZ0"
      },
      "outputs": [],
      "source": [
        "import io\n",
        "import re\n",
        "import string\n",
        "import tensorflow as tf\n",
        "from tensorflow import keras\n",
        "from tensorflow.keras import Sequential\n",
        "from tensorflow.keras.layers import Dense, Embedding, GlobalAveragePooling1D\n",
        "from tensorflow.keras.layers import TextVectorization\n"
      ]
    },
    {
      "cell_type": "markdown",
      "metadata": {
        "id": "g83Lwsy-Aq2_"
      },
      "source": [
        "Install and import the Keras Tuner."
      ]
    },
    {
      "cell_type": "code",
      "execution_count": 9,
      "metadata": {
        "id": "hpMLpbt9jcO6"
      },
      "outputs": [],
      "source": [
        "!pip install -q -U keras-tuner"
      ]
    },
    {
      "cell_type": "code",
      "execution_count": 10,
      "metadata": {
        "id": "_leAIdFKAxAD"
      },
      "outputs": [],
      "source": [
        "import keras_tuner as kt"
      ]
    },
    {
      "cell_type": "markdown",
      "metadata": {
        "id": "ReV_UXOgCZvx"
      },
      "source": [
        "## Download and prepare the dataset\n",
        "\n",
        "In this tutorial, you will use the Keras Tuner to find the best hyperparameters for a machine learning model that classifies images of clothing from the [Fashion MNIST dataset](https://github.com/zalandoresearch/fashion-mnist)."
      ]
    },
    {
      "cell_type": "markdown",
      "metadata": {
        "id": "HljH_ENLEdHa"
      },
      "source": [
        "Load the data."
      ]
    },
    {
      "cell_type": "code",
      "execution_count": 11,
      "metadata": {
        "id": "OHlHs9Wj_PUM"
      },
      "outputs": [],
      "source": [
        "url = 'https://github.com/eyalmazuz/AttackAttributionDataset/archive/refs/heads/master.zip' \n",
        "\n",
        "dataset = tf.keras.utils.get_file('master.zip', url,extract=True, cache_dir='.',cache_subdir='')"
      ]
    },
    {
      "cell_type": "code",
      "execution_count": 12,
      "metadata": {
        "id": "bLVhXs3xrUD0",
        "colab": {
          "base_uri": "https://localhost:8080/"
        },
        "outputId": "98ffecef-1ae8-42c9-9da6-5c4018e24a26"
      },
      "outputs": [
        {
          "output_type": "stream",
          "name": "stdout",
          "text": [
            "Found 238 files belonging to 12 classes.\n",
            "Using 191 files for training.\n",
            "Found 238 files belonging to 12 classes.\n",
            "Using 47 files for validation.\n"
          ]
        }
      ],
      "source": [
        "# Normalize pixel values between 0 and 1\n",
        "AUTOTUNE = tf.data.AUTOTUNE\n",
        "batch_size = 5\n",
        "seed = 42\n",
        "\n",
        "train_ds = tf.keras.utils.text_dataset_from_directory(\n",
        "    'AttackAttributionDataset-master',\n",
        "    batch_size=batch_size,\n",
        "    validation_split=0.2,\n",
        "    subset='training',\n",
        "    seed=seed)\n",
        "\n",
        "class_names = train_ds.class_names\n",
        "train_ds = train_ds.cache().prefetch(buffer_size=AUTOTUNE)\n",
        "\n",
        "val_ds = tf.keras.utils.text_dataset_from_directory(\n",
        "    'AttackAttributionDataset-master',\n",
        "    batch_size=batch_size,\n",
        "    validation_split=0.2,\n",
        "    subset='validation',\n",
        "    seed=seed)\n",
        "\n",
        "val_ds = val_ds.cache().prefetch(buffer_size=AUTOTUNE)\n"
      ]
    },
    {
      "cell_type": "markdown",
      "source": [
        "# Text preprocessing\n",
        "Next, define the dataset preprocessing steps required for your sentiment classification model. Initialize a TextVectorization layer with the desired parameters to vectorize movie reviews. "
      ],
      "metadata": {
        "id": "WnVZRo27eo2m"
      }
    },
    {
      "cell_type": "code",
      "source": [
        "# Create a custom standardization function to strip HTML break tags '<br />'.\n",
        "def custom_standardization(input_data):\n",
        "  lowercase = tf.strings.lower(input_data)\n",
        "  stripped_html = tf.strings.regex_replace(lowercase, '<br />', ' ')\n",
        "  return tf.strings.regex_replace(stripped_html,\n",
        "                                  '[%s]' % re.escape(string.punctuation), '')\n",
        "\n",
        "\n",
        "# Vocabulary size and number of words in a sequence.\n",
        "vocab_size = 100000\n",
        "sequence_length = 1000\n",
        "\n",
        "# Use the text vectorization layer to normalize, split, and map strings to\n",
        "# integers. Note that the layer uses the custom standardization defined above.\n",
        "# Set maximum_sequence length as all samples are not of the same length.\n",
        "vectorize_layer = TextVectorization(\n",
        "    standardize=custom_standardization,\n",
        "    max_tokens=vocab_size,\n",
        "    output_mode='int',\n",
        "    output_sequence_length=sequence_length)\n",
        "\n",
        "# Make a text-only dataset (no labels) and call adapt to build the vocabulary.\n",
        "text_ds = train_ds.map(lambda x, y: x)\n",
        "vectorize_layer.adapt(text_ds)"
      ],
      "metadata": {
        "id": "_5RrIMMCeme_"
      },
      "execution_count": 13,
      "outputs": []
    },
    {
      "cell_type": "markdown",
      "metadata": {
        "id": "K5YEL2H2Ax3e"
      },
      "source": [
        "## Define the model\n",
        "\n",
        "When you build a model for hypertuning, you also define the hyperparameter search space in addition to the model architecture. The model you set up for hypertuning is called a *hypermodel*.\n",
        "\n",
        "You can define a hypermodel through two approaches:\n",
        "\n",
        "* By using a model builder function\n",
        "* By subclassing the `HyperModel` class of the Keras Tuner API\n",
        "\n",
        "You can also use two pre-defined [HyperModel](https://keras.io/api/keras_tuner/hypermodels/) classes - [HyperXception](https://keras.io/api/keras_tuner/hypermodels/hyper_xception/) and [HyperResNet](https://keras.io/api/keras_tuner/hypermodels/hyper_resnet/) for computer vision applications.\n",
        "\n",
        "In this tutorial, you use a model builder function to define the image classification model. The model builder function returns a compiled model and uses hyperparameters you define inline to hypertune the model."
      ]
    },
    {
      "cell_type": "code",
      "execution_count": 14,
      "metadata": {
        "id": "ZQKodC-jtsva"
      },
      "outputs": [],
      "source": [
        "min_embedding_dim=16\n",
        "max_embedding_dim=1024\n",
        "\n",
        "\n",
        "def model_builder(hp):\n",
        "  model = keras.Sequential()\n",
        "  model.add(vectorize_layer)\n",
        "  hp_units_embed = hp.Int('units_emb_1', min_value=min_embedding_dim, max_value=max_embedding_dim, step=32)\n",
        "  model.add(Embedding(vocab_size,output_dim= hp_units_embed, name=\"embedding\"))\n",
        "  model.add(GlobalAveragePooling1D())\n",
        " \n",
        "  # # Tune the number of layers. Best to do it manually for now\n",
        "  # for i in range(hp.Int(\"num_layers\", 1, 3)):\n",
        "  #     model.add(\n",
        "  #         layers.Dense(\n",
        "  #             # Tune number of units separately.\n",
        "  #             units=hp.Int(f\"units_{i}\", min_value=382, max_value=512, step=32),\n",
        "  #             activation=hp.Choice(\"activation\", [\"relu\", \"tanh\"]),\n",
        "  #         )\n",
        "  #     )\n",
        "\n",
        "\n",
        "  # Tune the number of units in the first Dense layer + the activation function\n",
        "  # Choose an optimal value between 32-512\n",
        "  hp_units_1 = hp.Int('units_dense_1', min_value=200, max_value=1024, step=20)\n",
        "  hp_units_2 = hp.Int('units_dense_2', min_value=58, max_value=512, step=10)\n",
        "  hp_units_3 = hp.Int('units_dense_3', min_value=32, max_value=192, step=10)\n",
        "  hp_drop_1 = hp.Float('units_drop_1', min_value=0.01, max_value=0.5, step=25)\n",
        "  hp_drop_2 = hp.Float('units_drop_2', min_value=0.01, max_value=0.5, step=25)\n",
        "\n",
        "\n",
        "  model.add(keras.layers.Dense(units=hp_units_1, activation= hp.Choice(\"activation_1\", [\"relu\", \"tanh\"])))\n",
        "  model.add(Dense(units=hp_units_2, activation=hp.Choice(\"activation_2\", [\"relu\", \"tanh\"])))\n",
        "  model.add(tf.keras.layers.Dropout(hp_drop_1)) \n",
        "  model.add(Dense(units=hp_units_3, activation=hp.Choice(\"activation_3\", [\"relu\", \"tanh\"])))\n",
        "  model.add(tf.keras.layers.Dropout(hp_drop_2))\n",
        "  model.add(Dense(16, activation=hp.Choice(\"activation_4\", [\"relu\", \"tanh\"])))\n",
        "  model.add(Dense(len(class_names)))\n",
        "\n",
        "  # Tune the learning rate for the optimizer\n",
        "  # Choose an optimal value from 0.01, 0.005,  0.0011, 0.001,0.0009, 0.0005, 0.0001\n",
        "  hp_learning_rate = hp.Choice('learning_rate', values=[1e-2, 5e-3, 1.1e-3, 1e-3, 5e-4, 1e-4])\n",
        "\n",
        "  model.compile(optimizer=keras.optimizers.Adam(learning_rate=hp_learning_rate),\n",
        "                loss=keras.losses.SparseCategoricalCrossentropy(from_logits=True),\n",
        "                metrics=['accuracy'])\n",
        "\n",
        "  return model"
      ]
    },
    {
      "cell_type": "markdown",
      "metadata": {
        "id": "0J1VYw4q3x0b"
      },
      "source": [
        "## Instantiate the tuner and perform hypertuning\n",
        "\n",
        "Instantiate the tuner to perform the hypertuning. The Keras Tuner has four tuners available - `RandomSearch`, `Hyperband`, `BayesianOptimization`, and `Sklearn`. In this tutorial, you use the [Hyperband](https://arxiv.org/pdf/1603.06560.pdf) tuner.\n",
        "\n",
        "To instantiate the Hyperband tuner, you must specify the hypermodel, the `objective` to optimize and the maximum number of epochs to train (`max_epochs`)."
      ]
    },
    {
      "cell_type": "code",
      "execution_count": 15,
      "metadata": {
        "id": "oichQFly6Y46"
      },
      "outputs": [],
      "source": [
        "tuner = kt.Hyperband(model_builder,\n",
        "                     objective='val_accuracy',\n",
        "                     max_epochs=15,\n",
        "                     factor=3,\n",
        "                     directory='my_dir',\n",
        "                     project_name='intro_to_kt')"
      ]
    },
    {
      "cell_type": "markdown",
      "metadata": {
        "id": "VaIhhdKf9VtI"
      },
      "source": [
        "The Hyperband tuning algorithm uses adaptive resource allocation and early-stopping to quickly converge on a high-performing model. This is done using a sports championship style bracket. The algorithm trains a large number of models for a few epochs and carries forward only the top-performing half of models to the next round. Hyperband determines the number of models to train in a bracket by computing 1 + log<sub>`factor`</sub>(`max_epochs`) and rounding it up to the nearest integer."
      ]
    },
    {
      "cell_type": "markdown",
      "metadata": {
        "id": "cwhBdXx0Ekj8"
      },
      "source": [
        "Create a callback to stop training early after reaching a certain value for the validation loss."
      ]
    },
    {
      "cell_type": "code",
      "execution_count": 16,
      "metadata": {
        "id": "WT9IkS9NEjLc"
      },
      "outputs": [],
      "source": [
        "stop_early = tf.keras.callbacks.EarlyStopping(monitor='val_loss', patience=5)\n",
        "stop_early_val_accuracy = tf.keras.callbacks.EarlyStopping(monitor='val_accuracy', patience=5)"
      ]
    },
    {
      "cell_type": "markdown",
      "metadata": {
        "id": "UKghEo15Tduy"
      },
      "source": [
        "Run the hyperparameter search. The arguments for the search method are the same as those used for `tf.keras.model.fit` in addition to the callback above."
      ]
    },
    {
      "cell_type": "code",
      "execution_count": 17,
      "metadata": {
        "id": "dSBQcTHF9cKt",
        "colab": {
          "base_uri": "https://localhost:8080/"
        },
        "outputId": "30d49cb2-8d2c-441d-aa60-bfc4c36b33d9"
      },
      "outputs": [
        {
          "output_type": "stream",
          "name": "stdout",
          "text": [
            "Trial 30 Complete [00h 00m 25s]\n",
            "val_accuracy: 0.38297873735427856\n",
            "\n",
            "Best val_accuracy So Far: 0.5744680762290955\n",
            "Total elapsed time: 00h 07m 08s\n",
            "INFO:tensorflow:Oracle triggered exit\n",
            "The hyperparameter search is complete. The optimal number of units in the first densely-connected layer is 840 and the optimal learning rate for the optimizer is 0.0011.\n"
          ]
        }
      ],
      "source": [
        "tuner.search(train_ds, epochs=50, validation_data=val_ds, callbacks=[stop_early])\n",
        "\n",
        "# Get the optimal hyperparameters\n",
        "best_hps=tuner.get_best_hyperparameters(num_trials=1)[0]\n",
        "\n",
        "print(f\"\"\"The hyperparameter search is complete. The optimal number of units in the first densely-connected layer is {best_hps.get('units_dense_1')} and the optimal learning rate for the optimizer is {best_hps.get('learning_rate')}.\"\"\")"
      ]
    },
    {
      "cell_type": "markdown",
      "metadata": {
        "id": "Lak_ylf88xBv"
      },
      "source": [
        "## Train the model\n",
        "\n",
        "Find the optimal number of epochs to train the model with the hyperparameters obtained from the search."
      ]
    },
    {
      "cell_type": "code",
      "execution_count": 18,
      "metadata": {
        "id": "McO82AXOuxXh",
        "colab": {
          "base_uri": "https://localhost:8080/"
        },
        "outputId": "c817575a-bdc1-43d3-e6d1-6e076bae41e8"
      },
      "outputs": [
        {
          "output_type": "stream",
          "name": "stdout",
          "text": [
            "Epoch 1/50\n",
            "39/39 [==============================] - 2s 36ms/step - loss: 2.4244 - accuracy: 0.1204 - val_loss: 2.5514 - val_accuracy: 0.1915\n",
            "Epoch 2/50\n",
            "39/39 [==============================] - 1s 34ms/step - loss: 2.1876 - accuracy: 0.2670 - val_loss: 2.3304 - val_accuracy: 0.2340\n",
            "Epoch 3/50\n",
            "39/39 [==============================] - 1s 30ms/step - loss: 1.8590 - accuracy: 0.3613 - val_loss: 2.2038 - val_accuracy: 0.3830\n",
            "Epoch 4/50\n",
            "39/39 [==============================] - 1s 31ms/step - loss: 1.4407 - accuracy: 0.5183 - val_loss: 2.4125 - val_accuracy: 0.3191\n",
            "Epoch 5/50\n",
            "39/39 [==============================] - 1s 31ms/step - loss: 1.0110 - accuracy: 0.7644 - val_loss: 2.2475 - val_accuracy: 0.2766\n",
            "Epoch 6/50\n",
            "39/39 [==============================] - 1s 31ms/step - loss: 0.7381 - accuracy: 0.8377 - val_loss: 2.0684 - val_accuracy: 0.4043\n",
            "Epoch 7/50\n",
            "39/39 [==============================] - 1s 31ms/step - loss: 0.5773 - accuracy: 0.8639 - val_loss: 2.1019 - val_accuracy: 0.3617\n",
            "Epoch 8/50\n",
            "39/39 [==============================] - 1s 32ms/step - loss: 0.4571 - accuracy: 0.9372 - val_loss: 2.7155 - val_accuracy: 0.2766\n",
            "Epoch 9/50\n",
            "39/39 [==============================] - 1s 31ms/step - loss: 0.4034 - accuracy: 0.9581 - val_loss: 1.9317 - val_accuracy: 0.3830\n",
            "Epoch 10/50\n",
            "39/39 [==============================] - 1s 31ms/step - loss: 0.3141 - accuracy: 0.9686 - val_loss: 1.3913 - val_accuracy: 0.6170\n",
            "Epoch 11/50\n",
            "39/39 [==============================] - 1s 31ms/step - loss: 0.2729 - accuracy: 0.9686 - val_loss: 1.3912 - val_accuracy: 0.5532\n",
            "Epoch 12/50\n",
            "39/39 [==============================] - 1s 31ms/step - loss: 0.2408 - accuracy: 0.9686 - val_loss: 1.8216 - val_accuracy: 0.4894\n",
            "Epoch 13/50\n",
            "39/39 [==============================] - 1s 31ms/step - loss: 0.2470 - accuracy: 0.9634 - val_loss: 1.6264 - val_accuracy: 0.5319\n",
            "Epoch 14/50\n",
            "39/39 [==============================] - 1s 31ms/step - loss: 0.1908 - accuracy: 0.9843 - val_loss: 1.5183 - val_accuracy: 0.6170\n",
            "Epoch 15/50\n",
            "39/39 [==============================] - 1s 31ms/step - loss: 0.1737 - accuracy: 0.9843 - val_loss: 1.2637 - val_accuracy: 0.6383\n",
            "Epoch 16/50\n",
            "39/39 [==============================] - 1s 31ms/step - loss: 0.1348 - accuracy: 0.9948 - val_loss: 1.3187 - val_accuracy: 0.6383\n",
            "Epoch 17/50\n",
            "39/39 [==============================] - 1s 31ms/step - loss: 0.1226 - accuracy: 0.9895 - val_loss: 1.2454 - val_accuracy: 0.6809\n",
            "Epoch 18/50\n",
            "39/39 [==============================] - 1s 31ms/step - loss: 0.1094 - accuracy: 0.9895 - val_loss: 1.1972 - val_accuracy: 0.6596\n",
            "Epoch 19/50\n",
            "39/39 [==============================] - 1s 31ms/step - loss: 0.0998 - accuracy: 0.9895 - val_loss: 1.2128 - val_accuracy: 0.6809\n",
            "Epoch 20/50\n",
            "39/39 [==============================] - 1s 31ms/step - loss: 0.0913 - accuracy: 1.0000 - val_loss: 1.2025 - val_accuracy: 0.6809\n",
            "Epoch 21/50\n",
            "39/39 [==============================] - 1s 31ms/step - loss: 0.0853 - accuracy: 0.9948 - val_loss: 1.3110 - val_accuracy: 0.6170\n",
            "Epoch 22/50\n",
            "39/39 [==============================] - 1s 31ms/step - loss: 0.0873 - accuracy: 0.9948 - val_loss: 1.2062 - val_accuracy: 0.7021\n",
            "Epoch 23/50\n",
            "39/39 [==============================] - 1s 31ms/step - loss: 0.0780 - accuracy: 0.9948 - val_loss: 1.6075 - val_accuracy: 0.5532\n",
            "Epoch 24/50\n",
            "39/39 [==============================] - 1s 31ms/step - loss: 0.0901 - accuracy: 0.9948 - val_loss: 1.1839 - val_accuracy: 0.7021\n",
            "Epoch 25/50\n",
            "39/39 [==============================] - 1s 31ms/step - loss: 0.0755 - accuracy: 0.9948 - val_loss: 1.5862 - val_accuracy: 0.5532\n",
            "Epoch 26/50\n",
            "39/39 [==============================] - 1s 31ms/step - loss: 0.0666 - accuracy: 0.9948 - val_loss: 1.3108 - val_accuracy: 0.6170\n",
            "Epoch 27/50\n",
            "39/39 [==============================] - 1s 31ms/step - loss: 0.0596 - accuracy: 1.0000 - val_loss: 1.3585 - val_accuracy: 0.5745\n",
            "Epoch 28/50\n",
            "39/39 [==============================] - 1s 31ms/step - loss: 0.0562 - accuracy: 0.9948 - val_loss: 1.2625 - val_accuracy: 0.5957\n",
            "Epoch 29/50\n",
            "39/39 [==============================] - 1s 31ms/step - loss: 0.0525 - accuracy: 0.9948 - val_loss: 1.3795 - val_accuracy: 0.5957\n",
            "Epoch 30/50\n",
            "39/39 [==============================] - 1s 31ms/step - loss: 0.0509 - accuracy: 0.9948 - val_loss: 1.3679 - val_accuracy: 0.5532\n",
            "Epoch 31/50\n",
            "39/39 [==============================] - 1s 32ms/step - loss: 0.0477 - accuracy: 0.9948 - val_loss: 1.2733 - val_accuracy: 0.5957\n",
            "Epoch 32/50\n",
            "39/39 [==============================] - 1s 31ms/step - loss: 0.0454 - accuracy: 0.9948 - val_loss: 1.3932 - val_accuracy: 0.5957\n",
            "Epoch 33/50\n",
            "39/39 [==============================] - 1s 31ms/step - loss: 0.0447 - accuracy: 0.9948 - val_loss: 1.3866 - val_accuracy: 0.5957\n",
            "Epoch 34/50\n",
            "39/39 [==============================] - 1s 31ms/step - loss: 0.0410 - accuracy: 0.9948 - val_loss: 1.3849 - val_accuracy: 0.5957\n",
            "Epoch 35/50\n",
            "39/39 [==============================] - 1s 31ms/step - loss: 0.0388 - accuracy: 0.9948 - val_loss: 1.3836 - val_accuracy: 0.5745\n",
            "Epoch 36/50\n",
            "39/39 [==============================] - 1s 31ms/step - loss: 0.0353 - accuracy: 1.0000 - val_loss: 1.4481 - val_accuracy: 0.5957\n",
            "Epoch 37/50\n",
            "39/39 [==============================] - 1s 31ms/step - loss: 0.0432 - accuracy: 0.9948 - val_loss: 1.1100 - val_accuracy: 0.6596\n",
            "Epoch 38/50\n",
            "39/39 [==============================] - 1s 31ms/step - loss: 0.0407 - accuracy: 0.9948 - val_loss: 1.6604 - val_accuracy: 0.5745\n",
            "Epoch 39/50\n",
            "39/39 [==============================] - 1s 31ms/step - loss: 0.0389 - accuracy: 0.9948 - val_loss: 1.2932 - val_accuracy: 0.6170\n",
            "Epoch 40/50\n",
            "39/39 [==============================] - 1s 31ms/step - loss: 0.0341 - accuracy: 0.9948 - val_loss: 1.1829 - val_accuracy: 0.6596\n",
            "Epoch 41/50\n",
            "39/39 [==============================] - 1s 32ms/step - loss: 0.0322 - accuracy: 0.9948 - val_loss: 1.2068 - val_accuracy: 0.6383\n",
            "Epoch 42/50\n",
            "39/39 [==============================] - 1s 31ms/step - loss: 0.0324 - accuracy: 0.9895 - val_loss: 1.1951 - val_accuracy: 0.6596\n",
            "Epoch 43/50\n",
            "39/39 [==============================] - 1s 31ms/step - loss: 0.0308 - accuracy: 0.9895 - val_loss: 1.2890 - val_accuracy: 0.6383\n",
            "Epoch 44/50\n",
            "39/39 [==============================] - 1s 31ms/step - loss: 0.0292 - accuracy: 0.9948 - val_loss: 1.3954 - val_accuracy: 0.6383\n",
            "Epoch 45/50\n",
            "39/39 [==============================] - 1s 31ms/step - loss: 0.0467 - accuracy: 0.9895 - val_loss: 1.3474 - val_accuracy: 0.7021\n",
            "Epoch 46/50\n",
            "39/39 [==============================] - 1s 31ms/step - loss: 0.0276 - accuracy: 0.9948 - val_loss: 1.7762 - val_accuracy: 0.5319\n",
            "Epoch 47/50\n",
            "39/39 [==============================] - 1s 31ms/step - loss: 0.0300 - accuracy: 0.9948 - val_loss: 1.6355 - val_accuracy: 0.5745\n",
            "Epoch 48/50\n",
            "39/39 [==============================] - 1s 32ms/step - loss: 0.0278 - accuracy: 0.9948 - val_loss: 1.4893 - val_accuracy: 0.5745\n",
            "Epoch 49/50\n",
            "39/39 [==============================] - 1s 31ms/step - loss: 0.0262 - accuracy: 0.9948 - val_loss: 1.4769 - val_accuracy: 0.5957\n",
            "Epoch 50/50\n",
            "39/39 [==============================] - 1s 31ms/step - loss: 0.0253 - accuracy: 0.9948 - val_loss: 1.4404 - val_accuracy: 0.5957\n",
            "Best epoch: 22\n"
          ]
        }
      ],
      "source": [
        "# Build the model with the optimal hyperparameters and train it on the data for 50 epochs\n",
        "model = tuner.hypermodel.build(best_hps)\n",
        "history = model.fit(train_ds, epochs=50, validation_data=val_ds)\n",
        "\n",
        "val_acc_per_epoch = history.history['val_accuracy']\n",
        "best_epoch = val_acc_per_epoch.index(max(val_acc_per_epoch)) + 1\n",
        "print('Best epoch: %d' % (best_epoch,))"
      ]
    },
    {
      "cell_type": "markdown",
      "metadata": {
        "id": "uOTSirSTI3Gp"
      },
      "source": [
        "Re-instantiate the hypermodel and train it with the optimal number of epochs from above."
      ]
    },
    {
      "cell_type": "code",
      "execution_count": 19,
      "metadata": {
        "id": "NoiPUEHmMhCe",
        "colab": {
          "base_uri": "https://localhost:8080/"
        },
        "outputId": "761cd2b6-c1a4-4780-a7b5-82d4bf390a9f"
      },
      "outputs": [
        {
          "output_type": "stream",
          "name": "stdout",
          "text": [
            "Epoch 1/22\n",
            "39/39 [==============================] - 2s 36ms/step - loss: 2.4345 - accuracy: 0.2199 - val_loss: 2.4219 - val_accuracy: 0.1915\n",
            "Epoch 2/22\n",
            "39/39 [==============================] - 1s 31ms/step - loss: 2.1286 - accuracy: 0.2984 - val_loss: 1.9506 - val_accuracy: 0.3404\n",
            "Epoch 3/22\n",
            "39/39 [==============================] - 1s 31ms/step - loss: 1.4290 - accuracy: 0.6021 - val_loss: 2.2546 - val_accuracy: 0.2979\n",
            "Epoch 4/22\n",
            "39/39 [==============================] - 1s 31ms/step - loss: 1.0928 - accuracy: 0.7120 - val_loss: 1.9125 - val_accuracy: 0.3617\n",
            "Epoch 5/22\n",
            "39/39 [==============================] - 1s 31ms/step - loss: 0.7439 - accuracy: 0.7958 - val_loss: 1.6770 - val_accuracy: 0.4894\n",
            "Epoch 6/22\n",
            "39/39 [==============================] - 1s 31ms/step - loss: 0.5711 - accuracy: 0.8377 - val_loss: 1.7304 - val_accuracy: 0.4255\n",
            "Epoch 7/22\n",
            "39/39 [==============================] - 1s 31ms/step - loss: 0.4836 - accuracy: 0.8953 - val_loss: 1.7667 - val_accuracy: 0.4468\n",
            "Epoch 8/22\n",
            "39/39 [==============================] - 1s 31ms/step - loss: 0.3556 - accuracy: 0.9738 - val_loss: 1.4553 - val_accuracy: 0.5957\n",
            "Epoch 9/22\n",
            "39/39 [==============================] - 1s 32ms/step - loss: 0.2758 - accuracy: 0.9791 - val_loss: 1.4032 - val_accuracy: 0.6809\n",
            "Epoch 10/22\n",
            "39/39 [==============================] - 1s 31ms/step - loss: 0.2535 - accuracy: 0.9686 - val_loss: 1.5254 - val_accuracy: 0.6170\n",
            "Epoch 11/22\n",
            "39/39 [==============================] - 1s 31ms/step - loss: 0.2108 - accuracy: 0.9843 - val_loss: 1.6464 - val_accuracy: 0.4894\n",
            "Epoch 12/22\n",
            "39/39 [==============================] - 1s 31ms/step - loss: 0.1544 - accuracy: 0.9948 - val_loss: 1.1395 - val_accuracy: 0.7021\n",
            "Epoch 13/22\n",
            "39/39 [==============================] - 1s 31ms/step - loss: 0.1284 - accuracy: 0.9948 - val_loss: 1.2439 - val_accuracy: 0.6383\n",
            "Epoch 14/22\n",
            "39/39 [==============================] - 1s 31ms/step - loss: 0.1140 - accuracy: 0.9948 - val_loss: 1.2347 - val_accuracy: 0.6596\n",
            "Epoch 15/22\n",
            "39/39 [==============================] - 1s 31ms/step - loss: 0.1044 - accuracy: 0.9948 - val_loss: 1.2261 - val_accuracy: 0.6596\n",
            "Epoch 16/22\n",
            "39/39 [==============================] - 1s 32ms/step - loss: 0.0956 - accuracy: 0.9948 - val_loss: 1.2182 - val_accuracy: 0.6809\n",
            "Epoch 17/22\n",
            "39/39 [==============================] - 1s 32ms/step - loss: 0.0875 - accuracy: 0.9948 - val_loss: 1.2142 - val_accuracy: 0.7021\n",
            "Epoch 18/22\n",
            "39/39 [==============================] - 1s 31ms/step - loss: 0.0793 - accuracy: 0.9948 - val_loss: 1.2096 - val_accuracy: 0.7021\n",
            "Epoch 19/22\n",
            "39/39 [==============================] - 1s 31ms/step - loss: 0.0740 - accuracy: 0.9948 - val_loss: 1.2223 - val_accuracy: 0.7021\n",
            "Epoch 20/22\n",
            "39/39 [==============================] - 1s 33ms/step - loss: 0.0687 - accuracy: 0.9948 - val_loss: 1.2343 - val_accuracy: 0.6809\n",
            "Epoch 21/22\n",
            "39/39 [==============================] - 1s 31ms/step - loss: 0.0642 - accuracy: 0.9948 - val_loss: 1.2527 - val_accuracy: 0.6809\n",
            "Epoch 22/22\n",
            "39/39 [==============================] - 1s 31ms/step - loss: 0.0605 - accuracy: 0.9948 - val_loss: 1.2615 - val_accuracy: 0.6809\n"
          ]
        },
        {
          "output_type": "execute_result",
          "data": {
            "text/plain": [
              "<keras.callbacks.History at 0x7f4c1664bb50>"
            ]
          },
          "metadata": {},
          "execution_count": 19
        }
      ],
      "source": [
        "hypermodel = tuner.hypermodel.build(best_hps)\n",
        "\n",
        "# Retrain the model\n",
        "hypermodel.fit(train_ds, epochs=best_epoch, validation_data=val_ds)"
      ]
    },
    {
      "cell_type": "markdown",
      "metadata": {
        "id": "EQRpPHZsz-eC"
      },
      "source": [
        "The `my_dir/intro_to_kt` directory contains detailed logs and checkpoints for every trial (model configuration) run during the hyperparameter search. If you re-run the hyperparameter search, the Keras Tuner uses the existing state from these logs to resume the search. To disable this behavior, pass an additional `overwrite=True` argument while instantiating the tuner."
      ]
    },
    {
      "cell_type": "markdown",
      "metadata": {
        "id": "sKwLOzKpFGAj"
      },
      "source": [
        "## Summary\n",
        "\n",
        "In this tutorial, you learned how to use the Keras Tuner to tune hyperparameters for a model. To learn more about the Keras Tuner, check out these additional resources:\n",
        "\n",
        "* [Keras Tuner on the TensorFlow blog](https://blog.tensorflow.org/2020/01/hyperparameter-tuning-with-keras-tuner.html)\n",
        "* [Keras Tuner website](https://keras-team.github.io/keras-tuner/)\n",
        "\n",
        "Also check out the [HParams Dashboard](https://www.tensorflow.org/tensorboard/hyperparameter_tuning_with_hparams) in TensorBoard to interactively tune your model hyperparameters."
      ]
    }
  ],
  "metadata": {
    "accelerator": "GPU",
    "colab": {
      "collapsed_sections": [
        "Tce3stUlHN0L"
      ],
      "name": "keras_tuner.ipynb",
      "toc_visible": true,
      "provenance": []
    },
    "kernelspec": {
      "display_name": "Python 3",
      "name": "python3"
    }
  },
  "nbformat": 4,
  "nbformat_minor": 0
}
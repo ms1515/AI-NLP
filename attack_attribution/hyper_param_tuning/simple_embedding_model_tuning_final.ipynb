{
  "cells": [
    {
      "cell_type": "markdown",
      "metadata": {
        "id": "Tce3stUlHN0L"
      },
      "source": [
        "##### Copyright 2020 The TensorFlow Authors."
      ]
    },
    {
      "cell_type": "code",
      "execution_count": 1,
      "metadata": {
        "cellView": "form",
        "id": "tuOe1ymfHZPu"
      },
      "outputs": [],
      "source": [
        "#@title Licensed under the Apache License, Version 2.0 (the \"License\");\n",
        "# you may not use this file except in compliance with the License.\n",
        "# You may obtain a copy of the License at\n",
        "#\n",
        "# https://www.apache.org/licenses/LICENSE-2.0\n",
        "#\n",
        "# Unless required by applicable law or agreed to in writing, software\n",
        "# distributed under the License is distributed on an \"AS IS\" BASIS,\n",
        "# WITHOUT WARRANTIES OR CONDITIONS OF ANY KIND, either express or implied.\n",
        "# See the License for the specific language governing permissions and\n",
        "# limitations under the License."
      ]
    },
    {
      "cell_type": "markdown",
      "metadata": {
        "id": "qFdPvlXBOdUN"
      },
      "source": [
        "# Introduction to the Keras Tuner"
      ]
    },
    {
      "cell_type": "markdown",
      "metadata": {
        "id": "MfBg1C5NB3X0"
      },
      "source": [
        "<table class=\"tfo-notebook-buttons\" align=\"left\">\n",
        "  <td>\n",
        "    <a target=\"_blank\" href=\"https://www.tensorflow.org/tutorials/keras/keras_tuner\"><img src=\"https://www.tensorflow.org/images/tf_logo_32px.png\" />View on TensorFlow.org</a>\n",
        "  </td>\n",
        "  <td>\n",
        "    <a target=\"_blank\" href=\"https://colab.research.google.com/github/tensorflow/docs/blob/master/site/en/tutorials/keras/keras_tuner.ipynb\"><img src=\"https://www.tensorflow.org/images/colab_logo_32px.png\" />Run in Google Colab</a>\n",
        "  </td>\n",
        "  <td>\n",
        "    <a target=\"_blank\" href=\"https://github.com/tensorflow/docs/blob/master/site/en/tutorials/keras/keras_tuner.ipynb\"><img src=\"https://www.tensorflow.org/images/GitHub-Mark-32px.png\" />View source on GitHub</a>\n",
        "  </td>\n",
        "  <td>\n",
        "    <a href=\"https://storage.googleapis.com/tensorflow_docs/docs/site/en/tutorials/keras/keras_tuner.ipynb\"><img src=\"https://www.tensorflow.org/images/download_logo_32px.png\" />Download notebook</a>\n",
        "  </td>\n",
        "</table>"
      ]
    },
    {
      "cell_type": "markdown",
      "metadata": {
        "id": "xHxb-dlhMIzW"
      },
      "source": [
        "## Overview\n",
        "\n",
        "The Keras Tuner is a library that helps you pick the optimal set of hyperparameters for your TensorFlow program. The process of selecting the right set of hyperparameters for your machine learning (ML) application is called *hyperparameter tuning* or *hypertuning*.\n",
        "\n",
        "Hyperparameters are the variables that govern the training process and the topology of an ML model. These variables remain constant over the training process and directly impact the performance of your ML program. Hyperparameters are of two types:\n",
        "1. **Model hyperparameters** which influence model selection such as the number and width of hidden layers\n",
        "2. **Algorithm hyperparameters** which influence the speed and quality of the learning algorithm such as the learning rate for Stochastic Gradient Descent (SGD) and the number of nearest neighbors for a k Nearest Neighbors (KNN) classifier\n",
        "\n",
        "In this tutorial, you will use the Keras Tuner to perform hypertuning for an image classification application."
      ]
    },
    {
      "cell_type": "markdown",
      "metadata": {
        "id": "MUXex9ctTuDB"
      },
      "source": [
        "## Setup"
      ]
    },
    {
      "cell_type": "code",
      "execution_count": 2,
      "metadata": {
        "id": "IqR2PQG4ZaZ0"
      },
      "outputs": [],
      "source": [
        "import io\n",
        "import re\n",
        "import string\n",
        "import tensorflow as tf\n",
        "from tensorflow import keras\n",
        "from tensorflow.keras import Sequential\n",
        "from tensorflow.keras.layers import Dense, Embedding, GlobalAveragePooling1D\n",
        "from tensorflow.keras.layers import TextVectorization\n"
      ]
    },
    {
      "cell_type": "markdown",
      "metadata": {
        "id": "g83Lwsy-Aq2_"
      },
      "source": [
        "Install and import the Keras Tuner."
      ]
    },
    {
      "cell_type": "code",
      "execution_count": 3,
      "metadata": {
        "id": "hpMLpbt9jcO6",
        "colab": {
          "base_uri": "https://localhost:8080/"
        },
        "outputId": "f2f90b03-865b-4375-d5a6-54347bc57b90"
      },
      "outputs": [
        {
          "output_type": "stream",
          "name": "stdout",
          "text": [
            "\u001b[?25l\r\u001b[K     |██▍                             | 10 kB 23.7 MB/s eta 0:00:01\r\u001b[K     |████▉                           | 20 kB 31.4 MB/s eta 0:00:01\r\u001b[K     |███████▎                        | 30 kB 15.9 MB/s eta 0:00:01\r\u001b[K     |█████████▋                      | 40 kB 7.0 MB/s eta 0:00:01\r\u001b[K     |████████████                    | 51 kB 6.2 MB/s eta 0:00:01\r\u001b[K     |██████████████▌                 | 61 kB 7.4 MB/s eta 0:00:01\r\u001b[K     |█████████████████               | 71 kB 7.2 MB/s eta 0:00:01\r\u001b[K     |███████████████████▎            | 81 kB 6.2 MB/s eta 0:00:01\r\u001b[K     |█████████████████████▊          | 92 kB 6.9 MB/s eta 0:00:01\r\u001b[K     |████████████████████████▏       | 102 kB 7.5 MB/s eta 0:00:01\r\u001b[K     |██████████████████████████▋     | 112 kB 7.5 MB/s eta 0:00:01\r\u001b[K     |█████████████████████████████   | 122 kB 7.5 MB/s eta 0:00:01\r\u001b[K     |███████████████████████████████▍| 133 kB 7.5 MB/s eta 0:00:01\r\u001b[K     |████████████████████████████████| 135 kB 7.5 MB/s \n",
            "\u001b[?25h"
          ]
        }
      ],
      "source": [
        "!pip install -q -U keras-tuner"
      ]
    },
    {
      "cell_type": "code",
      "execution_count": 4,
      "metadata": {
        "id": "_leAIdFKAxAD"
      },
      "outputs": [],
      "source": [
        "import keras_tuner as kt"
      ]
    },
    {
      "cell_type": "markdown",
      "metadata": {
        "id": "ReV_UXOgCZvx"
      },
      "source": [
        "## Download and prepare the dataset\n",
        "\n",
        "In this tutorial, you will use the Keras Tuner to find the best hyperparameters for a machine learning model that classifies images of clothing from the [Fashion MNIST dataset](https://github.com/zalandoresearch/fashion-mnist)."
      ]
    },
    {
      "cell_type": "markdown",
      "metadata": {
        "id": "HljH_ENLEdHa"
      },
      "source": [
        "Load the data."
      ]
    },
    {
      "cell_type": "code",
      "execution_count": 5,
      "metadata": {
        "id": "OHlHs9Wj_PUM",
        "colab": {
          "base_uri": "https://localhost:8080/"
        },
        "outputId": "eaa38aff-f03a-4a5c-94a4-cbb39c6e92ba"
      },
      "outputs": [
        {
          "output_type": "stream",
          "name": "stdout",
          "text": [
            "Downloading data from https://github.com/eyalmazuz/AttackAttributionDataset/archive/refs/heads/master.zip\n",
            "1253376/Unknown - 0s 0us/step"
          ]
        }
      ],
      "source": [
        "url = 'https://github.com/eyalmazuz/AttackAttributionDataset/archive/refs/heads/master.zip' \n",
        "\n",
        "dataset = tf.keras.utils.get_file('master.zip', url,extract=True, cache_dir='.',cache_subdir='')"
      ]
    },
    {
      "cell_type": "code",
      "execution_count": 6,
      "metadata": {
        "id": "bLVhXs3xrUD0",
        "colab": {
          "base_uri": "https://localhost:8080/"
        },
        "outputId": "32d2ec0a-1156-4379-86e7-e09d94674722"
      },
      "outputs": [
        {
          "output_type": "stream",
          "name": "stdout",
          "text": [
            "Found 238 files belonging to 12 classes.\n",
            "Using 191 files for training.\n",
            "Found 238 files belonging to 12 classes.\n",
            "Using 47 files for validation.\n"
          ]
        }
      ],
      "source": [
        "# Normalize pixel values between 0 and 1\n",
        "AUTOTUNE = tf.data.AUTOTUNE\n",
        "batch_size = 5\n",
        "seed = 42\n",
        "\n",
        "train_ds = tf.keras.utils.text_dataset_from_directory(\n",
        "    'AttackAttributionDataset-master',\n",
        "    batch_size=batch_size,\n",
        "    validation_split=0.2,\n",
        "    subset='training',\n",
        "    seed=seed)\n",
        "\n",
        "class_names = train_ds.class_names\n",
        "train_ds = train_ds.cache().prefetch(buffer_size=AUTOTUNE)\n",
        "\n",
        "remaining_ds = tf.keras.utils.text_dataset_from_directory(\n",
        "    'AttackAttributionDataset-master',\n",
        "    batch_size=batch_size,\n",
        "    validation_split=0.2,\n",
        "    subset='validation',\n",
        "    seed=seed)\n",
        "\n",
        "val_ds = remaining_ds.take(int(len(remaining_ds)*0.5))\n",
        "\n",
        "val_ds = val_ds.cache().prefetch(buffer_size=AUTOTUNE)\n",
        "\n",
        "test_ds = remaining_ds.skip(len(val_ds))\n",
        "\n",
        "test_ds = test_ds.cache().prefetch(buffer_size=AUTOTUNE)"
      ]
    },
    {
      "cell_type": "markdown",
      "source": [
        "# Text preprocessing\n",
        "Next, define the dataset preprocessing steps required for your sentiment classification model. Initialize a TextVectorization layer with the desired parameters to vectorize movie reviews. "
      ],
      "metadata": {
        "id": "WnVZRo27eo2m"
      }
    },
    {
      "cell_type": "code",
      "source": [
        "# Create a custom standardization function to strip HTML break tags '<br />'.\n",
        "def custom_standardization(input_data):\n",
        "  lowercase = tf.strings.lower(input_data)\n",
        "  stripped_html = tf.strings.regex_replace(lowercase, '<br />', ' ')\n",
        "  return tf.strings.regex_replace(stripped_html,\n",
        "                                  '[%s]' % re.escape(string.punctuation), '')\n",
        "\n",
        "\n",
        "# Vocabulary size and number of words in a sequence.\n",
        "vocab_size = 100000\n",
        "sequence_length = 1000\n",
        "\n",
        "# Use the text vectorization layer to normalize, split, and map strings to\n",
        "# integers. Note that the layer uses the custom standardization defined above.\n",
        "# Set maximum_sequence length as all samples are not of the same length.\n",
        "vectorize_layer = TextVectorization(\n",
        "    standardize=custom_standardization,\n",
        "    max_tokens=vocab_size,\n",
        "    output_mode='int',\n",
        "    output_sequence_length=sequence_length)\n",
        "\n",
        "# Make a text-only dataset (no labels) and call adapt to build the vocabulary.\n",
        "text_ds = train_ds.map(lambda x, y: x)\n",
        "vectorize_layer.adapt(text_ds)"
      ],
      "metadata": {
        "id": "_5RrIMMCeme_"
      },
      "execution_count": 7,
      "outputs": []
    },
    {
      "cell_type": "markdown",
      "metadata": {
        "id": "K5YEL2H2Ax3e"
      },
      "source": [
        "## Define the model\n",
        "\n",
        "When you build a model for hypertuning, you also define the hyperparameter search space in addition to the model architecture. The model you set up for hypertuning is called a *hypermodel*.\n",
        "\n",
        "You can define a hypermodel through two approaches:\n",
        "\n",
        "* By using a model builder function\n",
        "* By subclassing the `HyperModel` class of the Keras Tuner API\n",
        "\n",
        "You can also use two pre-defined [HyperModel](https://keras.io/api/keras_tuner/hypermodels/) classes - [HyperXception](https://keras.io/api/keras_tuner/hypermodels/hyper_xception/) and [HyperResNet](https://keras.io/api/keras_tuner/hypermodels/hyper_resnet/) for computer vision applications.\n",
        "\n",
        "In this tutorial, you use a model builder function to define the image classification model. The model builder function returns a compiled model and uses hyperparameters you define inline to hypertune the model."
      ]
    },
    {
      "cell_type": "code",
      "execution_count": 8,
      "metadata": {
        "id": "ZQKodC-jtsva"
      },
      "outputs": [],
      "source": [
        "min_embedding_dim=16\n",
        "max_embedding_dim=1024\n",
        "\n",
        "\n",
        "def model_builder(hp):\n",
        "  model = keras.Sequential()\n",
        "  model.add(vectorize_layer)\n",
        "  hp_units_embed = hp.Int('units_emb_1', min_value=min_embedding_dim, max_value=max_embedding_dim, step=32)\n",
        "  model.add(Embedding(vocab_size,output_dim= hp_units_embed, name=\"embedding\"))\n",
        "  model.add(GlobalAveragePooling1D())\n",
        " \n",
        "  # # Tune the number of layers. Best to do it manually for now\n",
        "  # for i in range(hp.Int(\"num_layers\", 1, 3)):\n",
        "  #     model.add(\n",
        "  #         layers.Dense(\n",
        "  #             # Tune number of units separately.\n",
        "  #             units=hp.Int(f\"units_{i}\", min_value=382, max_value=512, step=32),\n",
        "  #             activation=hp.Choice(\"activation\", [\"relu\", \"tanh\"]),\n",
        "  #         )\n",
        "  #     )\n",
        "\n",
        "\n",
        "  # Tune the number of units in the first Dense layer + the activation function\n",
        "  # Choose an optimal value between 32-512\n",
        "  hp_units_1 = hp.Int('units_dense_1', min_value=200, max_value=1024, step=20)\n",
        "  hp_units_2 = hp.Int('units_dense_2', min_value=58, max_value=512, step=10)\n",
        "  hp_units_3 = hp.Int('units_dense_3', min_value=32, max_value=192, step=10)\n",
        "  hp_drop_1 = hp.Float('units_drop_1', min_value=0.01, max_value=0.5, step=25)\n",
        "  hp_drop_2 = hp.Float('units_drop_2', min_value=0.01, max_value=0.5, step=25)\n",
        "\n",
        "\n",
        "  model.add(keras.layers.Dense(units=hp_units_1, activation= hp.Choice(\"activation_1\", [\"relu\", \"tanh\"])))\n",
        "  model.add(Dense(units=hp_units_2, activation=hp.Choice(\"activation_2\", [\"relu\", \"tanh\"])))\n",
        "  model.add(tf.keras.layers.Dropout(hp_drop_1)) \n",
        "  model.add(Dense(units=hp_units_3, activation=hp.Choice(\"activation_3\", [\"relu\", \"tanh\"])))\n",
        "  model.add(tf.keras.layers.Dropout(hp_drop_2))\n",
        "  model.add(Dense(16, activation=hp.Choice(\"activation_4\", [\"relu\", \"tanh\"])))\n",
        "  model.add(Dense(len(class_names)))\n",
        "\n",
        "  # Tune the learning rate for the optimizer\n",
        "  # Choose an optimal value from 0.01, 0.005,  0.0011, 0.001,0.0009, 0.0005, 0.0001\n",
        "  hp_learning_rate = hp.Choice('learning_rate', values=[1e-2, 5e-3, 1.1e-3, 1e-3, 5e-4, 1e-4])\n",
        "\n",
        "  model.compile(optimizer=keras.optimizers.Adam(learning_rate=hp_learning_rate),\n",
        "                loss=keras.losses.SparseCategoricalCrossentropy(from_logits=True),\n",
        "                metrics=['accuracy'])\n",
        "\n",
        "  return model"
      ]
    },
    {
      "cell_type": "markdown",
      "metadata": {
        "id": "0J1VYw4q3x0b"
      },
      "source": [
        "## Instantiate the tuner and perform hypertuning\n",
        "\n",
        "Instantiate the tuner to perform the hypertuning. The Keras Tuner has four tuners available - `RandomSearch`, `Hyperband`, `BayesianOptimization`, and `Sklearn`. In this tutorial, you use the [Hyperband](https://arxiv.org/pdf/1603.06560.pdf) tuner.\n",
        "\n",
        "To instantiate the Hyperband tuner, you must specify the hypermodel, the `objective` to optimize and the maximum number of epochs to train (`max_epochs`)."
      ]
    },
    {
      "cell_type": "code",
      "execution_count": 9,
      "metadata": {
        "id": "oichQFly6Y46"
      },
      "outputs": [],
      "source": [
        "tuner = kt.Hyperband(model_builder,\n",
        "                     objective='val_accuracy',\n",
        "                     max_epochs=15,\n",
        "                     factor=3,\n",
        "                     directory='my_dir',\n",
        "                     project_name='intro_to_kt')"
      ]
    },
    {
      "cell_type": "markdown",
      "metadata": {
        "id": "VaIhhdKf9VtI"
      },
      "source": [
        "The Hyperband tuning algorithm uses adaptive resource allocation and early-stopping to quickly converge on a high-performing model. This is done using a sports championship style bracket. The algorithm trains a large number of models for a few epochs and carries forward only the top-performing half of models to the next round. Hyperband determines the number of models to train in a bracket by computing 1 + log<sub>`factor`</sub>(`max_epochs`) and rounding it up to the nearest integer."
      ]
    },
    {
      "cell_type": "markdown",
      "metadata": {
        "id": "cwhBdXx0Ekj8"
      },
      "source": [
        "Create a callback to stop training early after reaching a certain value for the validation loss."
      ]
    },
    {
      "cell_type": "code",
      "execution_count": 10,
      "metadata": {
        "id": "WT9IkS9NEjLc"
      },
      "outputs": [],
      "source": [
        "stop_early = tf.keras.callbacks.EarlyStopping(monitor='val_loss', patience=5)\n",
        "stop_early_val_accuracy = tf.keras.callbacks.EarlyStopping(monitor='val_accuracy', patience=5)"
      ]
    },
    {
      "cell_type": "markdown",
      "metadata": {
        "id": "UKghEo15Tduy"
      },
      "source": [
        "Run the hyperparameter search. The arguments for the search method are the same as those used for `tf.keras.model.fit` in addition to the callback above."
      ]
    },
    {
      "cell_type": "code",
      "execution_count": 11,
      "metadata": {
        "id": "dSBQcTHF9cKt",
        "colab": {
          "base_uri": "https://localhost:8080/"
        },
        "outputId": "28b18e45-c598-4436-cdd0-d5ce3fa46ce4"
      },
      "outputs": [
        {
          "output_type": "stream",
          "name": "stdout",
          "text": [
            "Trial 30 Complete [00h 00m 17s]\n",
            "val_accuracy: 0.36000001430511475\n",
            "\n",
            "Best val_accuracy So Far: 0.6000000238418579\n",
            "Total elapsed time: 00h 05m 43s\n",
            "INFO:tensorflow:Oracle triggered exit\n",
            "The hyperparameter search is complete. The optimal number of units in the first densely-connected layer is 500 and the optimal learning rate for the optimizer is 0.0011.\n"
          ]
        }
      ],
      "source": [
        "tuner.search(train_ds, epochs=50, validation_data=val_ds, callbacks=[stop_early])\n",
        "\n",
        "# Get the optimal hyperparameters\n",
        "best_hps=tuner.get_best_hyperparameters(num_trials=1)[0]\n",
        "\n",
        "print(f\"\"\"The hyperparameter search is complete. The optimal number of units in the first densely-connected layer is {best_hps.get('units_dense_1')} and the optimal learning rate for the optimizer is {best_hps.get('learning_rate')}.\"\"\")"
      ]
    },
    {
      "cell_type": "markdown",
      "metadata": {
        "id": "Lak_ylf88xBv"
      },
      "source": [
        "## Train the model\n",
        "\n",
        "Find the optimal number of epochs to train the model with the hyperparameters obtained from the search."
      ]
    },
    {
      "cell_type": "code",
      "execution_count": 12,
      "metadata": {
        "id": "McO82AXOuxXh",
        "colab": {
          "base_uri": "https://localhost:8080/"
        },
        "outputId": "b7e4316f-dcbe-48b5-a864-aad5a6bf2fe8"
      },
      "outputs": [
        {
          "output_type": "stream",
          "name": "stdout",
          "text": [
            "Epoch 1/50\n",
            "39/39 [==============================] - 2s 31ms/step - loss: 2.4622 - accuracy: 0.2251 - val_loss: 2.3958 - val_accuracy: 0.1200\n",
            "Epoch 2/50\n",
            "39/39 [==============================] - 1s 27ms/step - loss: 2.1284 - accuracy: 0.3037 - val_loss: 2.2672 - val_accuracy: 0.1600\n",
            "Epoch 3/50\n",
            "39/39 [==============================] - 1s 27ms/step - loss: 1.8514 - accuracy: 0.3298 - val_loss: 2.2170 - val_accuracy: 0.2400\n",
            "Epoch 4/50\n",
            "39/39 [==============================] - 1s 27ms/step - loss: 1.6741 - accuracy: 0.4346 - val_loss: 2.0719 - val_accuracy: 0.2400\n",
            "Epoch 5/50\n",
            "39/39 [==============================] - 1s 27ms/step - loss: 1.2408 - accuracy: 0.5340 - val_loss: 1.6508 - val_accuracy: 0.5600\n",
            "Epoch 6/50\n",
            "39/39 [==============================] - 1s 27ms/step - loss: 1.0509 - accuracy: 0.6440 - val_loss: 1.7717 - val_accuracy: 0.4000\n",
            "Epoch 7/50\n",
            "39/39 [==============================] - 1s 27ms/step - loss: 1.0055 - accuracy: 0.6335 - val_loss: 2.1584 - val_accuracy: 0.3200\n",
            "Epoch 8/50\n",
            "39/39 [==============================] - 1s 27ms/step - loss: 0.8410 - accuracy: 0.6859 - val_loss: 1.6286 - val_accuracy: 0.4000\n",
            "Epoch 9/50\n",
            "39/39 [==============================] - 1s 27ms/step - loss: 0.7254 - accuracy: 0.7592 - val_loss: 1.7185 - val_accuracy: 0.4800\n",
            "Epoch 10/50\n",
            "39/39 [==============================] - 1s 27ms/step - loss: 0.5357 - accuracy: 0.8272 - val_loss: 1.7973 - val_accuracy: 0.5200\n",
            "Epoch 11/50\n",
            "39/39 [==============================] - 1s 27ms/step - loss: 0.3530 - accuracy: 0.8953 - val_loss: 1.5833 - val_accuracy: 0.5600\n",
            "Epoch 12/50\n",
            "39/39 [==============================] - 1s 27ms/step - loss: 0.2768 - accuracy: 0.9005 - val_loss: 1.3903 - val_accuracy: 0.6400\n",
            "Epoch 13/50\n",
            "39/39 [==============================] - 1s 27ms/step - loss: 0.2082 - accuracy: 0.9424 - val_loss: 1.2210 - val_accuracy: 0.7200\n",
            "Epoch 14/50\n",
            "39/39 [==============================] - 1s 27ms/step - loss: 0.1392 - accuracy: 0.9634 - val_loss: 1.5114 - val_accuracy: 0.7200\n",
            "Epoch 15/50\n",
            "39/39 [==============================] - 1s 27ms/step - loss: 0.0789 - accuracy: 0.9843 - val_loss: 1.5878 - val_accuracy: 0.5600\n",
            "Epoch 16/50\n",
            "39/39 [==============================] - 1s 27ms/step - loss: 0.0604 - accuracy: 0.9843 - val_loss: 1.3784 - val_accuracy: 0.7200\n",
            "Epoch 17/50\n",
            "39/39 [==============================] - 1s 27ms/step - loss: 0.0434 - accuracy: 0.9948 - val_loss: 1.6143 - val_accuracy: 0.5600\n",
            "Epoch 18/50\n",
            "39/39 [==============================] - 1s 27ms/step - loss: 0.0326 - accuracy: 0.9948 - val_loss: 1.4412 - val_accuracy: 0.6400\n",
            "Epoch 19/50\n",
            "39/39 [==============================] - 1s 26ms/step - loss: 0.0236 - accuracy: 0.9948 - val_loss: 1.5790 - val_accuracy: 0.5600\n",
            "Epoch 20/50\n",
            "39/39 [==============================] - 1s 26ms/step - loss: 0.0233 - accuracy: 0.9948 - val_loss: 1.4722 - val_accuracy: 0.6800\n",
            "Epoch 21/50\n",
            "39/39 [==============================] - 1s 27ms/step - loss: 0.0191 - accuracy: 0.9948 - val_loss: 1.5946 - val_accuracy: 0.6400\n",
            "Epoch 22/50\n",
            "39/39 [==============================] - 1s 27ms/step - loss: 0.0187 - accuracy: 0.9948 - val_loss: 1.5949 - val_accuracy: 0.6400\n",
            "Epoch 23/50\n",
            "39/39 [==============================] - 1s 26ms/step - loss: 0.0173 - accuracy: 0.9895 - val_loss: 1.5844 - val_accuracy: 0.6400\n",
            "Epoch 24/50\n",
            "39/39 [==============================] - 1s 27ms/step - loss: 0.0166 - accuracy: 0.9895 - val_loss: 1.6101 - val_accuracy: 0.6400\n",
            "Epoch 25/50\n",
            "39/39 [==============================] - 1s 27ms/step - loss: 0.0151 - accuracy: 0.9948 - val_loss: 1.5517 - val_accuracy: 0.6400\n",
            "Epoch 26/50\n",
            "39/39 [==============================] - 1s 27ms/step - loss: 0.0144 - accuracy: 0.9948 - val_loss: 1.5812 - val_accuracy: 0.6400\n",
            "Epoch 27/50\n",
            "39/39 [==============================] - 1s 27ms/step - loss: 0.0151 - accuracy: 0.9895 - val_loss: 1.5113 - val_accuracy: 0.6400\n",
            "Epoch 28/50\n",
            "39/39 [==============================] - 1s 27ms/step - loss: 0.0120 - accuracy: 0.9948 - val_loss: 1.5691 - val_accuracy: 0.6400\n",
            "Epoch 29/50\n",
            "39/39 [==============================] - 1s 27ms/step - loss: 0.0132 - accuracy: 0.9895 - val_loss: 1.5826 - val_accuracy: 0.6400\n",
            "Epoch 30/50\n",
            "39/39 [==============================] - 1s 27ms/step - loss: 0.0120 - accuracy: 0.9948 - val_loss: 1.5733 - val_accuracy: 0.6400\n",
            "Epoch 31/50\n",
            "39/39 [==============================] - 1s 27ms/step - loss: 0.0113 - accuracy: 0.9948 - val_loss: 1.6597 - val_accuracy: 0.5600\n",
            "Epoch 32/50\n",
            "39/39 [==============================] - 1s 27ms/step - loss: 0.0151 - accuracy: 0.9948 - val_loss: 1.3635 - val_accuracy: 0.7600\n",
            "Epoch 33/50\n",
            "39/39 [==============================] - 1s 31ms/step - loss: 0.0150 - accuracy: 0.9948 - val_loss: 1.9708 - val_accuracy: 0.5600\n",
            "Epoch 34/50\n",
            "39/39 [==============================] - 1s 31ms/step - loss: 0.0203 - accuracy: 0.9948 - val_loss: 1.5701 - val_accuracy: 0.6400\n",
            "Epoch 35/50\n",
            "39/39 [==============================] - 1s 27ms/step - loss: 0.0118 - accuracy: 0.9948 - val_loss: 1.4777 - val_accuracy: 0.6800\n",
            "Epoch 36/50\n",
            "39/39 [==============================] - 1s 27ms/step - loss: 0.0111 - accuracy: 0.9948 - val_loss: 1.4210 - val_accuracy: 0.6800\n",
            "Epoch 37/50\n",
            "39/39 [==============================] - 1s 27ms/step - loss: 0.0118 - accuracy: 0.9948 - val_loss: 1.5301 - val_accuracy: 0.6800\n",
            "Epoch 38/50\n",
            "39/39 [==============================] - 1s 27ms/step - loss: 0.0090 - accuracy: 0.9948 - val_loss: 1.4759 - val_accuracy: 0.6800\n",
            "Epoch 39/50\n",
            "39/39 [==============================] - 1s 27ms/step - loss: 0.0102 - accuracy: 0.9895 - val_loss: 1.4536 - val_accuracy: 0.6800\n",
            "Epoch 40/50\n",
            "39/39 [==============================] - 1s 26ms/step - loss: 0.0076 - accuracy: 1.0000 - val_loss: 1.5160 - val_accuracy: 0.6800\n",
            "Epoch 41/50\n",
            "39/39 [==============================] - 1s 27ms/step - loss: 0.0101 - accuracy: 0.9948 - val_loss: 1.4835 - val_accuracy: 0.6800\n",
            "Epoch 42/50\n",
            "39/39 [==============================] - 1s 27ms/step - loss: 0.0102 - accuracy: 0.9948 - val_loss: 1.7711 - val_accuracy: 0.5600\n",
            "Epoch 43/50\n",
            "39/39 [==============================] - 1s 27ms/step - loss: 0.0122 - accuracy: 0.9948 - val_loss: 1.7325 - val_accuracy: 0.5600\n",
            "Epoch 44/50\n",
            "39/39 [==============================] - 1s 27ms/step - loss: 0.0102 - accuracy: 0.9948 - val_loss: 1.4829 - val_accuracy: 0.6800\n",
            "Epoch 45/50\n",
            "39/39 [==============================] - 1s 26ms/step - loss: 0.0067 - accuracy: 0.9948 - val_loss: 1.6775 - val_accuracy: 0.6400\n",
            "Epoch 46/50\n",
            "39/39 [==============================] - 1s 27ms/step - loss: 0.0334 - accuracy: 0.9843 - val_loss: 2.1845 - val_accuracy: 0.6000\n",
            "Epoch 47/50\n",
            "39/39 [==============================] - 1s 27ms/step - loss: 0.0361 - accuracy: 0.9948 - val_loss: 1.6947 - val_accuracy: 0.5600\n",
            "Epoch 48/50\n",
            "39/39 [==============================] - 1s 27ms/step - loss: 0.0145 - accuracy: 0.9948 - val_loss: 1.6161 - val_accuracy: 0.6400\n",
            "Epoch 49/50\n",
            "39/39 [==============================] - 1s 27ms/step - loss: 0.0074 - accuracy: 1.0000 - val_loss: 1.9407 - val_accuracy: 0.6400\n",
            "Epoch 50/50\n",
            "39/39 [==============================] - 1s 27ms/step - loss: 0.0165 - accuracy: 0.9948 - val_loss: 1.7881 - val_accuracy: 0.6400\n",
            "Best epoch: 32\n"
          ]
        }
      ],
      "source": [
        "# Build the model with the optimal hyperparameters and train it on the data for 50 epochs\n",
        "model = tuner.hypermodel.build(best_hps)\n",
        "history = model.fit(train_ds, epochs=50, validation_data=val_ds)\n",
        "\n",
        "val_acc_per_epoch = history.history['val_accuracy']\n",
        "best_epoch = val_acc_per_epoch.index(max(val_acc_per_epoch)) + 1\n",
        "print('Best epoch: %d' % (best_epoch,))"
      ]
    },
    {
      "cell_type": "markdown",
      "metadata": {
        "id": "uOTSirSTI3Gp"
      },
      "source": [
        "Re-instantiate the hypermodel and train it with the optimal number of epochs from above."
      ]
    },
    {
      "cell_type": "code",
      "execution_count": 13,
      "metadata": {
        "id": "NoiPUEHmMhCe",
        "colab": {
          "base_uri": "https://localhost:8080/"
        },
        "outputId": "92016d5f-db5e-46ed-8990-6784e0c75ef1"
      },
      "outputs": [
        {
          "output_type": "stream",
          "name": "stdout",
          "text": [
            "Epoch 1/32\n",
            "39/39 [==============================] - 2s 31ms/step - loss: 2.4783 - accuracy: 0.1990 - val_loss: 2.4653 - val_accuracy: 0.1200\n",
            "Epoch 2/32\n",
            "39/39 [==============================] - 1s 27ms/step - loss: 2.1859 - accuracy: 0.2827 - val_loss: 1.9762 - val_accuracy: 0.2800\n",
            "Epoch 3/32\n",
            "39/39 [==============================] - 1s 27ms/step - loss: 1.6936 - accuracy: 0.4293 - val_loss: 1.9130 - val_accuracy: 0.3200\n",
            "Epoch 4/32\n",
            "39/39 [==============================] - 1s 27ms/step - loss: 1.4765 - accuracy: 0.5079 - val_loss: 1.8099 - val_accuracy: 0.3600\n",
            "Epoch 5/32\n",
            "39/39 [==============================] - 1s 27ms/step - loss: 1.2759 - accuracy: 0.5340 - val_loss: 2.4434 - val_accuracy: 0.2400\n",
            "Epoch 6/32\n",
            "39/39 [==============================] - 1s 27ms/step - loss: 0.8215 - accuracy: 0.7120 - val_loss: 2.9785 - val_accuracy: 0.2800\n",
            "Epoch 7/32\n",
            "39/39 [==============================] - 1s 27ms/step - loss: 0.5516 - accuracy: 0.8010 - val_loss: 2.2372 - val_accuracy: 0.4000\n",
            "Epoch 8/32\n",
            "39/39 [==============================] - 1s 27ms/step - loss: 0.4843 - accuracy: 0.8586 - val_loss: 1.5023 - val_accuracy: 0.6000\n",
            "Epoch 9/32\n",
            "39/39 [==============================] - 1s 27ms/step - loss: 0.4271 - accuracy: 0.8796 - val_loss: 1.4741 - val_accuracy: 0.6000\n",
            "Epoch 10/32\n",
            "39/39 [==============================] - 1s 27ms/step - loss: 0.3065 - accuracy: 0.8848 - val_loss: 1.3959 - val_accuracy: 0.6400\n",
            "Epoch 11/32\n",
            "39/39 [==============================] - 1s 27ms/step - loss: 0.2927 - accuracy: 0.9162 - val_loss: 2.6201 - val_accuracy: 0.3600\n",
            "Epoch 12/32\n",
            "39/39 [==============================] - 1s 27ms/step - loss: 0.1922 - accuracy: 0.9581 - val_loss: 2.1633 - val_accuracy: 0.4400\n",
            "Epoch 13/32\n",
            "39/39 [==============================] - 1s 27ms/step - loss: 0.1477 - accuracy: 0.9686 - val_loss: 2.3357 - val_accuracy: 0.5200\n",
            "Epoch 14/32\n",
            "39/39 [==============================] - 1s 27ms/step - loss: 0.0680 - accuracy: 0.9948 - val_loss: 1.4352 - val_accuracy: 0.6800\n",
            "Epoch 15/32\n",
            "39/39 [==============================] - 1s 27ms/step - loss: 0.0398 - accuracy: 0.9948 - val_loss: 1.8745 - val_accuracy: 0.6000\n",
            "Epoch 16/32\n",
            "39/39 [==============================] - 1s 26ms/step - loss: 0.0296 - accuracy: 0.9895 - val_loss: 1.8449 - val_accuracy: 0.6000\n",
            "Epoch 17/32\n",
            "39/39 [==============================] - 1s 27ms/step - loss: 0.0244 - accuracy: 0.9948 - val_loss: 1.7473 - val_accuracy: 0.6400\n",
            "Epoch 18/32\n",
            "39/39 [==============================] - 1s 26ms/step - loss: 0.0194 - accuracy: 0.9948 - val_loss: 1.8611 - val_accuracy: 0.6000\n",
            "Epoch 19/32\n",
            "39/39 [==============================] - 1s 27ms/step - loss: 0.0189 - accuracy: 0.9895 - val_loss: 1.8840 - val_accuracy: 0.6000\n",
            "Epoch 20/32\n",
            "39/39 [==============================] - 1s 27ms/step - loss: 0.0186 - accuracy: 0.9895 - val_loss: 1.8783 - val_accuracy: 0.6000\n",
            "Epoch 21/32\n",
            "39/39 [==============================] - 1s 27ms/step - loss: 0.0153 - accuracy: 0.9948 - val_loss: 1.9741 - val_accuracy: 0.6000\n",
            "Epoch 22/32\n",
            "39/39 [==============================] - 1s 27ms/step - loss: 0.0169 - accuracy: 0.9948 - val_loss: 1.8149 - val_accuracy: 0.6400\n",
            "Epoch 23/32\n",
            "39/39 [==============================] - 1s 27ms/step - loss: 0.0169 - accuracy: 0.9948 - val_loss: 2.4955 - val_accuracy: 0.4400\n",
            "Epoch 24/32\n",
            "39/39 [==============================] - 1s 27ms/step - loss: 0.0216 - accuracy: 0.9948 - val_loss: 1.8040 - val_accuracy: 0.6800\n",
            "Epoch 25/32\n",
            "39/39 [==============================] - 1s 27ms/step - loss: 0.0156 - accuracy: 0.9948 - val_loss: 1.9112 - val_accuracy: 0.6800\n",
            "Epoch 26/32\n",
            "39/39 [==============================] - 1s 27ms/step - loss: 0.0142 - accuracy: 0.9948 - val_loss: 1.7807 - val_accuracy: 0.6800\n",
            "Epoch 27/32\n",
            "39/39 [==============================] - 1s 26ms/step - loss: 0.0133 - accuracy: 0.9948 - val_loss: 2.5103 - val_accuracy: 0.5200\n",
            "Epoch 28/32\n",
            "39/39 [==============================] - 1s 27ms/step - loss: 0.0196 - accuracy: 0.9948 - val_loss: 1.7388 - val_accuracy: 0.7200\n",
            "Epoch 29/32\n",
            "39/39 [==============================] - 1s 27ms/step - loss: 0.0145 - accuracy: 0.9895 - val_loss: 2.0255 - val_accuracy: 0.5600\n",
            "Epoch 30/32\n",
            "39/39 [==============================] - 1s 27ms/step - loss: 0.0140 - accuracy: 0.9948 - val_loss: 1.8414 - val_accuracy: 0.6800\n",
            "Epoch 31/32\n",
            "39/39 [==============================] - 1s 27ms/step - loss: 0.0127 - accuracy: 0.9948 - val_loss: 2.7309 - val_accuracy: 0.4800\n",
            "Epoch 32/32\n",
            "39/39 [==============================] - 1s 27ms/step - loss: 0.0165 - accuracy: 0.9948 - val_loss: 2.0572 - val_accuracy: 0.6800\n"
          ]
        },
        {
          "output_type": "execute_result",
          "data": {
            "text/plain": [
              "<keras.callbacks.History at 0x7fcd92085b90>"
            ]
          },
          "metadata": {},
          "execution_count": 13
        }
      ],
      "source": [
        "hypermodel = tuner.hypermodel.build(best_hps)\n",
        "\n",
        "# Retrain the model\n",
        "hypermodel.fit(train_ds, epochs=best_epoch, validation_data=val_ds)"
      ]
    },
    {
      "cell_type": "markdown",
      "metadata": {
        "id": "MqU5ZVAaag2v"
      },
      "source": [
        "To finish this tutorial, evaluate the hypermodel on the test data."
      ]
    },
    {
      "cell_type": "code",
      "execution_count": 17,
      "metadata": {
        "id": "9E0BTp9Ealjb",
        "colab": {
          "base_uri": "https://localhost:8080/"
        },
        "outputId": "83adc981-6011-42ae-fa8e-e638e6a2d758"
      },
      "outputs": [
        {
          "output_type": "stream",
          "name": "stdout",
          "text": [
            "5/5 [==============================] - 0s 5ms/step - loss: 2.0628 - accuracy: 0.6364\n",
            "[test loss, test accuracy]: [2.062821388244629, 0.6363636255264282]\n"
          ]
        }
      ],
      "source": [
        "test_data = test_ds.map(lambda x, y: x)\n",
        "test_labels = test_ds.map(lambda x, y: y)\n",
        "eval_result = hypermodel.evaluate(test_ds)\n",
        "print(\"[test loss, test accuracy]:\", eval_result)"
      ]
    },
    {
      "cell_type": "markdown",
      "metadata": {
        "id": "EQRpPHZsz-eC"
      },
      "source": [
        "The `my_dir/intro_to_kt` directory contains detailed logs and checkpoints for every trial (model configuration) run during the hyperparameter search. If you re-run the hyperparameter search, the Keras Tuner uses the existing state from these logs to resume the search. To disable this behavior, pass an additional `overwrite=True` argument while instantiating the tuner."
      ]
    },
    {
      "cell_type": "markdown",
      "metadata": {
        "id": "sKwLOzKpFGAj"
      },
      "source": [
        "## Summary\n",
        "\n",
        "In this tutorial, you learned how to use the Keras Tuner to tune hyperparameters for a model. To learn more about the Keras Tuner, check out these additional resources:\n",
        "\n",
        "* [Keras Tuner on the TensorFlow blog](https://blog.tensorflow.org/2020/01/hyperparameter-tuning-with-keras-tuner.html)\n",
        "* [Keras Tuner website](https://keras-team.github.io/keras-tuner/)\n",
        "\n",
        "Also check out the [HParams Dashboard](https://www.tensorflow.org/tensorboard/hyperparameter_tuning_with_hparams) in TensorBoard to interactively tune your model hyperparameters."
      ]
    }
  ],
  "metadata": {
    "accelerator": "GPU",
    "colab": {
      "collapsed_sections": [
        "Tce3stUlHN0L"
      ],
      "name": "keras_tuner.ipynb",
      "toc_visible": true,
      "provenance": []
    },
    "kernelspec": {
      "display_name": "Python 3",
      "name": "python3"
    }
  },
  "nbformat": 4,
  "nbformat_minor": 0
}
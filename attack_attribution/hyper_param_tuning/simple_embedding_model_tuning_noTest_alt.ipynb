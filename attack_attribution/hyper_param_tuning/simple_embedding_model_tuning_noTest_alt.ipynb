{
  "cells": [
    {
      "cell_type": "markdown",
      "metadata": {
        "id": "Tce3stUlHN0L"
      },
      "source": [
        "##### Copyright 2020 The TensorFlow Authors."
      ]
    },
    {
      "cell_type": "code",
      "execution_count": 10,
      "metadata": {
        "cellView": "form",
        "id": "tuOe1ymfHZPu"
      },
      "outputs": [],
      "source": [
        "#@title Licensed under the Apache License, Version 2.0 (the \"License\");\n",
        "# you may not use this file except in compliance with the License.\n",
        "# You may obtain a copy of the License at\n",
        "#\n",
        "# https://www.apache.org/licenses/LICENSE-2.0\n",
        "#\n",
        "# Unless required by applicable law or agreed to in writing, software\n",
        "# distributed under the License is distributed on an \"AS IS\" BASIS,\n",
        "# WITHOUT WARRANTIES OR CONDITIONS OF ANY KIND, either express or implied.\n",
        "# See the License for the specific language governing permissions and\n",
        "# limitations under the License."
      ]
    },
    {
      "cell_type": "markdown",
      "metadata": {
        "id": "qFdPvlXBOdUN"
      },
      "source": [
        "# Introduction to the Keras Tuner"
      ]
    },
    {
      "cell_type": "markdown",
      "metadata": {
        "id": "MfBg1C5NB3X0"
      },
      "source": [
        "<table class=\"tfo-notebook-buttons\" align=\"left\">\n",
        "  <td>\n",
        "    <a target=\"_blank\" href=\"https://www.tensorflow.org/tutorials/keras/keras_tuner\"><img src=\"https://www.tensorflow.org/images/tf_logo_32px.png\" />View on TensorFlow.org</a>\n",
        "  </td>\n",
        "  <td>\n",
        "    <a target=\"_blank\" href=\"https://colab.research.google.com/github/tensorflow/docs/blob/master/site/en/tutorials/keras/keras_tuner.ipynb\"><img src=\"https://www.tensorflow.org/images/colab_logo_32px.png\" />Run in Google Colab</a>\n",
        "  </td>\n",
        "  <td>\n",
        "    <a target=\"_blank\" href=\"https://github.com/tensorflow/docs/blob/master/site/en/tutorials/keras/keras_tuner.ipynb\"><img src=\"https://www.tensorflow.org/images/GitHub-Mark-32px.png\" />View source on GitHub</a>\n",
        "  </td>\n",
        "  <td>\n",
        "    <a href=\"https://storage.googleapis.com/tensorflow_docs/docs/site/en/tutorials/keras/keras_tuner.ipynb\"><img src=\"https://www.tensorflow.org/images/download_logo_32px.png\" />Download notebook</a>\n",
        "  </td>\n",
        "</table>"
      ]
    },
    {
      "cell_type": "markdown",
      "metadata": {
        "id": "xHxb-dlhMIzW"
      },
      "source": [
        "## Overview\n",
        "\n",
        "The Keras Tuner is a library that helps you pick the optimal set of hyperparameters for your TensorFlow program. The process of selecting the right set of hyperparameters for your machine learning (ML) application is called *hyperparameter tuning* or *hypertuning*.\n",
        "\n",
        "Hyperparameters are the variables that govern the training process and the topology of an ML model. These variables remain constant over the training process and directly impact the performance of your ML program. Hyperparameters are of two types:\n",
        "1. **Model hyperparameters** which influence model selection such as the number and width of hidden layers\n",
        "2. **Algorithm hyperparameters** which influence the speed and quality of the learning algorithm such as the learning rate for Stochastic Gradient Descent (SGD) and the number of nearest neighbors for a k Nearest Neighbors (KNN) classifier\n",
        "\n",
        "In this tutorial, you will use the Keras Tuner to perform hypertuning for an image classification application."
      ]
    },
    {
      "cell_type": "markdown",
      "metadata": {
        "id": "MUXex9ctTuDB"
      },
      "source": [
        "## Setup"
      ]
    },
    {
      "cell_type": "code",
      "execution_count": 11,
      "metadata": {
        "id": "IqR2PQG4ZaZ0"
      },
      "outputs": [],
      "source": [
        "import io\n",
        "import re\n",
        "import string\n",
        "import tensorflow as tf\n",
        "from tensorflow import keras\n",
        "from tensorflow.keras import Sequential\n",
        "from tensorflow.keras.layers import Dense, Embedding, GlobalAveragePooling1D\n",
        "from tensorflow.keras.layers import TextVectorization\n"
      ]
    },
    {
      "cell_type": "markdown",
      "metadata": {
        "id": "g83Lwsy-Aq2_"
      },
      "source": [
        "Install and import the Keras Tuner."
      ]
    },
    {
      "cell_type": "code",
      "execution_count": 12,
      "metadata": {
        "id": "hpMLpbt9jcO6"
      },
      "outputs": [],
      "source": [
        "!pip install -q -U keras-tuner"
      ]
    },
    {
      "cell_type": "code",
      "execution_count": 13,
      "metadata": {
        "id": "_leAIdFKAxAD"
      },
      "outputs": [],
      "source": [
        "import keras_tuner as kt"
      ]
    },
    {
      "cell_type": "markdown",
      "metadata": {
        "id": "ReV_UXOgCZvx"
      },
      "source": [
        "## Download and prepare the dataset\n",
        "\n",
        "In this tutorial, you will use the Keras Tuner to find the best hyperparameters for a machine learning model that classifies images of clothing from the [Fashion MNIST dataset](https://github.com/zalandoresearch/fashion-mnist)."
      ]
    },
    {
      "cell_type": "markdown",
      "metadata": {
        "id": "HljH_ENLEdHa"
      },
      "source": [
        "Load the data."
      ]
    },
    {
      "cell_type": "code",
      "execution_count": 14,
      "metadata": {
        "id": "OHlHs9Wj_PUM"
      },
      "outputs": [],
      "source": [
        "url = 'https://github.com/eyalmazuz/AttackAttributionDataset/archive/refs/heads/master.zip' \n",
        "\n",
        "dataset = tf.keras.utils.get_file('master.zip', url,extract=True, cache_dir='.',cache_subdir='')"
      ]
    },
    {
      "cell_type": "code",
      "execution_count": 15,
      "metadata": {
        "id": "bLVhXs3xrUD0",
        "colab": {
          "base_uri": "https://localhost:8080/"
        },
        "outputId": "e244f221-9f01-45fe-aaca-420e50e1fe28"
      },
      "outputs": [
        {
          "output_type": "stream",
          "name": "stdout",
          "text": [
            "Found 238 files belonging to 12 classes.\n",
            "Using 191 files for training.\n",
            "Found 238 files belonging to 12 classes.\n",
            "Using 47 files for validation.\n"
          ]
        }
      ],
      "source": [
        "# Normalize pixel values between 0 and 1\n",
        "AUTOTUNE = tf.data.AUTOTUNE\n",
        "batch_size = 5\n",
        "seed = 42\n",
        "\n",
        "train_ds = tf.keras.utils.text_dataset_from_directory(\n",
        "    'AttackAttributionDataset-master',\n",
        "    batch_size=batch_size,\n",
        "    validation_split=0.2,\n",
        "    subset='training',\n",
        "    seed=seed)\n",
        "\n",
        "class_names = train_ds.class_names\n",
        "train_ds = train_ds.cache().prefetch(buffer_size=AUTOTUNE)\n",
        "\n",
        "val_ds = tf.keras.utils.text_dataset_from_directory(\n",
        "    'AttackAttributionDataset-master',\n",
        "    batch_size=batch_size,\n",
        "    validation_split=0.2,\n",
        "    subset='validation',\n",
        "    seed=seed)\n",
        "\n",
        "val_ds = val_ds.cache().prefetch(buffer_size=AUTOTUNE)"
      ]
    },
    {
      "cell_type": "markdown",
      "source": [
        "# Text preprocessing\n",
        "Next, define the dataset preprocessing steps required for your sentiment classification model. Initialize a TextVectorization layer with the desired parameters to vectorize movie reviews. "
      ],
      "metadata": {
        "id": "WnVZRo27eo2m"
      }
    },
    {
      "cell_type": "code",
      "source": [
        "# Create a custom standardization function to strip HTML break tags '<br />'.\n",
        "def custom_standardization(input_data):\n",
        "  lowercase = tf.strings.lower(input_data)\n",
        "  stripped_html = tf.strings.regex_replace(lowercase, '<br />', ' ')\n",
        "  return tf.strings.regex_replace(stripped_html,\n",
        "                                  '[%s]' % re.escape(string.punctuation), '')\n",
        "\n",
        "\n",
        "# Vocabulary size and number of words in a sequence.\n",
        "vocab_size = 100000\n",
        "sequence_length = 1000\n",
        "\n",
        "# Use the text vectorization layer to normalize, split, and map strings to\n",
        "# integers. Note that the layer uses the custom standardization defined above.\n",
        "# Set maximum_sequence length as all samples are not of the same length.\n",
        "vectorize_layer = TextVectorization(\n",
        "    standardize=custom_standardization,\n",
        "    max_tokens=vocab_size,\n",
        "    output_mode='int',\n",
        "    output_sequence_length=sequence_length)\n",
        "\n",
        "# Make a text-only dataset (no labels) and call adapt to build the vocabulary.\n",
        "text_ds = train_ds.map(lambda x, y: x)\n",
        "vectorize_layer.adapt(text_ds)"
      ],
      "metadata": {
        "id": "_5RrIMMCeme_"
      },
      "execution_count": 16,
      "outputs": []
    },
    {
      "cell_type": "markdown",
      "metadata": {
        "id": "K5YEL2H2Ax3e"
      },
      "source": [
        "## Define the model\n",
        "\n",
        "When you build a model for hypertuning, you also define the hyperparameter search space in addition to the model architecture. The model you set up for hypertuning is called a *hypermodel*.\n",
        "\n",
        "You can define a hypermodel through two approaches:\n",
        "\n",
        "* By using a model builder function\n",
        "* By subclassing the `HyperModel` class of the Keras Tuner API\n",
        "\n",
        "You can also use two pre-defined [HyperModel](https://keras.io/api/keras_tuner/hypermodels/) classes - [HyperXception](https://keras.io/api/keras_tuner/hypermodels/hyper_xception/) and [HyperResNet](https://keras.io/api/keras_tuner/hypermodels/hyper_resnet/) for computer vision applications.\n",
        "\n",
        "In this tutorial, you use a model builder function to define the image classification model. The model builder function returns a compiled model and uses hyperparameters you define inline to hypertune the model."
      ]
    },
    {
      "cell_type": "code",
      "execution_count": 17,
      "metadata": {
        "id": "ZQKodC-jtsva"
      },
      "outputs": [],
      "source": [
        "min_embedding_dim=16\n",
        "max_embedding_dim=1024\n",
        "\n",
        "\n",
        "def model_builder(hp):\n",
        "  model = keras.Sequential()\n",
        "  model.add(vectorize_layer)\n",
        "  hp_units_embed = hp.Int('units_emb_1', min_value=min_embedding_dim, max_value=max_embedding_dim, step=32)\n",
        "  model.add(Embedding(vocab_size,output_dim= hp_units_embed, name=\"embedding\"))\n",
        "  model.add(GlobalAveragePooling1D())\n",
        " \n",
        "  # # Tune the number of layers. Best to do it manually for now\n",
        "  # for i in range(hp.Int(\"num_layers\", 1, 3)):\n",
        "  #     model.add(\n",
        "  #         layers.Dense(\n",
        "  #             # Tune number of units separately.\n",
        "  #             units=hp.Int(f\"units_{i}\", min_value=382, max_value=512, step=32),\n",
        "  #             activation=hp.Choice(\"activation\", [\"relu\", \"tanh\"]),\n",
        "  #         )\n",
        "  #     )\n",
        "\n",
        "  # Tune the activation functions in Dense Layers\n",
        "  # Tune the number of units in the first Dense layer\n",
        "  # Choose an optimal value between 32-512\n",
        "  hp_units_1 = hp.Int('units_dense_1', min_value=200, max_value=512, step=10)\n",
        "  model.add(keras.layers.Dense(units=hp_units_1, activation= hp.Choice(\"activation_1\", [\"relu\", \"tanh\"])))\n",
        "  model.add(tf.keras.layers.Dropout(0.25)) \n",
        "  hp_units_2 = hp.Int('units_dense_2', min_value=58, max_value=384, step=10)\n",
        "  model.add(Dense(units=hp_units_2, activation=hp.Choice(\"activation_2\", [\"relu\", \"tanh\"])))\n",
        "  model.add(tf.keras.layers.Dropout(0.25)) \n",
        "  hp_units_3 = hp.Int('units_dense_3', min_value=32, max_value=192, step=10)\n",
        "  model.add(Dense(units=hp_units_3, activation=hp.Choice(\"activation_3\", [\"relu\", \"tanh\"])))\n",
        "  model.add(tf.keras.layers.Dropout(0.1))\n",
        "  model.add(Dense(16, activation=hp.Choice(\"activation_3\", [\"relu\", \"tanh\"])))\n",
        "  model.add(Dense(len(class_names)))\n",
        "\n",
        "  # Tune the learning rate for the optimizer\n",
        "  # Choose an optimal value from 0.01, 0.005, 0.0011, 0.001, 0.0009, 0.0005, 0.0001\n",
        "  hp_learning_rate = hp.Choice('learning_rate', values=[1e-2, 5e-3, 1e-3, 5e-4, 1e-4])\n",
        "\n",
        "  model.compile(optimizer=keras.optimizers.Adam(learning_rate=hp_learning_rate),\n",
        "                loss=keras.losses.SparseCategoricalCrossentropy(from_logits=True),\n",
        "                metrics=['accuracy'])\n",
        "\n",
        "  return model"
      ]
    },
    {
      "cell_type": "markdown",
      "metadata": {
        "id": "0J1VYw4q3x0b"
      },
      "source": [
        "## Instantiate the tuner and perform hypertuning\n",
        "\n",
        "Instantiate the tuner to perform the hypertuning. The Keras Tuner has four tuners available - `RandomSearch`, `Hyperband`, `BayesianOptimization`, and `Sklearn`. In this tutorial, you use the [Hyperband](https://arxiv.org/pdf/1603.06560.pdf) tuner.\n",
        "\n",
        "To instantiate the Hyperband tuner, you must specify the hypermodel, the `objective` to optimize and the maximum number of epochs to train (`max_epochs`)."
      ]
    },
    {
      "cell_type": "code",
      "execution_count": 18,
      "metadata": {
        "id": "oichQFly6Y46"
      },
      "outputs": [],
      "source": [
        "tuner = kt.Hyperband(model_builder,\n",
        "                     objective='val_accuracy',\n",
        "                     max_epochs=10,\n",
        "                     factor=3,\n",
        "                     directory='my_dir',\n",
        "                     project_name='intro_to_kt')"
      ]
    },
    {
      "cell_type": "markdown",
      "metadata": {
        "id": "VaIhhdKf9VtI"
      },
      "source": [
        "The Hyperband tuning algorithm uses adaptive resource allocation and early-stopping to quickly converge on a high-performing model. This is done using a sports championship style bracket. The algorithm trains a large number of models for a few epochs and carries forward only the top-performing half of models to the next round. Hyperband determines the number of models to train in a bracket by computing 1 + log<sub>`factor`</sub>(`max_epochs`) and rounding it up to the nearest integer."
      ]
    },
    {
      "cell_type": "markdown",
      "metadata": {
        "id": "cwhBdXx0Ekj8"
      },
      "source": [
        "Create a callback to stop training early after reaching a certain value for the validation loss."
      ]
    },
    {
      "cell_type": "code",
      "execution_count": 19,
      "metadata": {
        "id": "WT9IkS9NEjLc"
      },
      "outputs": [],
      "source": [
        "stop_early = tf.keras.callbacks.EarlyStopping(monitor='val_loss', patience=5)\n",
        "stop_early_val_accuracy = tf.keras.callbacks.EarlyStopping(monitor='val_accuracy', patience=5)"
      ]
    },
    {
      "cell_type": "markdown",
      "metadata": {
        "id": "UKghEo15Tduy"
      },
      "source": [
        "Run the hyperparameter search. The arguments for the search method are the same as those used for `tf.keras.model.fit` in addition to the callback above."
      ]
    },
    {
      "cell_type": "code",
      "execution_count": 20,
      "metadata": {
        "id": "dSBQcTHF9cKt",
        "colab": {
          "base_uri": "https://localhost:8080/"
        },
        "outputId": "75c6b4e3-116c-4617-b7e0-ff4ed428a5b5"
      },
      "outputs": [
        {
          "output_type": "stream",
          "name": "stdout",
          "text": [
            "Trial 30 Complete [00h 00m 05s]\n",
            "val_accuracy: 0.27659574151039124\n",
            "\n",
            "Best val_accuracy So Far: 0.4680851101875305\n",
            "Total elapsed time: 00h 05m 24s\n",
            "INFO:tensorflow:Oracle triggered exit\n",
            "The hyperparameter search is complete. The optimal number of units in the first densely-connected layer is 350 and the optimal learning rate for the optimizer is 0.005.\n"
          ]
        }
      ],
      "source": [
        "tuner.search(train_ds, epochs=50, validation_data=val_ds, callbacks=[stop_early])\n",
        "\n",
        "# Get the optimal hyperparameters\n",
        "best_hps=tuner.get_best_hyperparameters(num_trials=1)[0]\n",
        "\n",
        "print(f\"\"\"The hyperparameter search is complete. The optimal number of units in the first densely-connected layer is {best_hps.get('units_dense_1')} and the optimal learning rate for the optimizer is {best_hps.get('learning_rate')}.\"\"\")"
      ]
    },
    {
      "cell_type": "markdown",
      "metadata": {
        "id": "Lak_ylf88xBv"
      },
      "source": [
        "## Train the model\n",
        "\n",
        "Find the optimal number of epochs to train the model with the hyperparameters obtained from the search."
      ]
    },
    {
      "cell_type": "code",
      "execution_count": 21,
      "metadata": {
        "id": "McO82AXOuxXh",
        "colab": {
          "base_uri": "https://localhost:8080/"
        },
        "outputId": "93d4b4bf-7339-41e7-f8d3-435189e84564"
      },
      "outputs": [
        {
          "output_type": "stream",
          "name": "stdout",
          "text": [
            "Epoch 1/50\n",
            "39/39 [==============================] - 2s 35ms/step - loss: 2.3913 - accuracy: 0.2304 - val_loss: 2.4112 - val_accuracy: 0.1915\n",
            "Epoch 2/50\n",
            "39/39 [==============================] - 1s 38ms/step - loss: 1.9933 - accuracy: 0.3403 - val_loss: 2.2221 - val_accuracy: 0.2766\n",
            "Epoch 3/50\n",
            "39/39 [==============================] - 2s 40ms/step - loss: 1.8369 - accuracy: 0.4188 - val_loss: 2.4458 - val_accuracy: 0.2340\n",
            "Epoch 4/50\n",
            "39/39 [==============================] - 2s 40ms/step - loss: 1.7391 - accuracy: 0.4136 - val_loss: 2.3793 - val_accuracy: 0.2979\n",
            "Epoch 5/50\n",
            "39/39 [==============================] - 1s 34ms/step - loss: 1.5546 - accuracy: 0.5026 - val_loss: 1.9683 - val_accuracy: 0.3404\n",
            "Epoch 6/50\n",
            "39/39 [==============================] - 1s 30ms/step - loss: 1.3622 - accuracy: 0.5759 - val_loss: 2.4262 - val_accuracy: 0.3617\n",
            "Epoch 7/50\n",
            "39/39 [==============================] - 1s 30ms/step - loss: 1.2239 - accuracy: 0.6021 - val_loss: 2.2844 - val_accuracy: 0.2766\n",
            "Epoch 8/50\n",
            "39/39 [==============================] - 1s 30ms/step - loss: 1.0638 - accuracy: 0.6021 - val_loss: 1.7122 - val_accuracy: 0.4255\n",
            "Epoch 9/50\n",
            "39/39 [==============================] - 1s 29ms/step - loss: 1.0772 - accuracy: 0.6387 - val_loss: 2.3613 - val_accuracy: 0.2766\n",
            "Epoch 10/50\n",
            "39/39 [==============================] - 1s 30ms/step - loss: 1.2613 - accuracy: 0.6021 - val_loss: 3.0712 - val_accuracy: 0.2340\n",
            "Epoch 11/50\n",
            "39/39 [==============================] - 1s 30ms/step - loss: 1.3670 - accuracy: 0.5079 - val_loss: 1.8350 - val_accuracy: 0.4255\n",
            "Epoch 12/50\n",
            "39/39 [==============================] - 1s 30ms/step - loss: 1.0107 - accuracy: 0.6545 - val_loss: 1.8615 - val_accuracy: 0.4681\n",
            "Epoch 13/50\n",
            "39/39 [==============================] - 1s 30ms/step - loss: 0.8885 - accuracy: 0.6754 - val_loss: 2.1416 - val_accuracy: 0.3404\n",
            "Epoch 14/50\n",
            "39/39 [==============================] - 1s 30ms/step - loss: 0.8210 - accuracy: 0.6963 - val_loss: 1.8172 - val_accuracy: 0.4255\n",
            "Epoch 15/50\n",
            "39/39 [==============================] - 1s 30ms/step - loss: 0.7286 - accuracy: 0.7592 - val_loss: 1.9523 - val_accuracy: 0.3830\n",
            "Epoch 16/50\n",
            "39/39 [==============================] - 1s 29ms/step - loss: 0.6724 - accuracy: 0.7696 - val_loss: 1.9727 - val_accuracy: 0.4043\n",
            "Epoch 17/50\n",
            "39/39 [==============================] - 1s 29ms/step - loss: 0.5398 - accuracy: 0.8325 - val_loss: 2.0879 - val_accuracy: 0.5532\n",
            "Epoch 18/50\n",
            "39/39 [==============================] - 1s 30ms/step - loss: 0.4732 - accuracy: 0.8639 - val_loss: 2.5790 - val_accuracy: 0.4681\n",
            "Epoch 19/50\n",
            "39/39 [==============================] - 1s 30ms/step - loss: 0.5275 - accuracy: 0.8534 - val_loss: 2.3742 - val_accuracy: 0.4255\n",
            "Epoch 20/50\n",
            "39/39 [==============================] - 1s 29ms/step - loss: 0.4101 - accuracy: 0.8796 - val_loss: 1.9901 - val_accuracy: 0.4468\n",
            "Epoch 21/50\n",
            "39/39 [==============================] - 1s 30ms/step - loss: 0.4244 - accuracy: 0.8691 - val_loss: 1.6313 - val_accuracy: 0.5745\n",
            "Epoch 22/50\n",
            "39/39 [==============================] - 1s 30ms/step - loss: 0.3633 - accuracy: 0.9005 - val_loss: 2.5422 - val_accuracy: 0.4255\n",
            "Epoch 23/50\n",
            "39/39 [==============================] - 1s 30ms/step - loss: 0.4291 - accuracy: 0.8482 - val_loss: 1.8336 - val_accuracy: 0.5532\n",
            "Epoch 24/50\n",
            "39/39 [==============================] - 1s 30ms/step - loss: 0.3181 - accuracy: 0.9005 - val_loss: 3.0514 - val_accuracy: 0.3830\n",
            "Epoch 25/50\n",
            "39/39 [==============================] - 1s 30ms/step - loss: 0.2605 - accuracy: 0.9319 - val_loss: 2.7424 - val_accuracy: 0.4894\n",
            "Epoch 26/50\n",
            "39/39 [==============================] - 1s 30ms/step - loss: 0.2048 - accuracy: 0.9529 - val_loss: 2.0952 - val_accuracy: 0.6383\n",
            "Epoch 27/50\n",
            "39/39 [==============================] - 1s 30ms/step - loss: 0.2091 - accuracy: 0.9424 - val_loss: 2.1356 - val_accuracy: 0.5745\n",
            "Epoch 28/50\n",
            "39/39 [==============================] - 1s 30ms/step - loss: 0.1681 - accuracy: 0.9529 - val_loss: 2.1656 - val_accuracy: 0.6170\n",
            "Epoch 29/50\n",
            "39/39 [==============================] - 1s 30ms/step - loss: 0.2911 - accuracy: 0.9162 - val_loss: 1.9390 - val_accuracy: 0.5957\n",
            "Epoch 30/50\n",
            "39/39 [==============================] - 1s 30ms/step - loss: 0.5865 - accuracy: 0.8115 - val_loss: 2.3662 - val_accuracy: 0.5319\n",
            "Epoch 31/50\n",
            "39/39 [==============================] - 1s 29ms/step - loss: 0.3251 - accuracy: 0.9110 - val_loss: 2.9706 - val_accuracy: 0.4255\n",
            "Epoch 32/50\n",
            "39/39 [==============================] - 1s 29ms/step - loss: 0.2996 - accuracy: 0.9372 - val_loss: 3.1145 - val_accuracy: 0.4468\n",
            "Epoch 33/50\n",
            "39/39 [==============================] - 1s 30ms/step - loss: 0.3212 - accuracy: 0.9005 - val_loss: 3.4551 - val_accuracy: 0.3404\n",
            "Epoch 34/50\n",
            "39/39 [==============================] - 1s 30ms/step - loss: 0.4208 - accuracy: 0.8691 - val_loss: 2.6574 - val_accuracy: 0.4255\n",
            "Epoch 35/50\n",
            "39/39 [==============================] - 1s 30ms/step - loss: 0.2463 - accuracy: 0.9267 - val_loss: 2.0402 - val_accuracy: 0.5745\n",
            "Epoch 36/50\n",
            "39/39 [==============================] - 1s 30ms/step - loss: 0.2763 - accuracy: 0.9267 - val_loss: 3.4015 - val_accuracy: 0.3830\n",
            "Epoch 37/50\n",
            "39/39 [==============================] - 1s 30ms/step - loss: 0.2458 - accuracy: 0.9372 - val_loss: 2.0018 - val_accuracy: 0.5319\n",
            "Epoch 38/50\n",
            "39/39 [==============================] - 1s 29ms/step - loss: 0.1598 - accuracy: 0.9686 - val_loss: 2.6888 - val_accuracy: 0.4681\n",
            "Epoch 39/50\n",
            "39/39 [==============================] - 1s 29ms/step - loss: 0.1038 - accuracy: 0.9791 - val_loss: 2.3784 - val_accuracy: 0.5106\n",
            "Epoch 40/50\n",
            "39/39 [==============================] - 1s 30ms/step - loss: 0.0835 - accuracy: 0.9843 - val_loss: 2.9442 - val_accuracy: 0.4894\n",
            "Epoch 41/50\n",
            "39/39 [==============================] - 1s 30ms/step - loss: 0.1140 - accuracy: 0.9686 - val_loss: 2.4015 - val_accuracy: 0.5745\n",
            "Epoch 42/50\n",
            "39/39 [==============================] - 1s 30ms/step - loss: 0.2061 - accuracy: 0.9476 - val_loss: 2.0888 - val_accuracy: 0.5319\n",
            "Epoch 43/50\n",
            "39/39 [==============================] - 1s 30ms/step - loss: 0.2412 - accuracy: 0.9162 - val_loss: 2.9386 - val_accuracy: 0.4255\n",
            "Epoch 44/50\n",
            "39/39 [==============================] - 1s 30ms/step - loss: 0.1430 - accuracy: 0.9581 - val_loss: 2.2783 - val_accuracy: 0.5106\n",
            "Epoch 45/50\n",
            "39/39 [==============================] - 1s 30ms/step - loss: 0.1638 - accuracy: 0.9424 - val_loss: 2.8547 - val_accuracy: 0.4681\n",
            "Epoch 46/50\n",
            "39/39 [==============================] - 1s 29ms/step - loss: 0.3363 - accuracy: 0.9162 - val_loss: 3.5921 - val_accuracy: 0.3404\n",
            "Epoch 47/50\n",
            "39/39 [==============================] - 1s 30ms/step - loss: 0.5264 - accuracy: 0.8534 - val_loss: 2.3066 - val_accuracy: 0.4681\n",
            "Epoch 48/50\n",
            "39/39 [==============================] - 1s 30ms/step - loss: 0.4399 - accuracy: 0.8691 - val_loss: 3.1257 - val_accuracy: 0.3830\n",
            "Epoch 49/50\n",
            "39/39 [==============================] - 1s 29ms/step - loss: 0.3437 - accuracy: 0.9058 - val_loss: 2.2492 - val_accuracy: 0.4681\n",
            "Epoch 50/50\n",
            "39/39 [==============================] - 1s 30ms/step - loss: 0.3091 - accuracy: 0.8901 - val_loss: 1.9893 - val_accuracy: 0.5745\n",
            "Best epoch: 26\n"
          ]
        }
      ],
      "source": [
        "# Build the model with the optimal hyperparameters and train it on the data for 50 epochs\n",
        "model = tuner.hypermodel.build(best_hps)\n",
        "history = model.fit(train_ds, epochs=50, validation_data=val_ds)\n",
        "\n",
        "val_acc_per_epoch = history.history['val_accuracy']\n",
        "\n",
        "## For duplicate max values of val_accuracy\n",
        "# first_best_epoch = val_acc_per_epoch.index(max(val_acc_per_epoch)) \n",
        "# best_epoch = val_acc_per_epoch.index(first_best_epoch, max(val_acc_per_epoch)) + 1\n",
        "\n",
        "best_epoch = val_acc_per_epoch.index(max(val_acc_per_epoch)) + 1\n",
        "print('Best epoch: %d' % (best_epoch,))"
      ]
    },
    {
      "cell_type": "markdown",
      "metadata": {
        "id": "uOTSirSTI3Gp"
      },
      "source": [
        "Re-instantiate the hypermodel and train it with the optimal number of epochs from above."
      ]
    },
    {
      "cell_type": "code",
      "execution_count": 22,
      "metadata": {
        "id": "NoiPUEHmMhCe",
        "colab": {
          "base_uri": "https://localhost:8080/"
        },
        "outputId": "f03c3f4a-148a-4fdc-995a-b4939e2312d0"
      },
      "outputs": [
        {
          "output_type": "stream",
          "name": "stdout",
          "text": [
            "Epoch 1/26\n",
            "39/39 [==============================] - 2s 33ms/step - loss: 2.3597 - accuracy: 0.2618 - val_loss: 2.4529 - val_accuracy: 0.1489\n",
            "Epoch 2/26\n",
            "39/39 [==============================] - 1s 30ms/step - loss: 1.9773 - accuracy: 0.3298 - val_loss: 2.2594 - val_accuracy: 0.2128\n",
            "Epoch 3/26\n",
            "39/39 [==============================] - 1s 30ms/step - loss: 1.7879 - accuracy: 0.4346 - val_loss: 3.1933 - val_accuracy: 0.1702\n",
            "Epoch 4/26\n",
            "39/39 [==============================] - 1s 29ms/step - loss: 1.7765 - accuracy: 0.4188 - val_loss: 2.0878 - val_accuracy: 0.2766\n",
            "Epoch 5/26\n",
            "39/39 [==============================] - 1s 30ms/step - loss: 1.5483 - accuracy: 0.4764 - val_loss: 2.3059 - val_accuracy: 0.2128\n",
            "Epoch 6/26\n",
            "39/39 [==============================] - 1s 29ms/step - loss: 1.4133 - accuracy: 0.5393 - val_loss: 2.0628 - val_accuracy: 0.2979\n",
            "Epoch 7/26\n",
            "39/39 [==============================] - 1s 30ms/step - loss: 1.2759 - accuracy: 0.5445 - val_loss: 2.0255 - val_accuracy: 0.3617\n",
            "Epoch 8/26\n",
            "39/39 [==============================] - 1s 29ms/step - loss: 1.2928 - accuracy: 0.5183 - val_loss: 2.1646 - val_accuracy: 0.3617\n",
            "Epoch 9/26\n",
            "39/39 [==============================] - 1s 30ms/step - loss: 1.1683 - accuracy: 0.5026 - val_loss: 1.7785 - val_accuracy: 0.2979\n",
            "Epoch 10/26\n",
            "39/39 [==============================] - 1s 30ms/step - loss: 1.2403 - accuracy: 0.5183 - val_loss: 2.4940 - val_accuracy: 0.4043\n",
            "Epoch 11/26\n",
            "39/39 [==============================] - 1s 30ms/step - loss: 1.2916 - accuracy: 0.5445 - val_loss: 1.9850 - val_accuracy: 0.4043\n",
            "Epoch 12/26\n",
            "39/39 [==============================] - 1s 29ms/step - loss: 1.0473 - accuracy: 0.6283 - val_loss: 1.5250 - val_accuracy: 0.4043\n",
            "Epoch 13/26\n",
            "39/39 [==============================] - 1s 32ms/step - loss: 0.9232 - accuracy: 0.6387 - val_loss: 1.7748 - val_accuracy: 0.4043\n",
            "Epoch 14/26\n",
            "39/39 [==============================] - 1s 32ms/step - loss: 0.8362 - accuracy: 0.7173 - val_loss: 2.2077 - val_accuracy: 0.3830\n",
            "Epoch 15/26\n",
            "39/39 [==============================] - 1s 31ms/step - loss: 0.8057 - accuracy: 0.7016 - val_loss: 2.1246 - val_accuracy: 0.3404\n",
            "Epoch 16/26\n",
            "39/39 [==============================] - 1s 29ms/step - loss: 0.7500 - accuracy: 0.7330 - val_loss: 1.6473 - val_accuracy: 0.4468\n",
            "Epoch 17/26\n",
            "39/39 [==============================] - 1s 30ms/step - loss: 0.7088 - accuracy: 0.7382 - val_loss: 1.8396 - val_accuracy: 0.3830\n",
            "Epoch 18/26\n",
            "39/39 [==============================] - 1s 30ms/step - loss: 0.6445 - accuracy: 0.7277 - val_loss: 1.7645 - val_accuracy: 0.4255\n",
            "Epoch 19/26\n",
            "39/39 [==============================] - 1s 30ms/step - loss: 0.6966 - accuracy: 0.7277 - val_loss: 1.4698 - val_accuracy: 0.5745\n",
            "Epoch 20/26\n",
            "39/39 [==============================] - 1s 30ms/step - loss: 0.6604 - accuracy: 0.7382 - val_loss: 1.7601 - val_accuracy: 0.5745\n",
            "Epoch 21/26\n",
            "39/39 [==============================] - 1s 30ms/step - loss: 0.5975 - accuracy: 0.8063 - val_loss: 1.6122 - val_accuracy: 0.4681\n",
            "Epoch 22/26\n",
            "39/39 [==============================] - 1s 30ms/step - loss: 1.0279 - accuracy: 0.6283 - val_loss: 2.5074 - val_accuracy: 0.3617\n",
            "Epoch 23/26\n",
            "39/39 [==============================] - 1s 30ms/step - loss: 0.9297 - accuracy: 0.6754 - val_loss: 1.7530 - val_accuracy: 0.4255\n",
            "Epoch 24/26\n",
            "39/39 [==============================] - 1s 30ms/step - loss: 0.7036 - accuracy: 0.7277 - val_loss: 1.9814 - val_accuracy: 0.5106\n",
            "Epoch 25/26\n",
            "39/39 [==============================] - 1s 30ms/step - loss: 0.6357 - accuracy: 0.7801 - val_loss: 1.9172 - val_accuracy: 0.5106\n",
            "Epoch 26/26\n",
            "39/39 [==============================] - 1s 30ms/step - loss: 0.5979 - accuracy: 0.7853 - val_loss: 2.0272 - val_accuracy: 0.4468\n"
          ]
        },
        {
          "output_type": "execute_result",
          "data": {
            "text/plain": [
              "<keras.callbacks.History at 0x7f8bbd1c8690>"
            ]
          },
          "metadata": {},
          "execution_count": 22
        }
      ],
      "source": [
        "hypermodel = tuner.hypermodel.build(best_hps)\n",
        "\n",
        "# Retrain the model\n",
        "hypermodel.fit(train_ds, epochs=best_epoch, validation_data=val_ds)"
      ]
    },
    {
      "cell_type": "markdown",
      "metadata": {
        "id": "EQRpPHZsz-eC"
      },
      "source": [
        "The `my_dir/intro_to_kt` directory contains detailed logs and checkpoints for every trial (model configuration) run during the hyperparameter search. If you re-run the hyperparameter search, the Keras Tuner uses the existing state from these logs to resume the search. To disable this behavior, pass an additional `overwrite=True` argument while instantiating the tuner."
      ]
    },
    {
      "cell_type": "markdown",
      "metadata": {
        "id": "sKwLOzKpFGAj"
      },
      "source": [
        "## Summary\n",
        "\n",
        "In this tutorial, you learned how to use the Keras Tuner to tune hyperparameters for a model. To learn more about the Keras Tuner, check out these additional resources:\n",
        "\n",
        "* [Keras Tuner on the TensorFlow blog](https://blog.tensorflow.org/2020/01/hyperparameter-tuning-with-keras-tuner.html)\n",
        "* [Keras Tuner website](https://keras-team.github.io/keras-tuner/)\n",
        "\n",
        "Also check out the [HParams Dashboard](https://www.tensorflow.org/tensorboard/hyperparameter_tuning_with_hparams) in TensorBoard to interactively tune your model hyperparameters."
      ]
    }
  ],
  "metadata": {
    "accelerator": "GPU",
    "colab": {
      "collapsed_sections": [
        "Tce3stUlHN0L"
      ],
      "name": "keras_tuner.ipynb",
      "toc_visible": true,
      "provenance": []
    },
    "kernelspec": {
      "display_name": "Python 3",
      "name": "python3"
    }
  },
  "nbformat": 4,
  "nbformat_minor": 0
}
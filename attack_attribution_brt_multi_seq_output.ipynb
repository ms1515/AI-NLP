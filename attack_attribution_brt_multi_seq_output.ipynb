{
  "cells": [
    {
      "cell_type": "markdown",
      "metadata": {
        "id": "Cb4espuLKJiA"
      },
      "source": [
        "##### Copyright 2020 The TensorFlow Hub Authors.\n"
      ]
    },
    {
      "cell_type": "code",
      "execution_count": 1,
      "metadata": {
        "cellView": "form",
        "id": "jM3hCI1UUzar"
      },
      "outputs": [],
      "source": [
        "#@title Licensed under the Apache License, Version 2.0 (the \"License\");\n",
        "# you may not use this file except in compliance with the License.\n",
        "# You may obtain a copy of the License at\n",
        "#\n",
        "# https://www.apache.org/licenses/LICENSE-2.0\n",
        "#\n",
        "# Unless required by applicable law or agreed to in writing, software\n",
        "# distributed under the License is distributed on an \"AS IS\" BASIS,\n",
        "# WITHOUT WARRANTIES OR CONDITIONS OF ANY KIND, either express or implied.\n",
        "# See the License for the specific language governing permissions and\n",
        "# limitations under the License."
      ]
    },
    {
      "cell_type": "markdown",
      "metadata": {
        "id": "4_NEJlxKKjyI"
      },
      "source": [
        "<table class=\"tfo-notebook-buttons\" align=\"left\">\n",
        "  <td>\n",
        "    <a target=\"_blank\" href=\"https://www.tensorflow.org/text/tutorials/classify_text_with_bert\"><img src=\"https://www.tensorflow.org/images/tf_logo_32px.png\" />View on TensorFlow.org</a>\n",
        "  </td>\n",
        "  <td>\n",
        "    <a target=\"_blank\" href=\"https://colab.research.google.com/github/tensorflow/text/blob/master/docs/tutorials/classify_text_with_bert.ipynb\"><img src=\"https://www.tensorflow.org/images/colab_logo_32px.png\" />Run in Google Colab</a>\n",
        "  </td>\n",
        "  <td>\n",
        "    <a target=\"_blank\" href=\"https://github.com/tensorflow/text/blob/master/docs/tutorials/classify_text_with_bert.ipynb\"><img src=\"https://www.tensorflow.org/images/GitHub-Mark-32px.png\" />View on GitHub</a>\n",
        "  </td>\n",
        "  <td>\n",
        "    <a href=\"https://storage.googleapis.com/tensorflow_docs/text/docs/tutorials/classify_text_with_bert.ipynb\"><img src=\"https://www.tensorflow.org/images/download_logo_32px.png\" />Download notebook</a>\n",
        "  </td>\n",
        "  <td>\n",
        "    <a href=\"https://tfhub.dev/google/collections/bert/1\"><img src=\"https://www.tensorflow.org/images/hub_logo_32px.png\" />See TF Hub model</a>\n",
        "  </td>\n",
        "</table>"
      ]
    },
    {
      "cell_type": "markdown",
      "metadata": {
        "id": "IZ6SNYq_tVVC"
      },
      "source": [
        "# Attribute Threat Actors using Threat Intelligence Reports with BERT and Deep Learning\n"
      ]
    },
    {
      "cell_type": "markdown",
      "metadata": {
        "id": "2PHBpLPuQdmK"
      },
      "source": [
        "## About BERT\n",
        "\n",
        "[BERT](https://arxiv.org/abs/1810.04805) and other Transformer encoder architectures have been wildly successful on a variety of tasks in NLP (natural language processing). They compute vector-space representations of natural language that are suitable for use in deep learning models. The BERT family of models uses the Transformer encoder architecture to process each token of input text in the full context of all tokens before and after, hence the name: Bidirectional Encoder Representations from Transformers. \n",
        "\n",
        "BERT models are usually pre-trained on a large corpus of text, then fine-tuned for specific tasks.\n"
      ]
    },
    {
      "cell_type": "markdown",
      "metadata": {
        "id": "SCjmX4zTCkRK"
      },
      "source": [
        "## Setup\n"
      ]
    },
    {
      "cell_type": "code",
      "execution_count": 2,
      "metadata": {
        "id": "q-YbjCkzw0yU",
        "outputId": "26f99c73-675b-4255-cc69-4feed98cf5b3",
        "colab": {
          "base_uri": "https://localhost:8080/"
        }
      },
      "outputs": [
        {
          "output_type": "stream",
          "name": "stdout",
          "text": [
            "\u001b[K     |████████████████████████████████| 4.9 MB 5.2 MB/s \n",
            "\u001b[?25h"
          ]
        }
      ],
      "source": [
        "# A dependency of the preprocessing for BERT inputs\n",
        "!pip install -q -U \"tensorflow-text==2.8.*\""
      ]
    },
    {
      "cell_type": "markdown",
      "metadata": {
        "id": "5w_XlxN1IsRJ"
      },
      "source": [
        "You will use the AdamW optimizer from [tensorflow/models](https://github.com/tensorflow/models)."
      ]
    },
    {
      "cell_type": "code",
      "execution_count": 3,
      "metadata": {
        "id": "b-P1ZOA0FkVJ",
        "outputId": "f706e3a8-c397-4a76-f8e5-513538106bbb",
        "colab": {
          "base_uri": "https://localhost:8080/"
        }
      },
      "outputs": [
        {
          "output_type": "stream",
          "name": "stdout",
          "text": [
            "\u001b[K     |████████████████████████████████| 1.8 MB 5.0 MB/s \n",
            "\u001b[K     |████████████████████████████████| 596 kB 42.1 MB/s \n",
            "\u001b[K     |████████████████████████████████| 1.2 MB 34.0 MB/s \n",
            "\u001b[K     |████████████████████████████████| 48.3 MB 175 kB/s \n",
            "\u001b[K     |████████████████████████████████| 237 kB 48.1 MB/s \n",
            "\u001b[K     |████████████████████████████████| 352 kB 16.7 MB/s \n",
            "\u001b[K     |████████████████████████████████| 92 kB 7.8 MB/s \n",
            "\u001b[K     |████████████████████████████████| 99 kB 2.3 MB/s \n",
            "\u001b[K     |████████████████████████████████| 1.1 MB 35.5 MB/s \n",
            "\u001b[K     |████████████████████████████████| 43 kB 1.1 MB/s \n",
            "\u001b[?25h  Building wheel for py-cpuinfo (setup.py) ... \u001b[?25l\u001b[?25hdone\n",
            "  Building wheel for seqeval (setup.py) ... \u001b[?25l\u001b[?25hdone\n"
          ]
        }
      ],
      "source": [
        "!pip install -q tf-models-official==2.7.0"
      ]
    },
    {
      "cell_type": "code",
      "execution_count": 4,
      "metadata": {
        "id": "_XgTpm9ZxoN9"
      },
      "outputs": [],
      "source": [
        "import os\n",
        "import shutil\n",
        "\n",
        "import tensorflow as tf\n",
        "import tensorflow_hub as hub\n",
        "import tensorflow_text as text\n",
        "from official.nlp import optimization  # to create AdamW optimizer\n",
        "\n",
        "import matplotlib.pyplot as plt\n",
        "\n",
        "tf.get_logger().setLevel('ERROR')\n"
      ]
    },
    {
      "cell_type": "markdown",
      "metadata": {
        "id": "Vnvd4mrtPHHV"
      },
      "source": [
        "### Download the Threat Intelligence dataset\n",
        "\n",
        "Let's download and extract the dataset, then explore the directory structure.\n"
      ]
    },
    {
      "cell_type": "code",
      "execution_count": 5,
      "metadata": {
        "id": "pOdqCMoQDRJL",
        "outputId": "3d523a2c-129a-4de2-9bb7-bdd375dfe1ec",
        "colab": {
          "base_uri": "https://localhost:8080/"
        }
      },
      "outputs": [
        {
          "output_type": "stream",
          "name": "stdout",
          "text": [
            "Downloading data from https://github.com/eyalmazuz/AttackAttributionDataset/archive/refs/heads/master.zip\n",
            " 720896/Unknown - 0s 0us/step"
          ]
        }
      ],
      "source": [
        "url = 'https://github.com/eyalmazuz/AttackAttributionDataset/archive/refs/heads/master.zip' \n",
        "\n",
        "dataset = tf.keras.utils.get_file('master.zip', url,\n",
        "                                  extract=True, cache_dir='.',\n",
        "                                  cache_subdir='')\n",
        "\n",
        "# print(dataset)\n",
        "\n",
        "# dataset_dir = os.path.join(os.path.dirname(dataset), 'aclImdb')\n",
        "\n",
        "# print(dataset_dir)\n",
        "\n",
        "# # remove unused folders to make it easier to load the data\n",
        "# remove_dir = os.path.join(dataset_dir, 'unsup')\n",
        "# shutil.rmtree(remove_dir)"
      ]
    },
    {
      "cell_type": "markdown",
      "metadata": {
        "id": "lN9lWCYfPo7b"
      },
      "source": [
        "Next, you will use the `text_dataset_from_directory` utility to create a labeled `tf.data.Dataset`.\n",
        "\n",
        "The IMDB dataset has already been divided into train and test, but it lacks a validation set. Let's create a validation set using an 80:20 split of the training data by using the `validation_split` argument below.\n",
        "\n",
        "Note:  When using the `validation_split` and `subset` arguments, make sure to either specify a random seed, or to pass `shuffle=False`, so that the validation and training splits have no overlap."
      ]
    },
    {
      "cell_type": "code",
      "execution_count": 6,
      "metadata": {
        "id": "6IwI_2bcIeX8",
        "colab": {
          "base_uri": "https://localhost:8080/"
        },
        "outputId": "00eacd67-103f-4787-ccdd-ab023d2bcfb1"
      },
      "outputs": [
        {
          "output_type": "stream",
          "name": "stdout",
          "text": [
            "Found 238 files belonging to 12 classes.\n",
            "Using 191 files for training.\n",
            "Found 238 files belonging to 12 classes.\n",
            "Using 47 files for validation.\n"
          ]
        }
      ],
      "source": [
        "AUTOTUNE = tf.data.AUTOTUNE\n",
        "batch_size = 5\n",
        "seed = 42\n",
        "\n",
        "raw_train_ds = tf.keras.utils.text_dataset_from_directory(\n",
        "    'AttackAttributionDataset-master',\n",
        "    batch_size=batch_size,\n",
        "    validation_split=0.2,\n",
        "    subset='training',\n",
        "    seed=seed)\n",
        "\n",
        "class_names = raw_train_ds.class_names\n",
        "train_ds = raw_train_ds.cache().prefetch(buffer_size=AUTOTUNE)\n",
        "\n",
        "remaining_ds = tf.keras.utils.text_dataset_from_directory(\n",
        "    'AttackAttributionDataset-master',\n",
        "    batch_size=batch_size,\n",
        "    validation_split=0.2,\n",
        "    subset='validation',\n",
        "    seed=seed)\n",
        "\n",
        "val_ds = remaining_ds.take(int(len(remaining_ds)*0.5))\n",
        "\n",
        "val_ds = val_ds.cache().prefetch(buffer_size=AUTOTUNE)\n",
        "\n",
        "test_ds = remaining_ds.skip(len(val_ds))\n",
        "\n",
        "test_ds = test_ds.cache().prefetch(buffer_size=AUTOTUNE)"
      ]
    },
    {
      "cell_type": "markdown",
      "metadata": {
        "id": "HGm10A5HRGXp"
      },
      "source": [
        "Let's take a look at a few reviews."
      ]
    },
    {
      "cell_type": "code",
      "execution_count": 7,
      "metadata": {
        "id": "JuxDkcvVIoev",
        "colab": {
          "base_uri": "https://localhost:8080/"
        },
        "outputId": "6ec43c84-54fa-4457-8602-b57310491352"
      },
      "outputs": [
        {
          "output_type": "stream",
          "name": "stdout",
          "text": [
            "Report: b\"many security-minded organizations utilize code signing to provide an additional layer of security and authenticity for their software and files. code signing is carried out using a type of digital certificate known as a code-signing certificate. the process of code signing validates the authenticity of legitimate software by confirming that an application is from the organization who signed it. while code-signing certificates can offer more security, they can also live an unintended secret life providing cover for attack groups, such as the suckfly apt group. in late 2015, symantec identified suspicious activity involving a hacking tool used in a malicious manner against one of our customers. normally, this is considered a low-level alert easily defeated by security software. in this case, however, the hacktool had an unusual characteristic not typically seen with this type of file; it was signed with a valid code-signing certificate. many hacktools are made for less than ethical purposes and are freely available, so this was an initial red flag, which led us to investigate further. as our investigation continued, we soon realized this was much larger than a few hacktools. we discovered suckfly, an advanced threat group, conducting targeted attacks using multiple stolen certificates, as well as hacktools and custom malware. the group had obtained the certificates through pre-attack operations before commencing targeted attacks against a number of government and commercial organizations spread across multiple continents over a two-year period. this type of activity and the malicious use of stolen certificates emphasizes the importance of safeguarding certificates to prevent them from being used maliciously. an appetite for stolen code-signing certificates\\nsuckfly has a number of hacktools and malware varieties at its disposal. figure 1 identifies the malware and tools based on functionality and the number of signed files with unique hashes associated with them. the first signed hacktool we identified in late 2015 was a digitally signed brute-force server message block (smb) scanner. the organization associated with this certificate is a south korean mobile software developer. while we became initially curious because the hacktool was signed, we became more suspicious when we realized a mobile software developer had signed it, since this is not the type of software typically associated with a mobile application. based on this discovery, we began to look for other binaries signed with the south korean mobile software developer's certificate. this led to the discovery of three additional hacktools also signed using this certificate. in addition to being signed with a stolen certificate, the identified hacktools had been used in suspicious activity against a us-based health provider operating in india. this evidence indicates that the certificate s rightful owner either misused it or it had been stolen from them. symantec worked with the certificate owner to confirm that the hacktool was not associated with them. following the trail further, we traced malicious traffic back to where it originated from and looked for additional evidence to indicate that the attacker persistently used the same infrastructure. we discovered the activity originated from three separate ip addresses, all located in chengdu, china. in addition to the traffic originating from chengdu, we identified a selection of hacktools and malware signed using nine stolen certificates. the nine stolen certificates originated from nine different companies who are physically located close together around the central districts of seoul, south korea. figure 2 shows the region in which the companies are located. while we do not know the exact circumstances of how the certificates were stolen, the most likely scenario was that the companies were breached with malware that had the ability to search for and extract certificates from within the organization. we have seen this capability built into a wide range of threats for a number of years now. the organizations who owned the stolen certificates were from four industries (see figure 3). a timeline of misuse\\nwe don't know the exact date suckfly stole the certificates from the south korean organizations. however, by analyzing the dates when we first saw the certificates paired with hacktools or malware, we can gain insight into when the certificates may have been stolen. figure 4 details how many times each stolen certificate was used in a given month. the first sighting of three of the nine stolen certificates being used maliciously occurred in early 2014. those three certificates were the only ones used in 2014, making it likely that the other six were not compromised until 2015. all nine certificates were used maliciously in 2015. based on the data in figure 4, the first certificates used belonged to company a (educational software developer) and company b (video game developer #2). company a's certificate was used for over a year, from april 2014 until june 2015 and company b's certificate was used for almost a year, from july 2014 until june 2015. when we discovered this activity, neither company was aware that their certificates had been stolen or how they were being used. since the companies were unaware of the activity, neither stolen certificate had been revoked. when a certificate is revoked, the computer displays a window explaining that the certificate cannot be verified and should not be trusted before asking the user if they want to continue with the installation. signed, sealed, and delivered\\nas noted earlier, the stolen certificates symantec identified in this investigation were used to sign both hacking tools and malware. further analysis of the malware identified what looks like a custom back door. we believe suckfly specifically developed the back door for use in cyberespionage campaigns. symantec detects this threat as backdoor.nidiran. analysis of nidiran samples determined that the back door had been updated three times since early 2014, which fits the timeline outlined in figure 4. the modifications were minor and likely performed to add capabilities and avoid detection. while the malware is custom, it only provides the attackers with standard back door capabilities. suckfly delivered nidiran through a strategic web compromise. specifically, the threat group used a specially crafted web page to deliver an exploit for the microsoft windows ole remote code execution vulnerability (cve-2014-6332), which affects specific versions of microsoft windows. this exploit is triggered when a potential victim browses to a malicious page using internet explorer, which can allow the attacker to execute code with the same privileges as the currently logged-in user. once exploit has been achieved, nidiran is delivered through a self-extracting executable that extracts the components to a .tmp folder after it has been executed. the threat then executes , a pe file, which is actually a clean tool known as . the executable will then load , which is normally a clean, legitimate file. attackers have been known to distribute malicious files masquerading as the legitimate file and then use dll load hijacking to execute the malicious code and infect the computer. this technique is associated with the korplug/plug-x malware and is frequently used in china-based cyberespionage activity. high demand for code-signing certificates\\nsuckfly isn t the only attack group to use certificates to sign malware but they may be the most prolific collectors of them. after all, stuxnet, widely regarded as the world s first known cyberweapon, was signed using stolen certificates from companies based in taiwan with dates much earlier than suckfly. other cyberespionage groups, including black vine and hidden lynx, have also used stolen certificates in their campaigns. in april 2013, a third-party vendor published a report about a cyberespionage group using custom malware and stolen certificates in their operations. the report documented an advanced threat group they attributed to china. symantec tracks the group behind this activity as blackfly and detects the malware they use as backdoor.winnti. the blackfly attacks share some similarities with the more recent suckfly attacks. blackfly began with a campaign to steal certificates, which were later used to sign malware used in targeted attacks. the certificates blackfly stole were also from south korean companies, primarily in the video game and software development industry. another similarity is that suckfly stole a certificate from company d (see figure 4) less than two years after blackfly had stolen a certificate from the same company. while the stolen certificates were different, and stolen in separate instances, they were both used with custom malware in targeted attacks originating from china. why do attackers want signed malware?\\nsigning malware with code-signing certificates is becoming more common, as seen in this investigation and the other attacks we have discussed. attackers are taking the time and effort to steal certificates because it is becoming necessary to gain a foothold on a targeted computer. attempts to sign malware with code-signing certificates have become more common as the internet and security systems have moved towards a more trust and reputation oriented model. this means that untrusted software may not be allowed to run unless it is signed. as we noted in our previous research on the apple threat landscape, some operating systems, such as mac os x, are configured by default to only allow applications to run if they have been signed with a valid certificate, meaning they are trusted. however, using valid code-signing certificates stolen from organizations with a positive reputation can allow attackers to piggyback on that company s trust, making it easier to slip by these defenses and gain access to targeted computers. conclusion\\nsuckfly paints a stark picture of where cyberattack groups and cybercriminals are focusing their attentions. our investigation shines a light on an often unknown and seedier secret life of code-signing certificates, which is completely unknown to their owners. the implications of this study shows that certificate owners need to keep a careful eye on them to prevent them from falling into the wrong hands. it is important to give certificates the protection they need so they can't be used maliciously. the certificates are only as secure as the safeguards that organizations put around them. once a certificate has been compromised, so has the reputation of the organization who signed it. an organization whose certificate has been stolen and used to sign malware will always be associated with that activity. symantec monitors for this type of activity to help prevent organizations from being tied to malicious actions undertaken with their stolen certificates. during the course of this investigation, we ensured that all certificates compromised by suckfly were revoked and the affected companies notified. over the past few years, we have seen a number of advanced threats and cybercrime groups who have stolen code-signing certificates. in all of the cases involving an advanced threat, the certificates were used to disguise malware as a legitimate file or application. as this trend grows, it is more important than ever for organizations to maintain strong cybersecurity practices and store their certificates and corresponding keys in a secure environment. using encryption, and services such as symantec s extended validation (ev) code signing, and symantec s secure app service can provide additional layers of security.\\n\"\n",
            "Label : 10 (Winnti)\n",
            "Report: b'introduction\\nin may 2014 fireeye[1]and crowdstrike[2] produced reports about the activities of flying kitten , otherwise known as the ajax security team. in july 2014 ncc group s cyber defence operations team encountered several executables in our malware zoo that appear to be updated versions of the stealer malware reported by fireeye in their report. we refer to this version as sayad , which means hunter in farsi, due to the presence of this string in the executables. functionality remains consistent with older versions but with the addition of new communication modules, including the functionality to exfiltrate data using http post requests. in this blog post we discuss some of the key features of this malware. analysis\\nncc group analysed several binaries pulled from our malware zoo, the code was decompiled and compared to view changes between the binaries. the identified samples include both a dropper and the information stealer itself: binder - dropper\\nclient/sayad - information stealer\\nbinder\\nthe purpose of the binder is to drop a relevant version of the client dependant on the .net runtime version on the target machine. it also loads configuration data from the end of the executable using the function readextradatafromendofbuffer : this method for configuration data storage is different to previous versions of the malware which included it as a .net resource. configuration data is base64 encoded within an xml document and contains the following information: this configuration data is also hardcoded into the application code as a class named executableconfiginfo, although we have always observed this being nulled:\\nthe same configuration class is duplicated within the client component.client/sayad the client is written in a highly modular fashion in c#, with functions designed to steal information from a target microsoft windows host. the information it is destined to steal includes but is not limited to: web history (firefox, chrome, internet explorer, opera)\\nsystem information\\nfiles (this module isn t complete in the latest samples)\\nchat logs (google talk, pidgin, skype, yahoo messenger)\\nkey press via a key logger\\nvpn and ftp client information. (filezilla client and server, winscp)\\nremote desktop (rdp), ssh keys and passwords. (putty, proxifier, winvpn, ivpn)\\nsome of the modules are incomplete in the latest samples with skeleton code in place. there are also modules for uploading the data using http post requests, uploading files and to remove the malware from the target. as part of our analysis, changes to the source code were monitored; we observed multiple minor changes to various modules of the information stealer. the observed changes were largely the insertion of exception handling and debug information. we hypothesise that the author or authors are still in the process of development, testing and improving the code prior to its use in an active campaign. source code changes\\nbelow are some of the small changes observed to the malware over the course of a few days. due to the continual improvements and presence of hard coded file paths we assess that this is still in active development.\\ncorrelation with existing data on active campaigns\\nthe fireeye report refers to the pdb strings that were found embedded in the samples: ncc group located the following strings, which share the same pattern as those referenced by fireeye in the samples analysed: further, a pe resource section was located with the following details: again this corresponds with the artefacts referenced within the fireeye report. conclusion\\nit is sometimes possible to observe threat actors as they develop and improve their tools. this threat intelligence allows early creation of network or host indicators that facilitate detection of their usage within a corporate environment whilst also allowing insight into their development processes. the ncc group cyber defence operations team actively monitors known threats from a number of active groups in order to protect customer networks. for further information:'\n",
            "Label : 8 (RocketKitten)\n",
            "Report: b'morphisec lab fin7 dissected: hackers accelerate innovation\\nintroduction\\nlike clockwork, fin7 again unleashed a new attack able to bypass almost every security solution. the attack,\\nwhich took place between october 8 to 10, 2017, is yet another demonstration of the high-paced innovation by\\nthreat actors.\\nfin7 is one of today s most organized and sophisticated cybercrime groups, primarily known for targeting us\\nbusinesses to steal payment card data. they typically use clever, customized spear-phishing lures with\\nmalicious attachments. once an organization is infected, they move laterally across the network, using various\\nanti-forensic techniques to evade detection. the group is closely tied to the notorious carbanak gang,\\nresponsible for a slew of attacks against financial institutions, although so far evidence falls short of directly\\nequating the two.\\nover the past year, morphisec has been closely monitoring fin7 and their targets, publishing several analyses\\non methods used by this group. in june 2017 morphisec identified a highly sophisticated fileless attack\\ntargeting restaurants across the us, as discussed on morphisec s blog and in a post co-authored with cisco\\ntalos. the june campaign used a new stealer dll variant injected into malicious documents.\\nin this report we take a broader approach, describing in detail the rapid dynamic changes over the course of the\\nlast four months, including the recent october attack, which was first documented by researchers at icebrg. we\\nexamine each of the component modifications in the attack chains, and show how those changes helped fin7\\nevade the dynamic behavior patterns and static patterns applied by many security solutions.\\nin fact, a presentation on fin7 by fireeye at this year s infosecurity europe stated that in most environments,\\nprevention is not possible. the presenters, however, did not take into account the effectiveness of moving\\ntarget defense solutions (e.g. morphisec endpoint threat prevention solution) against these types of attacks. morphisec lab technical analysis\\ndocument structure rtf and docx format\\nwe start with the first obvious component the document structure. over the period of the last four months,\\nfin7 has used two types of word document formats: open xml format (.docx) and rich text format (.rtf).\\nboth document types contain the same embedded png object and a lnk file object that is executed by double\\nclicking the image.\\nwith the exception of the september documents, the rtf (rtf files could be also renamed to doc extensions)\\nfiles usually have the malicious code in plain text (fig. 1 below), and the docx files usually have the code in one\\nof the xml documents archived inside the docx files (fig. 2). during the same period, security solutions tried to create static patterns to help detect these malicious\\ndocuments. those patterns were based on some of the following observations: names of methods or variables\\norder of bytes or strings\\ncode introspection by simulated interpreter execution (needs valid rtf parser)\\ndecode of base64 strings and deeper examination of the code after the decoding\\nbyte pattern detection for some unicode and ascii strings that are represented in hex pattern (code that is\\nwithin the lnk file will usually be represented unicode to hex) is this enough to combat fin7? a look at virus total scoring reveals that when a fin7 campaign is first active, is\\ngoes mostly undetected by security solutions. the malicious documents do not score more than 1-3 detections.\\nwithin a couple of days, security solutions update their patterns and those documents score around 10/56 or\\nhigher. however, at the same time, the fin7 group begins shutting down that campaign and starts work on the\\nnext one, thereby diminishing the usefulness of reactive, pattern-based detection rules for such attacks.\\nthere are many ways to break string and byte patterns inside the document structure. for example, for rtf\\ndocuments there are inserting dummy control words, spaces, messing up the encoding, and abusing the standard by breaking av document parsers. during the latest fin7 campaigns, the hacker group broke almost\\nevery above-mentioned detection method as described next. july the group evaded string-based pattern detection, especially the patterns which are based on\\nmethod names and parameter names. most likely those names are automatically re-obfuscated using\\nsome framework before every campaign.\\naugust in order to evade base64 automatic decoding rules and code introspection implemented by\\nsecurity solutions, the fin7 injected dummy control words within and between the different strings\\nincluding the base64 strings. a control word is a specially formatted command that rtf uses to mark\\nprinter control codes or information that applications use to manage documents. this broke the validity\\nof the strings if parsing the strings sequentially. rtf standard allows the use of control words which are\\nnot recognized by some parsers (to support backward compatibility), the scopes represented by the\\ncontrol words are stacked and if the control word is not recognized, the scope is popped out of the\\nstack. as a result, the attack successfully executed by any standard microsoft word parser but evaded\\nthe known static introspection by antivirus parsers. september the group evaded most of the static patterns rules by simply converting all human\\nreadable code into hex representation (moving the malicious code to the internals of the lnk file object\\nand breaking previous string matching patterns). this kind of manipulation hold still further options for\\nthe attackers; they easily can change their encoding to any other form, such a binary for example. in addition, the hackers also moved the code between some of the internal documents in docx format, from to . october the group replaced the lnk file with a simple cmd batch file embedded as ole object inside\\nthe doc file (represented as hex string). stage 1: lnk file ole object\\nexcept for the october campaign, ole .lnk file execution from word documents was used during all fin7\\ncampaigns in the past year and is one of the most tell-tale fin7 signatures. this is why many of the security\\nsolutions focus on detecting the .lnk file execution from within word either statically or dynamically. at the same\\ntime, they try to limit false positives as there are some legitimate examples for such execution flow (e.g.\\ncombining identification of lnk file code content in hex to unicode representation, lnk file details, names and\\nsizes can limit the false positive rate).\\nthe table below presents examples of fin7 s pattern modification during the period of the last 4 months and\\nthe october campaign. it demonstrates how this hacker group is able to easily bypass all current behavior and\\npattern recognition defenses.\\ncampaign\\ntime\\nmiddle\\njune lnk file properties code content\\nstatic approach\\nlnk file execution from within word documents can be easily identified statically within many of the document\\nformats. rtf standard for embedded objects will require it to be prefixed with \"\\\\objdata\"; it may also be\\nfollowed by an encoding indicator like \"\\\\bin\"). the .lnk file content is also part of the embedded object and\\nusually represented in unicode translated to hex encoding (or other encoding, e.g. binary). the same object\\nalso includes the original lnk full path name represented in ascii and translated to hex. any of the lnk file\\nindicators (e.g. content, name, location) can be used in static pattern detection (e.g. using yara rules). although\\nthose detection methods are implemented by many solutions, they are very easy to bypass. and, as these\\ntargeted campaigns usually have a very short time exposure, these types of rules are not fit to prevent any\\nfuture unknown campaigns. dynamic approach\\nsome security solutions try to detect and prevent the execution of suspicious process chain patterns\\ndynamically (e.g. -> -> ). some of the algorithms extract\\nthe properties code content out of the lnk file and block the execution of word even before the child process\\nexecution simply by inspection of the lnk file content. other mechanisms block the execution of the process\\nchain in runtime, usually using some sort of driver that is registered for process notification callbacks and\\nblocks the process create as soon as a process chains matches one of the malicious patterns. some of the\\nnextgen solutions use ai models, however these are trained on the same prior known process chain patterns\\nand therefore are prone to the same bypasses as others. moreover, ai are especially prone to producing many\\nfalse positives.\\nas shown in the table above, the attackers change and modify their process chain patterns constantly, and\\nmight use more advanced techniques (e.g. to simulate the execution of or other processes\\nof those security patterns.\\nlnk file file details / batch file details\\nas mentioned previously, some security solutions also use lnk file details to minimize the exposure to false\\npositives. some of those details, which appear in hex format inside the rtf or docx files, are: in some cases, even the office version on the attacker s computer can be registered in the lnk file and used\\nfor detection\\nlnk file size (in fin7 campaigns the size can be up to more than 400k, since it also includes the next stage\\ncode. the usual size is not more than 4k.]\\nand more although some of those parameters haven\\'t changed much between the campaigns, it is fairly easy to modify\\nany patterns that are based on the lnk file details. as mentioned earlier, fin7 removed lnk file from the attack chain in their october 8-10 campaign and instead\\nadded a direct cmd batch file with clear commands. in this case, we can still identify the user machine using\\nthe details of the embedded batch objects: stage 2 ole automation\\nthe second stage of malicious code extraction and execution is performed by the code written inside the lnk\\nfile properties content as described in the previous section. the process chain executed from lnk contents as\\ndescribed in stage 1 will eventually extract the next stage malicious javascript code from the active word\\nprocess (sometimes vbscript as well). the hacker uses ole automation to extract and execute the malicious\\ncode from the shape.textframe.text property that resides within the active word process.\\nthe obvious exclusion from this pattern is found in the latest two campaigns (september and october).\\nhere the hackers removed the stage of reading the code from active documents and directly injected most\\nof the code as part of the lnk file details or as part of a batch file. in the case of the september campaign,\\nthe code is extracted from the internals of the lnk file details after tracking the special cookie indicator\\n(:\\\\\"@#[0-9]#@\\\\\" ) inside file content (stage 1). in the october campaign the code is activated directly from\\nembedded batch script which writes the next stage into a file and then executes it.\\nshape.textframe.text\\nin most cases shape.textframe.text property contains the malicious next stage javascript/vbscript code. the\\ncode is part of the shape objects inside the active document. extracting such code for pattern matching can be\\neasily done dynamically using the same ole automation methods or statically by having good rtf or docx\\nparser. (it can be assumed, that many modern security detection solutions have such functionality.)\\nthe table below clearly shows how the attackers gradually modified this second stage code chain extraction\\nand execution to evade static and dynamic analysis (until they finally removed it altogether): initially, the hackers wrote the code in clear text directly as part of shape 1. this can be easily parsed by static\\nsecurity solutions. as this early version wasn t evasive enough, fin7 included an abort operation if kaspersky\\nprocesses were found. in later campaigns from june and july they modified the shape number (to evade the\\nsimple pattern of executing activedocument.shape[0].textframe.text in word document from within\\njavascript). next, they also added techniques that would confuse dynamic analyzers (overriding console\\nfunction and messing with the control flow). in their august campaign they added one more stage in between\\nand moved the malicious code into shape 3 after redirecting shape 2 to it (as shown in the table above).\\nas stated previously, in latest campaigns this stage was removed and the code was extracted and executed directly\\nfrom within the lnk file content or the batch file content.\\nsince there are many ways to break behavior patterns recognition or the static analysis based on the shape\\nexecution source and sequence, this is a very weak basis for detection of this type of malicious behavior.\\nwe suspect the hackers may use additional ways to extract and execute the code: using other document properties (already used in later stages of the attack) using inlineshapes instead of regular shapes\\nusing excel and its activesheet\\nextracting the text using oleobjects in vb\\nadding more shapes in the sequence\\nread the code directly from lnk or png files (specially the png)\\nand more as mentioned before, the rapid changes in this stage leave most detection solutions a few steps behind, which\\nis just enough to reach the target of the campaign. stage 3 scheduled tasks\\nwe will not cover the internals of the scheduled tasks since, other than the time trigger, they have not changed\\nmuch over the last several campaigns. morphisec lab\\nstage 4 network based detection evasion\\nas described in the previous sections, many of the malicious code signatures and patterns can be easily\\nmodified by hackers or even by automatic frameworks that have the ability to reorder, obfuscate and encode\\ncode. by contrast, c&c protocol modification requires significantly more effort and resources. many of today s\\nsecurity solutions (av/ngav) will usually have at least one network host intrusion detection module (ids).\\nthose modules might detect suspicious traffic with ids rules that are created based on some of the following\\nparameters: ip/url reputation\\nurl and header structures (parameters, ports)\\nprotocol communication sequence and timing patterns (query and query type sequence)\\ndeep packet inspection\\npacket sizes\\nanomaly and deviation from other computers network behavior within the enterprise (less relevant for apt,\\nmore relevant for bots) although fin7 successfully evades some of the above ids-based rules, some relatively basic rules can certainly\\nlimit the risk of being compromised by these threat actors. this is described next.\\nc&c\\nwith respect to c&c, ip reputation and url structure, the fin7 protocol doesn t differ much from many other\\nprotocols used by some of the most popular rat families protocols.\\nit is known that ports 80 and 443 are often utilized by rats for their communication protocol, simply because\\nthose ports are usually not filtered by firewalls. fin7 certainly uses those ports, but the group also uses google\\napi urls which are rarely filtered by gateways and other ports as well.\\nthe hackers are not using real https protocol over the port 443. instead they use substitution cypher with a\\nconstantly changing key. although blocking non-https traffic on 443 or non-http traffic on 80 can certainly help,\\nthis results in many false positives. hackers are well aware of this fact.\\nthe table below represents the changes in the url sequence and structure modification (not including the\\nparameters) with each listed campaign.\\njune below are some of the patterns fin7 is modifying to evade many of the ids rules: throughout the latest campaigns, all hardcoded urls are inside a comment within the malicious code.\\nthe code extracts the urls in runtime from the comments.\\nevery query is executed against a sequence of urls, until the first successful response is received. this\\nresponse ends the execution of the sequence and as a result the attacker can control the sequence\\nlength directly from the c&c server. this enables the attackers to mess up the sequence and reputation\\nbased detection patterns.\\nto break header structure matching, for each query, the url is appended with random named\\nparameters + encoded values which are encrypted in each campaign with a different substitution cypher\\nand a unique campaign key. to break deep packet inspection, each piece of information posted to the c&c is encoded with substitution\\ncypher as well. the \"alfout\" hardcoded variable is the substitution key that is modified with each campaign, notice also\\nthat some of the url parameters are seeded with the day of the attack (\"com_pref\"): the hackers add additional information that is sent to the c&c. this breaks some ids rules that are based\\npartially on the size of the packets or/and on the entropy. more recent campaigns also added the support of proxies on the endpoint again, we see that fin7 constantly modifies its patterns. this keeps them a few steps ahead of defenders that\\nuse pattern recognition on the network protocol. eventually the attack will get through the network defenses to\\nthe endpoint unless harsh steps e.g. network isolation, full deep packet inspection, forced filtering, etc. - are\\nfully implemented. such steps of course come at the price of business and operation disruption. stage 5 - powershell reflective dll injection\\nthe final component for this report is the powershell script that is extracted and executed from disk. this\\ncomponent contains a reflective loader for an embedded dll directly into the process memory. the dll and\\nthe framework is covered in detail in the cisco talos -morphisec co-authored post fin7 group uses javascript\\nand stealer dll variant in new attacks .\\nthis framework and dll haven\\'t changed through all of the fin7 campaigns analyzed over the past couple of\\nmonths (the attack looked at in our june blog used a different powershell component dns message loader).\\nfin7 added several obstacles to evade detection-based security solutions at this stage:\\nmid-july\\nthe powershell framework was first added to the campaign, mainly based on the powersploit reflective\\ninjection, with the info stealer dll embedded as a base64 string.\\nsome security solutions recognized the high similarity to the original pe reflective loader and flagged it as\\nsuspicious as soon as the file is written to disk: writing and executing the file from disk: august\\nin order to set higher barrier for the security solutions, the group added one more encoding level that is decoded\\ndirectly into memory of the process by using deflatestream compression stream. following that, some security solutions created static scanning rules for powershell scripts that are written to\\ndisk. these rules are matched against the base64 encoded string parts that represent the original pe reflective\\nloader script.\\nseptember\\nduring the september campaign fin7 tried to evade the previously created static rules by modifying the base64\\nstring parts by increasing the length of each part and reducing the number of the string components, and\\neventually rebuilding it in runtime. the group also abused the fact that it can increase the length of the string as\\nlong as it extracts only a fixed number of bytes out of it (63149 bytes). october\\nsometimes reducing complexity is beneficial. during the october campaign the fin7 group removed the\\ncomments obstacle and flattened the strings to a single string that, when decompressed, results in the original\\nstealer dll. halfbaked backdoor\\npowershell is only a single backdoor command that is part of the halfbaked malware delivered by the fin7\\nattack. additional backdoor commands are described in this fireeye blog.\\nin the october campaign a new command - \"getnk2\" - was introduced. this command enables the exfiltration of\\ninformation from the outlook client (for more see icebrg research). conclusions:\\nat the heart of fin7 s business model are constant upgrades of their attacks and evasion techniques to bypass\\nstatic, dynamic and behavior based solutions. as shown in this study, every campaign includes enough new\\nfeatures to make them unknowable to these solutions.\\nand as security vendors scramble to catch up, fin7 is already preparing its next attack.\\nthe only answer to these kinds of constantly evolving threats is a security solution that does not require prior\\nknowledge about the attack to prevent it. morphisec s breakthrough moving target defense technology does\\nnot rely on signatures, patterns, behaviors or classifications. morphisec stopped all of these fin7 attacks as\\nthey emerged. '\n",
            "Label : 5 (FIN7)\n"
          ]
        }
      ],
      "source": [
        "for text_batch, label_batch in train_ds.take(1):\n",
        "  for i in range(3):\n",
        "    print(f'Report: {text_batch.numpy()[i]}')\n",
        "    label = label_batch.numpy()[i]\n",
        "    print(f'Label : {label} ({class_names[label]})')"
      ]
    },
    {
      "cell_type": "markdown",
      "metadata": {
        "id": "dX8FtlpGJRE6"
      },
      "source": [
        "## Loading models from TensorFlow Hub\n",
        "\n",
        "Here you can choose which BERT model you will load from TensorFlow Hub and fine-tune. There are multiple BERT models available.\n",
        "\n",
        "  - [BERT-Base](https://tfhub.dev/tensorflow/bert_en_uncased_L-12_H-768_A-12/3), [Uncased](https://tfhub.dev/tensorflow/bert_en_uncased_L-12_H-768_A-12/3) and [seven more models](https://tfhub.dev/google/collections/bert/1) with trained weights released by the original BERT authors.\n",
        "  - [Small BERTs](https://tfhub.dev/google/collections/bert/1) have the same general architecture but fewer and/or smaller Transformer blocks, which **lets** you explore tradeoffs between speed, size and quality.\n",
        "  - [ALBERT](https://tfhub.dev/google/collections/albert/1): four different sizes of \"A Lite BERT\" that reduces model size (but not computation time) by sharing parameters between layers.\n",
        "  - [BERT Experts](https://tfhub.dev/google/collections/experts/bert/1): eight models that all have the BERT-base architecture but offer a choice between different pre-training domains, to align more closely with the target task.\n",
        "  - [Electra](https://tfhub.dev/google/collections/electra/1) has the same architecture as BERT (in three different sizes), but gets pre-trained as a discriminator in a set-up that resembles a Generative Adversarial Network (GAN).\n",
        "  - BERT with Talking-Heads Attention and Gated GELU [[base](https://tfhub.dev/tensorflow/talkheads_ggelu_bert_en_base/1), [large](https://tfhub.dev/tensorflow/talkheads_ggelu_bert_en_large/1)] has two improvements to the core of the Transformer architecture.\n",
        "\n",
        "The model documentation on TensorFlow Hub has more details and references to the\n",
        "research literature. Follow the links above, or click on the [`tfhub.dev`](http://tfhub.dev) URL\n",
        "printed after the next cell execution.\n",
        "\n",
        "The suggestion is to start with a Small BERT (with fewer parameters) since they are faster to fine-tune. If you like a small model but with higher accuracy, ALBERT might be your next option. If you want even better accuracy, choose\n",
        "one of the classic BERT sizes or their recent refinements like Electra, Talking Heads, or a BERT Expert.\n",
        "\n",
        "Aside from the models available below, there are [multiple versions](https://tfhub.dev/google/collections/transformer_encoders_text/1) of the models that are larger and can yield even better accuracy, but they are too big to be fine-tuned on a single GPU. You will be able to do that on the [Solve GLUE tasks using BERT on a TPU colab](https://www.tensorflow.org/text/tutorials/bert_glue).\n",
        "\n",
        "You'll see in the code below that switching the tfhub.dev URL is enough to try any of these models, because all the differences between them are encapsulated in the SavedModels from TF Hub."
      ]
    },
    {
      "cell_type": "code",
      "execution_count": 8,
      "metadata": {
        "id": "y8_ctG55-uTX",
        "colab": {
          "base_uri": "https://localhost:8080/"
        },
        "outputId": "6fa3a16e-5511-4115-b0f9-3dc3cdeb61a9"
      },
      "outputs": [
        {
          "output_type": "stream",
          "name": "stdout",
          "text": [
            "BERT model selected           : https://tfhub.dev/tensorflow/bert_multi_cased_L-12_H-768_A-12/3\n",
            "Preprocess model auto-selected: https://tfhub.dev/tensorflow/bert_multi_cased_preprocess/3\n"
          ]
        }
      ],
      "source": [
        "#@title Choose a BERT model to fine-tune\n",
        "\n",
        "bert_model_name = 'bert_multi_cased_L-12_H-768_A-12'  #@param [\"bert_en_uncased_L-12_H-768_A-12\", \"bert_en_cased_L-12_H-768_A-12\", \"bert_multi_cased_L-12_H-768_A-12\", \"small_bert/bert_en_uncased_L-2_H-128_A-2\", \"small_bert/bert_en_uncased_L-2_H-256_A-4\", \"small_bert/bert_en_uncased_L-2_H-512_A-8\", \"small_bert/bert_en_uncased_L-2_H-768_A-12\", \"small_bert/bert_en_uncased_L-4_H-128_A-2\", \"small_bert/bert_en_uncased_L-4_H-256_A-4\", \"small_bert/bert_en_uncased_L-4_H-512_A-8\", \"small_bert/bert_en_uncased_L-4_H-768_A-12\", \"small_bert/bert_en_uncased_L-6_H-128_A-2\", \"small_bert/bert_en_uncased_L-6_H-256_A-4\", \"small_bert/bert_en_uncased_L-6_H-512_A-8\", \"small_bert/bert_en_uncased_L-6_H-768_A-12\", \"small_bert/bert_en_uncased_L-8_H-128_A-2\", \"small_bert/bert_en_uncased_L-8_H-256_A-4\", \"small_bert/bert_en_uncased_L-8_H-512_A-8\", \"small_bert/bert_en_uncased_L-8_H-768_A-12\", \"small_bert/bert_en_uncased_L-10_H-128_A-2\", \"small_bert/bert_en_uncased_L-10_H-256_A-4\", \"small_bert/bert_en_uncased_L-10_H-512_A-8\", \"small_bert/bert_en_uncased_L-10_H-768_A-12\", \"small_bert/bert_en_uncased_L-12_H-128_A-2\", \"small_bert/bert_en_uncased_L-12_H-256_A-4\", \"small_bert/bert_en_uncased_L-12_H-512_A-8\", \"small_bert/bert_en_uncased_L-12_H-768_A-12\", \"albert_en_base\", \"electra_small\", \"electra_base\", \"experts_pubmed\", \"experts_wiki_books\", \"talking-heads_base\"]\n",
        "\n",
        "map_name_to_handle = {\n",
        "    'bert_en_uncased_L-12_H-768_A-12':\n",
        "        'https://tfhub.dev/tensorflow/bert_en_uncased_L-12_H-768_A-12/3',\n",
        "    'bert_en_cased_L-12_H-768_A-12':\n",
        "        'https://tfhub.dev/tensorflow/bert_en_cased_L-12_H-768_A-12/3',\n",
        "    'bert_multi_cased_L-12_H-768_A-12':\n",
        "        'https://tfhub.dev/tensorflow/bert_multi_cased_L-12_H-768_A-12/3',\n",
        "    'small_bert/bert_en_uncased_L-2_H-128_A-2':\n",
        "        'https://tfhub.dev/tensorflow/small_bert/bert_en_uncased_L-2_H-128_A-2/1',\n",
        "    'small_bert/bert_en_uncased_L-2_H-256_A-4':\n",
        "        'https://tfhub.dev/tensorflow/small_bert/bert_en_uncased_L-2_H-256_A-4/1',\n",
        "    'small_bert/bert_en_uncased_L-2_H-512_A-8':\n",
        "        'https://tfhub.dev/tensorflow/small_bert/bert_en_uncased_L-2_H-512_A-8/1',\n",
        "    'small_bert/bert_en_uncased_L-2_H-768_A-12':\n",
        "        'https://tfhub.dev/tensorflow/small_bert/bert_en_uncased_L-2_H-768_A-12/1',\n",
        "    'small_bert/bert_en_uncased_L-4_H-128_A-2':\n",
        "        'https://tfhub.dev/tensorflow/small_bert/bert_en_uncased_L-4_H-128_A-2/1',\n",
        "    'small_bert/bert_en_uncased_L-4_H-256_A-4':\n",
        "        'https://tfhub.dev/tensorflow/small_bert/bert_en_uncased_L-4_H-256_A-4/1',\n",
        "    'small_bert/bert_en_uncased_L-4_H-512_A-8':\n",
        "        'https://tfhub.dev/tensorflow/small_bert/bert_en_uncased_L-4_H-512_A-8/1',\n",
        "    'small_bert/bert_en_uncased_L-4_H-768_A-12':\n",
        "        'https://tfhub.dev/tensorflow/small_bert/bert_en_uncased_L-4_H-768_A-12/1',\n",
        "    'small_bert/bert_en_uncased_L-6_H-128_A-2':\n",
        "        'https://tfhub.dev/tensorflow/small_bert/bert_en_uncased_L-6_H-128_A-2/1',\n",
        "    'small_bert/bert_en_uncased_L-6_H-256_A-4':\n",
        "        'https://tfhub.dev/tensorflow/small_bert/bert_en_uncased_L-6_H-256_A-4/1',\n",
        "    'small_bert/bert_en_uncased_L-6_H-512_A-8':\n",
        "        'https://tfhub.dev/tensorflow/small_bert/bert_en_uncased_L-6_H-512_A-8/1',\n",
        "    'small_bert/bert_en_uncased_L-6_H-768_A-12':\n",
        "        'https://tfhub.dev/tensorflow/small_bert/bert_en_uncased_L-6_H-768_A-12/1',\n",
        "    'small_bert/bert_en_uncased_L-8_H-128_A-2':\n",
        "        'https://tfhub.dev/tensorflow/small_bert/bert_en_uncased_L-8_H-128_A-2/1',\n",
        "    'small_bert/bert_en_uncased_L-8_H-256_A-4':\n",
        "        'https://tfhub.dev/tensorflow/small_bert/bert_en_uncased_L-8_H-256_A-4/1',\n",
        "    'small_bert/bert_en_uncased_L-8_H-512_A-8':\n",
        "        'https://tfhub.dev/tensorflow/small_bert/bert_en_uncased_L-8_H-512_A-8/1',\n",
        "    'small_bert/bert_en_uncased_L-8_H-768_A-12':\n",
        "        'https://tfhub.dev/tensorflow/small_bert/bert_en_uncased_L-8_H-768_A-12/1',\n",
        "    'small_bert/bert_en_uncased_L-10_H-128_A-2':\n",
        "        'https://tfhub.dev/tensorflow/small_bert/bert_en_uncased_L-10_H-128_A-2/1',\n",
        "    'small_bert/bert_en_uncased_L-10_H-256_A-4':\n",
        "        'https://tfhub.dev/tensorflow/small_bert/bert_en_uncased_L-10_H-256_A-4/1',\n",
        "    'small_bert/bert_en_uncased_L-10_H-512_A-8':\n",
        "        'https://tfhub.dev/tensorflow/small_bert/bert_en_uncased_L-10_H-512_A-8/1',\n",
        "    'small_bert/bert_en_uncased_L-10_H-768_A-12':\n",
        "        'https://tfhub.dev/tensorflow/small_bert/bert_en_uncased_L-10_H-768_A-12/1',\n",
        "    'small_bert/bert_en_uncased_L-12_H-128_A-2':\n",
        "        'https://tfhub.dev/tensorflow/small_bert/bert_en_uncased_L-12_H-128_A-2/1',\n",
        "    'small_bert/bert_en_uncased_L-12_H-256_A-4':\n",
        "        'https://tfhub.dev/tensorflow/small_bert/bert_en_uncased_L-12_H-256_A-4/1',\n",
        "    'small_bert/bert_en_uncased_L-12_H-512_A-8':\n",
        "        'https://tfhub.dev/tensorflow/small_bert/bert_en_uncased_L-12_H-512_A-8/1',\n",
        "    'small_bert/bert_en_uncased_L-12_H-768_A-12':\n",
        "        'https://tfhub.dev/tensorflow/small_bert/bert_en_uncased_L-12_H-768_A-12/1',\n",
        "    'albert_en_base':\n",
        "        'https://tfhub.dev/tensorflow/albert_en_base/2',\n",
        "    'electra_small':\n",
        "        'https://tfhub.dev/google/electra_small/2',\n",
        "    'electra_base':\n",
        "        'https://tfhub.dev/google/electra_base/2',\n",
        "    'experts_pubmed':\n",
        "        'https://tfhub.dev/google/experts/bert/pubmed/2',\n",
        "    'experts_wiki_books':\n",
        "        'https://tfhub.dev/google/experts/bert/wiki_books/2',\n",
        "    'talking-heads_base':\n",
        "        'https://tfhub.dev/tensorflow/talkheads_ggelu_bert_en_base/1',\n",
        "}\n",
        "\n",
        "map_model_to_preprocess = {\n",
        "    'bert_en_uncased_L-12_H-768_A-12':\n",
        "        'https://tfhub.dev/tensorflow/bert_en_uncased_preprocess/3',\n",
        "    'bert_en_cased_L-12_H-768_A-12':\n",
        "        'https://tfhub.dev/tensorflow/bert_en_cased_preprocess/3',\n",
        "    'small_bert/bert_en_uncased_L-2_H-128_A-2':\n",
        "        'https://tfhub.dev/tensorflow/bert_en_uncased_preprocess/3',\n",
        "    'small_bert/bert_en_uncased_L-2_H-256_A-4':\n",
        "        'https://tfhub.dev/tensorflow/bert_en_uncased_preprocess/3',\n",
        "    'small_bert/bert_en_uncased_L-2_H-512_A-8':\n",
        "        'https://tfhub.dev/tensorflow/bert_en_uncased_preprocess/3',\n",
        "    'small_bert/bert_en_uncased_L-2_H-768_A-12':\n",
        "        'https://tfhub.dev/tensorflow/bert_en_uncased_preprocess/3',\n",
        "    'small_bert/bert_en_uncased_L-4_H-128_A-2':\n",
        "        'https://tfhub.dev/tensorflow/bert_en_uncased_preprocess/3',\n",
        "    'small_bert/bert_en_uncased_L-4_H-256_A-4':\n",
        "        'https://tfhub.dev/tensorflow/bert_en_uncased_preprocess/3',\n",
        "    'small_bert/bert_en_uncased_L-4_H-512_A-8':\n",
        "        'https://tfhub.dev/tensorflow/bert_en_uncased_preprocess/3',\n",
        "    'small_bert/bert_en_uncased_L-4_H-768_A-12':\n",
        "        'https://tfhub.dev/tensorflow/bert_en_uncased_preprocess/3',\n",
        "    'small_bert/bert_en_uncased_L-6_H-128_A-2':\n",
        "        'https://tfhub.dev/tensorflow/bert_en_uncased_preprocess/3',\n",
        "    'small_bert/bert_en_uncased_L-6_H-256_A-4':\n",
        "        'https://tfhub.dev/tensorflow/bert_en_uncased_preprocess/3',\n",
        "    'small_bert/bert_en_uncased_L-6_H-512_A-8':\n",
        "        'https://tfhub.dev/tensorflow/bert_en_uncased_preprocess/3',\n",
        "    'small_bert/bert_en_uncased_L-6_H-768_A-12':\n",
        "        'https://tfhub.dev/tensorflow/bert_en_uncased_preprocess/3',\n",
        "    'small_bert/bert_en_uncased_L-8_H-128_A-2':\n",
        "        'https://tfhub.dev/tensorflow/bert_en_uncased_preprocess/3',\n",
        "    'small_bert/bert_en_uncased_L-8_H-256_A-4':\n",
        "        'https://tfhub.dev/tensorflow/bert_en_uncased_preprocess/3',\n",
        "    'small_bert/bert_en_uncased_L-8_H-512_A-8':\n",
        "        'https://tfhub.dev/tensorflow/bert_en_uncased_preprocess/3',\n",
        "    'small_bert/bert_en_uncased_L-8_H-768_A-12':\n",
        "        'https://tfhub.dev/tensorflow/bert_en_uncased_preprocess/3',\n",
        "    'small_bert/bert_en_uncased_L-10_H-128_A-2':\n",
        "        'https://tfhub.dev/tensorflow/bert_en_uncased_preprocess/3',\n",
        "    'small_bert/bert_en_uncased_L-10_H-256_A-4':\n",
        "        'https://tfhub.dev/tensorflow/bert_en_uncased_preprocess/3',\n",
        "    'small_bert/bert_en_uncased_L-10_H-512_A-8':\n",
        "        'https://tfhub.dev/tensorflow/bert_en_uncased_preprocess/3',\n",
        "    'small_bert/bert_en_uncased_L-10_H-768_A-12':\n",
        "        'https://tfhub.dev/tensorflow/bert_en_uncased_preprocess/3',\n",
        "    'small_bert/bert_en_uncased_L-12_H-128_A-2':\n",
        "        'https://tfhub.dev/tensorflow/bert_en_uncased_preprocess/3',\n",
        "    'small_bert/bert_en_uncased_L-12_H-256_A-4':\n",
        "        'https://tfhub.dev/tensorflow/bert_en_uncased_preprocess/3',\n",
        "    'small_bert/bert_en_uncased_L-12_H-512_A-8':\n",
        "        'https://tfhub.dev/tensorflow/bert_en_uncased_preprocess/3',\n",
        "    'small_bert/bert_en_uncased_L-12_H-768_A-12':\n",
        "        'https://tfhub.dev/tensorflow/bert_en_uncased_preprocess/3',\n",
        "    'bert_multi_cased_L-12_H-768_A-12':\n",
        "        'https://tfhub.dev/tensorflow/bert_multi_cased_preprocess/3',\n",
        "    'albert_en_base':\n",
        "        'https://tfhub.dev/tensorflow/albert_en_preprocess/3',\n",
        "    'electra_small':\n",
        "        'https://tfhub.dev/tensorflow/bert_en_uncased_preprocess/3',\n",
        "    'electra_base':\n",
        "        'https://tfhub.dev/tensorflow/bert_en_uncased_preprocess/3',\n",
        "    'experts_pubmed':\n",
        "        'https://tfhub.dev/tensorflow/bert_en_uncased_preprocess/3',\n",
        "    'experts_wiki_books':\n",
        "        'https://tfhub.dev/tensorflow/bert_en_uncased_preprocess/3',\n",
        "    'talking-heads_base':\n",
        "        'https://tfhub.dev/tensorflow/bert_en_uncased_preprocess/3',\n",
        "}\n",
        "\n",
        "tfhub_handle_encoder = map_name_to_handle[bert_model_name]\n",
        "tfhub_handle_preprocess = map_model_to_preprocess[bert_model_name]\n",
        "\n",
        "print(f'BERT model selected           : {tfhub_handle_encoder}')\n",
        "print(f'Preprocess model auto-selected: {tfhub_handle_preprocess}')"
      ]
    },
    {
      "cell_type": "markdown",
      "metadata": {
        "id": "7WrcxxTRDdHi"
      },
      "source": [
        "## The preprocessing model\n",
        "\n",
        "Text inputs need to be transformed to numeric token ids and arranged in several Tensors before being input to BERT. TensorFlow Hub provides a matching preprocessing model for each of the BERT models discussed above, which implements this transformation using TF ops from the TF.text library. It is not necessary to run pure Python code outside your TensorFlow model to preprocess text.\n",
        "\n",
        "The preprocessing model must be the one referenced by the documentation of the BERT model, which you can read at the URL printed above. For BERT models from the drop-down above, the preprocessing model is selected automatically.\n",
        "\n",
        "Note: You will load the preprocessing model into a [hub.KerasLayer](https://www.tensorflow.org/hub/api_docs/python/hub/KerasLayer) to compose your fine-tuned model. This is the preferred API to load a TF2-style SavedModel from TF Hub into a Keras model."
      ]
    },
    {
      "cell_type": "code",
      "execution_count": 9,
      "metadata": {
        "id": "0SQi-jWd_jzq"
      },
      "outputs": [],
      "source": [
        "bert_preprocess_model = hub.KerasLayer(tfhub_handle_preprocess)"
      ]
    },
    {
      "cell_type": "markdown",
      "metadata": {
        "id": "x4naBiEE_cZX"
      },
      "source": [
        "Let's try the preprocessing model on some text and see the output:"
      ]
    },
    {
      "cell_type": "code",
      "execution_count": 10,
      "metadata": {
        "id": "r9-zCzJpnuwS",
        "colab": {
          "base_uri": "https://localhost:8080/"
        },
        "outputId": "c8a8c7e3-ea28-4408-9ce2-66a6306e6c93"
      },
      "outputs": [
        {
          "output_type": "stream",
          "name": "stdout",
          "text": [
            "Keys       : ['input_type_ids', 'input_word_ids', 'input_mask']\n",
            "Shape      : (1, 128)\n",
            "Word Ids   : [   101 104265  36854  10107  10301    169  41256  10114  10435  41536\n",
            "    102      0]\n",
            "Input Mask : [1 1 1 1 1 1 1 1 1 1 1 0]\n",
            "Type Ids   : [0 0 0 0 0 0 0 0 0 0 0 0]\n"
          ]
        }
      ],
      "source": [
        "text_test = [\"Cyber Attacks are a threat to all organisations\"]\n",
        "text_preprocessed = bert_preprocess_model(text_test)\n",
        "\n",
        "print(f'Keys       : {list(text_preprocessed.keys())}')\n",
        "print(f'Shape      : {text_preprocessed[\"input_word_ids\"].shape}')\n",
        "print(f'Word Ids   : {text_preprocessed[\"input_word_ids\"][0, :12]}')\n",
        "print(f'Input Mask : {text_preprocessed[\"input_mask\"][0, :12]}')\n",
        "print(f'Type Ids   : {text_preprocessed[\"input_type_ids\"][0, :12]}')"
      ]
    },
    {
      "cell_type": "markdown",
      "metadata": {
        "id": "EqL7ihkN_862"
      },
      "source": [
        "As you can see, now you have the 3 outputs from the preprocessing that a BERT model would use (`input_words_id`, `input_mask` and `input_type_ids`).\n",
        "\n",
        "Some other important points:\n",
        "- The input is truncated to 128 tokens. The number of tokens can be customized, and you can see more details on the [Solve GLUE tasks using BERT on a TPU colab](https://www.tensorflow.org/text/tutorials/bert_glue).\n",
        "- The `input_type_ids` only have one value (0) because this is a single sentence input. For a multiple sentence input, it would have one number for each input.\n",
        "\n",
        "Since this text preprocessor is a TensorFlow model, It can be included in your model directly."
      ]
    },
    {
      "cell_type": "markdown",
      "metadata": {
        "id": "DKnLPSEmtp9i"
      },
      "source": [
        "## Using the BERT model\n",
        "\n",
        "Before putting BERT into your own model, let's take a look at its outputs. You will load it from TF Hub and see the returned values."
      ]
    },
    {
      "cell_type": "code",
      "execution_count": 11,
      "metadata": {
        "id": "tXxYpK8ixL34"
      },
      "outputs": [],
      "source": [
        "bert_model = hub.KerasLayer(tfhub_handle_encoder)"
      ]
    },
    {
      "cell_type": "code",
      "execution_count": 12,
      "metadata": {
        "id": "_OoF9mebuSZc",
        "colab": {
          "base_uri": "https://localhost:8080/"
        },
        "outputId": "c61d5bd2-5039-4b63-e212-0f4345d31385"
      },
      "outputs": [
        {
          "output_type": "stream",
          "name": "stdout",
          "text": [
            "Loaded BERT: https://tfhub.dev/tensorflow/bert_multi_cased_L-12_H-768_A-12/3\n",
            "Pooled Outputs Shape:(1, 768)\n",
            "Pooled Outputs Values:[ 0.5371177  -0.11270748  0.2870754  -0.33856106 -0.12323269  0.4663252\n",
            "  0.5005987   0.33822003 -0.5449675   0.41692895 -0.10058724 -0.44725215]\n",
            "Sequence Outputs Shape:(1, 128, 768)\n",
            "Sequence Outputs Values:[[-0.32308346 -0.19733977  0.04217044 ...  0.76272225  0.5562542\n",
            "  -0.14284252]\n",
            " [-0.56655985  0.32028976  0.02230847 ...  0.5604001   0.67242616\n",
            "  -0.43250924]\n",
            " [-0.7691801   0.34945416  0.5952165  ...  0.41310003  0.2309816\n",
            "  -0.5443734 ]\n",
            " ...\n",
            " [-0.59631985 -0.7322036   0.22771423 ...  0.80990356  1.0489101\n",
            "  -0.46538147]\n",
            " [-0.5830092  -0.47107387  0.17631121 ...  0.7680216   0.7366949\n",
            "  -0.12462968]\n",
            " [-0.32013476  0.02868287  0.06242433 ...  0.6284876   0.5937747\n",
            "  -0.28870642]]\n"
          ]
        }
      ],
      "source": [
        "bert_results = bert_model(text_preprocessed)\n",
        "\n",
        "print(f'Loaded BERT: {tfhub_handle_encoder}')\n",
        "print(f'Pooled Outputs Shape:{bert_results[\"pooled_output\"].shape}')\n",
        "print(f'Pooled Outputs Values:{bert_results[\"pooled_output\"][0, :12]}')\n",
        "print(f'Sequence Outputs Shape:{bert_results[\"sequence_output\"].shape}')\n",
        "print(f'Sequence Outputs Values:{bert_results[\"sequence_output\"][0, :12]}')"
      ]
    },
    {
      "cell_type": "markdown",
      "metadata": {
        "id": "sm61jDrezAll"
      },
      "source": [
        "The BERT models return a map with 3 important keys: `pooled_output`, `sequence_output`, `encoder_outputs`:\n",
        "\n",
        "- `pooled_output` represents each input sequence as a whole. The shape is `[batch_size, H]`. You can think of this as an embedding for the entire movie review.\n",
        "- `sequence_output` represents each input token in the context. The shape is `[batch_size, seq_length, H]`. You can think of this as a contextual embedding for every token in the movie review.\n",
        "- `encoder_outputs` are the intermediate activations of the `L` Transformer blocks. `outputs[\"encoder_outputs\"][i]` is a Tensor of shape `[batch_size, seq_length, 1024]` with the outputs of the i-th Transformer block, for `0 <= i < L`. The last value of the list is equal to `sequence_output`.\n",
        "\n",
        "For the fine-tuning you are going to use the `pooled_output` array."
      ]
    },
    {
      "cell_type": "markdown",
      "metadata": {
        "id": "pDNKfAXbDnJH"
      },
      "source": [
        "## Define your model\n",
        "\n",
        "You will create a very simple fine-tuned model, with the preprocessing model, the selected BERT model, one Dense and a Dropout layer.\n",
        "\n",
        "Note: for more information about the base model's input and output you can follow the model's URL for documentation. Here specifically, you don't need to worry about it because the preprocessing model will take care of that for you.\n"
      ]
    },
    {
      "cell_type": "code",
      "execution_count": 22,
      "metadata": {
        "id": "aksj743St9ga"
      },
      "outputs": [],
      "source": [
        "def build_classifier_model():\n",
        "  text_input = tf.keras.layers.Input(shape=(), dtype=tf.string, name='text')\n",
        "  preprocessing_layer = hub.KerasLayer(tfhub_handle_preprocess, name='preprocessing')\n",
        "  encoder_inputs = preprocessing_layer(text_input)\n",
        "  encoder = hub.KerasLayer(tfhub_handle_encoder, trainable=True, name='BERT_encoder')\n",
        "  outputs = encoder(encoder_inputs)\n",
        "  net = outputs['sequence_output']\n",
        "  # Lets add some conv layers\n",
        "  # net = tf.keras.layers.Conv1D(128, 7, padding=\"valid\", activation=\"relu\", strides=2)(net)\n",
        "  # net = tf.keras.layers.Conv1D(128, 7, padding=\"valid\", activation=\"relu\", strides=2)(net)\n",
        "  # net = tf.keras.layers.GlobalMaxPooling1D()(net)\n",
        "  net = tf.keras.layers.Flatten()(net)\n",
        "  net = tf.keras.layers.Dense(768, activation=\"relu\")(net)\n",
        "  net = tf.keras.layers.Dense(384, activation=\"relu\")(net)\n",
        "  net = tf.keras.layers.Dropout(0.1)(net)\n",
        "  net = tf.keras.layers.Dense(192, activation=\"relu\")(net)\n",
        "  net = tf.keras.layers.Dropout(0.1)(net)\n",
        "  net = tf.keras.layers.Dense(len(class_names), activation=\"sigmoid\", name='outputs')(net)\n",
        "  return tf.keras.Model(text_input, net)"
      ]
    },
    {
      "cell_type": "markdown",
      "metadata": {
        "id": "Zs4yhFraBuGQ"
      },
      "source": [
        "Let's check that the model runs with the output of the preprocessing model."
      ]
    },
    {
      "cell_type": "code",
      "execution_count": 23,
      "metadata": {
        "id": "mGMF8AZcB2Zy",
        "colab": {
          "base_uri": "https://localhost:8080/"
        },
        "outputId": "f820dd3d-7ae3-4198-deab-337a3753be46"
      },
      "outputs": [
        {
          "output_type": "stream",
          "name": "stdout",
          "text": [
            "tf.Tensor(\n",
            "[[0.6395581  0.64911103 0.59576035 0.6340192  0.57429296 0.62238884\n",
            "  0.58430916 0.6033508  0.61787397 0.63185877 0.64749634 0.606159  ]], shape=(1, 12), dtype=float32)\n"
          ]
        }
      ],
      "source": [
        "classifier_model = build_classifier_model()\n",
        "bert_raw_result = classifier_model(tf.constant(text_test))\n",
        "print(tf.sigmoid(bert_raw_result))"
      ]
    },
    {
      "cell_type": "markdown",
      "metadata": {
        "id": "ZTUzNV2JE2G3"
      },
      "source": [
        "The output is meaningless, of course, because the model has not been trained yet.\n",
        "\n",
        "Let's take a look at the model's structure."
      ]
    },
    {
      "cell_type": "code",
      "execution_count": 24,
      "metadata": {
        "id": "0EmzyHZXKIpm",
        "colab": {
          "base_uri": "https://localhost:8080/",
          "height": 472
        },
        "outputId": "73c88b84-1f75-4e6a-b4f6-f67b5eaf3d42"
      },
      "outputs": [
        {
          "output_type": "execute_result",
          "data": {
            "text/plain": [
              "<IPython.core.display.Image object>"
            ],
            "image/png": "[encoded data removed]"
          },
          "metadata": {},
          "execution_count": 24
        }
      ],
      "source": [
        "tf.keras.utils.plot_model(classifier_model,show_shapes=True,\n",
        "    # show_dtype=True,\n",
        "    show_layer_names=True)"
      ]
    },
    {
      "cell_type": "markdown",
      "metadata": {
        "id": "WbUWoZMwc302"
      },
      "source": [
        "## Model training\n",
        "\n",
        "You now have all the pieces to train a model, including the preprocessing module, BERT encoder, data, and classifier."
      ]
    },
    {
      "cell_type": "markdown",
      "metadata": {
        "id": "WpJ3xcwDT56v"
      },
      "source": [
        "### Loss function\n",
        "\n",
        "Since this is a binary classification problem and the model outputs a probability (a single-unit layer), you'll use `losses.BinaryCrossentropy` loss function.\n"
      ]
    },
    {
      "cell_type": "code",
      "execution_count": 25,
      "metadata": {
        "id": "OWPOZE-L3AgE"
      },
      "outputs": [],
      "source": [
        "loss = tf.keras.losses.SparseCategoricalCrossentropy()\n",
        "metrics = [\"accuracy\"]\n",
        "# tf.keras.metrics.Precision(name=\"precision\"), tf.keras.metrics.Recall(name=\"recall\")"
      ]
    },
    {
      "cell_type": "markdown",
      "metadata": {
        "id": "77psrpfzbxtp"
      },
      "source": [
        "### Optimizer\n",
        "\n",
        "For fine-tuning, let's use the same optimizer that BERT was originally trained with: the \"Adaptive Moments\" (Adam). This optimizer minimizes the prediction loss and does regularization by weight decay (not using moments), which is also known as [AdamW](https://arxiv.org/abs/1711.05101).\n",
        "\n",
        "For the learning rate (`init_lr`), you will use the same schedule as BERT pre-training: linear decay of a notional initial learning rate, prefixed with a linear warm-up phase over the first 10% of training steps (`num_warmup_steps`). In line with the BERT paper, the initial learning rate is smaller for fine-tuning (best of 5e-5, 3e-5, 2e-5)."
      ]
    },
    {
      "cell_type": "code",
      "execution_count": 26,
      "metadata": {
        "id": "P9eP2y9dbw32"
      },
      "outputs": [],
      "source": [
        "epochs = 15\n",
        "steps_per_epoch = tf.data.experimental.cardinality(train_ds).numpy()\n",
        "num_train_steps = steps_per_epoch * epochs\n",
        "num_warmup_steps = int(0.1*num_train_steps)\n",
        "\n",
        "init_lr = 3e-5\n",
        "optimizer = optimization.create_optimizer(init_lr=init_lr,\n",
        "                                          num_train_steps=num_train_steps,\n",
        "                                          num_warmup_steps=num_warmup_steps,\n",
        "                                          optimizer_type='adamw')"
      ]
    },
    {
      "cell_type": "markdown",
      "metadata": {
        "id": "SqlarlpC_v0g"
      },
      "source": [
        "### Loading the BERT model and training\n",
        "\n",
        "Using the `classifier_model` you created earlier, you can compile the model with the loss, metric and optimizer."
      ]
    },
    {
      "cell_type": "code",
      "execution_count": 27,
      "metadata": {
        "id": "-7GPDhR98jsD"
      },
      "outputs": [],
      "source": [
        "classifier_model.compile(optimizer=optimizer,\n",
        "                         loss=loss,\n",
        "                         metrics=metrics)"
      ]
    },
    {
      "cell_type": "markdown",
      "metadata": {
        "id": "CpBuV5j2cS_b"
      },
      "source": [
        "Note: training time will vary depending on the complexity of the BERT model you have selected."
      ]
    },
    {
      "cell_type": "code",
      "execution_count": null,
      "metadata": {
        "id": "HtfDFAnN_Neu",
        "colab": {
          "base_uri": "https://localhost:8080/"
        },
        "outputId": "da42ca9f-33fd-4992-c969-b43bcd38c5be"
      },
      "outputs": [
        {
          "output_type": "stream",
          "name": "stdout",
          "text": [
            "Training model with https://tfhub.dev/tensorflow/bert_multi_cased_L-12_H-768_A-12/3\n",
            "Epoch 1/15\n"
          ]
        }
      ],
      "source": [
        "print(f'Training model with {tfhub_handle_encoder}')\n",
        "history = classifier_model.fit(x=train_ds,validation_data=val_ds, epochs=epochs)"
      ]
    },
    {
      "cell_type": "markdown",
      "metadata": {
        "id": "uBthMlTSV8kn"
      },
      "source": [
        "### Evaluate the model\n",
        "\n",
        "Let's see how the model performs. Two values will be returned. Loss (a number which represents the error, lower values are better), and accuracy."
      ]
    },
    {
      "cell_type": "code",
      "execution_count": null,
      "metadata": {
        "id": "slqB-urBV9sP"
      },
      "outputs": [],
      "source": [
        "loss, accuracy = classifier_model.evaluate(test_ds)\n",
        "\n",
        "print(f'Loss: {loss}')\n",
        "print(f'Accuracy: {accuracy}')"
      ]
    },
    {
      "cell_type": "markdown",
      "metadata": {
        "id": "uttWpgmSfzq9"
      },
      "source": [
        "### Plot the accuracy and loss over time\n",
        "\n",
        "Based on the `History` object returned by `model.fit()`. You can plot the training and validation loss for comparison, as well as the training and validation accuracy:"
      ]
    },
    {
      "cell_type": "code",
      "execution_count": null,
      "metadata": {
        "id": "fiythcODf0xo"
      },
      "outputs": [],
      "source": [
        "history_dict = history.history\n",
        "print(history_dict.keys())\n",
        "print(history_dict)\n",
        "\n",
        "acc = history_dict['accuracy']\n",
        "val_acc = history_dict['val_accuracy']\n",
        "loss = history_dict['loss']\n",
        "val_loss = history_dict['val_loss']\n",
        "\n",
        "epochs = range(1, len(acc) + 1)\n",
        "fig = plt.figure(figsize=(10, 6))\n",
        "fig.tight_layout()\n",
        "\n",
        "plt.subplot(2, 1, 1)\n",
        "# r is for \"solid red line\"\n",
        "plt.plot(epochs, loss, 'r', label='Training loss')\n",
        "# b is for \"solid blue line\"\n",
        "plt.plot(epochs, val_loss, 'b', label='Validation loss')\n",
        "plt.title('Training and validation loss')\n",
        "# plt.xlabel('Epochs')\n",
        "plt.ylabel('Loss')\n",
        "plt.legend()\n",
        "\n",
        "plt.subplot(2, 1, 2)\n",
        "plt.plot(epochs, acc, 'r', label='Training acc')\n",
        "plt.plot(epochs, val_acc, 'b', label='Validation acc')\n",
        "plt.title('Training and validation accuracy')\n",
        "plt.xlabel('Epochs')\n",
        "plt.ylabel('Accuracy')\n",
        "plt.legend(loc='lower right')"
      ]
    },
    {
      "cell_type": "markdown",
      "metadata": {
        "id": "WzJZCo-cf-Jf"
      },
      "source": [
        "In this plot, the red lines represent the training loss and accuracy, and the blue lines are the validation loss and accuracy."
      ]
    },
    {
      "cell_type": "markdown",
      "metadata": {
        "id": "Rtn7jewb6dg4"
      },
      "source": [
        "## Export for inference\n",
        "\n",
        "Now you just save your fine-tuned model for later use."
      ]
    },
    {
      "cell_type": "code",
      "execution_count": null,
      "metadata": {
        "id": "ShcvqJAgVera"
      },
      "outputs": [],
      "source": [
        "dataset_name = 'attack_reports'\n",
        "saved_model_path = './{}_bert'.format(dataset_name.replace('/', '_'))\n",
        "\n",
        "classifier_model.save(saved_model_path, include_optimizer=False)"
      ]
    },
    {
      "cell_type": "markdown",
      "metadata": {
        "id": "PbI25bS1vD7s"
      },
      "source": [
        "Let's reload the model, so you can try it side by side with the model that is still in memory."
      ]
    },
    {
      "cell_type": "code",
      "execution_count": null,
      "metadata": {
        "id": "gUEWVskZjEF0"
      },
      "outputs": [],
      "source": [
        "reloaded_model = tf.saved_model.load(saved_model_path)"
      ]
    },
    {
      "cell_type": "markdown",
      "metadata": {
        "id": "oyTappHTvNCz"
      },
      "source": [
        "Here you can test your model on any sentence you want, just add to the examples variable below."
      ]
    },
    {
      "cell_type": "code",
      "execution_count": null,
      "metadata": {
        "id": "VBWzH6exlCPS"
      },
      "outputs": [],
      "source": [
        "def print_my_examples(inputs, results):\n",
        "  result_for_printing = \\\n",
        "    [f'input: {inputs[i]:<30} : score: {results[i][0]:.6f}'\n",
        "                         for i in range(len(inputs))]\n",
        "  print(*result_for_printing, sep='\\n')\n",
        "  print()\n",
        "\n",
        "\n",
        "examples = [\n",
        "    'this is such an amazing movie!',  # this is the same sentence tried earlier\n",
        "    'The movie was great!',\n",
        "    'The movie was meh.',\n",
        "    'The movie was okish.',\n",
        "    'The movie was terrible...'\n",
        "]\n",
        "\n",
        "reloaded_results = tf.sigmoid(reloaded_model(tf.constant(examples)))\n",
        "original_results = tf.sigmoid(classifier_model(tf.constant(examples)))\n",
        "\n",
        "print('Results from the saved model:')\n",
        "print_my_examples(examples, reloaded_results)\n",
        "print('Results from the model in memory:')\n",
        "print_my_examples(examples, original_results)"
      ]
    },
    {
      "cell_type": "markdown",
      "metadata": {
        "id": "3cOmih754Y_M"
      },
      "source": [
        "If you want to use your model on [TF Serving](https://www.tensorflow.org/tfx/guide/serving), remember that it will call your SavedModel through one of its named signatures. In Python, you can test them as follows:"
      ]
    },
    {
      "cell_type": "code",
      "execution_count": null,
      "metadata": {
        "id": "0FdVD3973S-O"
      },
      "outputs": [],
      "source": [
        "serving_results = reloaded_model.signatures['serving_default'](tf.constant(examples))\n",
        "\n",
        "serving_results = tf.sigmoid(serving_results['classifier'])\n",
        "\n",
        "print_my_examples(examples, serving_results)"
      ]
    },
    {
      "cell_type": "markdown",
      "metadata": {
        "id": "B4gN1KwReLPN"
      },
      "source": [
        "## Next steps\n",
        "\n",
        "As a next step, you can try [Solve GLUE tasks using BERT on a TPU tutorial](https://www.tensorflow.org/text/tutorials/bert_glue), which runs on a TPU and shows you how to work with multiple inputs."
      ]
    }
  ],
  "metadata": {
    "colab": {
      "collapsed_sections": [],
      "name": "classify_text_with_bert.ipynb",
      "provenance": []
    },
    "kernelspec": {
      "display_name": "Python 3",
      "name": "python3"
    }
  },
  "nbformat": 4,
  "nbformat_minor": 0
}